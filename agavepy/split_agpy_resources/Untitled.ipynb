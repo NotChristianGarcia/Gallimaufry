{
 "cells": [
  {
   "cell_type": "code",
   "execution_count": 1,
   "metadata": {},
   "outputs": [],
   "source": [
    "import jinja2\n",
    "import os\n",
    "import json\n",
    "import urllib\n",
    "\n",
    "HERE = '/home/trust/'\n",
    "api_server=\"https://api.tacc.utexas.edu/\""
   ]
  },
  {
   "cell_type": "code",
   "execution_count": 2,
   "metadata": {},
   "outputs": [],
   "source": [
    "class ConfigGen(object):\n",
    "    def __init__(self, template_str):\n",
    "        self.template_str = template_str\n",
    "    \n",
    "    def compile(self, configs, env):\n",
    "        template = env.get_template(self.template_str)\n",
    "        return template.render(configs)"
   ]
  },
  {
   "cell_type": "code",
   "execution_count": null,
   "metadata": {},
   "outputs": [],
   "source": [
    "rsrcs = {}\n",
    "rsrc_files = ['resources/misc.json.j2', \n",
    "              'resources/api_clients.json.j2',\n",
    "              'resources/api_apps.json.j2',\n",
    "              'resources/api_files.json.j2',\n",
    "              'resources/api_jobs.json.j2',\n",
    "              'resources/api_meta.json.j2',\n",
    "              'resources/api_monitors.json.j2',\n",
    "              'resources/api_notifications.json.j2',\n",
    "              'resources/api_postits.json.j2',\n",
    "              'resources/api_profiles.json.j2',\n",
    "              'resources/api_systems.json.j2',\n",
    "              'resources/api_transforms.json.j2',\n",
    "              'resources/api_actors.json.j2',\n",
    "              'resources/api_admin.json.j2']\n",
    "for rsrc_file in rsrc_files:\n",
    "    conf = ConfigGen(rsrc_file)\n",
    "    env = jinja2.Environment(loader=jinja2.FileSystemLoader(HERE),\n",
    "                             trim_blocks=True, lstrip_blocks=True)\n",
    "    \n",
    "    new_rsrcs = json.loads(conf.compile(\n",
    "        {'api_server_base': urllib.parse.urlparse(api_server).netloc}, env))\n",
    "    updateDict(rsrcs, new_rsrcs)"
   ]
  },
  {
   "cell_type": "code",
   "execution_count": null,
   "metadata": {},
   "outputs": [],
   "source": [
    "rsrcs"
   ]
  },
  {
   "cell_type": "code",
   "execution_count": 5,
   "metadata": {},
   "outputs": [],
   "source": [
    "car = {'apis':[{'a':[{'fuck':'shit'}], 'b':'2', 'c':{'g':'7'}}], 'swagger':'2.0'}\n",
    "dog = {'apis':{'d':'4', 'e':'5', 'f':'6'}}\n",
    "mog = {'apis':{'d':'4', 'e':'5', 'f':'6'}}\n",
    "\n",
    "trash = {'yogn':'ddd'}\n",
    "lsit = {'roar':{'1','2,','3'}}"
   ]
  },
  {
   "cell_type": "code",
   "execution_count": 6,
   "metadata": {},
   "outputs": [
    {
     "data": {
      "text/plain": [
       "[{'a': [{'fuck': 'shit'}], 'b': '2', 'c': {'g': '7'}}]"
      ]
     },
     "execution_count": 6,
     "metadata": {},
     "output_type": "execute_result"
    }
   ],
   "source": [
    "car['apis']"
   ]
  },
  {
   "cell_type": "code",
   "execution_count": 7,
   "metadata": {},
   "outputs": [],
   "source": [
    "def updateDict(base_dict, new_dict):\n",
    "    for key, val in new_dict.items():\n",
    "        if isinstance(val, dict):\n",
    "            base_dict[key] = updateDict(base_dict.get(key, {}), val)\n",
    "        elif isinstance(val, list):\n",
    "            if not key in base_dict:\n",
    "                base_dict[key] = []\n",
    "                \n",
    "            elif isinstance(val, dict):\n",
    "                base_dict[key] = updateDict(base_dict.get(key, {}), val)\n",
    "            \n",
    "            for list_dict in val:\n",
    "                base_dict[key].append(list_dict)\n",
    "        else:\n",
    "            base_dict[key] = val\n",
    "    return base_dict"
   ]
  },
  {
   "cell_type": "code",
   "execution_count": 94,
   "metadata": {},
   "outputs": [],
   "source": [
    "car['josh'] = 'car'"
   ]
  },
  {
   "cell_type": "code",
   "execution_count": 95,
   "metadata": {},
   "outputs": [
    {
     "data": {
      "text/plain": [
       "{'apis': None, 'swagger': '2.0', 'josh': 'car'}"
      ]
     },
     "execution_count": 95,
     "metadata": {},
     "output_type": "execute_result"
    }
   ],
   "source": [
    "car"
   ]
  },
  {
   "cell_type": "code",
   "execution_count": null,
   "metadata": {},
   "outputs": [],
   "source": []
  }
 ],
 "metadata": {
  "kernelspec": {
   "display_name": "Python 3",
   "language": "python",
   "name": "python3"
  },
  "language_info": {
   "codemirror_mode": {
    "name": "ipython",
    "version": 3
   },
   "file_extension": ".py",
   "mimetype": "text/x-python",
   "name": "python",
   "nbconvert_exporter": "python",
   "pygments_lexer": "ipython3",
   "version": "3.6.7"
  }
 },
 "nbformat": 4,
 "nbformat_minor": 2
}
