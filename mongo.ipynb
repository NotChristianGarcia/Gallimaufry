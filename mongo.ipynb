{
 "cells": [
  {
   "cell_type": "code",
   "execution_count": 12,
   "metadata": {},
   "outputs": [],
   "source": [
    "import time\n",
    "import pymongo\n",
    "import pprint\n",
    "from pymongo.errors import WriteError, DuplicateKeyError\n",
    "from pymongo import MongoClient\n",
    "from datetime import datetime\n",
    "import os\n",
    "client = MongoClient('mongodb://localhost:27017')\n",
    "db = client.abaco\n",
    "store2 = db['5']"
   ]
  },
  {
   "cell_type": "markdown",
   "metadata": {},
   "source": [
    "# Destroy Mongo"
   ]
  },
  {
   "cell_type": "code",
   "execution_count": 4,
   "metadata": {},
   "outputs": [],
   "source": [
    "import multiprocessing\n",
    "from multiprocessing import Queue"
   ]
  },
  {
   "cell_type": "code",
   "execution_count": 84,
   "metadata": {},
   "outputs": [],
   "source": [
    "def threaded_thing(nonce_store):\n",
    "    print('hey')\n",
    "    res = nonce_store.update_one(\n",
    "        {'_id': nonce_key, nonce_id + '.remaining_uses': {'$eq': -1}},\n",
    "        {'$inc': {nonce_id + '.current_uses': 1},\n",
    "        '$set': {nonce_id + '.last_use_time': 'hey'}})\n",
    "    if res.raw_result['updatedExisting'] == True:\n",
    "        logger.debug(\"nonce has infinite uses. updating nonce.\")\n",
    "        return 'hey!'\n",
    "\n",
    "    # Check for remaining uses greater than 0\n",
    "    res = nonce_store.update_one(\n",
    "        {'_id': nonce_key, nonce_id + '.remaining_uses': {'$gt': 0}},\n",
    "        {'$inc': {nonce_id + '.current_uses': 1,\n",
    "                nonce_id + '.remaining_uses': -1},\n",
    "        '$set': {nonce_id + '.last_use_time': 'hey'}})"
   ]
  },
  {
   "cell_type": "code",
   "execution_count": 6,
   "metadata": {},
   "outputs": [
    {
     "name": "stdout",
     "output_type": "stream",
     "text": [
      "hey\n"
     ]
    }
   ],
   "source": [
    "nonce_key = 'DEV-DEVELOP_jane'\n",
    "nonce_id = 'DEV-DEVELOP_BPbPk0xvz0Llj'\n",
    "print('hey')\n",
    "res = nonce_store.update_one(\n",
    "    {'_id': nonce_key, nonce_id + '.remaining_uses': {'$eq': -1}},\n",
    "    {'$inc': {nonce_id + '.current_uses': 1},\n",
    "    '$set': {nonce_id + '.last_use_time': 'hey'}})"
   ]
  },
  {
   "cell_type": "code",
   "execution_count": 14,
   "metadata": {},
   "outputs": [
    {
     "data": {
      "text/plain": [
       "<pymongo.results.UpdateResult at 0x10a6adaa0>"
      ]
     },
     "execution_count": 14,
     "metadata": {},
     "output_type": "execute_result"
    }
   ],
   "source": [
    "nonce_store.update_one(\n",
    "    {'_id':'did'},\n",
    "    {'$set':{'stopper':'dopper'}},\n",
    "    upsert=True)"
   ]
  },
  {
   "cell_type": "code",
   "execution_count": 24,
   "metadata": {},
   "outputs": [
    {
     "data": {
      "text/plain": [
       "[{'_id': 'bop', 'hey': 'there'}, {'_id': 'dop', 'hey': 'there'}]"
      ]
     },
     "execution_count": 24,
     "metadata": {},
     "output_type": "execute_result"
    }
   ],
   "source": [
    "list(actors_store.find({}))"
   ]
  },
  {
   "cell_type": "code",
   "execution_count": 23,
   "metadata": {},
   "outputs": [
    {
     "data": {
      "text/plain": [
       "<pymongo.results.UpdateResult at 0x10a775050>"
      ]
     },
     "execution_count": 23,
     "metadata": {},
     "output_type": "execute_result"
    }
   ],
   "source": [
    "actors_store.update_one(\n",
    "    {'_id': 'dop'},\n",
    "    {'$set':{'hey':'there'}},\n",
    "    upsert=True)"
   ]
  },
  {
   "cell_type": "code",
   "execution_count": 11,
   "metadata": {},
   "outputs": [],
   "source": [
    "def newBoy(num):\n",
    "    print(num)\n",
    "    return(num)"
   ]
  },
  {
   "cell_type": "code",
   "execution_count": null,
   "metadata": {},
   "outputs": [],
   "source": [
    "pool = multiprocessing.Pool(processes=4)\n",
    "hey = pool.map(newBoy, range(128))\n",
    "pool.join()\n",
    "pool.close()"
   ]
  },
  {
   "cell_type": "code",
   "execution_count": 176,
   "metadata": {},
   "outputs": [
    {
     "data": {
      "text/plain": [
       "<pymongo.results.UpdateResult at 0x107329cd0>"
      ]
     },
     "execution_count": 176,
     "metadata": {},
     "output_type": "execute_result"
    }
   ],
   "source": [
    "nonce_store.update_one(\n",
    "    {'_id': 'DEV-DEVELOP_jane'},\n",
    "    {'$set': {'DEV-DEVELOP_KvVArG21Y1GJ': {'cat':2}}})"
   ]
  },
  {
   "cell_type": "markdown",
   "metadata": {},
   "source": [
    "## Mongo Store"
   ]
  },
  {
   "cell_type": "code",
   "execution_count": 571,
   "metadata": {},
   "outputs": [],
   "source": [
    "#### Things to implement:\n",
    "## getset needs to be fixed for non-maze\n",
    "## add_if_empty. These two just need to be checked. They work, but errors when you're creating new documents with not yet made fields.\n",
    "\n",
    "### Store class only:\n",
    "## set_with_expiry\n",
    "## insert_one?\n",
    "## set_with_expiry\n",
    "\n",
    "\n",
    "### maze\n",
    "## __setitem__\n",
    "## __getitem__\n",
    "## __delitem__\n",
    "## __len__\n",
    "## _prepset\n",
    "## pop_field\n",
    "## getset\n",
    "## add_if_empty\n",
    "## set_with_expiry\n",
    "\n",
    "\n",
    "\n",
    "\n",
    "###### Need to finish\n",
    "## insert_one?\n",
    "## __iter__\n",
    "\n",
    "\n",
    "class testStore():\n",
    "    def __init__(self):\n",
    "        db = client.abaco\n",
    "        test = db['5']\n",
    "        self._db = test\n",
    "        \n",
    "    def __getitem__(self, key):\n",
    "        return mongoMaze(self._db, key, [])\n",
    "        \n",
    "    def __setitem__(self, key, value):\n",
    "        self._db.update_one(\n",
    "            filter={'_id': key},\n",
    "            update={'$set': {key: value}})\n",
    "        \n",
    "    def __delitem__(self, key):\n",
    "        self._db.delete_one({'_id': key})\n",
    "    \n",
    "    def __len__(self):\n",
    "        return self._db.estimated_document_count()\n",
    "    \n",
    "    def __repr__(self):\n",
    "        return pprint.pformat(list(self._db.find(projection={'_id': False})))\n",
    "    \n",
    "    def set_with_expiry(self, key, field, value):\n",
    "        self._db.update_one(\n",
    "            filter={'_id': key},\n",
    "            update={'$set': {'exp': datetime.utcnow(), field: self._prepset(value)}},\n",
    "            upsert=True)\n",
    "    \n",
    "    def _prepset(self, value):\n",
    "        if type(value) is bytes:\n",
    "            return value.decode('utf-8')\n",
    "        return value\n",
    "\n",
    "\n",
    "# MongoCrawl?\n",
    "class mongoMaze():\n",
    "    def __init__(self, db, key, field):\n",
    "        self._db = db\n",
    "        self.key = key\n",
    "        self.field = field\n",
    "        \n",
    "        _id = key\n",
    "        fields -> doc1.subdoc2.subsubdoc3\n",
    "        \n",
    "    def __getitem__(self, field):\n",
    "        self.field.append(field)\n",
    "        return mongoMaze(self._db, self.key, self.field)\n",
    "    \n",
    "    def __setitem__(self, field, value):\n",
    "        search = self._get_search(field)\n",
    "        self._db.update_one(\n",
    "            filter={'_id': self.key},\n",
    "            update={'$set': {search: value}},\n",
    "            upsert=True)\n",
    "        \n",
    "    def __delitem__(self, field):\n",
    "        search = self._get_search(field)\n",
    "        self._db.update_one(\n",
    "            filter={'_id': self.key},\n",
    "            update={'$unset': {f'{search}': ''}})\n",
    "        \n",
    "    def __len__(self):\n",
    "        result = self._db.find_one(\n",
    "            {'_id': self.key},\n",
    "            projection={'_id': False})\n",
    "        return len(eval('result' + self._get_index()))\n",
    "        \n",
    "    def __repr__(self):\n",
    "        result = self._db.find_one(\n",
    "            {'_id': self.key},\n",
    "            projection={'_id': False})\n",
    "        return pprint.pformat(eval('result' + self._get_index()))\n",
    "    \n",
    "    def pop_field(self, field):\n",
    "        search = self._get_search(field)\n",
    "        result = self._db.find_one_and_update(\n",
    "            filter={'_id': self.key},\n",
    "            update={'$unset': {f'{search}': ''}})\n",
    "        return pprint.pformat(eval('result' + self._get_index()))\n",
    "    \n",
    "    def getset(self, value):\n",
    "        search = self._get_search()\n",
    "        result = self._db.find_one_and_update(\n",
    "            filter={'_id': self.key},\n",
    "            update={'$set': {search: value}})\n",
    "        print(self._get_index())\n",
    "        return eval('result' + self._get_index())\n",
    "    \n",
    "    def add_if_empty(self, value):\n",
    "        search = self._get_search()\n",
    "        res = self._db.update_one(\n",
    "            {'_id': self.key},\n",
    "            {'$setOnInsert': {search: value}},\n",
    "            upsert=True)\n",
    "        print(self.key, search, value, res.raw_result)\n",
    "\n",
    "        if res.upserted_id:\n",
    "            return field\n",
    "        else:\n",
    "            return None\n",
    "    \n",
    "    def _get_search(self, field=None):\n",
    "        if field:\n",
    "            self.field.append(field)\n",
    "\n",
    "        if self.field:\n",
    "            search = '.'.join(self.field)\n",
    "        else:\n",
    "            search = self.key\n",
    "        return search\n",
    "            \n",
    "    def _get_index(self):\n",
    "        if self.field:\n",
    "            index = \"['\" + \"']['\".join(self.field) + \"']\"\n",
    "        else:\n",
    "            index = ''\n",
    "        return index\n",
    "    \n",
    "    def _prepset(self, value):\n",
    "        if type(value) is bytes:\n",
    "            return value.decode('utf-8')\n",
    "        return value\n",
    "    \n",
    "testme = testStore()\n",
    "#This feels wrong, thus it's discontinued. Also I don't know how to fix it."
   ]
  },
  {
   "cell_type": "code",
   "execution_count": 115,
   "metadata": {},
   "outputs": [
    {
     "data": {
      "text/plain": [
       "{'1': {'2': {'newSubDoc': 'a newer hello'}}}"
      ]
     },
     "execution_count": 115,
     "metadata": {},
     "output_type": "execute_result"
    }
   ],
   "source": [
    "testme"
   ]
  },
  {
   "cell_type": "code",
   "execution_count": 110,
   "metadata": {},
   "outputs": [],
   "source": [
    "testme = {'1': {'2': {'3': {'4': 'hello.'}}}}"
   ]
  },
  {
   "cell_type": "code",
   "execution_count": 111,
   "metadata": {},
   "outputs": [
    {
     "data": {
      "text/plain": [
       "{'1': {'2': {'3': {'4': 'hello.'}}}}"
      ]
     },
     "execution_count": 111,
     "metadata": {},
     "output_type": "execute_result"
    }
   ],
   "source": [
    "testme"
   ]
  },
  {
   "cell_type": "code",
   "execution_count": 112,
   "metadata": {},
   "outputs": [
    {
     "data": {
      "text/plain": [
       "'hello.'"
      ]
     },
     "execution_count": 112,
     "metadata": {},
     "output_type": "execute_result"
    }
   ],
   "source": [
    "testme['1']['2']['3']['4'] = hello"
   ]
  },
  {
   "cell_type": "code",
   "execution_count": 113,
   "metadata": {},
   "outputs": [],
   "source": [
    "testme['1']['2'] = {'newSubDoc': 'a newer hello'}"
   ]
  },
  {
   "cell_type": "code",
   "execution_count": 114,
   "metadata": {},
   "outputs": [
    {
     "data": {
      "text/plain": [
       "{'1': {'2': {'newSubDoc': 'a newer hello'}}}"
      ]
     },
     "execution_count": 114,
     "metadata": {},
     "output_type": "execute_result"
    }
   ],
   "source": [
    "testme"
   ]
  },
  {
   "cell_type": "markdown",
   "metadata": {},
   "source": [
    "# NEW NEW MONGO 2.0 STORE REDUX DELUXE NEW EDITION"
   ]
  },
  {
   "cell_type": "code",
   "execution_count": 9,
   "metadata": {},
   "outputs": [],
   "source": [
    "#### Things to implement:\n",
    "## search\n",
    "\n",
    "#### Need to check:\n",
    "## __getitem__ (y, y)\n",
    "## __setitem__ (y, y)\n",
    "## __delitem__ (y, y)\n",
    "## __len__ (y, y)\n",
    "## __repr__ (y)\n",
    "## __iter__ - No idea the use case, no modifications done\n",
    "## _process_inputs (y)\n",
    "## _prepset (y)\n",
    "## pop (y, y)\n",
    "## set_with_expiry (y, y)\n",
    "## add_if_empty (y, y) - With quirks\n",
    "## getset - (y, y)\n",
    "\n",
    "class testStore():\n",
    "    def __init__(self):\n",
    "        db = client.abaco\n",
    "        test = db['5']\n",
    "        self._db = test\n",
    "        \n",
    "    def __getitem__(self, fields):\n",
    "        \"\"\"\n",
    "        Atomically does either:\n",
    "        Gets and returns 'self[key]' or 'self[key][field1][field2][...]' as a dictionary\n",
    "        \"\"\"\n",
    "        key, _, subscripts = self._process_inputs(fields)\n",
    "        result = self._db.find_one(\n",
    "            {'_id': key},\n",
    "            projection={'_id': False})\n",
    "        if result == None:\n",
    "            raise KeyError(f\"'_id' of '{key}' not found\")\n",
    "        try:\n",
    "            return eval('result' + subscripts)\n",
    "        except KeyError:\n",
    "            raise KeyError(f\"Subscript of {subscripts} does not exists in document of '_id' {key}\")\n",
    "        \n",
    "    def __setitem__(self, fields, value):\n",
    "        \"\"\"\n",
    "        Atomically does either:\n",
    "        Sets 'self[key] = value' or sets 'self[key][field1][field2][...] = value'\n",
    "        \"\"\"\n",
    "        key, dots, _ = self._process_inputs(fields)\n",
    "        try:\n",
    "            if isinstance(fields, str) and isinstance(value, dict):\n",
    "                result = self._db.update_one(\n",
    "                    filter={'_id': key},\n",
    "                    update={'$set': value},\n",
    "                    upsert=True)\n",
    "            else:\n",
    "                result = self._db.update_one(\n",
    "                    filter={'_id': key},\n",
    "                    update={'$set': {dots: value}},\n",
    "                    upsert=True)\n",
    "        except WriteError:\n",
    "            raise WriteError(\n",
    "                \"Likely due to trying to set a subfield of a field that does not exists.\" +\n",
    "                \"\\n Try setting a dict rather than a value. Ex. store['id_key', 'key', 'field'] = {'subfield': 'value'}\")\n",
    "        if result.raw_result['nModified'] == 0:\n",
    "            if not 'upserted' in result.raw_result:\n",
    "                raise AttributeError('Field not modified, old value likely the same as new')\n",
    "        \n",
    "    def __delitem__(self, fields):\n",
    "        \"\"\"\n",
    "        Atomically does either:\n",
    "        Deletes 'self[key]'\n",
    "        Unsets 'self[key][field1][field2][...]'\n",
    "        \"\"\"\n",
    "        key, dots, subscripts = self._process_inputs(fields)\n",
    "        if not subscripts:\n",
    "            result = self._db.delete_one({'_id': key})\n",
    "            if result.raw_result['n'] == 0:\n",
    "                raise KeyError(f\"No document with '_id' of '{key}' found\")\n",
    "        else:\n",
    "            result = self._db.update_one(\n",
    "                filter={'_id': key},\n",
    "                update={'$unset': {f'{dots}': ''}})\n",
    "            if result.raw_result['nModified'] == 0:\n",
    "                raise KeyError(f\"Subscript of {subscripts} does not exist in document of '_id' {key}\")\n",
    "\n",
    "    def __len__(self):\n",
    "        \"\"\"\n",
    "        Returns the estimated document count of a store to give length\n",
    "        We don't use '.count_documents()' as it's O(N) versus O(1) of estimated\n",
    "        Length for a document or subdocument comes from len(store['key']['field1'][...]) using dict len()\n",
    "        \"\"\"\n",
    "        return self._db.estimated_document_count()\n",
    "\n",
    "    def __repr__(self):\n",
    "        \"\"\"\n",
    "        Returns a pretty string of the entire store with '_id' visible for developer use\n",
    "        \"\"\"\n",
    "        return pprint.pformat(list(self._db.find()))\n",
    "    \n",
    "    def __iter__(self):\n",
    "        for cursor in self._db.find():\n",
    "            yield cursor['_id']\n",
    "\n",
    "    \n",
    "    def _process_inputs(self, fields):\n",
    "        \"\"\"\n",
    "        Takes in fields and returns the key corresponding with '_id', dot notation\n",
    "        for getting to a specific field in a Mongo query/filter (ex. 'field1.field2.field3.field4')\n",
    "        and the subscript notation for returning a specified field from a result dictionary\n",
    "        (ex. `['field1']['field2']['field3']['field4']`)\n",
    "        \"\"\"\n",
    "        if isinstance(fields, str):\n",
    "            key = dots = fields\n",
    "            subscripts = ''\n",
    "        elif isinstance(fields, list) and len(fields) == 1:\n",
    "            key = dots = fields[0]\n",
    "            subscripts = ''\n",
    "        else:\n",
    "            key = fields[0]\n",
    "            dots = '.'.join(fields[1:])\n",
    "            subscripts = \"['\" + \"']['\".join(fields[1:]) + \"']\"\n",
    "        return key, dots, subscripts\n",
    "    \n",
    "    def _prepset(self, value):\n",
    "        if type(value) is bytes:\n",
    "            return value.decode('utf-8')\n",
    "        return value\n",
    "\n",
    "    def pop_field(self, fields):\n",
    "        \"\"\"\n",
    "        Atomically pops 'self[key] = value' or 'self[key][field1][field2][...] = value'\n",
    "        \"\"\"\n",
    "        key, dots, subscripts = self._process_inputs(fields)\n",
    "        if not subscripts:\n",
    "            result = self._db.find_one(\n",
    "                {'_id': key},\n",
    "                projection={'_id': False})\n",
    "            if result == None:\n",
    "                raise KeyError(f\"'_id' of '{key}' not found\")\n",
    "            del_result = self._db.delete_one({'_id': key})\n",
    "            if del_result.raw_result['n'] == 0:\n",
    "                raise KeyError(f\"No document deleted\")\n",
    "            return result\n",
    "        else:\n",
    "            result = self._db.find_one_and_update(\n",
    "                filter={'_id': key},\n",
    "                update={'$unset': {dots: ''}})\n",
    "            try:\n",
    "                return eval('result' + subscripts)\n",
    "            except KeyError:\n",
    "                raise KeyError(f\"Subscript of {subscripts} does not exist in document of '_id' {key}\")\n",
    "        \n",
    "    def set_with_expiry(self, fields, value):\n",
    "        \"\"\"\n",
    "        Atomically:\n",
    "        Sets 'self[key] = value' or 'self[key][field1][field2][...] = value'\n",
    "        Creates 'exp' subdocument in document root with current time for use with MongoDB TTL expiration index\n",
    "        Note: MongoDB TTL checks every 60 secs to delete files\n",
    "        \"\"\"\n",
    "        key, dots, subscripts = self._process_inputs(fields)\n",
    "        if len(fields) == 1 and isinstance(value, dict):\n",
    "            result = self._db.update_one(\n",
    "                filter={'_id': key},\n",
    "                update={'$set': {'exp': datetime.utcnow()},\n",
    "                        '$set': value},\n",
    "                upsert=True)\n",
    "        else:\n",
    "            result = self._db.update_one(\n",
    "                filter={'_id': key},\n",
    "                update={'$set': {'exp': datetime.utcnow(), dots: self._prepset(value)}},\n",
    "                upsert=True)\n",
    "          \n",
    "    def add_if_empty(self, fields, value):\n",
    "        \"\"\"\n",
    "        Atomically:\n",
    "        Sets 'self[key] = value' or 'self[key][field1][field2][...] = value'\n",
    "        Only if the specified key/field(s) combo does not exist or is empty\n",
    "        Returns the value if it was added; otherwise, returns None\n",
    "        Note: Will not override a field set to a value in order to create a subfield\n",
    "        \"\"\"\n",
    "        key, dots, _ = self._process_inputs(fields)\n",
    "        try:\n",
    "            if len(fields) == 1 and isinstance(value, dict):\n",
    "                result = self._db.update_one(\n",
    "                    filter={'_id': key},\n",
    "                    update={'$setOnInsert': value},\n",
    "                    upsert=True)\n",
    "                if 'upserted' in result.raw_result:\n",
    "                    return value\n",
    "            elif len(fields) == 1:\n",
    "                result = self._db.update_one(\n",
    "                    filter={'_id': key},\n",
    "                    update={'$setOnInsert': {dots: value}},\n",
    "                    upsert=True)\n",
    "                if 'upserted' in result.raw_result:\n",
    "                    return value\n",
    "            else:\n",
    "                try:\n",
    "                    result = self._db.update_one(\n",
    "                        filter={'_id': key, dots: {'$exists': False}},\n",
    "                        update={'$set': {dots: value}},\n",
    "                        upsert=True)\n",
    "                    if result.raw_result['nModified']:\n",
    "                        return value\n",
    "                except WriteError:\n",
    "                    print(\"Likely due to trying to set a subfield of a field that is already set to one value\")\n",
    "                    pass\n",
    "            return None\n",
    "        except DuplicateKeyError:\n",
    "            return None\n",
    "\n",
    "    def getset(self, fields, value):\n",
    "        \"\"\"\n",
    "        Atomically does either:\n",
    "        Sets 'self[key] = value' and returns previous 'self[key]'\n",
    "        Sets 'self[key][field1][field2][...] = value' and returns previous 'self[key][field1][field2][...]'\n",
    "        \"\"\"\n",
    "        key, dots, subscripts = self._process_inputs(fields)\n",
    "        result = self._db.find_one_and_update(\n",
    "            filter={'_id': key, dots: {'$exists': True}},\n",
    "            update={'$set': {dots: value}})\n",
    "        if result == None:\n",
    "            raise KeyError(f\"1Subscript of {subscripts} does not exist in document of '_id' {key}\")\n",
    "            \n",
    "        try:\n",
    "            if len(fields) == 1:\n",
    "                return eval(f\"result['{key}']\")\n",
    "            else:\n",
    "                return eval('result' + subscripts)\n",
    "        except KeyError:\n",
    "            raise KeyError(f\"Subscript of {subscripts} does not exist in document of '_id' {key}\")\n",
    "            \n",
    "    def search(self, query):\n",
    "        \"\"\"\n",
    "        WIP\n",
    "        \"\"\"\n",
    "        list(test.find({'$text':{'$search': query}}).skip(0).limit(10))\n",
    "        \n",
    "        #\n",
    "        \n",
    "\n",
    "    def input_checker(start=None, end=None, limit=None, offset=None, **special_flags):\n",
    "        \"\"\"\n",
    "        Checks inputs for multiple functions.\n",
    "        Checks for negative inputs, correct types,\n",
    "        start or end independence of limit or offset.\n",
    "        Also results correct get_db_data inputs for id_input and year input.\n",
    "        \"\"\"\n",
    "        input_errors = []\n",
    "        if start is not None:\n",
    "            try:\n",
    "                start = int(start)\n",
    "                if start < 0:\n",
    "                    input_errors.append(\"Input for 'start' must be positive or 0\")\n",
    "            except ValueError:\n",
    "                input_errors.append(\"Input for 'start' must be an int\")\n",
    "\n",
    "        if end is not None:\n",
    "            try:\n",
    "                end = int(end)\n",
    "                if end < 0:\n",
    "                    input_errors.append(\"Input for 'end' must be positive or 0\")\n",
    "            except ValueError:\n",
    "                input_errors.append(\"Input for 'end' must be an int\")\n",
    "\n",
    "        if start is not None and end is not None:\n",
    "            if start > end:\n",
    "                input_errors.append(\"'start' input cannot be larger than 'end'\")\n",
    "\n",
    "        if limit is not None:\n",
    "            try:\n",
    "                limit = int(limit)\n",
    "                if limit < 0:\n",
    "                    input_errors.append(\"Input for 'limit' must be positive or 0\")\n",
    "            except ValueError:\n",
    "                input_errors.append(\"Input for 'limit' must be an int\")\n",
    "\n",
    "        if offset is not None:\n",
    "            try:\n",
    "                offset = int(offset)\n",
    "                if offset < 0:\n",
    "                    input_errors.append(\"Input for 'offset' must be positive or 0\")\n",
    "            except ValueError:\n",
    "                input_errors.append(\"Input for 'offset' must be an int\")\n",
    "\n",
    "        if (start is not None or end is not None) and (limit is not None or offset is not None):\n",
    "            input_errors.append(\"Start or end must be used independently of limit or offset\")\n",
    "\n",
    "        if \"id_input\" in special_flags:\n",
    "            try:\n",
    "                id_input = int(special_flags[\"id_input\"])\n",
    "                if id_input < 0:\n",
    "                    input_errors.append(\"Input for 'id' must be positive or 0\")\n",
    "                limit = 1\n",
    "                offset = id_input\n",
    "            except ValueError:\n",
    "                input_errors.append(\"Input for 'id' must be an int\")\n",
    "\n",
    "        if \"year\" in special_flags:\n",
    "            try:\n",
    "                year = int(special_flags[\"year\"])\n",
    "                if year < 0:\n",
    "                    input_errors.append(\"Input for 'year' must be positive or 0\")\n",
    "                start = year\n",
    "                end = year\n",
    "            except ValueError:\n",
    "                input_errors.append(\"Input for 'year' must be an int\")\n",
    "\n",
    "        if input_errors:\n",
    "            return start, end, limit, offset, input_errors\n",
    "\n",
    "        return start, end, limit, offset, input_errors\n",
    "        \n",
    "testme = testStore()\n",
    "\n",
    "db = client.abaco\n",
    "test = db['5']"
   ]
  },
  {
   "cell_type": "code",
   "execution_count": null,
   "metadata": {},
   "outputs": [],
   "source": [
    "testme['ACTORID']['DOC2'] = 2\n",
    "testme.getset(['actorid', 'doc1'], '2')"
   ]
  },
  {
   "cell_type": "code",
   "execution_count": 756,
   "metadata": {},
   "outputs": [
    {
     "data": {
      "text/plain": [
       "[{'4AZgJwX78y31': {'ch_name': 'worker_4AZgJwX78y31',\n",
       "                   'cid': '14fca2d1d81451c199ccb3e1ea80ee3ac945723d24b3b96cd2f5b0ddf9be861d',\n",
       "                   'create_time': '1580504137.189891',\n",
       "                   'host_id': '0',\n",
       "                   'host_ip': '172.17.0.1',\n",
       "                   'id': '4AZgJwX78y31',\n",
       "                   'image': 'jstubbs/abaco_test',\n",
       "                   'last_execution_time': 0,\n",
       "                   'last_health_check_time': '1580504137.186432',\n",
       "                   'location': 'unix://var/run/docker.sock',\n",
       "                   'status': 'READY',\n",
       "                   'tenant': 'DEV-DEVELOP'},\n",
       "  '8V47qxAzDzygq': {'ch_name': 'worker_8V47qxAzDzygq',\n",
       "                    'cid': 'e8df768df39bc3f3fc71546ad1d9a53122d2998a1411dd36b79a4e34d8b889fb',\n",
       "                    'create_time': '1580504081.516901',\n",
       "                    'host_id': '0',\n",
       "                    'host_ip': '172.17.0.1',\n",
       "                    'id': '8V47qxAzDzygq',\n",
       "                    'image': 'jstubbs/abaco_test',\n",
       "                    'last_execution_time': 0,\n",
       "                    'last_health_check_time': '1580504081.507307',\n",
       "                    'location': 'unix://var/run/docker.sock',\n",
       "                    'status': 'READY',\n",
       "                    'tenant': 'DEV-DEVELOP'},\n",
       "  'AxPqAoAkM4gy': {'ch_name': 'worker_AxPqAoAkM4gy',\n",
       "                   'cid': 'a4780b066c0aad5b8588916a13e2d4132fa25582b73c60711e8fead8f5794ebf',\n",
       "                   'create_time': '1580504138.806686',\n",
       "                   'host_id': '0',\n",
       "                   'host_ip': '172.17.0.1',\n",
       "                   'id': 'AxPqAoAkM4gy',\n",
       "                   'image': 'jstubbs/abaco_test',\n",
       "                   'last_execution_time': 0,\n",
       "                   'last_health_check_time': '1580504138.803817',\n",
       "                   'location': 'unix://var/run/docker.sock',\n",
       "                   'status': 'READY',\n",
       "                   'tenant': 'DEV-DEVELOP'},\n",
       "  'AxRz85wmpbOK': {'ch_name': 'worker_AxRz85wmpbOK',\n",
       "                   'cid': '4f5eeabea75997b176fe9f6d7cda2b2a24963579aae21650130e300d7d20f184',\n",
       "                   'create_time': '1580504142.368415',\n",
       "                   'host_id': '0',\n",
       "                   'host_ip': '172.17.0.1',\n",
       "                   'id': 'AxRz85wmpbOK',\n",
       "                   'image': 'jstubbs/abaco_test',\n",
       "                   'last_execution_time': 0,\n",
       "                   'last_health_check_time': '1580504142.364745',\n",
       "                   'location': 'unix://var/run/docker.sock',\n",
       "                   'status': 'READY',\n",
       "                   'tenant': 'DEV-DEVELOP'},\n",
       "  'Axrr4m8jMQ5K': {'ch_name': 'worker_Axrr4m8jMQ5K',\n",
       "                   'cid': 'a44f4557d8a26191166f9fccb22c83f4f8a77492aea41f1ed6ab614a38c4567f',\n",
       "                   'create_time': '1580504140.598791',\n",
       "                   'host_id': '0',\n",
       "                   'host_ip': '172.17.0.1',\n",
       "                   'id': 'Axrr4m8jMQ5K',\n",
       "                   'image': 'jstubbs/abaco_test',\n",
       "                   'last_execution_time': 0,\n",
       "                   'last_health_check_time': '1580504140.594091',\n",
       "                   'location': 'unix://var/run/docker.sock',\n",
       "                   'status': 'READY',\n",
       "                   'tenant': 'DEV-DEVELOP'},\n",
       "  '_id': 'DEV-DEVELOP_a1MOb61mJ306R'},\n",
       " {'K6MZ8w8yjEXGZ': {'ch_name': 'worker_K6MZ8w8yjEXGZ',\n",
       "                    'cid': 'fb09184e6e018ccb8a7ee89845b8fffb75d214aed92981b35d58c8b56069b48e',\n",
       "                    'create_time': '1580504083.022535',\n",
       "                    'host_id': '0',\n",
       "                    'host_ip': '172.17.0.1',\n",
       "                    'id': 'K6MZ8w8yjEXGZ',\n",
       "                    'image': 'abacosamples/wc',\n",
       "                    'last_execution_time': 0,\n",
       "                    'last_health_check_time': '1580504083.013257',\n",
       "                    'location': 'unix://var/run/docker.sock',\n",
       "                    'status': 'READY',\n",
       "                    'tenant': 'DEV-DEVELOP'},\n",
       "  '_id': 'DEV-DEVELOP_a1MgNaw5MGGZz'},\n",
       " {'1OrG8EGGgpx1y': {'ch_name': 'worker_1OrG8EGGgpx1y',\n",
       "                    'cid': '59a86ca6da0f0edb8489cd2ac150e535f7dcc47a4996c61b1cf10c3cd038e085',\n",
       "                    'create_time': '1580504084.864544',\n",
       "                    'host_id': '0',\n",
       "                    'host_ip': '172.17.0.1',\n",
       "                    'id': '1OrG8EGGgpx1y',\n",
       "                    'image': 'abacosamples/test',\n",
       "                    'last_execution_time': '1580504102.990841',\n",
       "                    'last_health_check_time': '1580504084.856145',\n",
       "                    'location': 'unix://var/run/docker.sock',\n",
       "                    'status': 'READY',\n",
       "                    'tenant': 'DEV-DEVELOP'},\n",
       "  '_id': 'DEV-DEVELOP_K6a16bbZWGjR8'},\n",
       " {'K6aEvElpOrM0J': {'ch_name': 'worker_K6aEvElpOrM0J',\n",
       "                    'cid': 'a5225f5171afabf78703b4e9d9c8635cd278fd4fef207ea6a16fd431b346f4d6',\n",
       "                    'create_time': '1580504086.620406',\n",
       "                    'host_id': '0',\n",
       "                    'host_ip': '172.17.0.1',\n",
       "                    'id': 'K6aEvElpOrM0J',\n",
       "                    'image': 'abacosamples/py3_func',\n",
       "                    'last_execution_time': '1580504108.012979',\n",
       "                    'last_health_check_time': '1580504086.611305',\n",
       "                    'location': 'unix://var/run/docker.sock',\n",
       "                    'status': 'READY',\n",
       "                    'tenant': 'DEV-DEVELOP'},\n",
       "  '_id': 'DEV-DEVELOP_4PGm7qE8poBja'},\n",
       " {'7PQoO6yl3Ojea': {'ch_name': 'worker_7PQoO6yl3Ojea',\n",
       "                    'cid': '7959476fda67ce1eb59f6774842dfd737b8604b2a7f8f317d521d80527002b58',\n",
       "                    'create_time': '1580504088.390891',\n",
       "                    'host_id': '0',\n",
       "                    'host_ip': '172.17.0.1',\n",
       "                    'id': '7PQoO6yl3Ojea',\n",
       "                    'image': 'abacosamples/test',\n",
       "                    'last_execution_time': 0,\n",
       "                    'last_health_check_time': '1580504088.382496',\n",
       "                    'location': 'unix://var/run/docker.sock',\n",
       "                    'status': 'READY',\n",
       "                    'tenant': 'DEV-DEVELOP'},\n",
       "  '_id': 'DEV-DEVELOP_XY636MBkLXzGZ'},\n",
       " {'_id': 'DEV-DEVELOP_8Va3wM40zwal5',\n",
       "  'jq7KAvE4AzP4g': {'ch_name': 'worker_jq7KAvE4AzP4g',\n",
       "                    'cid': '0348ca09a79d9d7115d8cd6075d01cc1c19d1570978adb7de214f3389f67d5c2',\n",
       "                    'create_time': '1580504089.995908',\n",
       "                    'host_id': '0',\n",
       "                    'host_ip': '172.17.0.1',\n",
       "                    'id': 'jq7KAvE4AzP4g',\n",
       "                    'image': 'abacosamples/sleep_loop',\n",
       "                    'last_execution_time': '1580504123.320378',\n",
       "                    'last_health_check_time': '1580504089.986663',\n",
       "                    'location': 'unix://var/run/docker.sock',\n",
       "                    'status': 'READY',\n",
       "                    'tenant': 'DEV-DEVELOP'}},\n",
       " {'1KXMaApM3WaN': {'id': '1KXMaApM3WaN',\n",
       "                   'status': 'REQUESTED',\n",
       "                   'tenant': 'DEV-DEVELOP'},\n",
       "  '7qkRqbLDq54Y': {'id': '7qkRqbLDq54Y',\n",
       "                   'status': 'REQUESTED',\n",
       "                   'tenant': 'DEV-DEVELOP'},\n",
       "  '_id': 'DEV-DEVELOP_Ax6QpvlZQy7q'},\n",
       " {'_id': 'AGAVE-PROD_AKepLbxPNzkB3'},\n",
       " {'AKMMWpVbZmwDy': {'ch_name': 'worker_AKMMWpVbZmwDy',\n",
       "                    'cid': '52f8f5f72b795be57e3f8a8e27e0e5a6f62b84f458e72433e6193323decf4644',\n",
       "                    'create_time': '1580504183.455763',\n",
       "                    'host_id': '0',\n",
       "                    'host_ip': '172.17.0.1',\n",
       "                    'id': 'AKMMWpVbZmwDy',\n",
       "                    'image': 'jstubbs/abaco_test',\n",
       "                    'last_execution_time': 0,\n",
       "                    'last_health_check_time': '1580504183.44647',\n",
       "                    'location': 'unix://var/run/docker.sock',\n",
       "                    'status': 'READY',\n",
       "                    'tenant': 'AGAVE-PROD'},\n",
       "  '_id': 'AGAVE-PROD_KrppE3OQDO6Vx'},\n",
       " {'Bov7xkGYVq340': {'ch_name': 'worker_Bov7xkGYVq340',\n",
       "                    'cid': '43acd6ee48a911fd46124ba74ca451e50ab299d5c71d9eeee57d2a5d0ebecfad',\n",
       "                    'create_time': '1580504185.210725',\n",
       "                    'host_id': '0',\n",
       "                    'host_ip': '172.17.0.1',\n",
       "                    'id': 'Bov7xkGYVq340',\n",
       "                    'image': 'jstubbs/abaco_test',\n",
       "                    'last_execution_time': 0,\n",
       "                    'last_health_check_time': '1580504185.202992',\n",
       "                    'location': 'unix://var/run/docker.sock',\n",
       "                    'status': 'READY',\n",
       "                    'tenant': 'AGAVE-PROD'},\n",
       "  '_id': 'AGAVE-PROD_4QymqVPm78QeQ'}]"
      ]
     },
     "execution_count": 756,
     "metadata": {},
     "output_type": "execute_result"
    }
   ],
   "source": [
    "test.find({'$text':{'$search': 'DEV-DEVELOP'}}).skip(0).limit(10))"
   ]
  },
  {
   "cell_type": "code",
   "execution_count": 730,
   "metadata": {},
   "outputs": [
    {
     "data": {
      "text/plain": [
       "'$**_1'"
      ]
     },
     "execution_count": 730,
     "metadata": {},
     "output_type": "execute_result"
    }
   ],
   "source": [
    "# Do this to create a wildcard index on littttterally everything.\n",
    "test.create_index('$**')"
   ]
  },
  {
   "cell_type": "code",
   "execution_count": 36,
   "metadata": {},
   "outputs": [
    {
     "name": "stdout",
     "output_type": "stream",
     "text": [
      "0\n",
      "1\n",
      "2\n",
      "3\n",
      "4\n"
     ]
    }
   ],
   "source": [
    "for k in range(5):\n",
    "    print(k)"
   ]
  },
  {
   "cell_type": "code",
   "execution_count": 3,
   "metadata": {},
   "outputs": [],
   "source": [
    "dog = {'hey':'there'}"
   ]
  },
  {
   "cell_type": "code",
   "execution_count": 4,
   "metadata": {},
   "outputs": [
    {
     "ename": "AttributeError",
     "evalue": "'dict' object has no attribute 'hey'",
     "output_type": "error",
     "traceback": [
      "\u001b[0;31m---------------------------------------------------------------------------\u001b[0m",
      "\u001b[0;31mAttributeError\u001b[0m                            Traceback (most recent call last)",
      "\u001b[0;32m<ipython-input-4-227dcc6693d4>\u001b[0m in \u001b[0;36m<module>\u001b[0;34m\u001b[0m\n\u001b[0;32m----> 1\u001b[0;31m \u001b[0;32mif\u001b[0m \u001b[0mdog\u001b[0m\u001b[0;34m.\u001b[0m\u001b[0mhey\u001b[0m\u001b[0;34m:\u001b[0m\u001b[0;34m\u001b[0m\u001b[0;34m\u001b[0m\u001b[0m\n\u001b[0m\u001b[1;32m      2\u001b[0m     \u001b[0mprint\u001b[0m\u001b[0;34m(\u001b[0m\u001b[0mdog\u001b[0m\u001b[0;34m.\u001b[0m\u001b[0mhey\u001b[0m\u001b[0;34m)\u001b[0m\u001b[0;34m\u001b[0m\u001b[0;34m\u001b[0m\u001b[0m\n",
      "\u001b[0;31mAttributeError\u001b[0m: 'dict' object has no attribute 'hey'"
     ]
    }
   ],
   "source": [
    "if dog.hey:\n",
    "    print(dog.hey)"
   ]
  },
  {
   "cell_type": "code",
   "execution_count": 33,
   "metadata": {},
   "outputs": [],
   "source": [
    "result = test.update_one({'_id':'DEV-DEVELOP_ArxxNeJlM6My'},\n",
    "                {'$set': {'dog': 'hellllddo!'}},\n",
    "                upsert=True)"
   ]
  },
  {
   "cell_type": "code",
   "execution_count": 27,
   "metadata": {},
   "outputs": [
    {
     "data": {
      "text/plain": [
       "[{'_id': 'DEV-DEVELOP_ArxxNeJlM6My',\n",
       "  'api_server': 'https://dev.tenants.develop.tacc.cloud',\n",
       "  'create_time': '1580913028.723185',\n",
       "  'db_id': 'DEV-DEVELOP_ArxxNeJlM6My',\n",
       "  'default_environment': {},\n",
       "  'description': '',\n",
       "  'dog': 'hellllo!',\n",
       "  'executions': {},\n",
       "  'gid': None,\n",
       "  'hints': [],\n",
       "  'id': 'ArxxNeJlM6My',\n",
       "  'image': 'abacosamples/test',\n",
       "  'last_update_time': '1580913028.723185',\n",
       "  'link': '',\n",
       "  'max_cpus': None,\n",
       "  'max_workers': None,\n",
       "  'mem_limit': None,\n",
       "  'mounts': [{'container_path': '/_abaco_data1',\n",
       "              'host_path': '/data1',\n",
       "              'mode': 'ro'}],\n",
       "  'name': 'abaco_test_suite_limited_user',\n",
       "  'owner': 'testotheruser',\n",
       "  'privileged': False,\n",
       "  'queue': 'default',\n",
       "  'state': {},\n",
       "  'stateless': True,\n",
       "  'status': 'READY',\n",
       "  'status_message': ' ',\n",
       "  'tasdir': None,\n",
       "  'tenant': 'DEV-DEVELOP',\n",
       "  'token': 'false',\n",
       "  'type': 'none',\n",
       "  'uid': None,\n",
       "  'use_container_uid': False,\n",
       "  'webhook': ''},\n",
       " {'_id': 'DEV-dsdasdDEVELOP_ArxxNeJlM6My', 'dog': 'hellllo!'}]"
      ]
     },
     "execution_count": 27,
     "metadata": {},
     "output_type": "execute_result"
    }
   ],
   "source": [
    "testme"
   ]
  }
 ],
 "metadata": {
  "kernelspec": {
   "display_name": "Python 3",
   "language": "python",
   "name": "python3"
  },
  "language_info": {
   "codemirror_mode": {
    "name": "ipython",
    "version": 3
   },
   "file_extension": ".py",
   "mimetype": "text/x-python",
   "name": "python",
   "nbconvert_exporter": "python",
   "pygments_lexer": "ipython3",
   "version": "3.8.1"
  }
 },
 "nbformat": 4,
 "nbformat_minor": 4
}
