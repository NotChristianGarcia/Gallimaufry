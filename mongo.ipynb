{
 "cells": [
  {
   "cell_type": "code",
   "execution_count": 4,
   "metadata": {},
   "outputs": [],
   "source": [
    "## import time\n",
    "import pymongo\n",
    "import pprint\n",
    "from pymongo.errors import WriteError, DuplicateKeyError\n",
    "from pymongo import MongoClient\n",
    "from datetime import datetime\n",
    "from datetime import timedelta\n",
    "import os"
   ]
  },
  {
   "cell_type": "code",
   "execution_count": 5,
   "metadata": {},
   "outputs": [],
   "source": [
    "client = MongoClient('mongodb://localhost:27017')\n",
    "db = client.abaco"
   ]
  },
  {
   "cell_type": "markdown",
   "metadata": {},
   "source": [
    "## The newest and greatest Mongo store"
   ]
  },
  {
   "cell_type": "code",
   "execution_count": 6,
   "metadata": {},
   "outputs": [],
   "source": [
    "class testStore():\n",
    "    def __init__(self):\n",
    "        db = client.abaco\n",
    "        test = db['3']\n",
    "        self._db = test\n",
    "        \n",
    "    def __getitem__(self, fields):\n",
    "        \"\"\"\n",
    "        Atomically does either:\n",
    "        Gets and returns 'self[key]' or 'self[key][field1][field2][...]' as a dictionary\n",
    "        \"\"\"\n",
    "        key, _, subscripts = self._process_inputs(fields)\n",
    "        result = self._db.find_one(\n",
    "            {'_id': key},\n",
    "            projection={'_id': False})\n",
    "        if result == None:\n",
    "            raise KeyError(f\"'_id' of '{key}' not found\")\n",
    "        try:\n",
    "            return eval('result' + subscripts)\n",
    "        except KeyError:\n",
    "            raise KeyError(f\"Subscript of {subscripts} does not exists in document of '_id' {key}\")\n",
    "\n",
    "    def __setitem__(self, fields, value):\n",
    "        \"\"\"\n",
    "        Atomically does either:\n",
    "        Sets 'self[key] = value' or sets 'self[key][field1][field2][...] = value'\n",
    "        \"\"\"\n",
    "        key, dots, _ = self._process_inputs(fields)\n",
    "        try:\n",
    "            if isinstance(fields, str) and isinstance(value, dict):\n",
    "                result = self._db.update_one(\n",
    "                    filter={'_id': key},\n",
    "                    update={'$set': value},\n",
    "                    upsert=True)\n",
    "            else:\n",
    "                result = self._db.update_one(\n",
    "                    filter={'_id': key},\n",
    "                    update={'$set': {dots: value}},\n",
    "                    upsert=True)\n",
    "        except WriteError:\n",
    "            raise WriteError(\n",
    "                \"Likely due to trying to set a subfield of a field that does not exists.\" +\n",
    "                \"\\n Try setting a dict rather than a value. Ex. store['id_key', 'key', 'field'] = {'subfield': 'value'}\")\n",
    "        if result.raw_result['nModified'] == 0:\n",
    "            if not 'upserted' in result.raw_result:\n",
    "                logger.debug(f'Field not modified, old value likely the same as new. Key: {key}, Fields: {dots}, Value: {value}')\n",
    "\n",
    "    def __delitem__(self, fields):\n",
    "        \"\"\"\n",
    "        Atomically does either:\n",
    "        Deletes 'self[key]'\n",
    "        Unsets 'self[key][field1][field2][...]'\n",
    "        \"\"\"\n",
    "        key, dots, subscripts = self._process_inputs(fields)\n",
    "        if not subscripts:\n",
    "            result = self._db.delete_one({'_id': key})\n",
    "            if result.raw_result['n'] == 0:\n",
    "                logger.debug(f\"No document with '_id' found. Key:{key}, Fields:{dots}\")\n",
    "        else:\n",
    "            result = self._db.update_one(\n",
    "                filter={'_id': key},\n",
    "                update={'$unset': {f'{dots}': ''}})\n",
    "            if result.raw_result['nModified'] == 0:\n",
    "                logger.debug(f\"Doc with specified fields not found. Key:{key}, Fields:{dots}\")\n",
    "\n",
    "    def __iter__(self):\n",
    "        for cursor in self._db.find():\n",
    "            yield cursor['_id']\n",
    "        # return self._db.scan_iter()\n",
    "\n",
    "    def __len__(self):\n",
    "        \"\"\"\n",
    "        Returns the estimated document count of a store to give length\n",
    "        We don't use '.count_documents()' as it's O(N) versus O(1) of estimated\n",
    "        Length for a document or subdocument comes from len(store['key']['field1'][...]) using dict len()\n",
    "        \"\"\"\n",
    "        try:\n",
    "            return self._db.estimated_document_count()\n",
    "        except TypeError:\n",
    "            return 0\n",
    "\n",
    "    def __repr__(self):\n",
    "        \"\"\"\n",
    "        Returns a pretty string of the entire store with '_id' visible for developer use\n",
    "        \"\"\"\n",
    "        return pprint.pformat(list(self._db.find()))\n",
    "\n",
    "    def _process_inputs(self, fields):\n",
    "        \"\"\"\n",
    "        Takes in fields and returns the key corresponding with '_id', dot notation\n",
    "        for getting to a specific field in a Mongo query/filter (ex. 'field1.field2.field3.field4')\n",
    "        and the subscript notation for returning a specified field from a result dictionary\n",
    "        (ex. `['field1']['field2']['field3']['field4']`)\n",
    "        \"\"\"\n",
    "        if isinstance(fields, str):\n",
    "            key = dots = fields\n",
    "            subscripts = ''\n",
    "        elif isinstance(fields, list) and len(fields) == 1:\n",
    "            key = dots = fields[0]\n",
    "            subscripts = ''\n",
    "        else:\n",
    "            key = fields[0]\n",
    "            dots = '.'.join(fields[1:])\n",
    "            subscripts = \"['\" + \"']['\".join(fields[1:]) + \"']\"\n",
    "        return key, dots, subscripts\n",
    "\n",
    "    def _prepset(self, value):\n",
    "        if type(value) is bytes:\n",
    "            return value.decode('utf-8')\n",
    "        return value\n",
    "\n",
    "    def pop_field(self, fields):\n",
    "        \"\"\"\n",
    "        Atomically pops 'self[key] = value' or 'self[key][field1][field2][...] = value'\n",
    "        \"\"\"\n",
    "        key, dots, subscripts = self._process_inputs(fields)\n",
    "        if not subscripts:\n",
    "            result = self._db.find_one(\n",
    "                {'_id': key},\n",
    "                projection={'_id': False})\n",
    "            if result == None:\n",
    "                raise KeyError(f\"'_id' of '{key}' not found\")\n",
    "            del_result = self._db.delete_one({'_id': key})\n",
    "            if del_result.raw_result['n'] == 0:\n",
    "                raise KeyError(f\"No document deleted\")\n",
    "            return result\n",
    "        else:\n",
    "            result = self._db.find_one_and_update(\n",
    "                filter={'_id': key},\n",
    "                update={'$unset': {dots: ''}})\n",
    "            try:\n",
    "                return eval('result' + subscripts)\n",
    "            except KeyError:\n",
    "                raise KeyError(f\"Subscript of {subscripts} does not exist in document of '_id' {key}\")\n",
    "\n",
    "    def set_with_expiry(self, fields, value):\n",
    "        \"\"\"\n",
    "        Atomically:\n",
    "        Sets 'self[key] = value' or 'self[key][field1][field2][...] = value'\n",
    "        Creates 'exp' subdocument in document root with current time for use with MongoDB TTL expiration index\n",
    "        Note: MongoDB TTL checks every 60 secs to delete files\n",
    "        \"\"\"\n",
    "        key, dots, _ = self._process_inputs(fields)\n",
    "        if len(fields) == 1 and isinstance(value, dict):\n",
    "            result = self._db.update_one(\n",
    "                filter={'_id': key},\n",
    "                update={'$set': {'exp': datetime.utcnow()},\n",
    "                        '$set': value},\n",
    "                upsert=True)\n",
    "        else:\n",
    "            result = self._db.update_one(\n",
    "                filter={'_id': key},\n",
    "                update={'$set': {'exp': datetime.utcnow(), dots: self._prepset(value)}},\n",
    "                upsert=True)\n",
    "\n",
    "    def full_update(self, key, value):\n",
    "        result = self._db.update_one(key, value, upsert=True)\n",
    "        return result\n",
    "\n",
    "    def getset(self, fields, value):\n",
    "        \"\"\"\n",
    "        Atomically does either:\n",
    "        Sets 'self[key] = value' and returns previous 'self[key]'\n",
    "        Sets 'self[key][field1][field2][...] = value' and returns previous 'self[key][field1][field2][...]'\n",
    "        \"\"\"\n",
    "        key, dots, subscripts = self._process_inputs(fields)\n",
    "        result = self._db.find_one_and_update(\n",
    "            filter={'_id': key, dots: {'$exists': True}},\n",
    "            update={'$set': {dots: value}})\n",
    "        if result == None:\n",
    "            raise KeyError(f\"1Subscript of {subscripts} does not exist in document of '_id' {key}\")   \n",
    "        try:\n",
    "            if len(fields) == 1:\n",
    "                return eval(f\"result['{key}']\")\n",
    "            else:\n",
    "                return eval('result' + subscripts)\n",
    "        except KeyError:\n",
    "            raise KeyError(f\"Subscript of {subscripts} does not exist in document of '_id' {key}\")\n",
    "\n",
    "    def items(self, filter_inp=None, proj_inp={'_id': False}):\n",
    "        \" Either returns all with no inputs, or filters when given filters\"\n",
    "        return list(self._db.find(\n",
    "            filter=filter_inp,\n",
    "            projection=proj_inp))\n",
    "\n",
    "    def add_if_empty(self, fields, value):\n",
    "        \"\"\"\n",
    "        Atomically:\n",
    "        Sets 'self[key] = value' or 'self[key][field1][field2][...] = value'\n",
    "        Only if the specified key/field(s) combo does not exist or is empty\n",
    "        Returns the value if it was added; otherwise, returns None\n",
    "        Note: Will not override a field set to a value in order to create a subfield\n",
    "        \"\"\"\n",
    "        key, dots, _ = self._process_inputs(fields)\n",
    "        try:\n",
    "            if len(fields) == 1 and isinstance(value, dict):\n",
    "                result = self._db.update_one(\n",
    "                    filter={'_id': key},\n",
    "                    update={'$setOnInsert': value},\n",
    "                    upsert=True)\n",
    "                if result.upserted_id:\n",
    "                    return key\n",
    "            elif len(fields) == 1:\n",
    "                result = self._db.update_one(\n",
    "                    filter={'_id': key},\n",
    "                    update={'$setOnInsert': {dots: value}},\n",
    "                    upsert=True)\n",
    "                if result.upserted_id:\n",
    "                    return key\n",
    "            else:\n",
    "                try:\n",
    "                    result = self._db.update_one(\n",
    "                        filter={'_id': key},\n",
    "                        update={'$setOnInsert': {dots: value}},\n",
    "                        upsert=True)\n",
    "                    if result.upserted_id:\n",
    "                        return fields\n",
    "                except WriteError:\n",
    "                    print(\"Likely due to trying to set a subfield of a field that is already set to one value\")\n",
    "                    pass\n",
    "            return None\n",
    "        except DuplicateKeyError:\n",
    "            return None\n",
    "        \n",
    "    def _delete_based_on_query(self, filter_inp):\n",
    "        self._db.delete_many(filter = filter_inp)\n",
    "\n",
    "test2 = testStore()"
   ]
  },
  {
   "cell_type": "code",
   "execution_count": 7,
   "metadata": {},
   "outputs": [
    {
     "data": {
      "text/plain": [
       "[{'DEV-DEVELOP_AJjrM07NgeqrK': {'A6xyGZDWXxJN5': {'actor_id': 'DEV-DEVELOP_AJjrM07NgeqrK',\n",
       "                                                  'api_server': 'https://dev.tenants.aloedev.tacc.cloud',\n",
       "                                                  'cpu': 435491032,\n",
       "                                                  'executor': 'testuser',\n",
       "                                                  'exit_code': 0,\n",
       "                                                  'final_state': {'Dead': False,\n",
       "                                                                  'Error': '',\n",
       "                                                                  'ExitCode': 0,\n",
       "                                                                  'FinishedAt': '2020-04-30T14:00:24.8592758Z',\n",
       "                                                                  'OOMKilled': False,\n",
       "                                                                  'Paused': False,\n",
       "                                                                  'Pid': 0,\n",
       "                                                                  'Restarting': False,\n",
       "                                                                  'Running': False,\n",
       "                                                                  'StartedAt': '2020-04-30T14:00:22.856952Z',\n",
       "                                                                  'Status': 'exited'},\n",
       "                                                  'id': 'A6xyGZDWXxJN5',\n",
       "                                                  'io': 872,\n",
       "                                                  'message_received_time': '1588255222.162498',\n",
       "                                                  'runtime': 2,\n",
       "                                                  'start_time': '1588255222.420019',\n",
       "                                                  'status': 'COMPLETE',\n",
       "                                                  'tenant': 'DEV-DEVELOP',\n",
       "                                                  'worker_id': 'AJjzVOZrYEAB3'},\n",
       "                                'KBXLVpglEeR8': {'actor_id': 'DEV-DEVELOP_AJjrM07NgeqrK',\n",
       "                                                 'api_server': 'https://dev.tenants.aloedev.tacc.cloud',\n",
       "                                                 'cpu': 442591068,\n",
       "                                                 'executor': 'testuser',\n",
       "                                                 'exit_code': 0,\n",
       "                                                 'final_state': {'Dead': False,\n",
       "                                                                 'Error': '',\n",
       "                                                                 'ExitCode': 0,\n",
       "                                                                 'FinishedAt': '2020-04-30T14:01:07.1569538Z',\n",
       "                                                                 'OOMKilled': False,\n",
       "                                                                 'Paused': False,\n",
       "                                                                 'Pid': 0,\n",
       "                                                                 'Restarting': False,\n",
       "                                                                 'Running': False,\n",
       "                                                                 'StartedAt': '2020-04-30T14:01:05.1545265Z',\n",
       "                                                                 'Status': 'exited'},\n",
       "                                                 'id': 'KBXLVpglEeR8',\n",
       "                                                 'io': 872,\n",
       "                                                 'message_received_time': '1588255264.39242',\n",
       "                                                 'runtime': 2,\n",
       "                                                 'start_time': '1588255264.70159',\n",
       "                                                 'status': 'COMPLETE',\n",
       "                                                 'tenant': 'DEV-DEVELOP',\n",
       "                                                 'worker_id': 'AJjzVOZrYEAB3'},\n",
       "                                'KELo1jwWy0XO': {'actor_id': 'DEV-DEVELOP_AJjrM07NgeqrK',\n",
       "                                                 'api_server': 'https://dev.tenants.aloedev.tacc.cloud',\n",
       "                                                 'cpu': 449030142,\n",
       "                                                 'executor': 'testuser',\n",
       "                                                 'exit_code': 0,\n",
       "                                                 'final_state': {'Dead': False,\n",
       "                                                                 'Error': '',\n",
       "                                                                 'ExitCode': 0,\n",
       "                                                                 'FinishedAt': '2020-04-30T14:01:00.9379034Z',\n",
       "                                                                 'OOMKilled': False,\n",
       "                                                                 'Paused': False,\n",
       "                                                                 'Pid': 0,\n",
       "                                                                 'Restarting': False,\n",
       "                                                                 'Running': False,\n",
       "                                                                 'StartedAt': '2020-04-30T14:00:58.9353041Z',\n",
       "                                                                 'Status': 'exited'},\n",
       "                                                 'id': 'KELo1jwWy0XO',\n",
       "                                                 'io': 626,\n",
       "                                                 'message_received_time': '1588255258.215169',\n",
       "                                                 'runtime': 2,\n",
       "                                                 'start_time': '1588255258.46639',\n",
       "                                                 'status': 'COMPLETE',\n",
       "                                                 'tenant': 'DEV-DEVELOP',\n",
       "                                                 'worker_id': 'AJjzVOZrYEAB3'},\n",
       "                                'bV7eK7RAbe7B6': {'actor_id': 'DEV-DEVELOP_AJjrM07NgeqrK',\n",
       "                                                  'api_server': 'https://dev.tenants.aloedev.tacc.cloud',\n",
       "                                                  'cpu': 1118032975,\n",
       "                                                  'executor': 'testuser',\n",
       "                                                  'exit_code': 0,\n",
       "                                                  'final_state': {'Dead': False,\n",
       "                                                                  'Error': '',\n",
       "                                                                  'ExitCode': 0,\n",
       "                                                                  'FinishedAt': '2020-04-30T14:01:37.1998398Z',\n",
       "                                                                  'OOMKilled': False,\n",
       "                                                                  'Paused': False,\n",
       "                                                                  'Pid': 0,\n",
       "                                                                  'Restarting': False,\n",
       "                                                                  'Running': False,\n",
       "                                                                  'StartedAt': '2020-04-30T14:01:32.1984663Z',\n",
       "                                                                  'Status': 'exited'},\n",
       "                                                  'id': 'bV7eK7RAbe7B6',\n",
       "                                                  'io': 2960,\n",
       "                                                  'message_received_time': '1588255291.46848',\n",
       "                                                  'runtime': 5,\n",
       "                                                  'start_time': '1588255291.746375',\n",
       "                                                  'status': 'COMPLETE',\n",
       "                                                  'tenant': 'DEV-DEVELOP',\n",
       "                                                  'worker_id': 'KqzVZggQywkq'}},\n",
       "  '_id': 'DEV-DEVELOP_AJjrM07NgeqrK'},\n",
       " {'DEV-DEVELOP_XYOPrzA4yAX6m': {}, '_id': 'DEV-DEVELOP_XYOPrzA4yAX6m'},\n",
       " {'DEV-DEVELOP_XYOVYOMvYYr5m': {}, '_id': 'DEV-DEVELOP_XYOVYOMvYYr5m'},\n",
       " {'DEV-DEVELOP_XYOgzy4pl8aD1': {}, '_id': 'DEV-DEVELOP_XYOgzy4pl8aD1'},\n",
       " {'DEV-DEVELOP_K6O0B6NqZgQeK': {'BR36xmVjZ0NJe': {'actor_id': 'DEV-DEVELOP_K6O0B6NqZgQeK',\n",
       "                                                  'api_server': 'https://dev.tenants.aloedev.tacc.cloud',\n",
       "                                                  'cpu': 429446096,\n",
       "                                                  'executor': 'testuser',\n",
       "                                                  'exit_code': 0,\n",
       "                                                  'final_state': {'Dead': False,\n",
       "                                                                  'Error': '',\n",
       "                                                                  'ExitCode': 0,\n",
       "                                                                  'FinishedAt': '2020-04-30T14:00:33.7630118Z',\n",
       "                                                                  'OOMKilled': False,\n",
       "                                                                  'Paused': False,\n",
       "                                                                  'Pid': 0,\n",
       "                                                                  'Restarting': False,\n",
       "                                                                  'Running': False,\n",
       "                                                                  'StartedAt': '2020-04-30T14:00:31.7602612Z',\n",
       "                                                                  'Status': 'exited'},\n",
       "                                                  'id': 'BR36xmVjZ0NJe',\n",
       "                                                  'io': 872,\n",
       "                                                  'message_received_time': '1588255228.293808',\n",
       "                                                  'runtime': 2,\n",
       "                                                  'start_time': '1588255231.306197',\n",
       "                                                  'status': 'COMPLETE',\n",
       "                                                  'tenant': 'DEV-DEVELOP',\n",
       "                                                  'worker_id': '1v3aX5wjy1VEX'}},\n",
       "  '_id': 'DEV-DEVELOP_K6O0B6NqZgQeK'},\n",
       " {'DEV-DEVELOP_XYOQDNLr7agqy': {'bqy8x4kOa3axJ': {'actor_id': 'DEV-DEVELOP_XYOQDNLr7agqy',\n",
       "                                                  'api_server': 'https://dev.tenants.aloedev.tacc.cloud',\n",
       "                                                  'cpu': 241514507,\n",
       "                                                  'executor': 'testuser',\n",
       "                                                  'exit_code': 0,\n",
       "                                                  'final_state': {'Dead': False,\n",
       "                                                                  'Error': '',\n",
       "                                                                  'ExitCode': 0,\n",
       "                                                                  'FinishedAt': '2020-04-30T14:00:38.5359765Z',\n",
       "                                                                  'OOMKilled': False,\n",
       "                                                                  'Paused': False,\n",
       "                                                                  'Pid': 0,\n",
       "                                                                  'Restarting': False,\n",
       "                                                                  'Running': False,\n",
       "                                                                  'StartedAt': '2020-04-30T14:00:38.083555Z',\n",
       "                                                                  'Status': 'exited'},\n",
       "                                                  'id': 'bqy8x4kOa3axJ',\n",
       "                                                  'io': 270,\n",
       "                                                  'message_received_time': '1588255234.496589',\n",
       "                                                  'runtime': 1,\n",
       "                                                  'start_time': '1588255237.599905',\n",
       "                                                  'status': 'COMPLETE',\n",
       "                                                  'tenant': 'DEV-DEVELOP',\n",
       "                                                  'worker_id': '4R0kNPYll7DOb'}},\n",
       "  '_id': 'DEV-DEVELOP_XYOQDNLr7agqy'},\n",
       " {'DEV-DEVELOP_AJyLGee7DK815': {}, '_id': 'DEV-DEVELOP_AJyLGee7DK815'},\n",
       " {'DEV-DEVELOP_AJy7pEVp83rmr': {'aPbyAWpQKg1Qz': {'actor_id': 'DEV-DEVELOP_AJy7pEVp83rmr',\n",
       "                                                  'api_server': 'https://dev.tenants.aloedev.tacc.cloud',\n",
       "                                                  'cpu': 1492390946,\n",
       "                                                  'executor': 'testuser',\n",
       "                                                  'exit_code': 137,\n",
       "                                                  'final_state': {'Dead': False,\n",
       "                                                                  'Error': '',\n",
       "                                                                  'ExitCode': 137,\n",
       "                                                                  'FinishedAt': '2020-04-30T14:00:57.0585367Z',\n",
       "                                                                  'OOMKilled': False,\n",
       "                                                                  'Paused': False,\n",
       "                                                                  'Pid': 0,\n",
       "                                                                  'Restarting': False,\n",
       "                                                                  'Running': False,\n",
       "                                                                  'StartedAt': '2020-04-30T14:00:43.9643711Z',\n",
       "                                                                  'Status': 'exited'},\n",
       "                                                  'id': 'aPbyAWpQKg1Qz',\n",
       "                                                  'io': 2264,\n",
       "                                                  'message_received_time': '1588255240.747151',\n",
       "                                                  'runtime': 13,\n",
       "                                                  'start_time': '1588255243.526944',\n",
       "                                                  'status': 'COMPLETE',\n",
       "                                                  'tenant': 'DEV-DEVELOP',\n",
       "                                                  'worker_id': 'BmoeNN4JeDeLY'}},\n",
       "  '_id': 'DEV-DEVELOP_AJy7pEVp83rmr'},\n",
       " {'DEV-DEVELOP_13qyqk44QkLk': {}, '_id': 'DEV-DEVELOP_13qyqk44QkLk'},\n",
       " {'AGAVE-PROD_ab45ZrvRPzeMw': {}, '_id': 'AGAVE-PROD_ab45ZrvRPzeMw'},\n",
       " {'AGAVE-PROD_76XEYLJKPOE06': {}, '_id': 'AGAVE-PROD_76XEYLJKPOE06'},\n",
       " {'AGAVE-PROD_76XNX3bmlRDl0': {}, '_id': 'AGAVE-PROD_76XNX3bmlRDl0'},\n",
       " {'AGAVE-PROD_jMVqLYVE8G8mg': {}, '_id': 'AGAVE-PROD_jMVqLYVE8G8mg'},\n",
       " {'DEV-STAGING_jMAQypbXG8DK5': {}, '_id': 'DEV-STAGING_jMAQypbXG8DK5'},\n",
       " {'DEV-DEVELOP_Kr3EAwmQDmK6K': {'bLYqpL5ERN6le': {'actor_id': 'DEV-DEVELOP_Kr3EAwmQDmK6K',\n",
       "                                                  'api_server': 'https://dev.tenants.aloedev.tacc.cloud',\n",
       "                                                  'cpu': 435446152,\n",
       "                                                  'executor': 'Abaco Event',\n",
       "                                                  'exit_code': 0,\n",
       "                                                  'final_state': {'Dead': False,\n",
       "                                                                  'Error': '',\n",
       "                                                                  'ExitCode': 0,\n",
       "                                                                  'FinishedAt': '2020-04-30T14:02:25.7616347Z',\n",
       "                                                                  'OOMKilled': False,\n",
       "                                                                  'Paused': False,\n",
       "                                                                  'Pid': 0,\n",
       "                                                                  'Restarting': False,\n",
       "                                                                  'Running': False,\n",
       "                                                                  'StartedAt': '2020-04-30T14:02:23.7593037Z',\n",
       "                                                                  'Status': 'exited'},\n",
       "                                                  'id': 'bLYqpL5ERN6le',\n",
       "                                                  'io': 1052,\n",
       "                                                  'message_received_time': '1588255343.048774',\n",
       "                                                  'runtime': 2,\n",
       "                                                  'start_time': '1588255343.286021',\n",
       "                                                  'status': 'COMPLETE',\n",
       "                                                  'tenant': 'DEV-DEVELOP',\n",
       "                                                  'worker_id': '76EWlx6VMVNMx'},\n",
       "                                'jMlqV0ArelpNM': {'actor_id': 'DEV-DEVELOP_Kr3EAwmQDmK6K',\n",
       "                                                  'api_server': 'https://dev.tenants.aloedev.tacc.cloud',\n",
       "                                                  'cpu': 432632920,\n",
       "                                                  'executor': 'Abaco Event',\n",
       "                                                  'exit_code': 0,\n",
       "                                                  'final_state': {'Dead': False,\n",
       "                                                                  'Error': '',\n",
       "                                                                  'ExitCode': 0,\n",
       "                                                                  'FinishedAt': '2020-04-30T14:02:11.8350995Z',\n",
       "                                                                  'OOMKilled': False,\n",
       "                                                                  'Paused': False,\n",
       "                                                                  'Pid': 0,\n",
       "                                                                  'Restarting': False,\n",
       "                                                                  'Running': False,\n",
       "                                                                  'StartedAt': '2020-04-30T14:02:09.8325217Z',\n",
       "                                                                  'Status': 'exited'},\n",
       "                                                  'id': 'jMlqV0ArelpNM',\n",
       "                                                  'io': 806,\n",
       "                                                  'message_received_time': '1588255329.101188',\n",
       "                                                  'runtime': 2,\n",
       "                                                  'start_time': '1588255329.363231',\n",
       "                                                  'status': 'COMPLETE',\n",
       "                                                  'tenant': 'DEV-DEVELOP',\n",
       "                                                  'worker_id': '76EWlx6VMVNMx'}},\n",
       "  '_id': 'DEV-DEVELOP_Kr3EAwmQDmK6K'},\n",
       " {'DEV-DEVELOP_AKXOQbXoQ6bKK': {'K1ypayMv4EALq': {'actor_id': 'DEV-DEVELOP_AKXOQbXoQ6bKK',\n",
       "                                                  'api_server': 'https://dev.tenants.aloedev.tacc.cloud',\n",
       "                                                  'cpu': 430922708,\n",
       "                                                  'executor': 'testuser',\n",
       "                                                  'exit_code': 0,\n",
       "                                                  'final_state': {'Dead': False,\n",
       "                                                                  'Error': '',\n",
       "                                                                  'ExitCode': 0,\n",
       "                                                                  'FinishedAt': '2020-04-30T14:02:22.4733651Z',\n",
       "                                                                  'OOMKilled': False,\n",
       "                                                                  'Paused': False,\n",
       "                                                                  'Pid': 0,\n",
       "                                                                  'Restarting': False,\n",
       "                                                                  'Running': False,\n",
       "                                                                  'StartedAt': '2020-04-30T14:02:20.4711873Z',\n",
       "                                                                  'Status': 'exited'},\n",
       "                                                  'id': 'K1ypayMv4EALq',\n",
       "                                                  'io': 626,\n",
       "                                                  'message_received_time': '1588255337.164121',\n",
       "                                                  'runtime': 2,\n",
       "                                                  'start_time': '1588255340.037',\n",
       "                                                  'status': 'COMPLETE',\n",
       "                                                  'tenant': 'DEV-DEVELOP',\n",
       "                                                  'worker_id': 'aVZEXMbbjmgMw'}},\n",
       "  '_id': 'DEV-DEVELOP_AKXOQbXoQ6bKK'},\n",
       " {'DEV-DEVELOP_jMWAmZJ4GzBVN': {'jMxkVGekoDexM': {'actor_id': 'DEV-DEVELOP_jMWAmZJ4GzBVN',\n",
       "                                                  'api_server': 'https://dev.tenants.aloedev.tacc.cloud',\n",
       "                                                  'cpu': 432946844,\n",
       "                                                  'executor': 'testuser',\n",
       "                                                  'exit_code': 0,\n",
       "                                                  'final_state': {'Dead': False,\n",
       "                                                                  'Error': '',\n",
       "                                                                  'ExitCode': 0,\n",
       "                                                                  'FinishedAt': '2020-04-30T14:02:16.5261778Z',\n",
       "                                                                  'OOMKilled': False,\n",
       "                                                                  'Paused': False,\n",
       "                                                                  'Pid': 0,\n",
       "                                                                  'Restarting': False,\n",
       "                                                                  'Running': False,\n",
       "                                                                  'StartedAt': '2020-04-30T14:02:14.523826Z',\n",
       "                                                                  'Status': 'exited'},\n",
       "                                                  'id': 'jMxkVGekoDexM',\n",
       "                                                  'io': 962,\n",
       "                                                  'message_received_time': '1588255333.794594',\n",
       "                                                  'runtime': 2,\n",
       "                                                  'start_time': '1588255334.045838',\n",
       "                                                  'status': 'COMPLETE',\n",
       "                                                  'tenant': 'DEV-DEVELOP',\n",
       "                                                  'worker_id': 'jMWAqYbEavE7K'}},\n",
       "  '_id': 'DEV-DEVELOP_jMWAmZJ4GzBVN'},\n",
       " {'DEV-DEVELOP_8Ro7mxAA1jv36': {}, '_id': 'DEV-DEVELOP_8Ro7mxAA1jv36'},\n",
       " {'DEV-DEVELOP_aVA7W46ZyjVPl': {'8lYDo5PKJZJb5': {'actor_id': 'DEV-DEVELOP_aVA7W46ZyjVPl',\n",
       "                                                  'api_server': 'https://dev.tenants.aloedev.tacc.cloud',\n",
       "                                                  'cpu': 444873984,\n",
       "                                                  'executor': 'Abaco Event',\n",
       "                                                  'exit_code': 0,\n",
       "                                                  'final_state': {'Dead': False,\n",
       "                                                                  'Error': '',\n",
       "                                                                  'ExitCode': 0,\n",
       "                                                                  'FinishedAt': '2020-04-30T14:02:33.4312873Z',\n",
       "                                                                  'OOMKilled': False,\n",
       "                                                                  'Paused': False,\n",
       "                                                                  'Pid': 0,\n",
       "                                                                  'Restarting': False,\n",
       "                                                                  'Running': False,\n",
       "                                                                  'StartedAt': '2020-04-30T14:02:31.4286019Z',\n",
       "                                                                  'Status': 'exited'},\n",
       "                                                  'id': '8lYDo5PKJZJb5',\n",
       "                                                  'io': 626,\n",
       "                                                  'message_received_time': '1588255350.689432',\n",
       "                                                  'runtime': 2,\n",
       "                                                  'start_time': '1588255350.96177',\n",
       "                                                  'status': 'COMPLETE',\n",
       "                                                  'tenant': 'DEV-DEVELOP',\n",
       "                                                  'worker_id': 'AAOZpRNJX7LRr'}},\n",
       "  '_id': 'DEV-DEVELOP_aVA7W46ZyjVPl'},\n",
       " {'DEV-DEVELOP_aVALYbXzOke0x': {'AAXo4BwNpBB4q': {'actor_id': 'DEV-DEVELOP_aVALYbXzOke0x',\n",
       "                                                  'api_server': 'https://dev.tenants.aloedev.tacc.cloud',\n",
       "                                                  'cpu': 0,\n",
       "                                                  'executor': 'Abaco Event',\n",
       "                                                  'exit_code': None,\n",
       "                                                  'final_state': None,\n",
       "                                                  'id': 'AAXo4BwNpBB4q',\n",
       "                                                  'io': 0,\n",
       "                                                  'message_received_time': '1588255352.849087',\n",
       "                                                  'runtime': 0,\n",
       "                                                  'start_time': None,\n",
       "                                                  'status': 'SUBMITTED',\n",
       "                                                  'tenant': 'DEV-DEVELOP',\n",
       "                                                  'worker_id': None}},\n",
       "  '_id': 'DEV-DEVELOP_aVALYbXzOke0x'},\n",
       " {'DEV-DEVELOP_jjNGMBaQAxYkQ': {}, '_id': 'DEV-DEVELOP_jjNGMBaQAxYkQ'},\n",
       " {'DEV-DEVELOP_X43krEXOoW173': {}, '_id': 'DEV-DEVELOP_X43krEXOoW173'},\n",
       " {'DEV-DEVELOP_AAk0JmmPlom4r': {'4Y0gEzAXy1jka': {'actor_id': 'DEV-DEVELOP_AAk0JmmPlom4r',\n",
       "                                                  'api_server': 'https://dev.tenants.aloedev.tacc.cloud',\n",
       "                                                  'cpu': 450167878,\n",
       "                                                  'executor': 'Abaco Event',\n",
       "                                                  'exit_code': 0,\n",
       "                                                  'final_state': {'Dead': False,\n",
       "                                                                  'Error': '',\n",
       "                                                                  'ExitCode': 0,\n",
       "                                                                  'FinishedAt': '2020-04-30T14:02:52.3356747Z',\n",
       "                                                                  'OOMKilled': False,\n",
       "                                                                  'Paused': False,\n",
       "                                                                  'Pid': 0,\n",
       "                                                                  'Restarting': False,\n",
       "                                                                  'Running': False,\n",
       "                                                                  'StartedAt': '2020-04-30T14:02:50.333442Z',\n",
       "                                                                  'Status': 'exited'},\n",
       "                                                  'id': '4Y0gEzAXy1jka',\n",
       "                                                  'io': 872,\n",
       "                                                  'message_received_time': '1588255357.989105',\n",
       "                                                  'runtime': 2,\n",
       "                                                  'start_time': '1588255369.841358',\n",
       "                                                  'status': 'COMPLETE',\n",
       "                                                  'tenant': 'DEV-DEVELOP',\n",
       "                                                  'worker_id': '1Go6y0OJBxG7v'}},\n",
       "  '_id': 'DEV-DEVELOP_AAk0JmmPlom4r'},\n",
       " {'DEV-DEVELOP_bL7Z7WN35oeKv': {}, '_id': 'DEV-DEVELOP_bL7Z7WN35oeKv'},\n",
       " {'DEV-DEVELOP_aV0AkxQbKRvkb': {'8JQ3pj0lDrOjm': {'actor_id': 'DEV-DEVELOP_aV0AkxQbKRvkb',\n",
       "                                                  'api_server': 'https://dev.tenants.aloedev.tacc.cloud',\n",
       "                                                  'cpu': 0,\n",
       "                                                  'executor': 'Abaco Event',\n",
       "                                                  'exit_code': None,\n",
       "                                                  'final_state': None,\n",
       "                                                  'id': '8JQ3pj0lDrOjm',\n",
       "                                                  'io': 0,\n",
       "                                                  'message_received_time': '1588255367.919156',\n",
       "                                                  'runtime': 0,\n",
       "                                                  'start_time': None,\n",
       "                                                  'status': 'SUBMITTED',\n",
       "                                                  'tenant': 'DEV-DEVELOP',\n",
       "                                                  'worker_id': None},\n",
       "                                'aZoZkqDXXolrR': {'actor_id': 'DEV-DEVELOP_aV0AkxQbKRvkb',\n",
       "                                                  'api_server': 'https://dev.tenants.aloedev.tacc.cloud',\n",
       "                                                  'cpu': 0,\n",
       "                                                  'executor': 'Abaco Event',\n",
       "                                                  'exit_code': None,\n",
       "                                                  'final_state': None,\n",
       "                                                  'id': 'aZoZkqDXXolrR',\n",
       "                                                  'io': 0,\n",
       "                                                  'message_received_time': '1588255362.529078',\n",
       "                                                  'runtime': 0,\n",
       "                                                  'start_time': None,\n",
       "                                                  'status': 'SUBMITTED',\n",
       "                                                  'tenant': 'DEV-DEVELOP',\n",
       "                                                  'worker_id': None}},\n",
       "  '_id': 'DEV-DEVELOP_aV0AkxQbKRvkb'},\n",
       " {'DEV-DEVELOP_aV06EjpzyxobA': {'8JlgrBlNAJWz1': {'actor_id': 'DEV-DEVELOP_aV06EjpzyxobA',\n",
       "                                                  'api_server': 'https://dev.tenants.aloedev.tacc.cloud',\n",
       "                                                  'cpu': 444434624,\n",
       "                                                  'executor': 'Abaco Event',\n",
       "                                                  'exit_code': 0,\n",
       "                                                  'final_state': {'Dead': False,\n",
       "                                                                  'Error': '',\n",
       "                                                                  'ExitCode': 0,\n",
       "                                                                  'FinishedAt': '2020-04-30T14:02:47.359243Z',\n",
       "                                                                  'OOMKilled': False,\n",
       "                                                                  'Paused': False,\n",
       "                                                                  'Pid': 0,\n",
       "                                                                  'Restarting': False,\n",
       "                                                                  'Running': False,\n",
       "                                                                  'StartedAt': '2020-04-30T14:02:45.3569491Z',\n",
       "                                                                  'Status': 'exited'},\n",
       "                                                  'id': '8JlgrBlNAJWz1',\n",
       "                                                  'io': 716,\n",
       "                                                  'message_received_time': '1588255364.66931',\n",
       "                                                  'runtime': 2,\n",
       "                                                  'start_time': '1588255364.943229',\n",
       "                                                  'status': 'COMPLETE',\n",
       "                                                  'tenant': 'DEV-DEVELOP',\n",
       "                                                  'worker_id': '1GWB0regaw6qN'},\n",
       "                                'jRa03GLqweXRx': {'actor_id': 'DEV-DEVELOP_aV06EjpzyxobA',\n",
       "                                                  'api_server': 'https://dev.tenants.aloedev.tacc.cloud',\n",
       "                                                  'cpu': 0,\n",
       "                                                  'executor': 'Abaco Event',\n",
       "                                                  'exit_code': None,\n",
       "                                                  'final_state': None,\n",
       "                                                  'id': 'jRa03GLqweXRx',\n",
       "                                                  'io': 0,\n",
       "                                                  'message_received_time': '1588255373.258668',\n",
       "                                                  'runtime': 0,\n",
       "                                                  'start_time': None,\n",
       "                                                  'status': 'SUBMITTED',\n",
       "                                                  'tenant': 'DEV-DEVELOP',\n",
       "                                                  'worker_id': None}},\n",
       "  '_id': 'DEV-DEVELOP_aV06EjpzyxobA'},\n",
       " {'DEV-DEVELOP_jjvDmEBp3N3rx': {'1ZQVlJoKm3llN': {'actor_id': 'DEV-DEVELOP_jjvDmEBp3N3rx',\n",
       "                                                  'api_server': 'https://dev.tenants.aloedev.tacc.cloud',\n",
       "                                                  'cpu': 0,\n",
       "                                                  'executor': 'Abaco Event',\n",
       "                                                  'exit_code': None,\n",
       "                                                  'final_state': None,\n",
       "                                                  'id': '1ZQVlJoKm3llN',\n",
       "                                                  'io': 0,\n",
       "                                                  'message_received_time': '1588255366.909114',\n",
       "                                                  'runtime': 0,\n",
       "                                                  'start_time': None,\n",
       "                                                  'status': 'SUBMITTED',\n",
       "                                                  'tenant': 'DEV-DEVELOP',\n",
       "                                                  'worker_id': None}},\n",
       "  '_id': 'DEV-DEVELOP_jjvDmEBp3N3rx'},\n",
       " {'DEV-DEVELOP_1GWy6MgZ1Ka8v': {}, '_id': 'DEV-DEVELOP_1GWy6MgZ1Ka8v'},\n",
       " {'DEV-DEVELOP_jjv47xj1DG4JQ': {}, '_id': 'DEV-DEVELOP_jjv47xj1DG4JQ'}]"
      ]
     },
     "execution_count": 7,
     "metadata": {},
     "output_type": "execute_result"
    }
   ],
   "source": [
    "test2"
   ]
  },
  {
   "cell_type": "code",
   "execution_count": 14,
   "metadata": {},
   "outputs": [],
   "source": [
    "cat = {'dog':'2'}"
   ]
  },
  {
   "cell_type": "code",
   "execution_count": 16,
   "metadata": {},
   "outputs": [],
   "source": [
    "if cat.get('dogd'):\n",
    "    print('hey')"
   ]
  },
  {
   "cell_type": "code",
   "execution_count": 13,
   "metadata": {},
   "outputs": [
    {
     "ename": "TypeError",
     "evalue": "argument of type 'NoneType' is not iterable",
     "output_type": "error",
     "traceback": [
      "\u001b[0;31m---------------------------------------------------------------------------\u001b[0m",
      "\u001b[0;31mTypeError\u001b[0m                                 Traceback (most recent call last)",
      "\u001b[0;32m<ipython-input-13-a19032ea4727>\u001b[0m in \u001b[0;36m<module>\u001b[0;34m\u001b[0m\n\u001b[0;32m----> 1\u001b[0;31m \u001b[0;32mif\u001b[0m \u001b[0;34m'final_state'\u001b[0m \u001b[0;32min\u001b[0m \u001b[0;32mNone\u001b[0m\u001b[0;34m:\u001b[0m\u001b[0;34m\u001b[0m\u001b[0;34m\u001b[0m\u001b[0m\n\u001b[0m\u001b[1;32m      2\u001b[0m     \u001b[0mprint\u001b[0m\u001b[0;34m(\u001b[0m\u001b[0;34m'he'\u001b[0m\u001b[0;34m)\u001b[0m\u001b[0;34m\u001b[0m\u001b[0;34m\u001b[0m\u001b[0m\n",
      "\u001b[0;31mTypeError\u001b[0m: argument of type 'NoneType' is not iterable"
     ]
    }
   ],
   "source": [
    "if 'final_state' in None:\n",
    "    print('he')"
   ]
  },
  {
   "cell_type": "code",
   "execution_count": 11,
   "metadata": {},
   "outputs": [
    {
     "data": {
      "text/plain": [
       "datetime.datetime(2020, 4, 29, 16, 0, 9, 81000)"
      ]
     },
     "execution_count": 11,
     "metadata": {},
     "output_type": "execute_result"
    }
   ],
   "source": [
    "test2['DEV-DEVELOP_BeJe6eZJ1OpLK_jzwbRzkDMrK0w']['final_state']['StartedAt']"
   ]
  },
  {
   "cell_type": "code",
   "execution_count": null,
   "metadata": {},
   "outputs": [],
   "source": []
  },
  {
   "cell_type": "code",
   "execution_count": 42,
   "metadata": {},
   "outputs": [],
   "source": [
    "import pytz"
   ]
  },
  {
   "cell_type": "code",
   "execution_count": 43,
   "metadata": {},
   "outputs": [],
   "source": [
    "AUS_time = pytz.timezone(\"America/Chicago\")"
   ]
  },
  {
   "cell_type": "code",
   "execution_count": 52,
   "metadata": {},
   "outputs": [
    {
     "data": {
      "text/plain": [
       "datetime.datetime(2020, 4, 28, 14, 3, 31, 971116)"
      ]
     },
     "execution_count": 52,
     "metadata": {},
     "output_type": "execute_result"
    }
   ],
   "source": [
    "datetime.utcnow()"
   ]
  },
  {
   "cell_type": "code",
   "execution_count": 32,
   "metadata": {},
   "outputs": [
    {
     "data": {
      "text/plain": [
       "datetime.time(13, 35, 1, 524000)"
      ]
     },
     "execution_count": 32,
     "metadata": {},
     "output_type": "execute_result"
    }
   ],
   "source": [
    "time.time()"
   ]
  },
  {
   "cell_type": "code",
   "execution_count": 38,
   "metadata": {},
   "outputs": [],
   "source": [
    "assert type(time) == datetime"
   ]
  },
  {
   "cell_type": "code",
   "execution_count": 58,
   "metadata": {},
   "outputs": [
    {
     "data": {
      "text/plain": [
       "True"
      ]
     },
     "execution_count": 58,
     "metadata": {},
     "output_type": "execute_result"
    }
   ],
   "source": [
    "time3 < datetime.utcnow()"
   ]
  },
  {
   "cell_type": "code",
   "execution_count": 62,
   "metadata": {},
   "outputs": [
    {
     "ename": "KeyError",
     "evalue": "\"'_id' of 'DEV-DEVELOP_ak8VX8xAkJMPl_XPBQz6QAybvD' not found\"",
     "output_type": "error",
     "traceback": [
      "\u001b[0;31m---------------------------------------------------------------------------\u001b[0m",
      "\u001b[0;31mKeyError\u001b[0m                                  Traceback (most recent call last)",
      "\u001b[0;32m<ipython-input-62-16e90defa832>\u001b[0m in \u001b[0;36m<module>\u001b[0;34m\u001b[0m\n\u001b[0;32m----> 1\u001b[0;31m \u001b[0mtime3\u001b[0m \u001b[0;34m=\u001b[0m \u001b[0mtest2\u001b[0m\u001b[0;34m[\u001b[0m\u001b[0;34m'DEV-DEVELOP_ak8VX8xAkJMPl_XPBQz6QAybvD'\u001b[0m\u001b[0;34m,\u001b[0m \u001b[0;34m'message_received_time'\u001b[0m\u001b[0;34m]\u001b[0m\u001b[0;34m\u001b[0m\u001b[0;34m\u001b[0m\u001b[0m\n\u001b[0m\u001b[1;32m      2\u001b[0m \u001b[0mprint\u001b[0m\u001b[0;34m(\u001b[0m\u001b[0mtime3\u001b[0m\u001b[0;34m)\u001b[0m\u001b[0;34m\u001b[0m\u001b[0;34m\u001b[0m\u001b[0m\n\u001b[1;32m      3\u001b[0m \u001b[0mtime3\u001b[0m \u001b[0;34m=\u001b[0m \u001b[0mtime3\u001b[0m \u001b[0;34m+\u001b[0m \u001b[0mtimedelta\u001b[0m\u001b[0;34m(\u001b[0m\u001b[0mseconds\u001b[0m\u001b[0;34m=\u001b[0m\u001b[0;36m5\u001b[0m\u001b[0;34m)\u001b[0m\u001b[0;34m\u001b[0m\u001b[0;34m\u001b[0m\u001b[0m\n\u001b[1;32m      4\u001b[0m \u001b[0mprint\u001b[0m\u001b[0;34m(\u001b[0m\u001b[0mtime3\u001b[0m\u001b[0;34m)\u001b[0m\u001b[0;34m\u001b[0m\u001b[0;34m\u001b[0m\u001b[0m\n",
      "\u001b[0;32m<ipython-input-7-f4ddfc4a79f0>\u001b[0m in \u001b[0;36m__getitem__\u001b[0;34m(self, fields)\u001b[0m\n\u001b[1;32m     15\u001b[0m             projection={'_id': False})\n\u001b[1;32m     16\u001b[0m         \u001b[0;32mif\u001b[0m \u001b[0mresult\u001b[0m \u001b[0;34m==\u001b[0m \u001b[0;32mNone\u001b[0m\u001b[0;34m:\u001b[0m\u001b[0;34m\u001b[0m\u001b[0;34m\u001b[0m\u001b[0m\n\u001b[0;32m---> 17\u001b[0;31m             \u001b[0;32mraise\u001b[0m \u001b[0mKeyError\u001b[0m\u001b[0;34m(\u001b[0m\u001b[0;34mf\"'_id' of '{key}' not found\"\u001b[0m\u001b[0;34m)\u001b[0m\u001b[0;34m\u001b[0m\u001b[0;34m\u001b[0m\u001b[0m\n\u001b[0m\u001b[1;32m     18\u001b[0m         \u001b[0;32mtry\u001b[0m\u001b[0;34m:\u001b[0m\u001b[0;34m\u001b[0m\u001b[0;34m\u001b[0m\u001b[0m\n\u001b[1;32m     19\u001b[0m             \u001b[0;32mreturn\u001b[0m \u001b[0meval\u001b[0m\u001b[0;34m(\u001b[0m\u001b[0;34m'result'\u001b[0m \u001b[0;34m+\u001b[0m \u001b[0msubscripts\u001b[0m\u001b[0;34m)\u001b[0m\u001b[0;34m\u001b[0m\u001b[0;34m\u001b[0m\u001b[0m\n",
      "\u001b[0;31mKeyError\u001b[0m: \"'_id' of 'DEV-DEVELOP_ak8VX8xAkJMPl_XPBQz6QAybvD' not found\""
     ]
    }
   ],
   "source": [
    "time3 = test2['DEV-DEVELOP_ak8VX8xAkJMPl_XPBQz6QAybvD', 'message_received_time']\n",
    "print(time3)\n",
    "time3 = time3 + timedelta(seconds=5)\n",
    "print(time3)"
   ]
  },
  {
   "cell_type": "code",
   "execution_count": 63,
   "metadata": {},
   "outputs": [
    {
     "data": {
      "text/plain": [
       "'2020-04-28T13:34:43.524000'"
      ]
     },
     "execution_count": 63,
     "metadata": {},
     "output_type": "execute_result"
    }
   ],
   "source": [
    "time3.isoformat()"
   ]
  },
  {
   "cell_type": "code",
   "execution_count": 57,
   "metadata": {},
   "outputs": [
    {
     "data": {
      "text/plain": [
       "[{'_id': 'DEV-DEVELOP_ak8VX8xAkJMPl_XPBQz6QAybvD',\n",
       "  'actor_id': 'DEV-DEVELOP_ak8VX8xAkJMPl',\n",
       "  'api_server': 'https://dev.tenants.aloedev.tacc.cloud',\n",
       "  'cpu': 0,\n",
       "  'executor': 'testuser',\n",
       "  'exit_code': None,\n",
       "  'final_state': None,\n",
       "  'id': 'XPBQz6QAybvD',\n",
       "  'io': 0,\n",
       "  'message_received_time': datetime.datetime(2020, 4, 28, 13, 34, 38, 524000),\n",
       "  'runtime': 0,\n",
       "  'start_time': None,\n",
       "  'status': 'RUNNING',\n",
       "  'tenant': 'DEV-DEVELOP',\n",
       "  'worker_id': 'KKkJZgyYo08Nw'}]"
      ]
     },
     "execution_count": 57,
     "metadata": {},
     "output_type": "execute_result"
    }
   ],
   "source": [
    "list(db['3'].find({}))"
   ]
  },
  {
   "cell_type": "markdown",
   "metadata": {},
   "source": [
    "## NEW STUFF"
   ]
  },
  {
   "cell_type": "code",
   "execution_count": 24,
   "metadata": {},
   "outputs": [
    {
     "data": {
      "text/plain": [
       "<pymongo.results.UpdateResult at 0x7fa532b83f08>"
      ]
     },
     "execution_count": 24,
     "metadata": {},
     "output_type": "execute_result"
    }
   ],
   "source": [
    "test2.full_update({'_id': 'stats'},\n",
    "                  {'$inc': {'actor_total': 1}})"
   ]
  },
  {
   "cell_type": "code",
   "execution_count": 15,
   "metadata": {},
   "outputs": [],
   "source": [
    "car = {'dog':1, 'dsad':'2'}"
   ]
  },
  {
   "cell_type": "code",
   "execution_count": 13,
   "metadata": {},
   "outputs": [],
   "source": [
    "if '1' in car:\n",
    "    print('hey')"
   ]
  },
  {
   "cell_type": "code",
   "execution_count": 8,
   "metadata": {},
   "outputs": [],
   "source": [
    "car = {'hey':{'1':'1'}, 'hey2':{'2':'2'}}"
   ]
  },
  {
   "cell_type": "code",
   "execution_count": 11,
   "metadata": {},
   "outputs": [
    {
     "data": {
      "text/plain": [
       "('hey2', {'2': '2'})"
      ]
     },
     "execution_count": 11,
     "metadata": {},
     "output_type": "execute_result"
    }
   ],
   "source": [
    "car.popitem()"
   ]
  },
  {
   "cell_type": "code",
   "execution_count": 12,
   "metadata": {},
   "outputs": [],
   "source": [
    "car = [{'1':'1'}, {'2':'2'}]"
   ]
  },
  {
   "cell_type": "code",
   "execution_count": 17,
   "metadata": {},
   "outputs": [],
   "source": [
    "if not ['dsa']:\n",
    "    print('hey')"
   ]
  },
  {
   "cell_type": "code",
   "execution_count": 31,
   "metadata": {},
   "outputs": [
    {
     "name": "stdout",
     "output_type": "stream",
     "text": [
      "{'1': '1'}\n",
      "{'2': '2'}\n"
     ]
    }
   ],
   "source": [
    "for dd in car.values():\n",
    "    print(dd)"
   ]
  },
  {
   "cell_type": "code",
   "execution_count": 22,
   "metadata": {},
   "outputs": [
    {
     "ename": "KeyError",
     "evalue": "\"'_id' of 'DEV-DEVELOP_1YYx66mz4NNrm_jmm6PXAqB1Mpw' not found\"",
     "output_type": "error",
     "traceback": [
      "\u001b[0;31m---------------------------------------------------------------------------\u001b[0m",
      "\u001b[0;31mKeyError\u001b[0m                                  Traceback (most recent call last)",
      "\u001b[0;32m<ipython-input-22-b16f55887833>\u001b[0m in \u001b[0;36m<module>\u001b[0;34m\u001b[0m\n\u001b[0;32m----> 1\u001b[0;31m \u001b[0mtest2\u001b[0m\u001b[0;34m[\u001b[0m\u001b[0;34m'DEV-DEVELOP_1YYx66mz4NNrm_jmm6PXAqB1Mpw'\u001b[0m\u001b[0;34m]\u001b[0m\u001b[0;34m\u001b[0m\u001b[0;34m\u001b[0m\u001b[0m\n\u001b[0m",
      "\u001b[0;32m<ipython-input-3-5e66b7cddff2>\u001b[0m in \u001b[0;36m__getitem__\u001b[0;34m(self, fields)\u001b[0m\n\u001b[1;32m     15\u001b[0m             projection={'_id': False})\n\u001b[1;32m     16\u001b[0m         \u001b[0;32mif\u001b[0m \u001b[0mresult\u001b[0m \u001b[0;34m==\u001b[0m \u001b[0;32mNone\u001b[0m\u001b[0;34m:\u001b[0m\u001b[0;34m\u001b[0m\u001b[0;34m\u001b[0m\u001b[0m\n\u001b[0;32m---> 17\u001b[0;31m             \u001b[0;32mraise\u001b[0m \u001b[0mKeyError\u001b[0m\u001b[0;34m(\u001b[0m\u001b[0;34mf\"'_id' of '{key}' not found\"\u001b[0m\u001b[0;34m)\u001b[0m\u001b[0;34m\u001b[0m\u001b[0;34m\u001b[0m\u001b[0m\n\u001b[0m\u001b[1;32m     18\u001b[0m         \u001b[0;32mtry\u001b[0m\u001b[0;34m:\u001b[0m\u001b[0;34m\u001b[0m\u001b[0;34m\u001b[0m\u001b[0m\n\u001b[1;32m     19\u001b[0m             \u001b[0;32mreturn\u001b[0m \u001b[0meval\u001b[0m\u001b[0;34m(\u001b[0m\u001b[0;34m'result'\u001b[0m \u001b[0;34m+\u001b[0m \u001b[0msubscripts\u001b[0m\u001b[0;34m)\u001b[0m\u001b[0;34m\u001b[0m\u001b[0;34m\u001b[0m\u001b[0m\n",
      "\u001b[0;31mKeyError\u001b[0m: \"'_id' of 'DEV-DEVELOP_1YYx66mz4NNrm_jmm6PXAqB1Mpw' not found\""
     ]
    }
   ],
   "source": [
    "test2['DEV-DEVELOP_1YYx66mz4NNrm_jmm6PXAqB1Mpw']"
   ]
  },
  {
   "cell_type": "code",
   "execution_count": null,
   "metadata": {},
   "outputs": [],
   "source": []
  },
  {
   "cell_type": "code",
   "execution_count": null,
   "metadata": {},
   "outputs": [],
   "source": []
  },
  {
   "cell_type": "code",
   "execution_count": 23,
   "metadata": {},
   "outputs": [
    {
     "ename": "AttributeError",
     "evalue": "'dict' object has no attribute 'add'",
     "output_type": "error",
     "traceback": [
      "\u001b[0;31m---------------------------------------------------------------------------\u001b[0m",
      "\u001b[0;31mAttributeError\u001b[0m                            Traceback (most recent call last)",
      "\u001b[0;32m<ipython-input-23-e041ae7282a6>\u001b[0m in \u001b[0;36m<module>\u001b[0;34m\u001b[0m\n\u001b[0;32m----> 1\u001b[0;31m \u001b[0mcar\u001b[0m\u001b[0;34m.\u001b[0m\u001b[0madd\u001b[0m\u001b[0;34m(\u001b[0m\u001b[0;34m{\u001b[0m\u001b[0;34m'hey'\u001b[0m\u001b[0;34m:\u001b[0m\u001b[0;34m'3'\u001b[0m\u001b[0;34m}\u001b[0m\u001b[0;34m)\u001b[0m\u001b[0;34m\u001b[0m\u001b[0;34m\u001b[0m\u001b[0m\n\u001b[0m",
      "\u001b[0;31mAttributeError\u001b[0m: 'dict' object has no attribute 'add'"
     ]
    }
   ],
   "source": [
    "car.add({'hey':'3'})"
   ]
  },
  {
   "cell_type": "code",
   "execution_count": 20,
   "metadata": {},
   "outputs": [
    {
     "ename": "SyntaxError",
     "evalue": "'break' outside loop (<ipython-input-20-7f1cecc07a05>, line 8)",
     "output_type": "error",
     "traceback": [
      "\u001b[0;36m  File \u001b[0;32m\"<ipython-input-20-7f1cecc07a05>\"\u001b[0;36m, line \u001b[0;32m8\u001b[0m\n\u001b[0;31m    print('2')\u001b[0m\n\u001b[0m              \n^\u001b[0m\n\u001b[0;31mSyntaxError\u001b[0m\u001b[0;31m:\u001b[0m 'break' outside loop\n"
     ]
    }
   ],
   "source": [
    "if 'dog' in car:\n",
    "    try:\n",
    "        car['dsdddd']\n",
    "    except KeyError:\n",
    "        contimu\n",
    "    print('1')\n",
    "    \n",
    "print('2')"
   ]
  },
  {
   "cell_type": "code",
   "execution_count": 7,
   "metadata": {},
   "outputs": [
    {
     "data": {
      "text/plain": [
       "[{'actor_id': 'DEV-DEVELOP_4lx804R0GJyb',\n",
       "  'id': '7KPGM6E0PjGY',\n",
       "  'status': 'READY',\n",
       "  'tenant': 'DEV-DEVELOP',\n",
       "  'ch_name': 'worker_7KPGM6E0PjGY',\n",
       "  'cid': '911dd33b4cb8f6fdf361a72439692d71accaf18953fb7fdabbb0b74eb51dbfc9',\n",
       "  'create_time': '1586185087.076951',\n",
       "  'host_id': '0',\n",
       "  'host_ip': '172.17.0.1',\n",
       "  'image': 'jstubbs/abaco_test',\n",
       "  'last_execution_time': 0,\n",
       "  'last_health_check_time': '1586185087.073098',\n",
       "  'location': 'unix://var/run/docker.sock'},\n",
       " {'actor_id': 'DEV-DEVELOP_amA61zqaa58z',\n",
       "  'id': '80x7NMy5oBQm',\n",
       "  'status': 'READY',\n",
       "  'tenant': 'DEV-DEVELOP',\n",
       "  'ch_name': 'worker_80x7NMy5oBQm',\n",
       "  'cid': 'edc7c8a2fda01d2f99b7b4c2b6dbd713e9c7d6aa93fc7c11968a9300fe86f499',\n",
       "  'create_time': '1586185089.174073',\n",
       "  'host_id': '0',\n",
       "  'host_ip': '172.17.0.1',\n",
       "  'image': 'jstubbs/abaco_test',\n",
       "  'last_execution_time': 0,\n",
       "  'last_health_check_time': '1586185089.169984',\n",
       "  'location': 'unix://var/run/docker.sock'},\n",
       " {'actor_id': 'DEV-DEVELOP_jbEoD5DjywRK',\n",
       "  'id': 'Ab8NWaoYeGRr',\n",
       "  'status': 'READY',\n",
       "  'tenant': 'DEV-DEVELOP',\n",
       "  'ch_name': 'worker_Ab8NWaoYeGRr',\n",
       "  'cid': '4682295b38769a8e72b46fde0fbf2fd8c93194496cbe6aa41cbda9379053d752',\n",
       "  'create_time': '1586185090.944901',\n",
       "  'host_id': '0',\n",
       "  'host_ip': '172.17.0.1',\n",
       "  'image': 'abacosamples/wc',\n",
       "  'last_execution_time': 0,\n",
       "  'last_health_check_time': '1586185090.941112',\n",
       "  'location': 'unix://var/run/docker.sock'},\n",
       " {'actor_id': 'DEV-DEVELOP_KeMgvAjqeVrl',\n",
       "  'id': 'bZKGy0yYKDZq',\n",
       "  'status': 'READY',\n",
       "  'tenant': 'DEV-DEVELOP',\n",
       "  'ch_name': 'worker_bZKGy0yYKDZq',\n",
       "  'cid': '7fa87c4788c117c8e3c277b99387650c78536c8291391f4411c01d7f48e9c5cf',\n",
       "  'create_time': '1586185093.201976',\n",
       "  'host_id': '0',\n",
       "  'host_ip': '172.17.0.1',\n",
       "  'image': 'abacosamples/test',\n",
       "  'last_execution_time': '1586185111.672238',\n",
       "  'last_health_check_time': '1586185093.197911',\n",
       "  'location': 'unix://var/run/docker.sock'},\n",
       " {'actor_id': 'DEV-DEVELOP_7KxGjrWAKw7k',\n",
       "  'id': '805w8B8EbNom',\n",
       "  'status': 'READY',\n",
       "  'tenant': 'DEV-DEVELOP',\n",
       "  'ch_name': 'worker_805w8B8EbNom',\n",
       "  'cid': '4fe741d9bee7965a6d386bffd9ca915e6445b758f6d5cc3a859cb694e1932328',\n",
       "  'create_time': '1586185095.367744',\n",
       "  'host_id': '0',\n",
       "  'host_ip': '172.17.0.1',\n",
       "  'image': 'abacosamples/py3_func',\n",
       "  'last_execution_time': '1586185116.618377',\n",
       "  'last_health_check_time': '1586185095.364595',\n",
       "  'location': 'unix://var/run/docker.sock'},\n",
       " {'actor_id': 'DEV-DEVELOP_BLNAGJjQMByG',\n",
       "  'id': '8myqBvgeWKMO',\n",
       "  'status': 'READY',\n",
       "  'tenant': 'DEV-DEVELOP',\n",
       "  'ch_name': 'worker_8myqBvgeWKMO',\n",
       "  'cid': 'd32bfac4b549a843ee31665fbe53c0f1f7ba3a6237a39ca3ab94489b559045bf',\n",
       "  'create_time': '1586185097.485322',\n",
       "  'host_id': '0',\n",
       "  'host_ip': '172.17.0.1',\n",
       "  'image': 'abacosamples/test',\n",
       "  'last_execution_time': 0,\n",
       "  'last_health_check_time': '1586185097.480747',\n",
       "  'location': 'unix://var/run/docker.sock'},\n",
       " {'actor_id': 'DEV-DEVELOP_8mOAArl0zqmx',\n",
       "  'id': 'BLe3KYl4MVq8',\n",
       "  'status': 'READY',\n",
       "  'tenant': 'DEV-DEVELOP',\n",
       "  'ch_name': 'worker_BLe3KYl4MVq8',\n",
       "  'cid': '10bb331da0d58b9aba476407759ecad8864f4c18a6a2db6750c56d1e89293a0b',\n",
       "  'create_time': '1586185099.299551',\n",
       "  'host_id': '0',\n",
       "  'host_ip': '172.17.0.1',\n",
       "  'image': 'abacosamples/sleep_loop',\n",
       "  'last_execution_time': '1586185131.140471',\n",
       "  'last_health_check_time': '1586185099.295989',\n",
       "  'location': 'unix://var/run/docker.sock'},\n",
       " {'actor_id': 'DEV-DEVELOP_K7mbZDP1ByXK',\n",
       "  'id': 'KW7K1pNyk038',\n",
       "  'status': 'READY',\n",
       "  'tenant': 'DEV-DEVELOP',\n",
       "  'ch_name': 'worker_KW7K1pNyk038',\n",
       "  'cid': 'b3dfb760a41214bffbe9d288a0c6bb044efd940b4231b237b4d4562488a97f9f',\n",
       "  'create_time': '1586185104.477767',\n",
       "  'host_id': '0',\n",
       "  'host_ip': '172.17.0.1',\n",
       "  'image': 'jstubbs/abaco_test',\n",
       "  'last_execution_time': '1586185134.576846',\n",
       "  'last_health_check_time': '1586185104.476228',\n",
       "  'location': 'unix://var/run/docker.sock'},\n",
       " {'actor_id': 'DEV-DEVELOP_KeMgvAjqeVrl',\n",
       "  'id': 'bVmgjk4ybLrvw',\n",
       "  'status': 'READY',\n",
       "  'tenant': 'DEV-DEVELOP',\n",
       "  'ch_name': 'worker_bVmgjk4ybLrvw',\n",
       "  'cid': '1b5adaec26147b1f13ae6adac05fe37ce0259e81d2853af82ddb18a3c20dee73',\n",
       "  'create_time': '1586185110.737212',\n",
       "  'host_id': '0',\n",
       "  'host_ip': '172.17.0.1',\n",
       "  'image': 'abacosamples/test',\n",
       "  'last_execution_time': 0,\n",
       "  'last_health_check_time': '1586185110.73599',\n",
       "  'location': 'unix://var/run/docker.sock'},\n",
       " {'actor_id': 'DEV-DEVELOP_7KxGjrWAKw7k',\n",
       "  'id': '8rKkWE4v1vYOx',\n",
       "  'status': 'READY',\n",
       "  'tenant': 'DEV-DEVELOP',\n",
       "  'ch_name': 'worker_8rKkWE4v1vYOx',\n",
       "  'cid': '1c435d4160da8c61159e863ae3d9617cc01386cabe38fa4c8dbf37bbfecbe384',\n",
       "  'create_time': '1586185117.039523',\n",
       "  'host_id': '0',\n",
       "  'host_ip': '172.17.0.1',\n",
       "  'image': 'abacosamples/py3_func',\n",
       "  'last_execution_time': 0,\n",
       "  'last_health_check_time': '1586185117.038225',\n",
       "  'location': 'unix://var/run/docker.sock'},\n",
       " {'actor_id': 'DEV-DEVELOP_8mOAArl0zqmx',\n",
       "  'id': 'AMNYGz4AGKNYy',\n",
       "  'status': 'READY',\n",
       "  'tenant': 'DEV-DEVELOP',\n",
       "  'ch_name': 'worker_AMNYGz4AGKNYy',\n",
       "  'cid': 'dcdf307f7dedd4e5538f8be4040c2133387bef1dc24b5602b601ddd69e666a14',\n",
       "  'create_time': '1586185119.753429',\n",
       "  'host_id': '0',\n",
       "  'host_ip': '172.17.0.1',\n",
       "  'image': 'abacosamples/sleep_loop',\n",
       "  'last_execution_time': 0,\n",
       "  'last_health_check_time': '1586185119.75218',\n",
       "  'location': 'unix://var/run/docker.sock'},\n",
       " {'actor_id': 'DEV-DEVELOP_K7mbZDP1ByXK',\n",
       "  'id': '77jKekye8OpYb',\n",
       "  'status': 'READY',\n",
       "  'tenant': 'DEV-DEVELOP',\n",
       "  'ch_name': 'worker_77jKekye8OpYb',\n",
       "  'cid': '572e4ae580837a58efb312fb7d324d4b2e752eb0cc992895d58fef495dd8fbb8',\n",
       "  'create_time': '1586185133.583788',\n",
       "  'host_id': '0',\n",
       "  'host_ip': '172.17.0.1',\n",
       "  'image': 'jstubbs/abaco_test',\n",
       "  'last_execution_time': '1586185146.036357',\n",
       "  'last_health_check_time': '1586185133.582524',\n",
       "  'location': 'unix://var/run/docker.sock'},\n",
       " {'actor_id': 'DEV-DEVELOP_K7mbZDP1ByXK',\n",
       "  'id': 'bbXmjVr3LAlJw',\n",
       "  'status': 'READY',\n",
       "  'tenant': 'DEV-DEVELOP',\n",
       "  'ch_name': 'worker_bbXmjVr3LAlJw',\n",
       "  'cid': '08c03f23ab262f20d2c59055ad0e3899bb4d1d6fed3d6b35e33f279bcd8d6285',\n",
       "  'create_time': '1586185140.170025',\n",
       "  'host_id': '0',\n",
       "  'host_ip': '172.17.0.1',\n",
       "  'image': 'jstubbs/abaco_test',\n",
       "  'last_execution_time': 0,\n",
       "  'last_health_check_time': '1586185140.168828',\n",
       "  'location': 'unix://var/run/docker.sock'},\n",
       " {'actor_id': 'DEV-DEVELOP_K7mbZDP1ByXK',\n",
       "  'id': 'bbYRNqexKWKbJ',\n",
       "  'status': 'READY',\n",
       "  'tenant': 'DEV-DEVELOP',\n",
       "  'ch_name': 'worker_bbYRNqexKWKbJ',\n",
       "  'cid': 'bc4bf4940ff9838c328b8edb9eded0e2045c0dc15d93950ed70026aee06a0a50',\n",
       "  'create_time': '1586185143.360397',\n",
       "  'host_id': '0',\n",
       "  'host_ip': '172.17.0.1',\n",
       "  'image': 'jstubbs/abaco_test2',\n",
       "  'last_execution_time': 0,\n",
       "  'last_health_check_time': '1586185143.356711',\n",
       "  'location': 'unix://var/run/docker.sock'},\n",
       " {'actor_id': 'DEV-DEVELOP_jMqprY3mkzjao',\n",
       "  'id': '1kOqgJ8bQevlv',\n",
       "  'status': 'REQUESTED',\n",
       "  'tenant': 'DEV-DEVELOP'},\n",
       " {'actor_id': 'DEV-DEVELOP_K7mbZDP1ByXK',\n",
       "  'id': '4Qj6xAJ7oLazJ',\n",
       "  'status': 'READY',\n",
       "  'tenant': 'DEV-DEVELOP',\n",
       "  'ch_name': 'worker_4Qj6xAJ7oLazJ',\n",
       "  'cid': '834d574b3bbbaddda4d6f98b123ab2da1c7624be1569b7009cd9a2dfc23dc024',\n",
       "  'create_time': '1586185145.31691',\n",
       "  'host_id': '0',\n",
       "  'host_ip': '172.17.0.1',\n",
       "  'image': 'jstubbs/abaco_test2',\n",
       "  'last_execution_time': 0,\n",
       "  'last_health_check_time': '1586185145.315666',\n",
       "  'location': 'unix://var/run/docker.sock'},\n",
       " {'actor_id': 'AGAVE-PROD_76MMzKrOjN6M1',\n",
       "  'id': '4QMMkJQ6LJBL3',\n",
       "  'status': 'READY',\n",
       "  'tenant': 'AGAVE-PROD',\n",
       "  'ch_name': 'worker_4QMMkJQ6LJBL3',\n",
       "  'cid': 'bd7aeda0cc04555cc2d8ce909552834459ba987af87745184651a893e31a31f0',\n",
       "  'create_time': '1586185150.009337',\n",
       "  'host_id': '0',\n",
       "  'host_ip': '172.17.0.1',\n",
       "  'image': 'jstubbs/abaco_test',\n",
       "  'last_execution_time': 0,\n",
       "  'last_health_check_time': '1586185150.003911',\n",
       "  'location': 'unix://var/run/docker.sock'},\n",
       " {'actor_id': 'AGAVE-PROD_Kr05omx3W6bqr',\n",
       "  'id': 'Kr05LBx1Wmza8',\n",
       "  'status': 'READY',\n",
       "  'tenant': 'AGAVE-PROD',\n",
       "  'ch_name': 'worker_Kr05LBx1Wmza8',\n",
       "  'cid': '6b1ccfa8c0a7926cde8e8f9c5851f9827f0ea277a8b2b8e83eca518c50633ac5',\n",
       "  'create_time': '1586185152.167655',\n",
       "  'host_id': '0',\n",
       "  'host_ip': '172.17.0.1',\n",
       "  'image': 'jstubbs/abaco_test',\n",
       "  'last_execution_time': 0,\n",
       "  'last_health_check_time': '1586185152.16372',\n",
       "  'location': 'unix://var/run/docker.sock'},\n",
       " {'actor_id': 'AGAVE-PROD_bb0wkYalRw7l5',\n",
       "  'id': '76M3QEqgxALRm',\n",
       "  'status': 'READY',\n",
       "  'tenant': 'AGAVE-PROD',\n",
       "  'ch_name': 'worker_76M3QEqgxALRm',\n",
       "  'cid': '143de99113c75f1683278b2cf3047a36ac4eaff05b797ffa80ca5fa0c76f0b1f',\n",
       "  'create_time': '1586185154.477328',\n",
       "  'host_id': '0',\n",
       "  'host_ip': '172.17.0.1',\n",
       "  'image': 'jstubbs/abaco_test',\n",
       "  'last_execution_time': 0,\n",
       "  'last_health_check_time': '1586185154.473878',\n",
       "  'location': 'unix://var/run/docker.sock'},\n",
       " {'actor_id': 'AGAVE-PROD_4QBmNbaKLKWzm',\n",
       "  'id': '1kBm8R574DQaN',\n",
       "  'status': 'READY',\n",
       "  'tenant': 'AGAVE-PROD',\n",
       "  'ch_name': 'worker_1kBm8R574DQaN',\n",
       "  'cid': '2967bb96e4e8c0eb7434c336c6011040166f3e97d5b91089e01715fdaec62543',\n",
       "  'create_time': '1586185156.577415',\n",
       "  'host_id': '0',\n",
       "  'host_ip': '172.17.0.1',\n",
       "  'image': 'jstubbs/abaco_test',\n",
       "  'last_execution_time': 0,\n",
       "  'last_health_check_time': '1586185156.57301',\n",
       "  'location': 'unix://var/run/docker.sock'},\n",
       " {'actor_id': 'DEV-STAGING_1kBap8xx0jKW1',\n",
       "  'id': '76B17kpM3ljRa',\n",
       "  'status': 'READY',\n",
       "  'tenant': 'DEV-STAGING',\n",
       "  'ch_name': 'worker_76B17kpM3ljRa',\n",
       "  'cid': '8c0a69c30dbf58a9ddd373cecf0f7d228c714c46b47aaa53db655a85dda14daf',\n",
       "  'create_time': '1586185160.004512',\n",
       "  'host_id': '0',\n",
       "  'host_ip': '172.17.0.1',\n",
       "  'image': 'jstubbs/abaco_test',\n",
       "  'last_execution_time': 0,\n",
       "  'last_health_check_time': '1586185160.000057',\n",
       "  'location': 'unix://var/run/docker.sock'},\n",
       " {'actor_id': 'DEV-DEVELOP_4Q77rK3OppqxJ',\n",
       "  'id': '76ggVEk7j3bPk',\n",
       "  'status': 'READY',\n",
       "  'tenant': 'DEV-DEVELOP',\n",
       "  'ch_name': 'worker_76ggVEk7j3bPk',\n",
       "  'cid': 'ceb41f8f95440593cab9d6997464fbabdb3f55408172d57c5b757448c75730dd',\n",
       "  'create_time': '1586185162.501988',\n",
       "  'host_id': '0',\n",
       "  'host_ip': '172.17.0.1',\n",
       "  'image': 'jstubbs/abaco_test',\n",
       "  'last_execution_time': '1586185223.001249',\n",
       "  'last_health_check_time': '1586185162.497456',\n",
       "  'location': 'unix://var/run/docker.sock'},\n",
       " {'actor_id': 'DEV-DEVELOP_K1NJDybzLk6ql',\n",
       "  'id': 'AAeGqp5BDE4KL',\n",
       "  'status': 'READY',\n",
       "  'tenant': 'DEV-DEVELOP',\n",
       "  'ch_name': 'worker_AAeGqp5BDE4KL',\n",
       "  'cid': '2d9355be290ef19f4eabe5b1046f225df39d1af0cd5667fe42c2be60ba7669c5',\n",
       "  'create_time': '1586185164.718504',\n",
       "  'host_id': '0',\n",
       "  'host_ip': '172.17.0.1',\n",
       "  'image': 'jstubbs/abaco_test',\n",
       "  'last_execution_time': '1586185176.445282',\n",
       "  'last_health_check_time': '1586185164.65317',\n",
       "  'location': 'unix://var/run/docker.sock'},\n",
       " {'actor_id': 'DEV-DEVELOP_4YrkpgXPVMRmN',\n",
       "  'id': 'K1NvN5YRm6lEZ',\n",
       "  'status': 'READY',\n",
       "  'tenant': 'DEV-DEVELOP',\n",
       "  'ch_name': 'worker_K1NvN5YRm6lEZ',\n",
       "  'cid': 'efb0ba1863a1ad53f25e14fd419f89c2a0b84cd3b5c82dfb523a030c2e39acbf',\n",
       "  'create_time': '1586185166.826928',\n",
       "  'host_id': '0',\n",
       "  'host_ip': '172.17.0.1',\n",
       "  'image': 'jstubbs/abaco_test',\n",
       "  'last_execution_time': '1586185172.58856',\n",
       "  'last_health_check_time': '1586185166.821978',\n",
       "  'location': 'unix://var/run/docker.sock'},\n",
       " {'actor_id': 'DEV-DEVELOP_1GVWbAR5GGpZ6',\n",
       "  'id': 'K1NRrDKz7ZOKl',\n",
       "  'status': 'READY',\n",
       "  'tenant': 'DEV-DEVELOP',\n",
       "  'ch_name': 'worker_K1NRrDKz7ZOKl',\n",
       "  'cid': '2d7831e4b532f0fff195bcc7555901593108a7f54115b7fd0d2b979511749bef',\n",
       "  'create_time': '1586185169.078846',\n",
       "  'host_id': '0',\n",
       "  'host_ip': '172.17.0.1',\n",
       "  'image': 'jstubbs/abaco_test',\n",
       "  'last_execution_time': 0,\n",
       "  'last_health_check_time': '1586185169.01035',\n",
       "  'location': 'unix://var/run/docker.sock'},\n",
       " {'actor_id': 'DEV-DEVELOP_4YrkpgXPVMRmN',\n",
       "  'id': 'BrRN3DNYMEOJj',\n",
       "  'status': 'READY',\n",
       "  'tenant': 'DEV-DEVELOP',\n",
       "  'ch_name': 'worker_BrRN3DNYMEOJj',\n",
       "  'cid': '90284878c73138ad221203969efe897d8b8a127379ab47f5b615564499f9c01a',\n",
       "  'create_time': '1586185171.480214',\n",
       "  'host_id': '0',\n",
       "  'host_ip': '172.17.0.1',\n",
       "  'image': 'jstubbs/abaco_test',\n",
       "  'last_execution_time': 0,\n",
       "  'last_health_check_time': '1586185171.47892',\n",
       "  'location': 'unix://var/run/docker.sock'},\n",
       " {'actor_id': 'DEV-DEVELOP_K1NJDybzLk6ql',\n",
       "  'id': 'K1RJMbMB06mYr',\n",
       "  'status': 'READY',\n",
       "  'tenant': 'DEV-DEVELOP',\n",
       "  'ch_name': 'worker_K1RJMbMB06mYr',\n",
       "  'cid': '99cf159cedef92362814c1ebb0a683ae4a8a457009959ae0e0d3101901b05224',\n",
       "  'create_time': '1586185175.390407',\n",
       "  'host_id': '0',\n",
       "  'host_ip': '172.17.0.1',\n",
       "  'image': 'jstubbs/abaco_test',\n",
       "  'last_execution_time': 0,\n",
       "  'last_health_check_time': '1586185175.389119',\n",
       "  'location': 'unix://var/run/docker.sock'},\n",
       " {'actor_id': 'DEV-DEVELOP_7G41vkrlq1mmb',\n",
       "  'id': 'K1Mx3vWPlemYr',\n",
       "  'status': 'READY',\n",
       "  'tenant': 'DEV-DEVELOP',\n",
       "  'ch_name': 'worker_K1Mx3vWPlemYr',\n",
       "  'cid': 'c701f21e39c871f9a25d23becdf4d814a910570b1a75d0c342c89833609cfa89',\n",
       "  'create_time': '1586185182.539489',\n",
       "  'host_id': '0',\n",
       "  'host_ip': '172.17.0.1',\n",
       "  'image': 'jstubbs/abaco_test',\n",
       "  'last_execution_time': '1586185211.659083',\n",
       "  'last_health_check_time': '1586185182.536322',\n",
       "  'location': 'unix://var/run/docker.sock'},\n",
       " {'actor_id': 'DEV-DEVELOP_4Y4LXa4mqNy1Q',\n",
       "  'id': 'K1M3VjZEgrDEx',\n",
       "  'status': 'READY',\n",
       "  'tenant': 'DEV-DEVELOP',\n",
       "  'ch_name': 'worker_K1M3VjZEgrDEx',\n",
       "  'cid': 'a8654bba21a9d3df8a4af6ba79e434cac0c7fa1cc51cb62b3dee8732fab890a8',\n",
       "  'create_time': '1586185184.899507',\n",
       "  'host_id': '0',\n",
       "  'host_ip': '172.17.0.1',\n",
       "  'image': 'jstubbs/abaco_test',\n",
       "  'last_execution_time': '1586185208.052837',\n",
       "  'last_health_check_time': '1586185184.835085',\n",
       "  'location': 'unix://var/run/docker.sock'},\n",
       " {'actor_id': 'DEV-DEVELOP_K1Mlq3PEAwXR8',\n",
       "  'id': 'jjk5pvqRwQOPx',\n",
       "  'status': 'READY',\n",
       "  'tenant': 'DEV-DEVELOP',\n",
       "  'ch_name': 'worker_jjk5pvqRwQOPx',\n",
       "  'cid': '3e350743d478bc92fa947e3bf3cf685b2b5ab8db14b84acc3fae97ca87b16be8',\n",
       "  'create_time': '1586185187.11495',\n",
       "  'host_id': '0',\n",
       "  'host_ip': '172.17.0.1',\n",
       "  'image': 'jstubbs/abaco_test',\n",
       "  'last_execution_time': '1586185204.404032',\n",
       "  'last_health_check_time': '1586185187.04227',\n",
       "  'location': 'unix://var/run/docker.sock'},\n",
       " {'actor_id': 'DEV-DEVELOP_K1MW3J4joZADJ',\n",
       "  'id': '8l4GP5Z6yEJGm',\n",
       "  'status': 'READY',\n",
       "  'tenant': 'DEV-DEVELOP',\n",
       "  'ch_name': 'worker_8l4GP5Z6yEJGm',\n",
       "  'cid': 'f05faa99c47078b7d514ea04a213040bd400911ba6cbab67339406d5ddf89af2',\n",
       "  'create_time': '1586185189.164611',\n",
       "  'host_id': '0',\n",
       "  'host_ip': '172.17.0.1',\n",
       "  'image': 'jstubbs/abaco_test',\n",
       "  'last_execution_time': '1586185200.533215',\n",
       "  'last_health_check_time': '1586185189.101219',\n",
       "  'location': 'unix://var/run/docker.sock'},\n",
       " {'actor_id': 'DEV-DEVELOP_8laRyk50N1pl1',\n",
       "  'id': '7GQ6Vr4zPygNk',\n",
       "  'status': 'READY',\n",
       "  'tenant': 'DEV-DEVELOP',\n",
       "  'ch_name': 'worker_7GQ6Vr4zPygNk',\n",
       "  'cid': 'b52e14161602a7a7147f85811e2aa5ed68ff4e784a8b1fc3db031badfe41fc03',\n",
       "  'create_time': '1586185191.301927',\n",
       "  'host_id': '0',\n",
       "  'host_ip': '172.17.0.1',\n",
       "  'image': 'jstubbs/abaco_test',\n",
       "  'last_execution_time': '1586185196.931901',\n",
       "  'last_health_check_time': '1586185191.238547',\n",
       "  'location': 'unix://var/run/docker.sock'},\n",
       " {'actor_id': 'DEV-DEVELOP_BraxzJ6NeWXrj',\n",
       "  'id': '1GrQWeNLONMky',\n",
       "  'status': 'READY',\n",
       "  'tenant': 'DEV-DEVELOP',\n",
       "  'ch_name': 'worker_1GrQWeNLONMky',\n",
       "  'cid': '5c6f0d0ecfd3c5688890d19bb0177d0511cc82219a0d8bd3a6a525315c995ebb',\n",
       "  'create_time': '1586185193.489862',\n",
       "  'host_id': '0',\n",
       "  'host_ip': '172.17.0.1',\n",
       "  'image': 'jstubbs/abaco_test',\n",
       "  'last_execution_time': 0,\n",
       "  'last_health_check_time': '1586185193.406482',\n",
       "  'location': 'unix://var/run/docker.sock'},\n",
       " {'actor_id': 'DEV-DEVELOP_8lajDXXeMjZLO',\n",
       "  'id': 'bLKO5AKzQkgj5',\n",
       "  'status': 'READY',\n",
       "  'tenant': 'DEV-DEVELOP',\n",
       "  'ch_name': 'worker_bLKO5AKzQkgj5',\n",
       "  'cid': 'c7da9c41593182f082f00ccdd113317ae02f0494b6e93d1d5dbab44c050c3eb6',\n",
       "  'create_time': '1586185195.966154',\n",
       "  'host_id': '0',\n",
       "  'host_ip': '172.17.0.1',\n",
       "  'image': 'jstubbs/abaco_test',\n",
       "  'last_execution_time': '1586185219.513845',\n",
       "  'last_health_check_time': '1586185195.902277',\n",
       "  'location': 'unix://var/run/docker.sock'},\n",
       " {'actor_id': 'DEV-DEVELOP_BrajDJMByNGbe',\n",
       "  'id': 'BrajwMXyPZpLK',\n",
       "  'status': 'READY',\n",
       "  'tenant': 'DEV-DEVELOP',\n",
       "  'ch_name': 'worker_BrajwMXyPZpLK',\n",
       "  'cid': 'b242610f8d1581c623ffb01d7e5cf3dcd9febed27d731483578e4f328795aace',\n",
       "  'create_time': '1586185198.458378',\n",
       "  'host_id': '0',\n",
       "  'host_ip': '172.17.0.1',\n",
       "  'image': 'jstubbs/abaco_test',\n",
       "  'last_execution_time': '1586185216.160741',\n",
       "  'last_health_check_time': '1586185198.39474',\n",
       "  'location': 'unix://var/run/docker.sock'},\n",
       " {'actor_id': 'DEV-DEVELOP_K1a4M4XmzjBrr',\n",
       "  'id': 'K1a4AeOo5jDyw',\n",
       "  'status': 'READY',\n",
       "  'tenant': 'DEV-DEVELOP',\n",
       "  'ch_name': 'worker_K1a4AeOo5jDyw',\n",
       "  'cid': '10da4a7bc92f266fa7942ec77623bb326b6af96f715e3194e07a3d43c1e3402c',\n",
       "  'create_time': '1586185200.782646',\n",
       "  'host_id': '0',\n",
       "  'host_ip': '172.17.0.1',\n",
       "  'image': 'jstubbs/abaco_test',\n",
       "  'last_execution_time': '1586185212.666841',\n",
       "  'last_health_check_time': '1586185200.718454',\n",
       "  'location': 'unix://var/run/docker.sock'},\n",
       " {'actor_id': 'DEV-DEVELOP_BraXyW1YWOZO8',\n",
       "  'id': 'AAaPDGg1zJeBw',\n",
       "  'status': 'READY',\n",
       "  'tenant': 'DEV-DEVELOP',\n",
       "  'ch_name': 'worker_AAaPDGg1zJeBw',\n",
       "  'cid': 'c21e144358908acb68a2586af17ca93be493c6e2ea00498e9eecc3a8cf817565',\n",
       "  'create_time': '1586185203.419899',\n",
       "  'host_id': '0',\n",
       "  'host_ip': '172.17.0.1',\n",
       "  'image': 'jstubbs/abaco_test',\n",
       "  'last_execution_time': '1586185209.309386',\n",
       "  'last_health_check_time': '1586185203.355107',\n",
       "  'location': 'unix://var/run/docker.sock'},\n",
       " {'actor_id': 'DEV-DEVELOP_aVLlgoLMyZrPx',\n",
       "  'id': 'bLKEGoRNOLQ5w',\n",
       "  'status': 'READY',\n",
       "  'tenant': 'DEV-DEVELOP',\n",
       "  'ch_name': 'worker_bLKEGoRNOLQ5w',\n",
       "  'cid': 'dc5f046536db58dcd395822802850a46689cf7e150ad66f7dc87016b31e012f1',\n",
       "  'create_time': '1586185205.796317',\n",
       "  'host_id': '0',\n",
       "  'host_ip': '172.17.0.1',\n",
       "  'image': 'jstubbs/abaco_test',\n",
       "  'last_execution_time': 0,\n",
       "  'last_health_check_time': '1586185205.731328',\n",
       "  'location': 'unix://var/run/docker.sock'}]"
      ]
     },
     "execution_count": 7,
     "metadata": {},
     "output_type": "execute_result"
    }
   ],
   "source": [
    "test2.items()"
   ]
  },
  {
   "cell_type": "code",
   "execution_count": 21,
   "metadata": {},
   "outputs": [
    {
     "data": {
      "text/plain": [
       "['heyitme', 'dsadsa', 'fasdfskdf']"
      ]
     },
     "execution_count": 21,
     "metadata": {},
     "output_type": "execute_result"
    }
   ],
   "source": [
    "test2['stats', 'actor_dbids']"
   ]
  },
  {
   "cell_type": "code",
   "execution_count": null,
   "metadata": {},
   "outputs": [],
   "source": [
    "test2.add_if_empty([''])"
   ]
  },
  {
   "cell_type": "code",
   "execution_count": null,
   "metadata": {},
   "outputs": [],
   "source": []
  },
  {
   "cell_type": "code",
   "execution_count": null,
   "metadata": {},
   "outputs": [],
   "source": []
  },
  {
   "cell_type": "code",
   "execution_count": 12,
   "metadata": {},
   "outputs": [
    {
     "name": "stdout",
     "output_type": "stream",
     "text": [
      "{'_id': 'DEV-DEVELOP_BxKzr8Q08Wgqj_b8w33p8RXWea6',\n",
      " 'actor_id': 'DEV-DEVELOP_BxKzr8Q08Wgqj',\n",
      " 'ch_name': 'worker_b8w33p8RXWea6',\n",
      " 'cid': '7039f9ca82b3edf4b0581a6263e748986481455a6285bad102e14581d2a97622',\n",
      " 'create_time': '1585863175.328464',\n",
      " 'host_id': '0',\n",
      " 'host_ip': '172.17.0.1',\n",
      " 'id': 'b8w33p8RXWea6',\n",
      " 'image': 'notchristiangarcia/flops_test',\n",
      " 'last_execution_time': '1585863177.824644',\n",
      " 'last_health_check_time': '1585863175.325031',\n",
      " 'location': 'unix://var/run/docker.sock',\n",
      " 'status': 'READY',\n",
      " 'tenant': 'DEV-DEVELOP'}\n",
      "DEV-DEVELOP_BxKzr8Q08Wgqj\n",
      "DEV-DEVELOP_BxKzr8Q08Wgqj\n",
      "<class 'str'>\n"
     ]
    },
    {
     "ename": "AttributeError",
     "evalue": "'str' object has no attribute 'decode'",
     "output_type": "error",
     "traceback": [
      "\u001b[0;31m---------------------------------------------------------------------------\u001b[0m",
      "\u001b[0;31mAttributeError\u001b[0m                            Traceback (most recent call last)",
      "\u001b[0;32m<ipython-input-12-e00d8d2363c6>\u001b[0m in \u001b[0;36m<module>\u001b[0;34m\u001b[0m\n\u001b[1;32m      5\u001b[0m     \u001b[0mprint\u001b[0m\u001b[0;34m(\u001b[0m\u001b[0mactor_id\u001b[0m\u001b[0;34m)\u001b[0m\u001b[0;34m\u001b[0m\u001b[0;34m\u001b[0m\u001b[0m\n\u001b[1;32m      6\u001b[0m     \u001b[0mprint\u001b[0m\u001b[0;34m(\u001b[0m\u001b[0mtype\u001b[0m\u001b[0;34m(\u001b[0m\u001b[0mactor_id\u001b[0m\u001b[0;34m)\u001b[0m\u001b[0;34m)\u001b[0m\u001b[0;34m\u001b[0m\u001b[0;34m\u001b[0m\u001b[0m\n\u001b[0;32m----> 7\u001b[0;31m     \u001b[0mprint\u001b[0m\u001b[0;34m(\u001b[0m\u001b[0mactor_id\u001b[0m\u001b[0;34m.\u001b[0m\u001b[0mdecode\u001b[0m\u001b[0;34m(\u001b[0m\u001b[0;34m\"utf-8\"\u001b[0m\u001b[0;34m)\u001b[0m\u001b[0;34m)\u001b[0m\u001b[0;34m\u001b[0m\u001b[0;34m\u001b[0m\u001b[0m\n\u001b[0m\u001b[1;32m      8\u001b[0m     \u001b[0mw\u001b[0m \u001b[0;34m=\u001b[0m \u001b[0mWorker\u001b[0m\u001b[0;34m(\u001b[0m\u001b[0;34m**\u001b[0m\u001b[0mworker\u001b[0m\u001b[0;34m)\u001b[0m\u001b[0;34m\u001b[0m\u001b[0;34m\u001b[0m\u001b[0m\n\u001b[1;32m      9\u001b[0m \u001b[0;34m\u001b[0m\u001b[0m\n",
      "\u001b[0;31mAttributeError\u001b[0m: 'str' object has no attribute 'decode'"
     ]
    }
   ],
   "source": [
    "    for worker in test2.items(proj_inp=None):\n",
    "        pprint.pprint(worker)\n",
    "        actor_id = worker['actor_id']\n",
    "        w = Worker(**worker)\n",
    "        actor_display_id = Actor.get_display_id(worker.get('tenant'), actor_id)\n",
    "        w.update({'actor_id': actor_display_id})\n",
    "        w.update({'actor_dbid': actor_id})\n",
    "        # convert additional fields to case, as needed\n",
    "        logger.debug(f\"worker before case conversion: {w}\")\n",
    "        last_execution_time_str = w.pop('last_execution_time')\n",
    "        last_health_check_time_str = w.pop('last_health_check_time')\n",
    "        create_time_str = w.pop('create_time')\n",
    "        w['last_execution_time'] = display_time(last_execution_time_str)\n",
    "        w['last_health_check_time'] = display_time(last_health_check_time_str)\n",
    "        w['create_time'] = display_time(create_time_str)\n",
    "        if case == 'camel':\n",
    "            w = dict_to_camel(w)\n",
    "        workers_result.append(w)\n",
    "        summary['total_workers'] += 1\n",
    "        if worker.get('status') == codes.REQUESTED:\n",
    "            summary['requested_workers'] += 1\n",
    "        elif worker.get('status') == codes.READY:\n",
    "            summary['ready_workers'] += 1\n",
    "        elif worker.get('status') == codes.ERROR:\n",
    "            summary['error_workers'] += 1\n",
    "        elif worker.get('status') == codes.BUSY:\n",
    "            summary['busy_workers'] += 1\n",
    "    logger.info(\"workers retrieved.\")\n",
    "    if case == 'camel':\n",
    "        summary = dict_to_camel(summary)\n",
    "    result = {'summary': summary,\n",
    "              'workers': workers_result}\n",
    "\n",
    "    \n",
    "    \n",
    "    break"
   ]
  },
  {
   "cell_type": "code",
   "execution_count": 36,
   "metadata": {},
   "outputs": [
    {
     "data": {
      "text/plain": [
       "0"
      ]
     },
     "execution_count": 36,
     "metadata": {},
     "output_type": "execute_result"
    }
   ],
   "source": [
    "len(test2)"
   ]
  },
  {
   "cell_type": "code",
   "execution_count": 29,
   "metadata": {},
   "outputs": [],
   "source": [
    "listofaid = set()\n",
    "listofaid.add('dsadsa')"
   ]
  },
  {
   "cell_type": "code",
   "execution_count": 21,
   "metadata": {},
   "outputs": [],
   "source": [
    "listofaid = listofaid + ['dsadsa'] +['dsajdsadjsa']"
   ]
  },
  {
   "cell_type": "code",
   "execution_count": 27,
   "metadata": {},
   "outputs": [
    {
     "data": {
      "text/plain": [
       "{'dsadsa'}"
      ]
     },
     "execution_count": 27,
     "metadata": {},
     "output_type": "execute_result"
    }
   ],
   "source": [
    "listofaid"
   ]
  },
  {
   "cell_type": "code",
   "execution_count": null,
   "metadata": {},
   "outputs": [],
   "source": []
  },
  {
   "cell_type": "code",
   "execution_count": null,
   "metadata": {},
   "outputs": [],
   "source": []
  },
  {
   "cell_type": "code",
   "execution_count": null,
   "metadata": {},
   "outputs": [],
   "source": []
  },
  {
   "cell_type": "code",
   "execution_count": null,
   "metadata": {},
   "outputs": [],
   "source": []
  },
  {
   "cell_type": "code",
   "execution_count": 22,
   "metadata": {},
   "outputs": [],
   "source": [
    "test2.delete_based_on_query({'tenant': 'DEV-DEVELOP'})"
   ]
  },
  {
   "cell_type": "code",
   "execution_count": 7,
   "metadata": {},
   "outputs": [],
   "source": [
    "for execution in test2.items({'actor_id': 'dsajdija'}):\n",
    "    print(execution['id'])"
   ]
  },
  {
   "cell_type": "code",
   "execution_count": 9,
   "metadata": {},
   "outputs": [
    {
     "ename": "KeyError",
     "evalue": "\"'_id' of 'DEV-DEVELOP_K1eBp0xe5Lwox_AAzkDGWrWoWd7G' not found\"",
     "output_type": "error",
     "traceback": [
      "\u001b[0;31m---------------------------------------------------------------------------\u001b[0m",
      "\u001b[0;31mKeyError\u001b[0m                                  Traceback (most recent call last)",
      "\u001b[0;32m<ipython-input-9-fda692fc0993>\u001b[0m in \u001b[0;36m<module>\u001b[0;34m\u001b[0m\n\u001b[0;32m----> 1\u001b[0;31m \u001b[0mtest2\u001b[0m\u001b[0;34m[\u001b[0m\u001b[0;34m'DEV-DEVELOP_K1eBp0xe5Lwox_AAzkDGWrWoWd7G'\u001b[0m\u001b[0;34m]\u001b[0m\u001b[0;34m\u001b[0m\u001b[0;34m\u001b[0m\u001b[0m\n\u001b[0m",
      "\u001b[0;32m<ipython-input-3-f86c790e9c3d>\u001b[0m in \u001b[0;36m__getitem__\u001b[0;34m(self, fields)\u001b[0m\n\u001b[1;32m     15\u001b[0m             projection={'_id': False})\n\u001b[1;32m     16\u001b[0m         \u001b[0;32mif\u001b[0m \u001b[0mresult\u001b[0m \u001b[0;34m==\u001b[0m \u001b[0;32mNone\u001b[0m\u001b[0;34m:\u001b[0m\u001b[0;34m\u001b[0m\u001b[0;34m\u001b[0m\u001b[0m\n\u001b[0;32m---> 17\u001b[0;31m             \u001b[0;32mraise\u001b[0m \u001b[0mKeyError\u001b[0m\u001b[0;34m(\u001b[0m\u001b[0;34mf\"'_id' of '{key}' not found\"\u001b[0m\u001b[0;34m)\u001b[0m\u001b[0;34m\u001b[0m\u001b[0;34m\u001b[0m\u001b[0m\n\u001b[0m\u001b[1;32m     18\u001b[0m         \u001b[0;32mtry\u001b[0m\u001b[0;34m:\u001b[0m\u001b[0;34m\u001b[0m\u001b[0;34m\u001b[0m\u001b[0m\n\u001b[1;32m     19\u001b[0m             \u001b[0;32mreturn\u001b[0m \u001b[0meval\u001b[0m\u001b[0;34m(\u001b[0m\u001b[0;34m'result'\u001b[0m \u001b[0;34m+\u001b[0m \u001b[0msubscripts\u001b[0m\u001b[0;34m)\u001b[0m\u001b[0;34m\u001b[0m\u001b[0;34m\u001b[0m\u001b[0m\n",
      "\u001b[0;31mKeyError\u001b[0m: \"'_id' of 'DEV-DEVELOP_K1eBp0xe5Lwox_AAzkDGWrWoWd7G' not found\""
     ]
    }
   ],
   "source": [
    "test2['DEV-DEVELOP_K1eBp0xe5Lwox_AAzkDGWrWoWd7G']"
   ]
  },
  {
   "cell_type": "code",
   "execution_count": 14,
   "metadata": {},
   "outputs": [
    {
     "data": {
      "text/plain": [
       "{'jMyZE8rl3xPG5': {'status': 'SHUTDOWN_REQUESTED',\n",
       "  'id': 'jMyZE8rl3xPG5',\n",
       "  'tenant': 'DEV-DEVELOP'},\n",
       " 'bbO5APjJz5rKA': {'status': 'SHUTDOWN_REQUESTED',\n",
       "  'tenant': 'DEV-DEVELOP',\n",
       "  'id': 'bbO5APjJz5rKA'}}"
      ]
     },
     "execution_count": 14,
     "metadata": {},
     "output_type": "execute_result"
    }
   ],
   "source": [
    "test2.pop_field(['DEV-DEVELOP_8RKPbK5ZzQm76'])"
   ]
  },
  {
   "cell_type": "code",
   "execution_count": null,
   "metadata": {},
   "outputs": [],
   "source": []
  },
  {
   "cell_type": "code",
   "execution_count": null,
   "metadata": {},
   "outputs": [],
   "source": []
  },
  {
   "cell_type": "markdown",
   "metadata": {},
   "source": [
    "# Archive"
   ]
  },
  {
   "cell_type": "markdown",
   "metadata": {},
   "source": [
    "## Destroy Mongo"
   ]
  },
  {
   "cell_type": "code",
   "execution_count": 4,
   "metadata": {},
   "outputs": [],
   "source": [
    "import multiprocessing"
   ]
  },
  {
   "cell_type": "code",
   "execution_count": 84,
   "metadata": {},
   "outputs": [],
   "source": [
    "def threaded_thing(nonce_store):\n",
    "    print('hey')\n",
    "    res = nonce_store.update_one(\n",
    "        {'_id': nonce_key, nonce_id + '.remaining_uses': {'$eq': -1}},\n",
    "        {'$inc': {nonce_id + '.current_uses': 1},\n",
    "        '$set': {nonce_id + '.last_use_time': 'hey'}})\n",
    "    if res.raw_result['updatedExisting'] == True:\n",
    "        logger.debug(\"nonce has infinite uses. updating nonce.\")\n",
    "        return 'hey!'\n",
    "\n",
    "    # Check for remaining uses greater than 0\n",
    "    res = nonce_store.update_one(\n",
    "        {'_id': nonce_key, nonce_id + '.remaining_uses': {'$gt': 0}},\n",
    "        {'$inc': {nonce_id + '.current_uses': 1,\n",
    "                nonce_id + '.remaining_uses': -1},\n",
    "        '$set': {nonce_id + '.last_use_time': 'hey'}})"
   ]
  },
  {
   "cell_type": "code",
   "execution_count": 6,
   "metadata": {},
   "outputs": [
    {
     "name": "stdout",
     "output_type": "stream",
     "text": [
      "hey\n"
     ]
    }
   ],
   "source": [
    "nonce_key = 'DEV-DEVELOP_jane'\n",
    "nonce_id = 'DEV-DEVELOP_BPbPk0xvz0Llj'\n",
    "print('hey')\n",
    "res = nonce_store.update_one(\n",
    "    {'_id': nonce_key, nonce_id + '.remaining_uses': {'$eq': -1}},\n",
    "    {'$inc': {nonce_id + '.current_uses': 1},\n",
    "    '$set': {nonce_id + '.last_use_time': 'hey'}})"
   ]
  },
  {
   "cell_type": "code",
   "execution_count": 14,
   "metadata": {},
   "outputs": [
    {
     "data": {
      "text/plain": [
       "<pymongo.results.UpdateResult at 0x10a6adaa0>"
      ]
     },
     "execution_count": 14,
     "metadata": {},
     "output_type": "execute_result"
    }
   ],
   "source": [
    "nonce_store.update_one(\n",
    "    {'_id':'did'},\n",
    "    {'$set':{'stopper':'dopper'}},\n",
    "    upsert=True)"
   ]
  },
  {
   "cell_type": "code",
   "execution_count": 24,
   "metadata": {},
   "outputs": [
    {
     "data": {
      "text/plain": [
       "[{'_id': 'bop', 'hey': 'there'}, {'_id': 'dop', 'hey': 'there'}]"
      ]
     },
     "execution_count": 24,
     "metadata": {},
     "output_type": "execute_result"
    }
   ],
   "source": [
    "list(actors_store.find({}))"
   ]
  },
  {
   "cell_type": "code",
   "execution_count": 23,
   "metadata": {},
   "outputs": [
    {
     "data": {
      "text/plain": [
       "<pymongo.results.UpdateResult at 0x10a775050>"
      ]
     },
     "execution_count": 23,
     "metadata": {},
     "output_type": "execute_result"
    }
   ],
   "source": [
    "actors_store.update_one(\n",
    "    {'_id': 'dop'},\n",
    "    {'$set':{'hey':'there'}},\n",
    "    upsert=True)"
   ]
  },
  {
   "cell_type": "code",
   "execution_count": 11,
   "metadata": {},
   "outputs": [],
   "source": [
    "def newBoy(num):\n",
    "    print(num)\n",
    "    return(num)"
   ]
  },
  {
   "cell_type": "code",
   "execution_count": null,
   "metadata": {},
   "outputs": [],
   "source": [
    "pool = multiprocessing.Pool(processes=4)\n",
    "hey = pool.map(newBoy, range(128))\n",
    "pool.join()\n",
    "pool.close()"
   ]
  },
  {
   "cell_type": "code",
   "execution_count": 176,
   "metadata": {},
   "outputs": [
    {
     "data": {
      "text/plain": [
       "<pymongo.results.UpdateResult at 0x107329cd0>"
      ]
     },
     "execution_count": 176,
     "metadata": {},
     "output_type": "execute_result"
    }
   ],
   "source": [
    "nonce_store.update_one(\n",
    "    {'_id': 'DEV-DEVELOP_jane'},\n",
    "    {'$set': {'DEV-DEVELOP_KvVArG21Y1GJ': {'cat':2}}})"
   ]
  },
  {
   "cell_type": "markdown",
   "metadata": {},
   "source": [
    "## Mongo Store"
   ]
  },
  {
   "cell_type": "code",
   "execution_count": 571,
   "metadata": {},
   "outputs": [],
   "source": [
    "#### Things to implement:\n",
    "## getset needs to be fixed for non-maze\n",
    "## add_if_empty. These two just need to be checked. They work, but errors when you're creating new documents with not yet made fields.\n",
    "\n",
    "### Store class only:\n",
    "## set_with_expiry\n",
    "## insert_one?\n",
    "## set_with_expiry\n",
    "\n",
    "\n",
    "### maze\n",
    "## __setitem__\n",
    "## __getitem__\n",
    "## __delitem__\n",
    "## __len__\n",
    "## _prepset\n",
    "## pop_field\n",
    "## getset\n",
    "## add_if_empty\n",
    "## set_with_expiry\n",
    "\n",
    "\n",
    "###### Need to finish\n",
    "## insert_one?\n",
    "## __iter__\n",
    "\n",
    "\n",
    "class testStore():\n",
    "    def __init__(self):\n",
    "        db = client.abaco\n",
    "        test = db['5']\n",
    "        self._db = test\n",
    "        \n",
    "    def __getitem__(self, key):\n",
    "        return mongoMaze(self._db, key, [])\n",
    "        \n",
    "    def __setitem__(self, key, value):\n",
    "        self._db.update_one(\n",
    "            filter={'_id': key},\n",
    "            update={'$set': {key: value}})\n",
    "        \n",
    "    def __delitem__(self, key):\n",
    "        self._db.delete_one({'_id': key})\n",
    "    \n",
    "    def __len__(self):\n",
    "        return self._db.estimated_document_count()\n",
    "    \n",
    "    def __repr__(self):\n",
    "        return pprint.pformat(list(self._db.find(projection={'_id': False})))\n",
    "    \n",
    "    def set_with_expiry(self, key, field, value):\n",
    "        self._db.update_one(\n",
    "            filter={'_id': key},\n",
    "            update={'$set': {'exp': datetime.utcnow(), field: self._prepset(value)}},\n",
    "            upsert=True)\n",
    "    \n",
    "    def _prepset(self, value):\n",
    "        if type(value) is bytes:\n",
    "            return value.decode('utf-8')\n",
    "        return value\n",
    "\n",
    "\n",
    "# MongoCrawl?\n",
    "class mongoMaze():\n",
    "    def __init__(self, db, key, field):\n",
    "        self._db = db\n",
    "        self.key = key\n",
    "        self.field = field\n",
    "        \n",
    "        _id = key\n",
    "        fields -> doc1.subdoc2.subsubdoc3\n",
    "        \n",
    "    def __getitem__(self, field):\n",
    "        self.field.append(field)\n",
    "        return mongoMaze(self._db, self.key, self.field)\n",
    "    \n",
    "    def __setitem__(self, field, value):\n",
    "        search = self._get_search(field)\n",
    "        self._db.update_one(\n",
    "            filter={'_id': self.key},\n",
    "            update={'$set': {search: value}},\n",
    "            upsert=True)\n",
    "        \n",
    "    def __delitem__(self, field):\n",
    "        search = self._get_search(field)\n",
    "        self._db.update_one(\n",
    "            filter={'_id': self.key},\n",
    "            update={'$unset': {f'{search}': ''}})\n",
    "        \n",
    "    def __len__(self):\n",
    "        result = self._db.find_one(\n",
    "            {'_id': self.key},\n",
    "            projection={'_id': False})\n",
    "        return len(eval('result' + self._get_index()))\n",
    "        \n",
    "    def __repr__(self):\n",
    "        result = self._db.find_one(\n",
    "            {'_id': self.key},\n",
    "            projection={'_id': False})\n",
    "        return pprint.pformat(eval('result' + self._get_index()))\n",
    "    \n",
    "    def pop_field(self, field):\n",
    "        search = self._get_search(field)\n",
    "        result = self._db.find_one_and_update(\n",
    "            filter={'_id': self.key},\n",
    "            update={'$unset': {f'{search}': ''}})\n",
    "        return pprint.pformat(eval('result' + self._get_index()))\n",
    "    \n",
    "    def getset(self, value):\n",
    "        search = self._get_search()\n",
    "        result = self._db.find_one_and_update(\n",
    "            filter={'_id': self.key},\n",
    "            update={'$set': {search: value}})\n",
    "        print(self._get_index())\n",
    "        return eval('result' + self._get_index())\n",
    "    \n",
    "    def add_if_empty(self, value):\n",
    "        search = self._get_search()\n",
    "        res = self._db.update_one(\n",
    "            {'_id': self.key},\n",
    "            {'$setOnInsert': {search: value}},\n",
    "            upsert=True)\n",
    "        print(self.key, search, value, res.raw_result)\n",
    "\n",
    "        if res.upserted_id:\n",
    "            return field\n",
    "        else:\n",
    "            return None\n",
    "    \n",
    "    def _get_search(self, field=None):\n",
    "        if field:\n",
    "            self.field.append(field)\n",
    "\n",
    "        if self.field:\n",
    "            search = '.'.join(self.field)\n",
    "        else:\n",
    "            search = self.key\n",
    "        return search\n",
    "            \n",
    "    def _get_index(self):\n",
    "        if self.field:\n",
    "            index = \"['\" + \"']['\".join(self.field) + \"']\"\n",
    "        else:\n",
    "            index = ''\n",
    "        return index\n",
    "    \n",
    "    def _prepset(self, value):\n",
    "        if type(value) is bytes:\n",
    "            return value.decode('utf-8')\n",
    "        return value\n",
    "    \n",
    "testme = testStore()\n",
    "#This feels wrong, thus it's discontinued. Also I don't know how to fix it."
   ]
  },
  {
   "cell_type": "code",
   "execution_count": 115,
   "metadata": {},
   "outputs": [
    {
     "data": {
      "text/plain": [
       "{'1': {'2': {'newSubDoc': 'a newer hello'}}}"
      ]
     },
     "execution_count": 115,
     "metadata": {},
     "output_type": "execute_result"
    }
   ],
   "source": [
    "testme"
   ]
  },
  {
   "cell_type": "code",
   "execution_count": 110,
   "metadata": {},
   "outputs": [],
   "source": [
    "testme = {'1': {'2': {'3': {'4': 'hello.'}}}}"
   ]
  },
  {
   "cell_type": "code",
   "execution_count": 111,
   "metadata": {},
   "outputs": [
    {
     "data": {
      "text/plain": [
       "{'1': {'2': {'3': {'4': 'hello.'}}}}"
      ]
     },
     "execution_count": 111,
     "metadata": {},
     "output_type": "execute_result"
    }
   ],
   "source": [
    "testme"
   ]
  },
  {
   "cell_type": "code",
   "execution_count": 112,
   "metadata": {},
   "outputs": [
    {
     "data": {
      "text/plain": [
       "'hello.'"
      ]
     },
     "execution_count": 112,
     "metadata": {},
     "output_type": "execute_result"
    }
   ],
   "source": [
    "testme['1']['2']['3']['4'] = hello"
   ]
  },
  {
   "cell_type": "code",
   "execution_count": 113,
   "metadata": {},
   "outputs": [],
   "source": [
    "testme['1']['2'] = {'newSubDoc': 'a newer hello'}"
   ]
  },
  {
   "cell_type": "code",
   "execution_count": 114,
   "metadata": {},
   "outputs": [
    {
     "data": {
      "text/plain": [
       "{'1': {'2': {'newSubDoc': 'a newer hello'}}}"
      ]
     },
     "execution_count": 114,
     "metadata": {},
     "output_type": "execute_result"
    }
   ],
   "source": [
    "testme"
   ]
  }
 ],
 "metadata": {
  "kernelspec": {
   "display_name": "Python 3",
   "language": "python",
   "name": "python3"
  },
  "language_info": {
   "codemirror_mode": {
    "name": "ipython",
    "version": 3
   },
   "file_extension": ".py",
   "mimetype": "text/x-python",
   "name": "python",
   "nbconvert_exporter": "python",
   "pygments_lexer": "ipython3",
   "version": "3.6.9"
  }
 },
 "nbformat": 4,
 "nbformat_minor": 4
}
