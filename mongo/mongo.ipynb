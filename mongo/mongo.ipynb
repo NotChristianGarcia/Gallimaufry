{
 "cells": [
  {
   "cell_type": "code",
   "execution_count": 244,
   "metadata": {},
   "outputs": [],
   "source": [
    "from pymongo import MongoClient\n",
    "client = MongoClient('localhost', 27017)"
   ]
  },
  {
   "cell_type": "code",
   "execution_count": 245,
   "metadata": {},
   "outputs": [],
   "source": [
    "db = client.testbaco"
   ]
  },
  {
   "cell_type": "code",
   "execution_count": 246,
   "metadata": {},
   "outputs": [],
   "source": [
    "coll = db.alias_store #worker_store"
   ]
  },
  {
   "cell_type": "code",
   "execution_count": 247,
   "metadata": {},
   "outputs": [
    {
     "name": "stdout",
     "output_type": "stream",
     "text": [
      "All DBs:\n",
      " []\n",
      "\n",
      "All collection's docs:\n",
      " []\n"
     ]
    }
   ],
   "source": [
    "print(f\"All DBs:\\n {db.list_collection_names()}\\n\")\n",
    "print(f\"All collection's docs:\\n {list(coll.find({}))}\")"
   ]
  },
  {
   "cell_type": "code",
   "execution_count": 254,
   "metadata": {},
   "outputs": [],
   "source": [
    "alias_info = {'alias_id':'23092323', 'actor_id':'3921-09321', 'info':'wowwwwww'}\n",
    "key_str = 'alias_id'\n",
    "value = alias_info"
   ]
  },
  {
   "cell_type": "code",
   "execution_count": 255,
   "metadata": {},
   "outputs": [
    {
     "name": "stdout",
     "output_type": "stream",
     "text": [
      "23092323\n"
     ]
    }
   ],
   "source": [
    "# Makes the key_str unique so atomicity works and multiples can't be made\n",
    "coll.create_index(key_str, unique=True)\n",
    "\n",
    "res = coll.update_one(\n",
    "            value,\n",
    "            {'$setOnInsert': value},\n",
    "            upsert=True)\n",
    "\n",
    "try:\n",
    "    upserted_cursor = coll.find({'_id': res.upserted_id})\n",
    "    print(upserted_cursor[0][key_str])\n",
    "except IndexError:\n",
    "    print(None)"
   ]
  },
  {
   "cell_type": "code",
   "execution_count": 118,
   "metadata": {},
   "outputs": [
    {
     "data": {
      "text/plain": [
       "[SON([('v', 2), ('key', SON([('_id', 1)])), ('name', '_id_'), ('ns', 'testbaco.alias_store')]),\n",
       " SON([('v', 2), ('unique', True), ('key', SON([('worker_id', 1)])), ('name', 'worker_id_1'), ('ns', 'testbaco.alias_store')])]"
      ]
     },
     "execution_count": 118,
     "metadata": {},
     "output_type": "execute_result"
    }
   ],
   "source": [
    "list(coll.list_indexes())"
   ]
  },
  {
   "cell_type": "code",
   "execution_count": 86,
   "metadata": {},
   "outputs": [],
   "source": [
    "worker_info = {'worker_id':'230912123', 'info':'wowwwwww'}\n",
    "key_str = 'worker_id'\n",
    "value = worker_info"
   ]
  },
  {
   "cell_type": "code",
   "execution_count": 98,
   "metadata": {},
   "outputs": [
    {
     "name": "stdout",
     "output_type": "stream",
     "text": [
      "230912123\n"
     ]
    }
   ],
   "source": [
    "# Makes the key_str unique so atomicity works and multiples can't be made\n",
    "coll.create_index(key_str, unique=True)\n",
    "\n",
    "res = coll.update_one(\n",
    "            value,\n",
    "            {'$setOnInsert': value},\n",
    "            upsert=True)\n",
    "\n",
    "try:\n",
    "    upserted_cursor = coll.find({'_id': res.upserted_id})\n",
    "    print(upserted_cursor[0][key_str])\n",
    "except IndexError:\n",
    "    print(None)"
   ]
  },
  {
   "cell_type": "code",
   "execution_count": 152,
   "metadata": {},
   "outputs": [
    {
     "data": {
      "text/plain": [
       "dict_items([('alias_id', '230912223'), ('info', 'wowwwwww')])"
      ]
     },
     "execution_count": 152,
     "metadata": {},
     "output_type": "execute_result"
    }
   ],
   "source": [
    "alias_info.items()"
   ]
  },
  {
   "cell_type": "code",
   "execution_count": 256,
   "metadata": {},
   "outputs": [
    {
     "data": {
      "text/plain": [
       "[{'actor_id': '3921-09321', 'alias_id': '23092232223', 'info': 'wowwwwww'},\n",
       " {'actor_id': '3921-09321', 'alias_id': '2309232223', 'info': 'wowwwwww'},\n",
       " {'actor_id': '3921-09321', 'alias_id': '230923223', 'info': 'wowwwwww'},\n",
       " {'actor_id': '3921-09321', 'alias_id': '23092323', 'info': 'wowwwwww'}]"
      ]
     },
     "execution_count": 256,
     "metadata": {},
     "output_type": "execute_result"
    }
   ],
   "source": [
    "list(coll.find(projection={'_id': False}))"
   ]
  },
  {
   "cell_type": "code",
   "execution_count": 257,
   "metadata": {},
   "outputs": [
    {
     "ename": "KeyError",
     "evalue": "'actor_ids'",
     "output_type": "error",
     "traceback": [
      "\u001b[0;31m---------------------------------------------------------------------------\u001b[0m",
      "\u001b[0;31mKeyError\u001b[0m                                  Traceback (most recent call last)",
      "\u001b[0;32m<ipython-input-257-d7651ce6e6ba>\u001b[0m in \u001b[0;36m<module>\u001b[0;34m\u001b[0m\n\u001b[1;32m      1\u001b[0m \u001b[0;32mfor\u001b[0m \u001b[0mv\u001b[0m \u001b[0;32min\u001b[0m \u001b[0mlist\u001b[0m\u001b[0;34m(\u001b[0m\u001b[0mcoll\u001b[0m\u001b[0;34m.\u001b[0m\u001b[0mfind\u001b[0m\u001b[0;34m(\u001b[0m\u001b[0mprojection\u001b[0m\u001b[0;34m=\u001b[0m\u001b[0;34m{\u001b[0m\u001b[0;34m'_id'\u001b[0m\u001b[0;34m:\u001b[0m \u001b[0;32mFalse\u001b[0m\u001b[0;34m}\u001b[0m\u001b[0;34m)\u001b[0m\u001b[0;34m)\u001b[0m\u001b[0;34m:\u001b[0m\u001b[0;34m\u001b[0m\u001b[0;34m\u001b[0m\u001b[0m\n\u001b[0;32m----> 2\u001b[0;31m     \u001b[0mprint\u001b[0m\u001b[0;34m(\u001b[0m\u001b[0mv\u001b[0m\u001b[0;34m[\u001b[0m\u001b[0;34m'actor_ids'\u001b[0m\u001b[0;34m]\u001b[0m\u001b[0;34m)\u001b[0m\u001b[0;34m\u001b[0m\u001b[0;34m\u001b[0m\u001b[0m\n\u001b[0m",
      "\u001b[0;31mKeyError\u001b[0m: 'actor_ids'"
     ]
    }
   ],
   "source": [
    "for v in list(coll.find(projection={'_id': False})):\n",
    "    print(v['actor_ids'])"
   ]
  },
  {
   "cell_type": "code",
   "execution_count": 233,
   "metadata": {},
   "outputs": [
    {
     "name": "stdout",
     "output_type": "stream",
     "text": [
      "('alias_id', '23092232223')\n",
      "('actor_id', '3921-09321')\n",
      "('info', 'wowwwwww')\n"
     ]
    }
   ],
   "source": [
    "for x in alias_info.items():\n",
    "    print(x)"
   ]
  },
  {
   "cell_type": "code",
   "execution_count": 262,
   "metadata": {},
   "outputs": [
    {
     "name": "stdout",
     "output_type": "stream",
     "text": [
      "{'actor_id': '3921-09321', 'alias_id': '2309232223', 'info': 'wowwwwww'}\n"
     ]
    }
   ],
   "source": [
    "for worker_info in list(coll.find(projection={'_id': False})):\n",
    "        try:\n",
    "            if worker_info['alias_id'] == '2309232223':\n",
    "                print(worker_info)\n",
    "        except KeyError:\n",
    "            print(None)"
   ]
  },
  {
   "cell_type": "code",
   "execution_count": 277,
   "metadata": {},
   "outputs": [
    {
     "ename": "IndexError",
     "evalue": "list index out of range",
     "output_type": "error",
     "traceback": [
      "\u001b[0;31m---------------------------------------------------------------------------\u001b[0m",
      "\u001b[0;31mIndexError\u001b[0m                                Traceback (most recent call last)",
      "\u001b[0;32m<ipython-input-277-fff36585db4b>\u001b[0m in \u001b[0;36m<module>\u001b[0;34m\u001b[0m\n\u001b[0;32m----> 1\u001b[0;31m \u001b[0mworkers\u001b[0m \u001b[0;34m=\u001b[0m \u001b[0mlist\u001b[0m\u001b[0;34m(\u001b[0m\u001b[0mcoll\u001b[0m\u001b[0;34m.\u001b[0m\u001b[0mfind\u001b[0m\u001b[0;34m(\u001b[0m\u001b[0mfilter\u001b[0m\u001b[0;34m=\u001b[0m\u001b[0;34m{\u001b[0m\u001b[0;34m'actor_id'\u001b[0m\u001b[0;34m:\u001b[0m \u001b[0;34m'3921-09321'\u001b[0m\u001b[0;34m}\u001b[0m\u001b[0;34m,\u001b[0m \u001b[0mprojection\u001b[0m\u001b[0;34m=\u001b[0m\u001b[0;34m{\u001b[0m\u001b[0;34m'_id'\u001b[0m\u001b[0;34m:\u001b[0m \u001b[0;32mFalse\u001b[0m\u001b[0;34m}\u001b[0m\u001b[0;34m)\u001b[0m\u001b[0;34m)\u001b[0m\u001b[0;34m[\u001b[0m\u001b[0;36m5\u001b[0m\u001b[0;34m]\u001b[0m\u001b[0;34m\u001b[0m\u001b[0;34m\u001b[0m\u001b[0m\n\u001b[0m",
      "\u001b[0;31mIndexError\u001b[0m: list index out of range"
     ]
    }
   ],
   "source": [
    "workers = list(coll.find(filter={'actor_id': '3921-09321'}, projection={'_id': False}))[5]\n"
   ]
  },
  {
   "cell_type": "code",
   "execution_count": 276,
   "metadata": {},
   "outputs": [
    {
     "name": "stdout",
     "output_type": "stream",
     "text": [
      "ah\n",
      "ah\n",
      "ah\n",
      "ah\n"
     ]
    }
   ],
   "source": [
    "for worker in workers:\n",
    "    if 'actor_id' in worker:\n",
    "        print('ah')"
   ]
  },
  {
   "cell_type": "code",
   "execution_count": null,
   "metadata": {},
   "outputs": [],
   "source": [
    "if 'actor_id' in workers"
   ]
  },
  {
   "cell_type": "code",
   "execution_count": null,
   "metadata": {},
   "outputs": [],
   "source": [
    "wid_search = list(coll.find(filter={'alias_id': '2309232223'}, projection={'_id': False}))\n",
    "try:\n",
    "            if worker_info['alias_id'] == '2309232223':\n",
    "                print(worker_info)\n",
    "        except KeyError:\n",
    "            print(None)"
   ]
  }
 ],
 "metadata": {
  "kernelspec": {
   "display_name": "Python 3",
   "language": "python",
   "name": "python3"
  },
  "language_info": {
   "codemirror_mode": {
    "name": "ipython",
    "version": 3
   },
   "file_extension": ".py",
   "mimetype": "text/x-python",
   "name": "python",
   "nbconvert_exporter": "python",
   "pygments_lexer": "ipython3",
   "version": "3.6.8"
  }
 },
 "nbformat": 4,
 "nbformat_minor": 4
}
