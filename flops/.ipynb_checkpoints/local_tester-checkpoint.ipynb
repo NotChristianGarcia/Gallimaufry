{
 "cells": [
  {
   "cell_type": "code",
   "execution_count": 4,
   "metadata": {},
   "outputs": [],
   "source": [
    "jwt=\"eyJ0eXAiOiJKV1QiLCJhbGciOiJSUzI1NiIsIng1dCI6Ik5tSm1PR1V4TXpabFlqTTJaRFJoTlRabFlUQTFZemRoWlRSaU9XRTBOV0kyTTJKbU9UYzFaQT09In0=.eyJpc3MiOiJ3c28yLm9yZy9wcm9kdWN0cy9hbSIsImV4cCI6MTQ5ODE1MTQ3NTc0NywiaHR0cDovL3dzbzIub3JnL2NsYWltcy9zdWJzY3JpYmVyIjoiQUdBVkVERVYvamRvZSIsImh0dHA6Ly93c28yLm9yZy9jbGFpbXMvYXBwbGljYXRpb25pZCI6IjEzMCIsImh0dHA6Ly93c28yLm9yZy9jbGFpbXMvYXBwbGljYXRpb25uYW1lIjoidGVzdCIsImh0dHA6Ly93c28yLm9yZy9jbGFpbXMvYXBwbGljYXRpb250aWVyIjoiVW5saW1pdGVkIiwiaHR0cDovL3dzbzIub3JnL2NsYWltcy9hcGljb250ZXh0IjoiL2FwcHMvdjIiLCJodHRwOi8vd3NvMi5vcmcvY2xhaW1zL3ZlcnNpb24iOiJ2MiIsImh0dHA6Ly93c28yLm9yZy9jbGFpbXMvdGllciI6IlVubGltaXRlZCIsImh0dHA6Ly93c28yLm9yZy9jbGFpbXMva2V5dHlwZSI6IlBST0RVQ1RJT04iLCJodHRwOi8vd3NvMi5vcmcvY2xhaW1zL3VzZXJ0eXBlIjoiQVBQTElDQVRJT04iLCJodHRwOi8vd3NvMi5vcmcvY2xhaW1zL2VuZHVzZXIiOiJqZG9lQGNhcmJvbi5zdXBlciIsImh0dHA6Ly93c28yLm9yZy9jbGFpbXMvZW5kdXNlclRlbmFudElkIjoiLTEyMzQiLCJodHRwOi8vd3NvMi5vcmcvY2xhaW1zL2VtYWlsYWRkcmVzcyI6Impkb2VAdGVzdC5jb20iLCJodHRwOi8vd3NvMi5vcmcvY2xhaW1zL2Z1bGxuYW1lIjoiamRvZSB0ZXN0ZXIiLCJodHRwOi8vd3NvMi5vcmcvY2xhaW1zL2dpdmVubmFtZSI6Impkb2UiLCJodHRwOi8vd3NvMi5vcmcvY2xhaW1zL2xhc3RuYW1lIjoidGVzdGVyIiwiaHR0cDovL3dzbzIub3JnL2NsYWltcy9tb2JpbGUiOiI5NzItNTA0LTYyNzAiLCJodHRwOi8vd3NvMi5vcmcvY2xhaW1zL3JvbGUiOiJJbnRlcm5hbC9BR0FWRURFVl9qZG9lX0RlZmF1bHRBcHBsaWNhdGlvbl9QUk9EVUNUSU9OLEludGVybmFsL0FHQVZFREVWX2pkb2VfdGVzdF9QUk9EVUNUSU9OLEludGVybmFsL2V2ZXJ5b25lLEludGVybmFsL2FiYWNvLXVzZXIiLCJodHRwOi8vd3NvMi5vcmcvY2xhaW1zL3RlbGVwaG9uZSI6IjUxMi02NDctNDgxMyJ9.WZpltBZG7GK+O6dTbHI6taZXVscuK2hmSUqUqXnFMQxv5WUDuimg1kFg3x0xCJeuF8zdJox/9kD5qJfNIz0wg8AsbJo6LdiZhQdMMCx91cigb9elKQe/RYrQe4uZCZrnioMqv9ba3bnp4ShEWQ2yZjhyVjy7cygO8RSlkYpBqBM=[r][n]\"\n",
    "token=\"7fd32255cac956d07f72fcf0c8ef98b3\""
   ]
  },
  {
   "cell_type": "code",
   "execution_count": 5,
   "metadata": {},
   "outputs": [],
   "source": [
    "# Admin JWT\n",
    "jwt=\"eyJ0eXAiOiJKV1QiLCJhbGciOiJSUzI1NiIsIng1dCI6Ik5tSm1PR1V4TXpabFlqTTJaRFJoTlRabFlUQTFZemRoWlRSaU9XRTBOV0kyTTJKbU9UYzFaQT09In0=.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.YiZA/yN8E73SvdGXCwBnh+WTnDZIhym4bfBOfw0YJlz/mL9MSVG7u5cHIC3KGNalnFoF0gpjGVagIDS5Hnj9OZtvfvf49fpIXWFQM10cRzC23qdXnyhFJdlY7iKbNyt1ixXm/9AiUS7+TS3sswTmGrwq4eQ+x/pDUuZO8rpyLpE=[r][n]\""
   ]
  },
  {
   "cell_type": "code",
   "execution_count": 8,
   "metadata": {},
   "outputs": [],
   "source": [
    "# Aloe Token\n",
    "token=\"74b1aaf8ca3f131071be811964fd2987\""
   ]
  },
  {
   "cell_type": "code",
   "execution_count": 9,
   "metadata": {},
   "outputs": [],
   "source": [
    "import os\n",
    "import time \n",
    "import numpy as np\n",
    "import pandas as pd\n",
    "import pprint as pp\n",
    "import requests as r\n",
    "\n",
    "local = False\n",
    "\n",
    "if local:\n",
    "    header_dat={'X-Jwt-Assertion-TEST':jwt}\n",
    "    url = \"http://localhost:8000\"\n",
    "else:\n",
    "    header_dat={'Authorization': f'Bearer {token}'}\n",
    "    url = \"https://dev.tenants.aloedev.tacc.cloud\""
   ]
  },
  {
   "cell_type": "code",
   "execution_count": 21,
   "metadata": {},
   "outputs": [
    {
     "data": {
      "text/plain": [
       "{'message': 'Actors retrieved successfully.',\n",
       " 'result': [],\n",
       " 'status': 'success',\n",
       " 'version': ':dev'}"
      ]
     },
     "execution_count": 21,
     "metadata": {},
     "output_type": "execute_result"
    }
   ],
   "source": [
    "# Get all actors.\n",
    "actor = r.get(f\"{url}/actors/v2\",\n",
    "               headers=header_dat)\n",
    "actor.json()"
   ]
  },
  {
   "cell_type": "code",
   "execution_count": 20,
   "metadata": {},
   "outputs": [],
   "source": [
    "# Delete specified actors.\n",
    "for del_actor in ['ProamBbaP67EJ']:\n",
    "    actor = r.delete(f\"{url}/actors/v2/{del_actor}\",\n",
    "                     headers=header_dat)"
   ]
  },
  {
   "cell_type": "code",
   "execution_count": 24,
   "metadata": {},
   "outputs": [
    {
     "data": {
      "text/plain": [
       "{'message': 'Actor created successfully.',\n",
       " 'result': {'_links': {'executions': 'http://172.17.0.1:8000/actors/v2/Pk0D7rZKlAg65/executions',\n",
       "   'owner': 'http://172.17.0.1:8000/profiles/v2/testuser8',\n",
       "   'self': 'http://172.17.0.1:8000/actors/v2/Pk0D7rZKlAg65'},\n",
       "  'createTime': '2019-05-28 17:21:06.247824',\n",
       "  'defaultEnvironment': {},\n",
       "  'description': '',\n",
       "  'id': 'Pk0D7rZKlAg65',\n",
       "  'image': 'notchristiangarcia/flops_test:4.0',\n",
       "  'lastUpdateTime': '2019-05-28 17:21:06.247824',\n",
       "  'mounts': [{'container_path': '/_abaco_data1',\n",
       "    'host_path': '/home/apim/data1',\n",
       "    'mode': 'ro'},\n",
       "   {'container_path': '/_abaco_data2',\n",
       "    'host_path': '/home/apim/data2',\n",
       "    'mode': 'rw'}],\n",
       "  'owner': 'testuser8',\n",
       "  'privileged': False,\n",
       "  'queue': 'default',\n",
       "  'state': {},\n",
       "  'stateless': True,\n",
       "  'status': 'SUBMITTED',\n",
       "  'statusMessage': '',\n",
       "  'type': 'none',\n",
       "  'useContainerUid': False},\n",
       " 'status': 'success',\n",
       " 'version': ':dev'}"
      ]
     },
     "execution_count": 24,
     "metadata": {},
     "output_type": "execute_result"
    }
   ],
   "source": [
    "# Create actor for work\n",
    "actor = r.post(f\"{url}/actors/v2\",\n",
    "               headers=header_dat,\n",
    "               data={'image':'notchristiangarcia/flops_test:4.0'})\n",
    "actor_id = actor.json()['result']['id']\n",
    "actor.json()"
   ]
  },
  {
   "cell_type": "code",
   "execution_count": 25,
   "metadata": {},
   "outputs": [
    {
     "ename": "JSONDecodeError",
     "evalue": "Expecting value: line 1 column 1 (char 0)",
     "output_type": "error",
     "traceback": [
      "\u001b[0;31m---------------------------------------------------------------------------\u001b[0m",
      "\u001b[0;31mJSONDecodeError\u001b[0m                           Traceback (most recent call last)",
      "\u001b[0;32m<ipython-input-25-7b46cf89bc38>\u001b[0m in \u001b[0;36m<module>\u001b[0;34m\u001b[0m\n\u001b[1;32m      2\u001b[0m worker_res = r.get(f\"{url}/actors/{actor_id}/workers\",\n\u001b[1;32m      3\u001b[0m                     headers=header_dat)\n\u001b[0;32m----> 4\u001b[0;31m \u001b[0mlen\u001b[0m\u001b[0;34m(\u001b[0m\u001b[0mworker_res\u001b[0m\u001b[0;34m.\u001b[0m\u001b[0mjson\u001b[0m\u001b[0;34m(\u001b[0m\u001b[0;34m)\u001b[0m\u001b[0;34m[\u001b[0m\u001b[0;34m'result'\u001b[0m\u001b[0;34m]\u001b[0m\u001b[0;34m)\u001b[0m\u001b[0;34m\u001b[0m\u001b[0;34m\u001b[0m\u001b[0m\n\u001b[0m",
      "\u001b[0;32m/usr/lib/python3/dist-packages/requests/models.py\u001b[0m in \u001b[0;36mjson\u001b[0;34m(self, **kwargs)\u001b[0m\n\u001b[1;32m    895\u001b[0m                     \u001b[0;31m# used.\u001b[0m\u001b[0;34m\u001b[0m\u001b[0;34m\u001b[0m\u001b[0;34m\u001b[0m\u001b[0m\n\u001b[1;32m    896\u001b[0m                     \u001b[0;32mpass\u001b[0m\u001b[0;34m\u001b[0m\u001b[0;34m\u001b[0m\u001b[0m\n\u001b[0;32m--> 897\u001b[0;31m         \u001b[0;32mreturn\u001b[0m \u001b[0mcomplexjson\u001b[0m\u001b[0;34m.\u001b[0m\u001b[0mloads\u001b[0m\u001b[0;34m(\u001b[0m\u001b[0mself\u001b[0m\u001b[0;34m.\u001b[0m\u001b[0mtext\u001b[0m\u001b[0;34m,\u001b[0m \u001b[0;34m**\u001b[0m\u001b[0mkwargs\u001b[0m\u001b[0;34m)\u001b[0m\u001b[0;34m\u001b[0m\u001b[0;34m\u001b[0m\u001b[0m\n\u001b[0m\u001b[1;32m    898\u001b[0m \u001b[0;34m\u001b[0m\u001b[0m\n\u001b[1;32m    899\u001b[0m     \u001b[0;34m@\u001b[0m\u001b[0mproperty\u001b[0m\u001b[0;34m\u001b[0m\u001b[0;34m\u001b[0m\u001b[0m\n",
      "\u001b[0;32m/usr/lib/python3/dist-packages/simplejson/__init__.py\u001b[0m in \u001b[0;36mloads\u001b[0;34m(s, encoding, cls, object_hook, parse_float, parse_int, parse_constant, object_pairs_hook, use_decimal, **kw)\u001b[0m\n\u001b[1;32m    516\u001b[0m             \u001b[0mparse_constant\u001b[0m \u001b[0;32mis\u001b[0m \u001b[0;32mNone\u001b[0m \u001b[0;32mand\u001b[0m \u001b[0mobject_pairs_hook\u001b[0m \u001b[0;32mis\u001b[0m \u001b[0;32mNone\u001b[0m\u001b[0;34m\u001b[0m\u001b[0;34m\u001b[0m\u001b[0m\n\u001b[1;32m    517\u001b[0m             and not use_decimal and not kw):\n\u001b[0;32m--> 518\u001b[0;31m         \u001b[0;32mreturn\u001b[0m \u001b[0m_default_decoder\u001b[0m\u001b[0;34m.\u001b[0m\u001b[0mdecode\u001b[0m\u001b[0;34m(\u001b[0m\u001b[0ms\u001b[0m\u001b[0;34m)\u001b[0m\u001b[0;34m\u001b[0m\u001b[0;34m\u001b[0m\u001b[0m\n\u001b[0m\u001b[1;32m    519\u001b[0m     \u001b[0;32mif\u001b[0m \u001b[0mcls\u001b[0m \u001b[0;32mis\u001b[0m \u001b[0;32mNone\u001b[0m\u001b[0;34m:\u001b[0m\u001b[0;34m\u001b[0m\u001b[0;34m\u001b[0m\u001b[0m\n\u001b[1;32m    520\u001b[0m         \u001b[0mcls\u001b[0m \u001b[0;34m=\u001b[0m \u001b[0mJSONDecoder\u001b[0m\u001b[0;34m\u001b[0m\u001b[0;34m\u001b[0m\u001b[0m\n",
      "\u001b[0;32m/usr/lib/python3/dist-packages/simplejson/decoder.py\u001b[0m in \u001b[0;36mdecode\u001b[0;34m(self, s, _w, _PY3)\u001b[0m\n\u001b[1;32m    368\u001b[0m         \u001b[0;32mif\u001b[0m \u001b[0m_PY3\u001b[0m \u001b[0;32mand\u001b[0m \u001b[0misinstance\u001b[0m\u001b[0;34m(\u001b[0m\u001b[0ms\u001b[0m\u001b[0;34m,\u001b[0m \u001b[0mbytes\u001b[0m\u001b[0;34m)\u001b[0m\u001b[0;34m:\u001b[0m\u001b[0;34m\u001b[0m\u001b[0;34m\u001b[0m\u001b[0m\n\u001b[1;32m    369\u001b[0m             \u001b[0ms\u001b[0m \u001b[0;34m=\u001b[0m \u001b[0mstr\u001b[0m\u001b[0;34m(\u001b[0m\u001b[0ms\u001b[0m\u001b[0;34m,\u001b[0m \u001b[0mself\u001b[0m\u001b[0;34m.\u001b[0m\u001b[0mencoding\u001b[0m\u001b[0;34m)\u001b[0m\u001b[0;34m\u001b[0m\u001b[0;34m\u001b[0m\u001b[0m\n\u001b[0;32m--> 370\u001b[0;31m         \u001b[0mobj\u001b[0m\u001b[0;34m,\u001b[0m \u001b[0mend\u001b[0m \u001b[0;34m=\u001b[0m \u001b[0mself\u001b[0m\u001b[0;34m.\u001b[0m\u001b[0mraw_decode\u001b[0m\u001b[0;34m(\u001b[0m\u001b[0ms\u001b[0m\u001b[0;34m)\u001b[0m\u001b[0;34m\u001b[0m\u001b[0;34m\u001b[0m\u001b[0m\n\u001b[0m\u001b[1;32m    371\u001b[0m         \u001b[0mend\u001b[0m \u001b[0;34m=\u001b[0m \u001b[0m_w\u001b[0m\u001b[0;34m(\u001b[0m\u001b[0ms\u001b[0m\u001b[0;34m,\u001b[0m \u001b[0mend\u001b[0m\u001b[0;34m)\u001b[0m\u001b[0;34m.\u001b[0m\u001b[0mend\u001b[0m\u001b[0;34m(\u001b[0m\u001b[0;34m)\u001b[0m\u001b[0;34m\u001b[0m\u001b[0;34m\u001b[0m\u001b[0m\n\u001b[1;32m    372\u001b[0m         \u001b[0;32mif\u001b[0m \u001b[0mend\u001b[0m \u001b[0;34m!=\u001b[0m \u001b[0mlen\u001b[0m\u001b[0;34m(\u001b[0m\u001b[0ms\u001b[0m\u001b[0;34m)\u001b[0m\u001b[0;34m:\u001b[0m\u001b[0;34m\u001b[0m\u001b[0;34m\u001b[0m\u001b[0m\n",
      "\u001b[0;32m/usr/lib/python3/dist-packages/simplejson/decoder.py\u001b[0m in \u001b[0;36mraw_decode\u001b[0;34m(self, s, idx, _w, _PY3)\u001b[0m\n\u001b[1;32m    398\u001b[0m             \u001b[0;32melif\u001b[0m \u001b[0mord0\u001b[0m \u001b[0;34m==\u001b[0m \u001b[0;36m0xef\u001b[0m \u001b[0;32mand\u001b[0m \u001b[0ms\u001b[0m\u001b[0;34m[\u001b[0m\u001b[0midx\u001b[0m\u001b[0;34m:\u001b[0m\u001b[0midx\u001b[0m \u001b[0;34m+\u001b[0m \u001b[0;36m3\u001b[0m\u001b[0;34m]\u001b[0m \u001b[0;34m==\u001b[0m \u001b[0;34m'\\xef\\xbb\\xbf'\u001b[0m\u001b[0;34m:\u001b[0m\u001b[0;34m\u001b[0m\u001b[0;34m\u001b[0m\u001b[0m\n\u001b[1;32m    399\u001b[0m                 \u001b[0midx\u001b[0m \u001b[0;34m+=\u001b[0m \u001b[0;36m3\u001b[0m\u001b[0;34m\u001b[0m\u001b[0;34m\u001b[0m\u001b[0m\n\u001b[0;32m--> 400\u001b[0;31m         \u001b[0;32mreturn\u001b[0m \u001b[0mself\u001b[0m\u001b[0;34m.\u001b[0m\u001b[0mscan_once\u001b[0m\u001b[0;34m(\u001b[0m\u001b[0ms\u001b[0m\u001b[0;34m,\u001b[0m \u001b[0midx\u001b[0m\u001b[0;34m=\u001b[0m\u001b[0m_w\u001b[0m\u001b[0;34m(\u001b[0m\u001b[0ms\u001b[0m\u001b[0;34m,\u001b[0m \u001b[0midx\u001b[0m\u001b[0;34m)\u001b[0m\u001b[0;34m.\u001b[0m\u001b[0mend\u001b[0m\u001b[0;34m(\u001b[0m\u001b[0;34m)\u001b[0m\u001b[0;34m)\u001b[0m\u001b[0;34m\u001b[0m\u001b[0;34m\u001b[0m\u001b[0m\n\u001b[0m",
      "\u001b[0;31mJSONDecodeError\u001b[0m: Expecting value: line 1 column 1 (char 0)"
     ]
    }
   ],
   "source": [
    "# Check number of workers currently available\n",
    "worker_res = r.get(f\"{url}/actors/{actor_id}/workers\",\n",
    "                    headers=header_dat)\n",
    "len(worker_res.json()['result'])"
   ]
  },
  {
   "cell_type": "code",
   "execution_count": 27,
   "metadata": {},
   "outputs": [
    {
     "data": {
      "text/plain": [
       "b'<am:fault xmlns:am=\"http://wso2.org/apimanager\"><am:code>404</am:code><am:type>Status report</am:type><am:message>Not Found</am:message><am:description>The requested resource (/actors/Pk0D7rZKlAg65/workers) is not available.</am:description></am:fault>'"
      ]
     },
     "execution_count": 27,
     "metadata": {},
     "output_type": "execute_result"
    }
   ],
   "source": [
    "worker_res.content"
   ]
  },
  {
   "cell_type": "code",
   "execution_count": 26,
   "metadata": {},
   "outputs": [
    {
     "data": {
      "text/plain": [
       "{'message': 'Scheduled 7 new worker(s) to start. Previously, there were 1 workers.',\n",
       " 'result': None,\n",
       " 'status': 'success',\n",
       " 'version': ':latest'}"
      ]
     },
     "execution_count": 26,
     "metadata": {},
     "output_type": "execute_result"
    }
   ],
   "source": [
    "# Spool up some more workers\n",
    "worker_res = r.post(f\"{url}/actors/{actor_id}/workers\",\n",
    "                    headers=header_dat,\n",
    "                    data={'num': 8})\n",
    "worker_res.json()"
   ]
  },
  {
   "cell_type": "code",
   "execution_count": null,
   "metadata": {},
   "outputs": [],
   "source": [
    "# message = \"'threads' 'std_deviation' 'size'\"\n",
    "messageDat = '1 10 1500'\n",
    "executions = 8\n",
    "\n",
    "msg_start = time.time()\n",
    "exec_id_list = []\n",
    "for i in range(executions):\n",
    "    execution = r.post(f\"{url}/actors/{actor_id}/messages\",\n",
    "                       headers=header_dat,\n",
    "                       data={'message':messageDat})\n",
    "    exec_id = execution.json()['result']['executionId']\n",
    "    exec_id_list.append(exec_id)\n",
    "msg_end = time.time()"
   ]
  },
  {
   "cell_type": "code",
   "execution_count": null,
   "metadata": {},
   "outputs": [],
   "source": [
    "exec_start = time.time()\n",
    "results_list = []\n",
    "while exec_id_list:\n",
    "    for exec_id in exec_id_list:\n",
    "        exec_logs = r.get(f\"{url}/actors/{actor_id}/executions/{exec_id}/logs\",\n",
    "                          headers=header_dat)\n",
    "\n",
    "        logs = exec_logs.json()['result']['logs']\n",
    "        if logs:\n",
    "            print('. ', end='')\n",
    "            results_list.append([f'id - {exec_id}', float(logs.replace('\\n',''))])\n",
    "            exec_id_list.remove(exec_id)\n",
    "exec_end = time.time()\n",
    "\n",
    "work_time = 0\n",
    "for res in results_list:\n",
    "    work_time += res[1]\n",
    "\n",
    "print(f\"\\n\\nExec Time: {exec_end - exec_start}\")\n",
    "print(f\"Message Time: {msg_end - msg_start}\")\n",
    "print(f\"Work Time: {work_time}\")\n",
    "pp.pprint(results_list)"
   ]
  },
  {
   "cell_type": "code",
   "execution_count": 29,
   "metadata": {},
   "outputs": [
    {
     "name": "stdout",
     "output_type": "stream",
     "text": [
      ". . . . . . . . . . . . . . . . \n",
      "\n",
      "Run Number 1\n",
      "Threads: 4\n",
      "Std Dev: 100\n",
      "Size: 1000\n",
      "Executions: 16\n",
      "Message Time: 1.4313559532165527\n",
      "Exec Time: 6.2892985343933105\n",
      "Work Time: 3.696986675262451\n",
      ". . . . . . . . . . . . . . . . \n",
      "\n",
      "Run Number 2\n",
      "Threads: 4\n",
      "Std Dev: 100\n",
      "Size: 1000\n",
      "Executions: 16\n",
      "Message Time: 1.3102586269378662\n",
      "Exec Time: 6.29220175743103\n",
      "Work Time: 3.838362693786621\n",
      ". . . . . . . . . . . . . . . . \n",
      "\n",
      "Run Number 3\n",
      "Threads: 4\n",
      "Std Dev: 100\n",
      "Size: 1000\n",
      "Executions: 16\n",
      "Message Time: 1.4166905879974365\n",
      "Exec Time: 6.930022716522217\n",
      "Work Time: 4.4790940284729\n",
      ". . . . . . . . . . . . . . . . \n",
      "\n",
      "Run Number 1\n",
      "Threads: 4\n",
      "Std Dev: 100\n",
      "Size: 2000\n",
      "Executions: 16\n",
      "Message Time: 1.7387886047363281\n",
      "Exec Time: 11.530486822128296\n",
      "Work Time: 35.23367357254028\n",
      ". . . . . . . . . . . . . . . . \n",
      "\n",
      "Run Number 2\n",
      "Threads: 4\n",
      "Std Dev: 100\n",
      "Size: 2000\n",
      "Executions: 16\n",
      "Message Time: 1.5973951816558838\n",
      "Exec Time: 11.19767141342163\n",
      "Work Time: 39.462095499038696\n",
      ". . . . . . . . . . . . . . . . \n",
      "\n",
      "Run Number 3\n",
      "Threads: 4\n",
      "Std Dev: 100\n",
      "Size: 2000\n",
      "Executions: 16\n",
      "Message Time: 1.447387933731079\n",
      "Exec Time: 11.846401691436768\n",
      "Work Time: 38.37856483459473\n",
      ". . . . . . . . . . . . . . . . \n",
      "\n",
      "Run Number 1\n",
      "Threads: 4\n",
      "Std Dev: 100\n",
      "Size: 3000\n",
      "Executions: 16\n",
      "Message Time: 1.6563801765441895\n",
      "Exec Time: 21.683462858200073\n",
      "Work Time: 120.43195104598999\n",
      ". . . . . . . . . . . . . . . . \n",
      "\n",
      "Run Number 2\n",
      "Threads: 4\n",
      "Std Dev: 100\n",
      "Size: 3000\n",
      "Executions: 16\n",
      "Message Time: 1.824967861175537\n",
      "Exec Time: 22.029961824417114\n",
      "Work Time: 121.16001844406128\n",
      ". . . . . . . . . . . . . . . . \n",
      "\n",
      "Run Number 3\n",
      "Threads: 4\n",
      "Std Dev: 100\n",
      "Size: 3000\n",
      "Executions: 16\n",
      "Message Time: 1.780224323272705\n",
      "Exec Time: 23.713749408721924\n",
      "Work Time: 124.81796288490295\n"
     ]
    },
    {
     "data": {
      "text/html": [
       "<div>\n",
       "<style scoped>\n",
       "    .dataframe tbody tr th:only-of-type {\n",
       "        vertical-align: middle;\n",
       "    }\n",
       "\n",
       "    .dataframe tbody tr th {\n",
       "        vertical-align: top;\n",
       "    }\n",
       "\n",
       "    .dataframe thead th {\n",
       "        text-align: right;\n",
       "    }\n",
       "</style>\n",
       "<table border=\"1\" class=\"dataframe\">\n",
       "  <thead>\n",
       "    <tr style=\"text-align: right;\">\n",
       "      <th></th>\n",
       "    </tr>\n",
       "  </thead>\n",
       "  <tbody>\n",
       "  </tbody>\n",
       "</table>\n",
       "</div>"
      ],
      "text/plain": [
       "Empty DataFrame\n",
       "Columns: []\n",
       "Index: []"
      ]
     },
     "execution_count": 29,
     "metadata": {},
     "output_type": "execute_result"
    }
   ],
   "source": [
    "# Hyper paramater tester\n",
    "all_data = pd.DataFrame()\n",
    "for test_var in [1000, 2000, 3000]:\n",
    "    threads = 4\n",
    "    std_dev = 100\n",
    "    size = test_var\n",
    "    executions = 16\n",
    "    messageDat = f'{threads} {std_dev} {size}'\n",
    "\n",
    "    for run_num in range(1, 4):\n",
    "        msg_start = time.time()\n",
    "        exec_id_list = []\n",
    "        for i in range(executions):\n",
    "            execution = r.post(f\"{url}/actors/{actor_id}/messages\",\n",
    "                               headers=header_dat,\n",
    "                               data={'message':messageDat})\n",
    "            exec_id = execution.json()['result']['executionId']\n",
    "            exec_id_list.append(exec_id)\n",
    "        msg_end = time.time()\n",
    "\n",
    "        exec_start = time.time()\n",
    "        results_list = []\n",
    "        while exec_id_list:\n",
    "            for exec_id in exec_id_list:\n",
    "                exec_logs = r.get(f\"{url}/actors/{actor_id}/executions/{exec_id}/logs\",\n",
    "                                  headers=header_dat)\n",
    "\n",
    "                logs = exec_logs.json()['result']['logs']\n",
    "                if logs:\n",
    "                    print('. ', end='')\n",
    "                    results_list.append([f'id - {exec_id}', float(logs.replace('\\n',''))])\n",
    "                    exec_id_list.remove(exec_id)\n",
    "        exec_end = time.time()\n",
    "\n",
    "        work_time = 0\n",
    "        for res in results_list:\n",
    "            work_time += res[1]\n",
    "        \n",
    "        print(f\"\\n\\nRun Number {run_num}\")\n",
    "        print(f\"Threads: {threads}\")\n",
    "        print(f\"Std Dev: {std_dev}\")\n",
    "        print(f\"Size: {size}\")\n",
    "        print(f\"Executions: {executions}\")\n",
    "        print(f\"Message Time: {msg_end - msg_start}\")\n",
    "        print(f\"Exec Time: {exec_end - exec_start}\")\n",
    "        print(f\"Work Time: {work_time}\")\n",
    "        \n",
    "        run_data = pd.DataFrame([[run_num, threads, std_dev, size, executions, msg_end - msg_start, exec_end - exec_start, work_time]],\n",
    "                                columns=['Run Number', 'Threads', 'Std Dev', 'Size', 'Executions', 'Message Time', 'Exec Time', 'Work Time'])\n",
    "        all_data.append(run_data, ignore_index = True)\n",
    "all_data"
   ]
  },
  {
   "cell_type": "code",
   "execution_count": 31,
   "metadata": {},
   "outputs": [
    {
     "data": {
      "text/plain": [
       "9"
      ]
     },
     "execution_count": 31,
     "metadata": {},
     "output_type": "execute_result"
    }
   ],
   "source": [
    "3**2"
   ]
  },
  {
   "cell_type": "code",
   "execution_count": null,
   "metadata": {},
   "outputs": [],
   "source": [
    "# message = \"'std_deviation' 'size'\"\n",
    "messageDat = '3 10 1000'\n",
    "executions = 8\n",
    "\n",
    "# Actor that will be creating workers with flop test.\n",
    "actor = r.post(f\"{url}/actors\",\n",
    "               headers=header_dat,\n",
    "               data={'image':'notchristiangarcia/flops_test'})\n",
    "actor_id = actor.json()['result']['id']\n",
    "\n",
    "\n",
    "# Executions of this actor, lots of times.\n",
    "exec_id_list = []\n",
    "for i in range(executions):\n",
    "    execution = r.post(f\"{url}/actors/{actor_id}/messages\",\n",
    "                       headers=header_dat,\n",
    "                       data={'message':messageDat})\n",
    "    exec_id = execution.json()['result']['executionId']\n",
    "    exec_id_list.append(exec_id)\n",
    "\n",
    "\n",
    "# Getting result of exec from log once exec complete.\n",
    "results_dict = {}\n",
    "while exec_id_list:\n",
    "    for exec_id in exec_id_list:\n",
    "        exec_logs = r.get(f\"{url}/actors/{actor_id}/executions/{exec_id}/logs\",\n",
    "                          headers=header_dat)\n",
    "\n",
    "        logs = exec_logs.json()['result']['logs']\n",
    "        if logs:\n",
    "            results_dict[f'id - {exec_id}'] = float(logs.replace('\\n',''))\n",
    "            exec_id_list.remove(exec_id)"
   ]
  },
  {
   "cell_type": "code",
   "execution_count": null,
   "metadata": {},
   "outputs": [],
   "source": []
  }
 ],
 "metadata": {
  "kernelspec": {
   "display_name": "Python 3",
   "language": "python",
   "name": "python3"
  },
  "language_info": {
   "codemirror_mode": {
    "name": "ipython",
    "version": 3
   },
   "file_extension": ".py",
   "mimetype": "text/x-python",
   "name": "python",
   "nbconvert_exporter": "python",
   "pygments_lexer": "ipython3",
   "version": "3.7.3"
  }
 },
 "nbformat": 4,
 "nbformat_minor": 2
}
