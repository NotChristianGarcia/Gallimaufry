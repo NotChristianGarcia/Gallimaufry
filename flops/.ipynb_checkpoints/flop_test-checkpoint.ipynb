{
 "cells": [
  {
   "cell_type": "code",
   "execution_count": null,
   "metadata": {},
   "outputs": [],
   "source": [
    "import os\n",
    "import time \n",
    "import numpy\n",
    "\n",
    "std_dev, size = map(int, os.environ.get('MSG').split())\n",
    "\n",
    "start = time.time()\n",
    "A = numpy.random.normal(0, std_dev, (size, size))\n",
    "B = numpy.random.normal(0, std_dev, (size, size))\n",
    "C = numpy.dot(A, B)\n",
    "r = numpy.linalg.eig(C)[0]\n",
    "end = time.time()\n",
    "\n",
    "print(end-start)"
   ]
  },
  {
   "cell_type": "code",
   "execution_count": 33,
   "metadata": {},
   "outputs": [
    {
     "data": {
      "text/plain": [
       "array([ 6.59814814e+03+17583.38404263j,  6.59814814e+03-17583.38404263j,\n",
       "       -2.95652805e+03+18165.16001117j, ...,\n",
       "       -1.21858002e+01   -18.53830201j, -2.36144626e+01    +0.j        ,\n",
       "        3.24823287e+00    +0.j        ])"
      ]
     },
     "execution_count": 33,
     "metadata": {},
     "output_type": "execute_result"
    }
   ],
   "source": [
    "r"
   ]
  },
  {
   "cell_type": "code",
   "execution_count": null,
   "metadata": {},
   "outputs": [],
   "source": [
    "import requests as r\n",
    "\n",
    "# message = \"'std_deviation' 'size'\"\n",
    "message = '3 5'\n",
    "executions = 3\n",
    "\n",
    "\n",
    "url = \"http://localhost:8000\"\n",
    "\n",
    "\n",
    "# Actor that will be creating workers with flop test.\n",
    "actor = r.post(f\"{url}/actors\",\n",
    "               headers={'X-Jwt-Assertion-TEST':jwt},\n",
    "               data={'image':'notchristiangarcia/flops_test'})\n",
    "actor_id = actor.json()['result']['id']\n",
    "\n",
    "\n",
    "# Executions of this actor, lots of times.\n",
    "exec_id_list = []\n",
    "for i in range(executions)\n",
    "    execution = r.post(f\"{url}/actors/{actor_id}/messages\",\n",
    "                       headers={'X-Jwt-Assertion-TEST': jwt,\n",
    "                                'Content-Type': 'application/octet-stream'},\n",
    "                       data=message)\n",
    "    exec_id = execution.json()['result']['executionId']\n",
    "    exec_id_list.append(exec_id)\n",
    "\n",
    "\n",
    "# Getting result of exec from log once exec complete.\n",
    "for exec_id in exec_id_list:\n",
    "    exec_info = r.get(f\"{url}/actors/{actor_id}/executions/{exec_id}\",\n",
    "                             headers={'X-Jwt-Assertion-TEST': jwt})\n",
    "\n",
    "    exec_logs = r.get(f\"{url}/actors/{actor_id}/executions/{exec_id}/logs\",\n",
    "                             headers={'X-Jwt-Assertion-TEST': jwt})\n",
    "    exec_logs.json()['result']['logs']"
   ]
  },
  {
   "cell_type": "code",
   "execution_count": 6,
   "metadata": {},
   "outputs": [
    {
     "name": "stdout",
     "output_type": "stream",
     "text": [
      "2\n",
      "3\n",
      "done\n"
     ]
    }
   ],
   "source": [
    "for i in [2,3]:\n",
    "    print(i)\n",
    "    \n",
    "print('done')"
   ]
  },
  {
   "cell_type": "code",
   "execution_count": null,
   "metadata": {},
   "outputs": [],
   "source": []
  }
 ],
 "metadata": {
  "kernelspec": {
   "display_name": "Python 3",
   "language": "python",
   "name": "python3"
  },
  "language_info": {
   "codemirror_mode": {
    "name": "ipython",
    "version": 3
   },
   "file_extension": ".py",
   "mimetype": "text/x-python",
   "name": "python",
   "nbconvert_exporter": "python",
   "pygments_lexer": "ipython3",
   "version": "3.6.7"
  }
 },
 "nbformat": 4,
 "nbformat_minor": 2
}
