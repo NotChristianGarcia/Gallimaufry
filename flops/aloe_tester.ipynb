{
 "cells": [
  {
   "cell_type": "code",
   "execution_count": 4,
   "metadata": {},
   "outputs": [],
   "source": [
    "jwt=\"eyJ0eXAiOiJKV1QiLCJhbGciOiJSUzI1NiIsIng1dCI6Ik5tSm1PR1V4TXpabFlqTTJaRFJoTlRabFlUQTFZemRoWlRSaU9XRTBOV0kyTTJKbU9UYzFaQT09In0=.eyJpc3MiOiJ3c28yLm9yZy9wcm9kdWN0cy9hbSIsImV4cCI6MTQ5ODE1MTQ3NTc0NywiaHR0cDovL3dzbzIub3JnL2NsYWltcy9zdWJzY3JpYmVyIjoiQUdBVkVERVYvamRvZSIsImh0dHA6Ly93c28yLm9yZy9jbGFpbXMvYXBwbGljYXRpb25pZCI6IjEzMCIsImh0dHA6Ly93c28yLm9yZy9jbGFpbXMvYXBwbGljYXRpb25uYW1lIjoidGVzdCIsImh0dHA6Ly93c28yLm9yZy9jbGFpbXMvYXBwbGljYXRpb250aWVyIjoiVW5saW1pdGVkIiwiaHR0cDovL3dzbzIub3JnL2NsYWltcy9hcGljb250ZXh0IjoiL2FwcHMvdjIiLCJodHRwOi8vd3NvMi5vcmcvY2xhaW1zL3ZlcnNpb24iOiJ2MiIsImh0dHA6Ly93c28yLm9yZy9jbGFpbXMvdGllciI6IlVubGltaXRlZCIsImh0dHA6Ly93c28yLm9yZy9jbGFpbXMva2V5dHlwZSI6IlBST0RVQ1RJT04iLCJodHRwOi8vd3NvMi5vcmcvY2xhaW1zL3VzZXJ0eXBlIjoiQVBQTElDQVRJT04iLCJodHRwOi8vd3NvMi5vcmcvY2xhaW1zL2VuZHVzZXIiOiJqZG9lQGNhcmJvbi5zdXBlciIsImh0dHA6Ly93c28yLm9yZy9jbGFpbXMvZW5kdXNlclRlbmFudElkIjoiLTEyMzQiLCJodHRwOi8vd3NvMi5vcmcvY2xhaW1zL2VtYWlsYWRkcmVzcyI6Impkb2VAdGVzdC5jb20iLCJodHRwOi8vd3NvMi5vcmcvY2xhaW1zL2Z1bGxuYW1lIjoiamRvZSB0ZXN0ZXIiLCJodHRwOi8vd3NvMi5vcmcvY2xhaW1zL2dpdmVubmFtZSI6Impkb2UiLCJodHRwOi8vd3NvMi5vcmcvY2xhaW1zL2xhc3RuYW1lIjoidGVzdGVyIiwiaHR0cDovL3dzbzIub3JnL2NsYWltcy9tb2JpbGUiOiI5NzItNTA0LTYyNzAiLCJodHRwOi8vd3NvMi5vcmcvY2xhaW1zL3JvbGUiOiJJbnRlcm5hbC9BR0FWRURFVl9qZG9lX0RlZmF1bHRBcHBsaWNhdGlvbl9QUk9EVUNUSU9OLEludGVybmFsL0FHQVZFREVWX2pkb2VfdGVzdF9QUk9EVUNUSU9OLEludGVybmFsL2V2ZXJ5b25lLEludGVybmFsL2FiYWNvLXVzZXIiLCJodHRwOi8vd3NvMi5vcmcvY2xhaW1zL3RlbGVwaG9uZSI6IjUxMi02NDctNDgxMyJ9.WZpltBZG7GK+O6dTbHI6taZXVscuK2hmSUqUqXnFMQxv5WUDuimg1kFg3x0xCJeuF8zdJox/9kD5qJfNIz0wg8AsbJo6LdiZhQdMMCx91cigb9elKQe/RYrQe4uZCZrnioMqv9ba3bnp4ShEWQ2yZjhyVjy7cygO8RSlkYpBqBM=[r][n]\"\n",
    "token=\"7fd32255cac956d07f72fcf0c8ef98b3\""
   ]
  },
  {
   "cell_type": "code",
   "execution_count": 5,
   "metadata": {},
   "outputs": [],
   "source": [
    "# Admin JWT\n",
    "jwt=\"eyJ0eXAiOiJKV1QiLCJhbGciOiJSUzI1NiIsIng1dCI6Ik5tSm1PR1V4TXpabFlqTTJaRFJoTlRabFlUQTFZemRoWlRSaU9XRTBOV0kyTTJKbU9UYzFaQT09In0=.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.YiZA/yN8E73SvdGXCwBnh+WTnDZIhym4bfBOfw0YJlz/mL9MSVG7u5cHIC3KGNalnFoF0gpjGVagIDS5Hnj9OZtvfvf49fpIXWFQM10cRzC23qdXnyhFJdlY7iKbNyt1ixXm/9AiUS7+TS3sswTmGrwq4eQ+x/pDUuZO8rpyLpE=[r][n]\""
   ]
  },
  {
   "cell_type": "code",
   "execution_count": 2,
   "metadata": {},
   "outputs": [],
   "source": [
    "# Aloe Token\n",
    "token=\"74b1aaf8ca3f131071be811964fd2987\""
   ]
  },
  {
   "cell_type": "markdown",
   "metadata": {},
   "source": [
    "# Abaco Tools"
   ]
  },
  {
   "cell_type": "code",
   "execution_count": 7,
   "metadata": {},
   "outputs": [],
   "source": [
    "import os\n",
    "import time \n",
    "import numpy as np\n",
    "import pandas as pd\n",
    "import pprint as pp\n",
    "import requests as r\n",
    "\n",
    "local = False\n",
    "\n",
    "if local:\n",
    "    header_dat={'X-Jwt-Assertion-TEST':jwt}\n",
    "    url = \"http://localhost:8000/actors/\"\n",
    "else:\n",
    "    header_dat={'Authorization': f'Bearer {token}'}\n",
    "    url = \"https://dev.tenants.aloedev.tacc.cloud/actors/v2\""
   ]
  },
  {
   "cell_type": "code",
   "execution_count": 8,
   "metadata": {},
   "outputs": [
    {
     "data": {
      "text/plain": [
       "{'message': 'Actors retrieved successfully.',\n",
       " 'result': [],\n",
       " 'status': 'success',\n",
       " 'version': ':dev'}"
      ]
     },
     "execution_count": 8,
     "metadata": {},
     "output_type": "execute_result"
    }
   ],
   "source": [
    "# Get all actors.\n",
    "actor = r.get(f\"{url}\",\n",
    "               headers=header_dat)\n",
    "actor.json()"
   ]
  },
  {
   "cell_type": "code",
   "execution_count": 5,
   "metadata": {},
   "outputs": [
    {
     "name": "stdout",
     "output_type": "stream",
     "text": [
      "{'message': 'Actor deleted successfully.', 'result': None, 'status': 'success', 'version': ':dev'}\n"
     ]
    }
   ],
   "source": [
    "# Delete specified actors.\n",
    "for del_actor in ['oOxoxDDvBDGWB']:\n",
    "    del_actor_res = r.delete(f\"{url}/{del_actor}\",\n",
    "                     headers=header_dat)\n",
    "    print(del_actor_res.json())"
   ]
  },
  {
   "cell_type": "code",
   "execution_count": 9,
   "metadata": {},
   "outputs": [
    {
     "data": {
      "text/plain": [
       "{'message': 'Actor created successfully.',\n",
       " 'result': {'_links': {'executions': 'http://172.17.0.1:8000/actors/v2/RYDK8xoowNA3r/executions',\n",
       "   'owner': 'http://172.17.0.1:8000/profiles/v2/testuser8',\n",
       "   'self': 'http://172.17.0.1:8000/actors/v2/RYDK8xoowNA3r'},\n",
       "  'createTime': '2019-06-05 18:50:10.316851',\n",
       "  'defaultEnvironment': {},\n",
       "  'description': '',\n",
       "  'id': 'RYDK8xoowNA3r',\n",
       "  'image': 'notchristiangarcia/flops_test:5.0',\n",
       "  'lastUpdateTime': '2019-06-05 18:50:10.316851',\n",
       "  'mounts': [{'container_path': '/_abaco_data1',\n",
       "    'host_path': '/home/apim/data1',\n",
       "    'mode': 'ro'},\n",
       "   {'container_path': '/_abaco_data2',\n",
       "    'host_path': '/home/apim/data2',\n",
       "    'mode': 'rw'}],\n",
       "  'owner': 'testuser8',\n",
       "  'privileged': False,\n",
       "  'queue': 'default',\n",
       "  'state': {},\n",
       "  'stateless': True,\n",
       "  'status': 'SUBMITTED',\n",
       "  'statusMessage': '',\n",
       "  'type': 'none',\n",
       "  'useContainerUid': False},\n",
       " 'status': 'success',\n",
       " 'version': ':dev'}"
      ]
     },
     "execution_count": 9,
     "metadata": {},
     "output_type": "execute_result"
    }
   ],
   "source": [
    "# Create actor for work\n",
    "actor = r.post(f\"{url}\",\n",
    "               headers=header_dat,\n",
    "               data={'image':'notchristiangarcia/flops_test:5.0'})\n",
    "actor_id = actor.json()['result']['id']\n",
    "actor.json()"
   ]
  },
  {
   "cell_type": "code",
   "execution_count": 86,
   "metadata": {},
   "outputs": [
    {
     "name": "stdout",
     "output_type": "stream",
     "text": [
      "1\n",
      "{'Host 5': 1}\n"
     ]
    }
   ],
   "source": [
    "# Check number of workers currently available\n",
    "worker_res = r.get(f\"{url}/{actor_id}/workers\",\n",
    "                    headers=header_dat)\n",
    "num_workers = len(worker_res.json()['result'])\n",
    "\n",
    "host_info = {}\n",
    "all_workers = []\n",
    "if num_workers:\n",
    "    for worker_info in worker_res.json()['result']:\n",
    "        if f\"Host {worker_info['hostId']}\" in host_info:\n",
    "            host_info[f\"Host {worker_info['hostId']}\"] += 1\n",
    "        else:\n",
    "            host_info[f\"Host {worker_info['hostId']}\"] = 1\n",
    "    for worker_info in worker_res.json()['result']:\n",
    "        all_workers.append(worker_info['id'])\n",
    "print(num_workers)\n",
    "print(host_info)\n",
    "worker_res.json();"
   ]
  },
  {
   "cell_type": "code",
   "execution_count": 23,
   "metadata": {},
   "outputs": [
    {
     "data": {
      "text/plain": [
       "{'message': 'Scheduled 12 new worker(s) to start. Previously, there were 0 workers.',\n",
       " 'result': None,\n",
       " 'status': 'success',\n",
       " 'version': ':dev'}"
      ]
     },
     "execution_count": 23,
     "metadata": {},
     "output_type": "execute_result"
    }
   ],
   "source": [
    "# Spool up more workers\n",
    "worker_res = r.post(f\"{url}/{actor_id}/workers\",\n",
    "                    headers=header_dat,\n",
    "                    data={'num': 12})\n",
    "worker_res.json()"
   ]
  },
  {
   "cell_type": "code",
   "execution_count": 22,
   "metadata": {},
   "outputs": [
    {
     "name": "stdout",
     "output_type": "stream",
     "text": [
      "{'message': 'Worker scheduled to be stopped.', 'result': None, 'status': 'success', 'version': ':dev'}\n"
     ]
    }
   ],
   "source": [
    "# Delete workers\n",
    "for del_worker in all_workers:\n",
    "    del_worker_res = r.delete(f\"{url}/{actor_id}/workers/{del_worker}\",\n",
    "                        headers=header_dat)\n",
    "    print(del_worker_res.json())"
   ]
  },
  {
   "cell_type": "markdown",
   "metadata": {},
   "source": [
    "# The Tester!"
   ]
  },
  {
   "cell_type": "code",
   "execution_count": 208,
   "metadata": {},
   "outputs": [
    {
     "name": "stdout",
     "output_type": "stream",
     "text": [
      "Starting Run 1.\n",
      "Executions completed: 60\n",
      "\n",
      "Run Number 1\n",
      "Std Dev: 1000\n",
      "Size: 1000\n",
      "Executions: 60\n",
      "Message Time: 20.036583185195923\n",
      "Exec Time: 18.293168544769287\n",
      "Work Time: 10.922499179840088\n",
      "\n",
      "\n",
      "Starting Run 2.\n",
      "Executions completed: 60\n",
      "\n",
      "Run Number 2\n",
      "Std Dev: 1000\n",
      "Size: 1000\n",
      "Executions: 60\n",
      "Message Time: 19.95010733604431\n",
      "Exec Time: 19.205012798309326\n",
      "Work Time: 11.757179737091064\n",
      "\n",
      "\n",
      "Starting Run 3.\n",
      "Executions completed: 25"
     ]
    },
    {
     "ename": "ConnectionError",
     "evalue": "HTTPSConnectionPool(host='dev.tenants.aloedev.tacc.cloud', port=443): Max retries exceeded with url: /actors/v2/peorL6Eg4GPW3/executions/qgaMAVppBVeep/logs (Caused by NewConnectionError('<urllib3.connection.VerifiedHTTPSConnection object at 0x7f620eb1ec18>: Failed to establish a new connection: [Errno 110] Connection timed out'))",
     "output_type": "error",
     "traceback": [
      "\u001b[0;31m---------------------------------------------------------------------------\u001b[0m",
      "\u001b[0;31mTimeoutError\u001b[0m                              Traceback (most recent call last)",
      "\u001b[0;32m/usr/lib/python3/dist-packages/urllib3/connection.py\u001b[0m in \u001b[0;36m_new_conn\u001b[0;34m(self)\u001b[0m\n\u001b[1;32m    158\u001b[0m             conn = connection.create_connection(\n\u001b[0;32m--> 159\u001b[0;31m                 (self._dns_host, self.port), self.timeout, **extra_kw)\n\u001b[0m\u001b[1;32m    160\u001b[0m \u001b[0;34m\u001b[0m\u001b[0m\n",
      "\u001b[0;32m/usr/lib/python3/dist-packages/urllib3/util/connection.py\u001b[0m in \u001b[0;36mcreate_connection\u001b[0;34m(address, timeout, source_address, socket_options)\u001b[0m\n\u001b[1;32m     79\u001b[0m     \u001b[0;32mif\u001b[0m \u001b[0merr\u001b[0m \u001b[0;32mis\u001b[0m \u001b[0;32mnot\u001b[0m \u001b[0;32mNone\u001b[0m\u001b[0;34m:\u001b[0m\u001b[0;34m\u001b[0m\u001b[0;34m\u001b[0m\u001b[0m\n\u001b[0;32m---> 80\u001b[0;31m         \u001b[0;32mraise\u001b[0m \u001b[0merr\u001b[0m\u001b[0;34m\u001b[0m\u001b[0;34m\u001b[0m\u001b[0m\n\u001b[0m\u001b[1;32m     81\u001b[0m \u001b[0;34m\u001b[0m\u001b[0m\n",
      "\u001b[0;32m/usr/lib/python3/dist-packages/urllib3/util/connection.py\u001b[0m in \u001b[0;36mcreate_connection\u001b[0;34m(address, timeout, source_address, socket_options)\u001b[0m\n\u001b[1;32m     69\u001b[0m                 \u001b[0msock\u001b[0m\u001b[0;34m.\u001b[0m\u001b[0mbind\u001b[0m\u001b[0;34m(\u001b[0m\u001b[0msource_address\u001b[0m\u001b[0;34m)\u001b[0m\u001b[0;34m\u001b[0m\u001b[0;34m\u001b[0m\u001b[0m\n\u001b[0;32m---> 70\u001b[0;31m             \u001b[0msock\u001b[0m\u001b[0;34m.\u001b[0m\u001b[0mconnect\u001b[0m\u001b[0;34m(\u001b[0m\u001b[0msa\u001b[0m\u001b[0;34m)\u001b[0m\u001b[0;34m\u001b[0m\u001b[0;34m\u001b[0m\u001b[0m\n\u001b[0m\u001b[1;32m     71\u001b[0m             \u001b[0;32mreturn\u001b[0m \u001b[0msock\u001b[0m\u001b[0;34m\u001b[0m\u001b[0;34m\u001b[0m\u001b[0m\n",
      "\u001b[0;31mTimeoutError\u001b[0m: [Errno 110] Connection timed out",
      "\nDuring handling of the above exception, another exception occurred:\n",
      "\u001b[0;31mNewConnectionError\u001b[0m                        Traceback (most recent call last)",
      "\u001b[0;32m/usr/lib/python3/dist-packages/urllib3/connectionpool.py\u001b[0m in \u001b[0;36murlopen\u001b[0;34m(self, method, url, body, headers, retries, redirect, assert_same_host, timeout, pool_timeout, release_conn, chunked, body_pos, **response_kw)\u001b[0m\n\u001b[1;32m    599\u001b[0m                                                   \u001b[0mbody\u001b[0m\u001b[0;34m=\u001b[0m\u001b[0mbody\u001b[0m\u001b[0;34m,\u001b[0m \u001b[0mheaders\u001b[0m\u001b[0;34m=\u001b[0m\u001b[0mheaders\u001b[0m\u001b[0;34m,\u001b[0m\u001b[0;34m\u001b[0m\u001b[0;34m\u001b[0m\u001b[0m\n\u001b[0;32m--> 600\u001b[0;31m                                                   chunked=chunked)\n\u001b[0m\u001b[1;32m    601\u001b[0m \u001b[0;34m\u001b[0m\u001b[0m\n",
      "\u001b[0;32m/usr/lib/python3/dist-packages/urllib3/connectionpool.py\u001b[0m in \u001b[0;36m_make_request\u001b[0;34m(self, conn, method, url, timeout, chunked, **httplib_request_kw)\u001b[0m\n\u001b[1;32m    342\u001b[0m         \u001b[0;32mtry\u001b[0m\u001b[0;34m:\u001b[0m\u001b[0;34m\u001b[0m\u001b[0;34m\u001b[0m\u001b[0m\n\u001b[0;32m--> 343\u001b[0;31m             \u001b[0mself\u001b[0m\u001b[0;34m.\u001b[0m\u001b[0m_validate_conn\u001b[0m\u001b[0;34m(\u001b[0m\u001b[0mconn\u001b[0m\u001b[0;34m)\u001b[0m\u001b[0;34m\u001b[0m\u001b[0;34m\u001b[0m\u001b[0m\n\u001b[0m\u001b[1;32m    344\u001b[0m         \u001b[0;32mexcept\u001b[0m \u001b[0;34m(\u001b[0m\u001b[0mSocketTimeout\u001b[0m\u001b[0;34m,\u001b[0m \u001b[0mBaseSSLError\u001b[0m\u001b[0;34m)\u001b[0m \u001b[0;32mas\u001b[0m \u001b[0me\u001b[0m\u001b[0;34m:\u001b[0m\u001b[0;34m\u001b[0m\u001b[0;34m\u001b[0m\u001b[0m\n",
      "\u001b[0;32m/usr/lib/python3/dist-packages/urllib3/connectionpool.py\u001b[0m in \u001b[0;36m_validate_conn\u001b[0;34m(self, conn)\u001b[0m\n\u001b[1;32m    840\u001b[0m         \u001b[0;32mif\u001b[0m \u001b[0;32mnot\u001b[0m \u001b[0mgetattr\u001b[0m\u001b[0;34m(\u001b[0m\u001b[0mconn\u001b[0m\u001b[0;34m,\u001b[0m \u001b[0;34m'sock'\u001b[0m\u001b[0;34m,\u001b[0m \u001b[0;32mNone\u001b[0m\u001b[0;34m)\u001b[0m\u001b[0;34m:\u001b[0m  \u001b[0;31m# AppEngine might not have  `.sock`\u001b[0m\u001b[0;34m\u001b[0m\u001b[0;34m\u001b[0m\u001b[0m\n\u001b[0;32m--> 841\u001b[0;31m             \u001b[0mconn\u001b[0m\u001b[0;34m.\u001b[0m\u001b[0mconnect\u001b[0m\u001b[0;34m(\u001b[0m\u001b[0;34m)\u001b[0m\u001b[0;34m\u001b[0m\u001b[0;34m\u001b[0m\u001b[0m\n\u001b[0m\u001b[1;32m    842\u001b[0m \u001b[0;34m\u001b[0m\u001b[0m\n",
      "\u001b[0;32m/usr/lib/python3/dist-packages/urllib3/connection.py\u001b[0m in \u001b[0;36mconnect\u001b[0;34m(self)\u001b[0m\n\u001b[1;32m    300\u001b[0m         \u001b[0;31m# Add certificate verification\u001b[0m\u001b[0;34m\u001b[0m\u001b[0;34m\u001b[0m\u001b[0;34m\u001b[0m\u001b[0m\n\u001b[0;32m--> 301\u001b[0;31m         \u001b[0mconn\u001b[0m \u001b[0;34m=\u001b[0m \u001b[0mself\u001b[0m\u001b[0;34m.\u001b[0m\u001b[0m_new_conn\u001b[0m\u001b[0;34m(\u001b[0m\u001b[0;34m)\u001b[0m\u001b[0;34m\u001b[0m\u001b[0;34m\u001b[0m\u001b[0m\n\u001b[0m\u001b[1;32m    302\u001b[0m         \u001b[0mhostname\u001b[0m \u001b[0;34m=\u001b[0m \u001b[0mself\u001b[0m\u001b[0;34m.\u001b[0m\u001b[0mhost\u001b[0m\u001b[0;34m\u001b[0m\u001b[0;34m\u001b[0m\u001b[0m\n",
      "\u001b[0;32m/usr/lib/python3/dist-packages/urllib3/connection.py\u001b[0m in \u001b[0;36m_new_conn\u001b[0;34m(self)\u001b[0m\n\u001b[1;32m    167\u001b[0m             raise NewConnectionError(\n\u001b[0;32m--> 168\u001b[0;31m                 self, \"Failed to establish a new connection: %s\" % e)\n\u001b[0m\u001b[1;32m    169\u001b[0m \u001b[0;34m\u001b[0m\u001b[0m\n",
      "\u001b[0;31mNewConnectionError\u001b[0m: <urllib3.connection.VerifiedHTTPSConnection object at 0x7f620eb1ec18>: Failed to establish a new connection: [Errno 110] Connection timed out",
      "\nDuring handling of the above exception, another exception occurred:\n",
      "\u001b[0;31mMaxRetryError\u001b[0m                             Traceback (most recent call last)",
      "\u001b[0;32m/usr/lib/python3/dist-packages/requests/adapters.py\u001b[0m in \u001b[0;36msend\u001b[0;34m(self, request, stream, timeout, verify, cert, proxies)\u001b[0m\n\u001b[1;32m    448\u001b[0m                     \u001b[0mretries\u001b[0m\u001b[0;34m=\u001b[0m\u001b[0mself\u001b[0m\u001b[0;34m.\u001b[0m\u001b[0mmax_retries\u001b[0m\u001b[0;34m,\u001b[0m\u001b[0;34m\u001b[0m\u001b[0;34m\u001b[0m\u001b[0m\n\u001b[0;32m--> 449\u001b[0;31m                     \u001b[0mtimeout\u001b[0m\u001b[0;34m=\u001b[0m\u001b[0mtimeout\u001b[0m\u001b[0;34m\u001b[0m\u001b[0;34m\u001b[0m\u001b[0m\n\u001b[0m\u001b[1;32m    450\u001b[0m                 )\n",
      "\u001b[0;32m/usr/lib/python3/dist-packages/urllib3/connectionpool.py\u001b[0m in \u001b[0;36murlopen\u001b[0;34m(self, method, url, body, headers, retries, redirect, assert_same_host, timeout, pool_timeout, release_conn, chunked, body_pos, **response_kw)\u001b[0m\n\u001b[1;32m    637\u001b[0m             retries = retries.increment(method, url, error=e, _pool=self,\n\u001b[0;32m--> 638\u001b[0;31m                                         _stacktrace=sys.exc_info()[2])\n\u001b[0m\u001b[1;32m    639\u001b[0m             \u001b[0mretries\u001b[0m\u001b[0;34m.\u001b[0m\u001b[0msleep\u001b[0m\u001b[0;34m(\u001b[0m\u001b[0;34m)\u001b[0m\u001b[0;34m\u001b[0m\u001b[0;34m\u001b[0m\u001b[0m\n",
      "\u001b[0;32m/usr/lib/python3/dist-packages/urllib3/util/retry.py\u001b[0m in \u001b[0;36mincrement\u001b[0;34m(self, method, url, response, error, _pool, _stacktrace)\u001b[0m\n\u001b[1;32m    397\u001b[0m         \u001b[0;32mif\u001b[0m \u001b[0mnew_retry\u001b[0m\u001b[0;34m.\u001b[0m\u001b[0mis_exhausted\u001b[0m\u001b[0;34m(\u001b[0m\u001b[0;34m)\u001b[0m\u001b[0;34m:\u001b[0m\u001b[0;34m\u001b[0m\u001b[0;34m\u001b[0m\u001b[0m\n\u001b[0;32m--> 398\u001b[0;31m             \u001b[0;32mraise\u001b[0m \u001b[0mMaxRetryError\u001b[0m\u001b[0;34m(\u001b[0m\u001b[0m_pool\u001b[0m\u001b[0;34m,\u001b[0m \u001b[0murl\u001b[0m\u001b[0;34m,\u001b[0m \u001b[0merror\u001b[0m \u001b[0;32mor\u001b[0m \u001b[0mResponseError\u001b[0m\u001b[0;34m(\u001b[0m\u001b[0mcause\u001b[0m\u001b[0;34m)\u001b[0m\u001b[0;34m)\u001b[0m\u001b[0;34m\u001b[0m\u001b[0;34m\u001b[0m\u001b[0m\n\u001b[0m\u001b[1;32m    399\u001b[0m \u001b[0;34m\u001b[0m\u001b[0m\n",
      "\u001b[0;31mMaxRetryError\u001b[0m: HTTPSConnectionPool(host='dev.tenants.aloedev.tacc.cloud', port=443): Max retries exceeded with url: /actors/v2/peorL6Eg4GPW3/executions/qgaMAVppBVeep/logs (Caused by NewConnectionError('<urllib3.connection.VerifiedHTTPSConnection object at 0x7f620eb1ec18>: Failed to establish a new connection: [Errno 110] Connection timed out'))",
      "\nDuring handling of the above exception, another exception occurred:\n",
      "\u001b[0;31mConnectionError\u001b[0m                           Traceback (most recent call last)",
      "\u001b[0;32m<ipython-input-208-17d60a2d3f75>\u001b[0m in \u001b[0;36m<module>\u001b[0;34m\u001b[0m\n\u001b[1;32m     34\u001b[0m         \u001b[0;32mfor\u001b[0m \u001b[0mexec_id\u001b[0m \u001b[0;32min\u001b[0m \u001b[0mexec_id_list\u001b[0m\u001b[0;34m:\u001b[0m\u001b[0;34m\u001b[0m\u001b[0;34m\u001b[0m\u001b[0m\n\u001b[1;32m     35\u001b[0m             exec_logs = r.get(f\"{url}/{actor_id}/executions/{exec_id}/logs\",\n\u001b[0;32m---> 36\u001b[0;31m                               headers=header_dat)\n\u001b[0m\u001b[1;32m     37\u001b[0m \u001b[0;34m\u001b[0m\u001b[0m\n\u001b[1;32m     38\u001b[0m             \u001b[0mlogs\u001b[0m \u001b[0;34m=\u001b[0m \u001b[0mexec_logs\u001b[0m\u001b[0;34m.\u001b[0m\u001b[0mjson\u001b[0m\u001b[0;34m(\u001b[0m\u001b[0;34m)\u001b[0m\u001b[0;34m[\u001b[0m\u001b[0;34m'result'\u001b[0m\u001b[0;34m]\u001b[0m\u001b[0;34m[\u001b[0m\u001b[0;34m'logs'\u001b[0m\u001b[0;34m]\u001b[0m\u001b[0;34m\u001b[0m\u001b[0;34m\u001b[0m\u001b[0m\n",
      "\u001b[0;32m/usr/lib/python3/dist-packages/requests/api.py\u001b[0m in \u001b[0;36mget\u001b[0;34m(url, params, **kwargs)\u001b[0m\n\u001b[1;32m     73\u001b[0m \u001b[0;34m\u001b[0m\u001b[0m\n\u001b[1;32m     74\u001b[0m     \u001b[0mkwargs\u001b[0m\u001b[0;34m.\u001b[0m\u001b[0msetdefault\u001b[0m\u001b[0;34m(\u001b[0m\u001b[0;34m'allow_redirects'\u001b[0m\u001b[0;34m,\u001b[0m \u001b[0;32mTrue\u001b[0m\u001b[0;34m)\u001b[0m\u001b[0;34m\u001b[0m\u001b[0;34m\u001b[0m\u001b[0m\n\u001b[0;32m---> 75\u001b[0;31m     \u001b[0;32mreturn\u001b[0m \u001b[0mrequest\u001b[0m\u001b[0;34m(\u001b[0m\u001b[0;34m'get'\u001b[0m\u001b[0;34m,\u001b[0m \u001b[0murl\u001b[0m\u001b[0;34m,\u001b[0m \u001b[0mparams\u001b[0m\u001b[0;34m=\u001b[0m\u001b[0mparams\u001b[0m\u001b[0;34m,\u001b[0m \u001b[0;34m**\u001b[0m\u001b[0mkwargs\u001b[0m\u001b[0;34m)\u001b[0m\u001b[0;34m\u001b[0m\u001b[0;34m\u001b[0m\u001b[0m\n\u001b[0m\u001b[1;32m     76\u001b[0m \u001b[0;34m\u001b[0m\u001b[0m\n\u001b[1;32m     77\u001b[0m \u001b[0;34m\u001b[0m\u001b[0m\n",
      "\u001b[0;32m/usr/lib/python3/dist-packages/requests/api.py\u001b[0m in \u001b[0;36mrequest\u001b[0;34m(method, url, **kwargs)\u001b[0m\n\u001b[1;32m     58\u001b[0m     \u001b[0;31m# cases, and look like a memory leak in others.\u001b[0m\u001b[0;34m\u001b[0m\u001b[0;34m\u001b[0m\u001b[0;34m\u001b[0m\u001b[0m\n\u001b[1;32m     59\u001b[0m     \u001b[0;32mwith\u001b[0m \u001b[0msessions\u001b[0m\u001b[0;34m.\u001b[0m\u001b[0mSession\u001b[0m\u001b[0;34m(\u001b[0m\u001b[0;34m)\u001b[0m \u001b[0;32mas\u001b[0m \u001b[0msession\u001b[0m\u001b[0;34m:\u001b[0m\u001b[0;34m\u001b[0m\u001b[0;34m\u001b[0m\u001b[0m\n\u001b[0;32m---> 60\u001b[0;31m         \u001b[0;32mreturn\u001b[0m \u001b[0msession\u001b[0m\u001b[0;34m.\u001b[0m\u001b[0mrequest\u001b[0m\u001b[0;34m(\u001b[0m\u001b[0mmethod\u001b[0m\u001b[0;34m=\u001b[0m\u001b[0mmethod\u001b[0m\u001b[0;34m,\u001b[0m \u001b[0murl\u001b[0m\u001b[0;34m=\u001b[0m\u001b[0murl\u001b[0m\u001b[0;34m,\u001b[0m \u001b[0;34m**\u001b[0m\u001b[0mkwargs\u001b[0m\u001b[0;34m)\u001b[0m\u001b[0;34m\u001b[0m\u001b[0;34m\u001b[0m\u001b[0m\n\u001b[0m\u001b[1;32m     61\u001b[0m \u001b[0;34m\u001b[0m\u001b[0m\n\u001b[1;32m     62\u001b[0m \u001b[0;34m\u001b[0m\u001b[0m\n",
      "\u001b[0;32m/usr/lib/python3/dist-packages/requests/sessions.py\u001b[0m in \u001b[0;36mrequest\u001b[0;34m(self, method, url, params, data, headers, cookies, files, auth, timeout, allow_redirects, proxies, hooks, stream, verify, cert, json)\u001b[0m\n\u001b[1;32m    531\u001b[0m         }\n\u001b[1;32m    532\u001b[0m         \u001b[0msend_kwargs\u001b[0m\u001b[0;34m.\u001b[0m\u001b[0mupdate\u001b[0m\u001b[0;34m(\u001b[0m\u001b[0msettings\u001b[0m\u001b[0;34m)\u001b[0m\u001b[0;34m\u001b[0m\u001b[0;34m\u001b[0m\u001b[0m\n\u001b[0;32m--> 533\u001b[0;31m         \u001b[0mresp\u001b[0m \u001b[0;34m=\u001b[0m \u001b[0mself\u001b[0m\u001b[0;34m.\u001b[0m\u001b[0msend\u001b[0m\u001b[0;34m(\u001b[0m\u001b[0mprep\u001b[0m\u001b[0;34m,\u001b[0m \u001b[0;34m**\u001b[0m\u001b[0msend_kwargs\u001b[0m\u001b[0;34m)\u001b[0m\u001b[0;34m\u001b[0m\u001b[0;34m\u001b[0m\u001b[0m\n\u001b[0m\u001b[1;32m    534\u001b[0m \u001b[0;34m\u001b[0m\u001b[0m\n\u001b[1;32m    535\u001b[0m         \u001b[0;32mreturn\u001b[0m \u001b[0mresp\u001b[0m\u001b[0;34m\u001b[0m\u001b[0;34m\u001b[0m\u001b[0m\n",
      "\u001b[0;32m/usr/lib/python3/dist-packages/requests/sessions.py\u001b[0m in \u001b[0;36msend\u001b[0;34m(self, request, **kwargs)\u001b[0m\n\u001b[1;32m    644\u001b[0m \u001b[0;34m\u001b[0m\u001b[0m\n\u001b[1;32m    645\u001b[0m         \u001b[0;31m# Send the request\u001b[0m\u001b[0;34m\u001b[0m\u001b[0;34m\u001b[0m\u001b[0;34m\u001b[0m\u001b[0m\n\u001b[0;32m--> 646\u001b[0;31m         \u001b[0mr\u001b[0m \u001b[0;34m=\u001b[0m \u001b[0madapter\u001b[0m\u001b[0;34m.\u001b[0m\u001b[0msend\u001b[0m\u001b[0;34m(\u001b[0m\u001b[0mrequest\u001b[0m\u001b[0;34m,\u001b[0m \u001b[0;34m**\u001b[0m\u001b[0mkwargs\u001b[0m\u001b[0;34m)\u001b[0m\u001b[0;34m\u001b[0m\u001b[0;34m\u001b[0m\u001b[0m\n\u001b[0m\u001b[1;32m    647\u001b[0m \u001b[0;34m\u001b[0m\u001b[0m\n\u001b[1;32m    648\u001b[0m         \u001b[0;31m# Total elapsed time of the request (approximately)\u001b[0m\u001b[0;34m\u001b[0m\u001b[0;34m\u001b[0m\u001b[0;34m\u001b[0m\u001b[0m\n",
      "\u001b[0;32m/usr/lib/python3/dist-packages/requests/adapters.py\u001b[0m in \u001b[0;36msend\u001b[0;34m(self, request, stream, timeout, verify, cert, proxies)\u001b[0m\n\u001b[1;32m    514\u001b[0m                 \u001b[0;32mraise\u001b[0m \u001b[0mSSLError\u001b[0m\u001b[0;34m(\u001b[0m\u001b[0me\u001b[0m\u001b[0;34m,\u001b[0m \u001b[0mrequest\u001b[0m\u001b[0;34m=\u001b[0m\u001b[0mrequest\u001b[0m\u001b[0;34m)\u001b[0m\u001b[0;34m\u001b[0m\u001b[0;34m\u001b[0m\u001b[0m\n\u001b[1;32m    515\u001b[0m \u001b[0;34m\u001b[0m\u001b[0m\n\u001b[0;32m--> 516\u001b[0;31m             \u001b[0;32mraise\u001b[0m \u001b[0mConnectionError\u001b[0m\u001b[0;34m(\u001b[0m\u001b[0me\u001b[0m\u001b[0;34m,\u001b[0m \u001b[0mrequest\u001b[0m\u001b[0;34m=\u001b[0m\u001b[0mrequest\u001b[0m\u001b[0;34m)\u001b[0m\u001b[0;34m\u001b[0m\u001b[0;34m\u001b[0m\u001b[0m\n\u001b[0m\u001b[1;32m    517\u001b[0m \u001b[0;34m\u001b[0m\u001b[0m\n\u001b[1;32m    518\u001b[0m         \u001b[0;32mexcept\u001b[0m \u001b[0mClosedPoolError\u001b[0m \u001b[0;32mas\u001b[0m \u001b[0me\u001b[0m\u001b[0;34m:\u001b[0m\u001b[0;34m\u001b[0m\u001b[0;34m\u001b[0m\u001b[0m\n",
      "\u001b[0;31mConnectionError\u001b[0m: HTTPSConnectionPool(host='dev.tenants.aloedev.tacc.cloud', port=443): Max retries exceeded with url: /actors/v2/peorL6Eg4GPW3/executions/qgaMAVppBVeep/logs (Caused by NewConnectionError('<urllib3.connection.VerifiedHTTPSConnection object at 0x7f620eb1ec18>: Failed to establish a new connection: [Errno 110] Connection timed out'))"
     ]
    }
   ],
   "source": [
    "all_data = pd.DataFrame()\n",
    "\n",
    "actor_id = 'peorL6Eg4GPW3'\n",
    "\n",
    "nodes = 1\n",
    "workers_per_node = 6\n",
    "messages_per_worker = 10\n",
    "\n",
    "threads = 0        # set to 0 for all threads\n",
    "std_dev = 1000\n",
    "size = 1000\n",
    "executions = nodes * workers_per_node * messages_per_worker\n",
    "messageDat = f'{threads} {std_dev} {size}'\n",
    "runs = 3\n",
    "\n",
    "for run_num in range(1, runs + 1):\n",
    "    print(f'Starting Run {run_num}.')\n",
    "    msg_start = time.time()\n",
    "    exec_id_list = []\n",
    "    for i in range(executions):\n",
    "        execution = r.post(f\"{url}/{actor_id}/messages\",\n",
    "                           headers=header_dat,\n",
    "                           data={'message':messageDat})\n",
    "        exec_id = execution.json()['result']['executionId']\n",
    "        exec_id_list.append(exec_id)\n",
    "        print(f'\\rCreated execution: {i+1}', end='')\n",
    "    msg_end = time.time()\n",
    "\n",
    "    exec_start = time.time()\n",
    "    results_list = []\n",
    "    \n",
    "    executions_completed = 0\n",
    "    while exec_id_list:\n",
    "        for exec_id in exec_id_list:\n",
    "            exec_logs = r.get(f\"{url}/{actor_id}/executions/{exec_id}/logs\",\n",
    "                              headers=header_dat)\n",
    "\n",
    "            logs = exec_logs.json()['result']['logs']\n",
    "            if logs:\n",
    "                print(f'\\rExecutions completed: {executions_completed + 1}', end='')\n",
    "                results_list.append([f'id - {exec_id}', float(logs.replace('\\n',''))])\n",
    "                exec_id_list.remove(exec_id)\n",
    "                executions_completed += 1\n",
    "    exec_end = time.time()\n",
    "\n",
    "    work_time = 0\n",
    "    for res in results_list:\n",
    "        work_time += res[1]\n",
    "\n",
    "    print(f\"\\n\\nRun Number {run_num}\")\n",
    "    if threads:\n",
    "        print(f\"Threads: {threads}\")\n",
    "    print(f\"Std Dev: {std_dev}\")\n",
    "    print(f\"Size: {size}\")\n",
    "    print(f\"Executions: {executions}\")\n",
    "    print(f\"Message Time: {msg_end - msg_start}\")\n",
    "    print(f\"Exec Time: {exec_end - exec_start}\")\n",
    "    print(f\"Work Time: {work_time}\")\n",
    "    print('\\n')\n",
    "\n",
    "    run_data = pd.DataFrame([[run_num, threads, std_dev, size, executions, msg_end - msg_start, exec_end - exec_start, work_time]],\n",
    "                            columns=['Run Number', 'Threads', 'Std Dev', 'Size', 'Executions', 'Message Time', 'Exec Time', 'Work Time'])\n",
    "    all_data = all_data.append(run_data, ignore_index = True)\n",
    "all_data.to_csv(f'{nodes}_nodes_{runs}_trials.csv')"
   ]
  },
  {
   "cell_type": "markdown",
   "metadata": {},
   "source": [
    "# Hyper Parameter Testing"
   ]
  },
  {
   "cell_type": "code",
   "execution_count": 210,
   "metadata": {},
   "outputs": [
    {
     "name": "stdout",
     "output_type": "stream",
     "text": [
      "Starting Run 1.\n",
      "Executions completed: 30\n",
      "\n",
      "Run Number 1\n",
      "Std Dev: 1000\n",
      "Size: 1000\n",
      "Executions: 30\n",
      "Message Time: 10.57057499885559\n",
      "Exec Time: 8.321146488189697\n",
      "Work Time: 5.268710374832153\n",
      "\n",
      "\n",
      "Starting Run 2.\n",
      "Executions completed: 30\n",
      "\n",
      "Run Number 2\n",
      "Std Dev: 1000\n",
      "Size: 1000\n",
      "Executions: 30\n",
      "Message Time: 10.498677730560303\n",
      "Exec Time: 8.396994590759277\n",
      "Work Time: 5.237282752990723\n",
      "\n",
      "\n",
      "Starting Run 3.\n",
      "Executions completed: 30\n",
      "\n",
      "Run Number 3\n",
      "Std Dev: 1000\n",
      "Size: 1000\n",
      "Executions: 30\n",
      "Message Time: 10.862265586853027\n",
      "Exec Time: 7.899100303649902\n",
      "Work Time: 4.8247764110565186\n",
      "\n",
      "\n",
      "Starting Run 1.\n",
      "Created execution: 13"
     ]
    },
    {
     "ename": "KeyboardInterrupt",
     "evalue": "",
     "output_type": "error",
     "traceback": [
      "\u001b[0;31m---------------------------------------------------------------------------\u001b[0m",
      "\u001b[0;31mKeyboardInterrupt\u001b[0m                         Traceback (most recent call last)",
      "\u001b[0;32m<ipython-input-210-ac8f1428d4d1>\u001b[0m in \u001b[0;36m<module>\u001b[0;34m\u001b[0m\n\u001b[1;32m     22\u001b[0m             execution = r.post(f\"{url}/{actor_id}/messages\",\n\u001b[1;32m     23\u001b[0m                                \u001b[0mheaders\u001b[0m\u001b[0;34m=\u001b[0m\u001b[0mheader_dat\u001b[0m\u001b[0;34m,\u001b[0m\u001b[0;34m\u001b[0m\u001b[0;34m\u001b[0m\u001b[0m\n\u001b[0;32m---> 24\u001b[0;31m                                data={'message':messageDat})\n\u001b[0m\u001b[1;32m     25\u001b[0m             \u001b[0mexec_id\u001b[0m \u001b[0;34m=\u001b[0m \u001b[0mexecution\u001b[0m\u001b[0;34m.\u001b[0m\u001b[0mjson\u001b[0m\u001b[0;34m(\u001b[0m\u001b[0;34m)\u001b[0m\u001b[0;34m[\u001b[0m\u001b[0;34m'result'\u001b[0m\u001b[0;34m]\u001b[0m\u001b[0;34m[\u001b[0m\u001b[0;34m'executionId'\u001b[0m\u001b[0;34m]\u001b[0m\u001b[0;34m\u001b[0m\u001b[0;34m\u001b[0m\u001b[0m\n\u001b[1;32m     26\u001b[0m             \u001b[0mexec_id_list\u001b[0m\u001b[0;34m.\u001b[0m\u001b[0mappend\u001b[0m\u001b[0;34m(\u001b[0m\u001b[0mexec_id\u001b[0m\u001b[0;34m)\u001b[0m\u001b[0;34m\u001b[0m\u001b[0;34m\u001b[0m\u001b[0m\n",
      "\u001b[0;32m/usr/lib/python3/dist-packages/requests/api.py\u001b[0m in \u001b[0;36mpost\u001b[0;34m(url, data, json, **kwargs)\u001b[0m\n\u001b[1;32m    114\u001b[0m     \"\"\"\n\u001b[1;32m    115\u001b[0m \u001b[0;34m\u001b[0m\u001b[0m\n\u001b[0;32m--> 116\u001b[0;31m     \u001b[0;32mreturn\u001b[0m \u001b[0mrequest\u001b[0m\u001b[0;34m(\u001b[0m\u001b[0;34m'post'\u001b[0m\u001b[0;34m,\u001b[0m \u001b[0murl\u001b[0m\u001b[0;34m,\u001b[0m \u001b[0mdata\u001b[0m\u001b[0;34m=\u001b[0m\u001b[0mdata\u001b[0m\u001b[0;34m,\u001b[0m \u001b[0mjson\u001b[0m\u001b[0;34m=\u001b[0m\u001b[0mjson\u001b[0m\u001b[0;34m,\u001b[0m \u001b[0;34m**\u001b[0m\u001b[0mkwargs\u001b[0m\u001b[0;34m)\u001b[0m\u001b[0;34m\u001b[0m\u001b[0;34m\u001b[0m\u001b[0m\n\u001b[0m\u001b[1;32m    117\u001b[0m \u001b[0;34m\u001b[0m\u001b[0m\n\u001b[1;32m    118\u001b[0m \u001b[0;34m\u001b[0m\u001b[0m\n",
      "\u001b[0;32m/usr/lib/python3/dist-packages/requests/api.py\u001b[0m in \u001b[0;36mrequest\u001b[0;34m(method, url, **kwargs)\u001b[0m\n\u001b[1;32m     58\u001b[0m     \u001b[0;31m# cases, and look like a memory leak in others.\u001b[0m\u001b[0;34m\u001b[0m\u001b[0;34m\u001b[0m\u001b[0;34m\u001b[0m\u001b[0m\n\u001b[1;32m     59\u001b[0m     \u001b[0;32mwith\u001b[0m \u001b[0msessions\u001b[0m\u001b[0;34m.\u001b[0m\u001b[0mSession\u001b[0m\u001b[0;34m(\u001b[0m\u001b[0;34m)\u001b[0m \u001b[0;32mas\u001b[0m \u001b[0msession\u001b[0m\u001b[0;34m:\u001b[0m\u001b[0;34m\u001b[0m\u001b[0;34m\u001b[0m\u001b[0m\n\u001b[0;32m---> 60\u001b[0;31m         \u001b[0;32mreturn\u001b[0m \u001b[0msession\u001b[0m\u001b[0;34m.\u001b[0m\u001b[0mrequest\u001b[0m\u001b[0;34m(\u001b[0m\u001b[0mmethod\u001b[0m\u001b[0;34m=\u001b[0m\u001b[0mmethod\u001b[0m\u001b[0;34m,\u001b[0m \u001b[0murl\u001b[0m\u001b[0;34m=\u001b[0m\u001b[0murl\u001b[0m\u001b[0;34m,\u001b[0m \u001b[0;34m**\u001b[0m\u001b[0mkwargs\u001b[0m\u001b[0;34m)\u001b[0m\u001b[0;34m\u001b[0m\u001b[0;34m\u001b[0m\u001b[0m\n\u001b[0m\u001b[1;32m     61\u001b[0m \u001b[0;34m\u001b[0m\u001b[0m\n\u001b[1;32m     62\u001b[0m \u001b[0;34m\u001b[0m\u001b[0m\n",
      "\u001b[0;32m/usr/lib/python3/dist-packages/requests/sessions.py\u001b[0m in \u001b[0;36mrequest\u001b[0;34m(self, method, url, params, data, headers, cookies, files, auth, timeout, allow_redirects, proxies, hooks, stream, verify, cert, json)\u001b[0m\n\u001b[1;32m    531\u001b[0m         }\n\u001b[1;32m    532\u001b[0m         \u001b[0msend_kwargs\u001b[0m\u001b[0;34m.\u001b[0m\u001b[0mupdate\u001b[0m\u001b[0;34m(\u001b[0m\u001b[0msettings\u001b[0m\u001b[0;34m)\u001b[0m\u001b[0;34m\u001b[0m\u001b[0;34m\u001b[0m\u001b[0m\n\u001b[0;32m--> 533\u001b[0;31m         \u001b[0mresp\u001b[0m \u001b[0;34m=\u001b[0m \u001b[0mself\u001b[0m\u001b[0;34m.\u001b[0m\u001b[0msend\u001b[0m\u001b[0;34m(\u001b[0m\u001b[0mprep\u001b[0m\u001b[0;34m,\u001b[0m \u001b[0;34m**\u001b[0m\u001b[0msend_kwargs\u001b[0m\u001b[0;34m)\u001b[0m\u001b[0;34m\u001b[0m\u001b[0;34m\u001b[0m\u001b[0m\n\u001b[0m\u001b[1;32m    534\u001b[0m \u001b[0;34m\u001b[0m\u001b[0m\n\u001b[1;32m    535\u001b[0m         \u001b[0;32mreturn\u001b[0m \u001b[0mresp\u001b[0m\u001b[0;34m\u001b[0m\u001b[0;34m\u001b[0m\u001b[0m\n",
      "\u001b[0;32m/usr/lib/python3/dist-packages/requests/sessions.py\u001b[0m in \u001b[0;36msend\u001b[0;34m(self, request, **kwargs)\u001b[0m\n\u001b[1;32m    644\u001b[0m \u001b[0;34m\u001b[0m\u001b[0m\n\u001b[1;32m    645\u001b[0m         \u001b[0;31m# Send the request\u001b[0m\u001b[0;34m\u001b[0m\u001b[0;34m\u001b[0m\u001b[0;34m\u001b[0m\u001b[0m\n\u001b[0;32m--> 646\u001b[0;31m         \u001b[0mr\u001b[0m \u001b[0;34m=\u001b[0m \u001b[0madapter\u001b[0m\u001b[0;34m.\u001b[0m\u001b[0msend\u001b[0m\u001b[0;34m(\u001b[0m\u001b[0mrequest\u001b[0m\u001b[0;34m,\u001b[0m \u001b[0;34m**\u001b[0m\u001b[0mkwargs\u001b[0m\u001b[0;34m)\u001b[0m\u001b[0;34m\u001b[0m\u001b[0;34m\u001b[0m\u001b[0m\n\u001b[0m\u001b[1;32m    647\u001b[0m \u001b[0;34m\u001b[0m\u001b[0m\n\u001b[1;32m    648\u001b[0m         \u001b[0;31m# Total elapsed time of the request (approximately)\u001b[0m\u001b[0;34m\u001b[0m\u001b[0;34m\u001b[0m\u001b[0;34m\u001b[0m\u001b[0m\n",
      "\u001b[0;32m/usr/lib/python3/dist-packages/requests/adapters.py\u001b[0m in \u001b[0;36msend\u001b[0;34m(self, request, stream, timeout, verify, cert, proxies)\u001b[0m\n\u001b[1;32m    447\u001b[0m                     \u001b[0mdecode_content\u001b[0m\u001b[0;34m=\u001b[0m\u001b[0;32mFalse\u001b[0m\u001b[0;34m,\u001b[0m\u001b[0;34m\u001b[0m\u001b[0;34m\u001b[0m\u001b[0m\n\u001b[1;32m    448\u001b[0m                     \u001b[0mretries\u001b[0m\u001b[0;34m=\u001b[0m\u001b[0mself\u001b[0m\u001b[0;34m.\u001b[0m\u001b[0mmax_retries\u001b[0m\u001b[0;34m,\u001b[0m\u001b[0;34m\u001b[0m\u001b[0;34m\u001b[0m\u001b[0m\n\u001b[0;32m--> 449\u001b[0;31m                     \u001b[0mtimeout\u001b[0m\u001b[0;34m=\u001b[0m\u001b[0mtimeout\u001b[0m\u001b[0;34m\u001b[0m\u001b[0;34m\u001b[0m\u001b[0m\n\u001b[0m\u001b[1;32m    450\u001b[0m                 )\n\u001b[1;32m    451\u001b[0m \u001b[0;34m\u001b[0m\u001b[0m\n",
      "\u001b[0;32m/usr/lib/python3/dist-packages/urllib3/connectionpool.py\u001b[0m in \u001b[0;36murlopen\u001b[0;34m(self, method, url, body, headers, retries, redirect, assert_same_host, timeout, pool_timeout, release_conn, chunked, body_pos, **response_kw)\u001b[0m\n\u001b[1;32m    598\u001b[0m                                                   \u001b[0mtimeout\u001b[0m\u001b[0;34m=\u001b[0m\u001b[0mtimeout_obj\u001b[0m\u001b[0;34m,\u001b[0m\u001b[0;34m\u001b[0m\u001b[0;34m\u001b[0m\u001b[0m\n\u001b[1;32m    599\u001b[0m                                                   \u001b[0mbody\u001b[0m\u001b[0;34m=\u001b[0m\u001b[0mbody\u001b[0m\u001b[0;34m,\u001b[0m \u001b[0mheaders\u001b[0m\u001b[0;34m=\u001b[0m\u001b[0mheaders\u001b[0m\u001b[0;34m,\u001b[0m\u001b[0;34m\u001b[0m\u001b[0;34m\u001b[0m\u001b[0m\n\u001b[0;32m--> 600\u001b[0;31m                                                   chunked=chunked)\n\u001b[0m\u001b[1;32m    601\u001b[0m \u001b[0;34m\u001b[0m\u001b[0m\n\u001b[1;32m    602\u001b[0m             \u001b[0;31m# If we're going to release the connection in ``finally:``, then\u001b[0m\u001b[0;34m\u001b[0m\u001b[0;34m\u001b[0m\u001b[0;34m\u001b[0m\u001b[0m\n",
      "\u001b[0;32m/usr/lib/python3/dist-packages/urllib3/connectionpool.py\u001b[0m in \u001b[0;36m_make_request\u001b[0;34m(self, conn, method, url, timeout, chunked, **httplib_request_kw)\u001b[0m\n\u001b[1;32m    341\u001b[0m         \u001b[0;31m# Trigger any extra validation we need to do.\u001b[0m\u001b[0;34m\u001b[0m\u001b[0;34m\u001b[0m\u001b[0;34m\u001b[0m\u001b[0m\n\u001b[1;32m    342\u001b[0m         \u001b[0;32mtry\u001b[0m\u001b[0;34m:\u001b[0m\u001b[0;34m\u001b[0m\u001b[0;34m\u001b[0m\u001b[0m\n\u001b[0;32m--> 343\u001b[0;31m             \u001b[0mself\u001b[0m\u001b[0;34m.\u001b[0m\u001b[0m_validate_conn\u001b[0m\u001b[0;34m(\u001b[0m\u001b[0mconn\u001b[0m\u001b[0;34m)\u001b[0m\u001b[0;34m\u001b[0m\u001b[0;34m\u001b[0m\u001b[0m\n\u001b[0m\u001b[1;32m    344\u001b[0m         \u001b[0;32mexcept\u001b[0m \u001b[0;34m(\u001b[0m\u001b[0mSocketTimeout\u001b[0m\u001b[0;34m,\u001b[0m \u001b[0mBaseSSLError\u001b[0m\u001b[0;34m)\u001b[0m \u001b[0;32mas\u001b[0m \u001b[0me\u001b[0m\u001b[0;34m:\u001b[0m\u001b[0;34m\u001b[0m\u001b[0;34m\u001b[0m\u001b[0m\n\u001b[1;32m    345\u001b[0m             \u001b[0;31m# Py2 raises this as a BaseSSLError, Py3 raises it as socket timeout.\u001b[0m\u001b[0;34m\u001b[0m\u001b[0;34m\u001b[0m\u001b[0;34m\u001b[0m\u001b[0m\n",
      "\u001b[0;32m/usr/lib/python3/dist-packages/urllib3/connectionpool.py\u001b[0m in \u001b[0;36m_validate_conn\u001b[0;34m(self, conn)\u001b[0m\n\u001b[1;32m    839\u001b[0m         \u001b[0;31m# Force connect early to allow us to validate the connection.\u001b[0m\u001b[0;34m\u001b[0m\u001b[0;34m\u001b[0m\u001b[0;34m\u001b[0m\u001b[0m\n\u001b[1;32m    840\u001b[0m         \u001b[0;32mif\u001b[0m \u001b[0;32mnot\u001b[0m \u001b[0mgetattr\u001b[0m\u001b[0;34m(\u001b[0m\u001b[0mconn\u001b[0m\u001b[0;34m,\u001b[0m \u001b[0;34m'sock'\u001b[0m\u001b[0;34m,\u001b[0m \u001b[0;32mNone\u001b[0m\u001b[0;34m)\u001b[0m\u001b[0;34m:\u001b[0m  \u001b[0;31m# AppEngine might not have  `.sock`\u001b[0m\u001b[0;34m\u001b[0m\u001b[0;34m\u001b[0m\u001b[0m\n\u001b[0;32m--> 841\u001b[0;31m             \u001b[0mconn\u001b[0m\u001b[0;34m.\u001b[0m\u001b[0mconnect\u001b[0m\u001b[0;34m(\u001b[0m\u001b[0;34m)\u001b[0m\u001b[0;34m\u001b[0m\u001b[0;34m\u001b[0m\u001b[0m\n\u001b[0m\u001b[1;32m    842\u001b[0m \u001b[0;34m\u001b[0m\u001b[0m\n\u001b[1;32m    843\u001b[0m         \u001b[0;32mif\u001b[0m \u001b[0;32mnot\u001b[0m \u001b[0mconn\u001b[0m\u001b[0;34m.\u001b[0m\u001b[0mis_verified\u001b[0m\u001b[0;34m:\u001b[0m\u001b[0;34m\u001b[0m\u001b[0;34m\u001b[0m\u001b[0m\n",
      "\u001b[0;32m/usr/lib/python3/dist-packages/urllib3/connection.py\u001b[0m in \u001b[0;36mconnect\u001b[0;34m(self)\u001b[0m\n\u001b[1;32m    299\u001b[0m     \u001b[0;32mdef\u001b[0m \u001b[0mconnect\u001b[0m\u001b[0;34m(\u001b[0m\u001b[0mself\u001b[0m\u001b[0;34m)\u001b[0m\u001b[0;34m:\u001b[0m\u001b[0;34m\u001b[0m\u001b[0;34m\u001b[0m\u001b[0m\n\u001b[1;32m    300\u001b[0m         \u001b[0;31m# Add certificate verification\u001b[0m\u001b[0;34m\u001b[0m\u001b[0;34m\u001b[0m\u001b[0;34m\u001b[0m\u001b[0m\n\u001b[0;32m--> 301\u001b[0;31m         \u001b[0mconn\u001b[0m \u001b[0;34m=\u001b[0m \u001b[0mself\u001b[0m\u001b[0;34m.\u001b[0m\u001b[0m_new_conn\u001b[0m\u001b[0;34m(\u001b[0m\u001b[0;34m)\u001b[0m\u001b[0;34m\u001b[0m\u001b[0;34m\u001b[0m\u001b[0m\n\u001b[0m\u001b[1;32m    302\u001b[0m         \u001b[0mhostname\u001b[0m \u001b[0;34m=\u001b[0m \u001b[0mself\u001b[0m\u001b[0;34m.\u001b[0m\u001b[0mhost\u001b[0m\u001b[0;34m\u001b[0m\u001b[0;34m\u001b[0m\u001b[0m\n\u001b[1;32m    303\u001b[0m \u001b[0;34m\u001b[0m\u001b[0m\n",
      "\u001b[0;32m/usr/lib/python3/dist-packages/urllib3/connection.py\u001b[0m in \u001b[0;36m_new_conn\u001b[0;34m(self)\u001b[0m\n\u001b[1;32m    157\u001b[0m         \u001b[0;32mtry\u001b[0m\u001b[0;34m:\u001b[0m\u001b[0;34m\u001b[0m\u001b[0;34m\u001b[0m\u001b[0m\n\u001b[1;32m    158\u001b[0m             conn = connection.create_connection(\n\u001b[0;32m--> 159\u001b[0;31m                 (self._dns_host, self.port), self.timeout, **extra_kw)\n\u001b[0m\u001b[1;32m    160\u001b[0m \u001b[0;34m\u001b[0m\u001b[0m\n\u001b[1;32m    161\u001b[0m         \u001b[0;32mexcept\u001b[0m \u001b[0mSocketTimeout\u001b[0m\u001b[0;34m:\u001b[0m\u001b[0;34m\u001b[0m\u001b[0;34m\u001b[0m\u001b[0m\n",
      "\u001b[0;32m/usr/lib/python3/dist-packages/urllib3/util/connection.py\u001b[0m in \u001b[0;36mcreate_connection\u001b[0;34m(address, timeout, source_address, socket_options)\u001b[0m\n\u001b[1;32m     68\u001b[0m             \u001b[0;32mif\u001b[0m \u001b[0msource_address\u001b[0m\u001b[0;34m:\u001b[0m\u001b[0;34m\u001b[0m\u001b[0;34m\u001b[0m\u001b[0m\n\u001b[1;32m     69\u001b[0m                 \u001b[0msock\u001b[0m\u001b[0;34m.\u001b[0m\u001b[0mbind\u001b[0m\u001b[0;34m(\u001b[0m\u001b[0msource_address\u001b[0m\u001b[0;34m)\u001b[0m\u001b[0;34m\u001b[0m\u001b[0;34m\u001b[0m\u001b[0m\n\u001b[0;32m---> 70\u001b[0;31m             \u001b[0msock\u001b[0m\u001b[0;34m.\u001b[0m\u001b[0mconnect\u001b[0m\u001b[0;34m(\u001b[0m\u001b[0msa\u001b[0m\u001b[0;34m)\u001b[0m\u001b[0;34m\u001b[0m\u001b[0;34m\u001b[0m\u001b[0m\n\u001b[0m\u001b[1;32m     71\u001b[0m             \u001b[0;32mreturn\u001b[0m \u001b[0msock\u001b[0m\u001b[0;34m\u001b[0m\u001b[0;34m\u001b[0m\u001b[0m\n\u001b[1;32m     72\u001b[0m \u001b[0;34m\u001b[0m\u001b[0m\n",
      "\u001b[0;31mKeyboardInterrupt\u001b[0m: "
     ]
    }
   ],
   "source": [
    "# Hyper paramater tester\n",
    "actor_id = 'peorL6Eg4GPW3'\n",
    "\n",
    "all_data = pd.DataFrame()\n",
    "for test_var in [1000, 2000, 3000]:\n",
    "    nodes = 1\n",
    "    workers_per_node = 6\n",
    "    messages_per_worker = 5\n",
    "\n",
    "    threads = 0        # set to 0 for all threads\n",
    "    std_dev = 1000\n",
    "    size = test_var\n",
    "    executions = nodes * workers_per_node * messages_per_worker\n",
    "    messageDat = f'{threads} {std_dev} {size}'\n",
    "    runs = 3\n",
    "\n",
    "    for run_num in range(1, runs + 1):\n",
    "        print(f'Starting Run {run_num}.')\n",
    "        msg_start = time.time()\n",
    "        exec_id_list = []\n",
    "        for i in range(executions):\n",
    "            execution = r.post(f\"{url}/{actor_id}/messages\",\n",
    "                               headers=header_dat,\n",
    "                               data={'message':messageDat})\n",
    "            exec_id = execution.json()['result']['executionId']\n",
    "            exec_id_list.append(exec_id)\n",
    "            print(f'\\rCreated execution: {i+1}', end='')\n",
    "        msg_end = time.time()\n",
    "\n",
    "        exec_start = time.time()\n",
    "        results_list = []\n",
    "\n",
    "        executions_completed = 0\n",
    "        while exec_id_list:\n",
    "            for exec_id in exec_id_list:\n",
    "                exec_logs = r.get(f\"{url}/{actor_id}/executions/{exec_id}/logs\",\n",
    "                                  headers=header_dat)\n",
    "\n",
    "                logs = exec_logs.json()['result']['logs']\n",
    "                if logs:\n",
    "                    print(f'\\rExecutions completed: {executions_completed + 1}', end='')\n",
    "                    results_list.append([f'id - {exec_id}', float(logs.replace('\\n',''))])\n",
    "                    exec_id_list.remove(exec_id)\n",
    "                    executions_completed += 1\n",
    "        exec_end = time.time()\n",
    "\n",
    "        work_time = 0\n",
    "        for res in results_list:\n",
    "            work_time += res[1]\n",
    "\n",
    "        print(f\"\\n\\nRun Number {run_num}\")\n",
    "        if threads:\n",
    "            print(f\"Threads: {threads}\")\n",
    "        print(f\"Std Dev: {std_dev}\")\n",
    "        print(f\"Size: {size}\")\n",
    "        print(f\"Executions: {executions}\")\n",
    "        print(f\"Message Time: {msg_end - msg_start}\")\n",
    "        print(f\"Exec Time: {exec_end - exec_start}\")\n",
    "        print(f\"Work Time: {work_time}\")\n",
    "        print('\\n')\n",
    "\n",
    "    run_data = pd.DataFrame([[run_num, threads, std_dev, size, executions, msg_end - msg_start, exec_end - exec_start, work_time]],\n",
    "                            columns=['Run Number', 'Threads', 'Std Dev', 'Size', 'Executions', 'Message Time', 'Exec Time', 'Work Time'])\n",
    "    all_data = all_data.append(run_data, ignore_index = True)\n",
    "all_data.to_csv(f'{nodes}_nodes_{runs}_trials.csv')\n"
   ]
  },
  {
   "cell_type": "markdown",
   "metadata": {},
   "source": [
    "# LEGACY"
   ]
  },
  {
   "cell_type": "code",
   "execution_count": null,
   "metadata": {},
   "outputs": [],
   "source": [
    "# message = \"'std_deviation' 'size'\"\n",
    "messageDat = '3 10 1000'\n",
    "executions = 8\n",
    "\n",
    "# Actor that will be creating workers with flop test.\n",
    "actor = r.post(f\"{url}/actors\",\n",
    "               headers=header_dat,\n",
    "               data={'image':'notchristiangarcia/flops_test'})\n",
    "actor_id = actor.json()['result']['id']\n",
    "\n",
    "\n",
    "# Executions of this actor, lots of times.\n",
    "exec_id_list = []\n",
    "for i in range(executions):\n",
    "    execution = r.post(f\"{url}/actors/{actor_id}/messages\",\n",
    "                       headers=header_dat,\n",
    "                       data={'message':messageDat})\n",
    "    exec_id = execution.json()['result']['executionId']\n",
    "    exec_id_list.append(exec_id)\n",
    "\n",
    "\n",
    "# Getting result of exec from log once exec complete.\n",
    "results_dict = {}\n",
    "while exec_id_list:\n",
    "    for exec_id in exec_id_list:\n",
    "        exec_logs = r.get(f\"{url}/actors/{actor_id}/executions/{exec_id}/logs\",\n",
    "                          headers=header_dat)\n",
    "\n",
    "        logs = exec_logs.json()['result']['logs']\n",
    "        if logs:\n",
    "            results_dict[f'id - {exec_id}'] = float(logs.replace('\\n',''))\n",
    "            exec_id_list.remove(exec_id)"
   ]
  },
  {
   "cell_type": "code",
   "execution_count": null,
   "metadata": {},
   "outputs": [],
   "source": [
    "# message = \"'threads' 'std_deviation' 'size'\"\n",
    "messageDat = '1 10 1500'\n",
    "executions = 8\n",
    "\n",
    "msg_start = time.time()\n",
    "exec_id_list = []\n",
    "for i in range(executions):\n",
    "    execution = r.post(f\"{url}/actors/{actor_id}/messages\",\n",
    "                       headers=header_dat,\n",
    "                       data={'message':messageDat})\n",
    "    exec_id = execution.json()['result']['executionId']\n",
    "    exec_id_list.append(exec_id)\n",
    "msg_end = time.time()"
   ]
  },
  {
   "cell_type": "code",
   "execution_count": null,
   "metadata": {},
   "outputs": [],
   "source": [
    "exec_start = time.time()\n",
    "results_list = []\n",
    "while exec_id_list:\n",
    "    for exec_id in exec_id_list:\n",
    "        exec_logs = r.get(f\"{url}/actors/{actor_id}/executions/{exec_id}/logs\",\n",
    "                          headers=header_dat)\n",
    "\n",
    "        logs = exec_logs.json()['result']['logs']\n",
    "        if logs:\n",
    "            print('. ', end='')\n",
    "            results_list.append([f'id - {exec_id}', float(logs.replace('\\n',''))])\n",
    "            exec_id_list.remove(exec_id)\n",
    "exec_end = time.time()\n",
    "\n",
    "work_time = 0\n",
    "for res in results_list:\n",
    "    work_time += res[1]\n",
    "\n",
    "print(f\"\\n\\nExec Time: {exec_end - exec_start}\")\n",
    "print(f\"Message Time: {msg_end - msg_start}\")\n",
    "print(f\"Work Time: {work_time}\")\n",
    "pp.pprint(results_list)"
   ]
  },
  {
   "cell_type": "code",
   "execution_count": 110,
   "metadata": {},
   "outputs": [],
   "source": [
    "if 0:\n",
    "    print('hey')"
   ]
  },
  {
   "cell_type": "code",
   "execution_count": null,
   "metadata": {},
   "outputs": [],
   "source": []
  }
 ],
 "metadata": {
  "kernelspec": {
   "display_name": "Python 3",
   "language": "python",
   "name": "python3"
  },
  "language_info": {
   "codemirror_mode": {
    "name": "ipython",
    "version": 3
   },
   "file_extension": ".py",
   "mimetype": "text/x-python",
   "name": "python",
   "nbconvert_exporter": "python",
   "pygments_lexer": "ipython3",
   "version": "3.7.3"
  }
 },
 "nbformat": 4,
 "nbformat_minor": 2
}
