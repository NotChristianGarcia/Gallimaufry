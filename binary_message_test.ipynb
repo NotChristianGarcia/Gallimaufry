{
 "cells": [
  {
   "cell_type": "code",
   "execution_count": null,
   "metadata": {},
   "outputs": [],
   "source": [
    "jwt=\"eyJ0eXAiOiJKV1QiLCJhbGciOiJSUzI1NiIsIng1dCI6Ik5tSm1PR1V4TXpabFlqTTJaRFJoTlRabFlUQTFZemRoWlRSaU9XRTBOV0kyTTJKbU9UYzFaQT09In0=.eyJpc3MiOiJ3c28yLm9yZy9wcm9kdWN0cy9hbSIsImV4cCI6MTQ5ODE1MTQ3NTc0NywiaHR0cDovL3dzbzIub3JnL2NsYWltcy9zdWJzY3JpYmVyIjoiQUdBVkVERVYvamRvZSIsImh0dHA6Ly93c28yLm9yZy9jbGFpbXMvYXBwbGljYXRpb25pZCI6IjEzMCIsImh0dHA6Ly93c28yLm9yZy9jbGFpbXMvYXBwbGljYXRpb25uYW1lIjoidGVzdCIsImh0dHA6Ly93c28yLm9yZy9jbGFpbXMvYXBwbGljYXRpb250aWVyIjoiVW5saW1pdGVkIiwiaHR0cDovL3dzbzIub3JnL2NsYWltcy9hcGljb250ZXh0IjoiL2FwcHMvdjIiLCJodHRwOi8vd3NvMi5vcmcvY2xhaW1zL3ZlcnNpb24iOiJ2MiIsImh0dHA6Ly93c28yLm9yZy9jbGFpbXMvdGllciI6IlVubGltaXRlZCIsImh0dHA6Ly93c28yLm9yZy9jbGFpbXMva2V5dHlwZSI6IlBST0RVQ1RJT04iLCJodHRwOi8vd3NvMi5vcmcvY2xhaW1zL3VzZXJ0eXBlIjoiQVBQTElDQVRJT04iLCJodHRwOi8vd3NvMi5vcmcvY2xhaW1zL2VuZHVzZXIiOiJqZG9lQGNhcmJvbi5zdXBlciIsImh0dHA6Ly93c28yLm9yZy9jbGFpbXMvZW5kdXNlclRlbmFudElkIjoiLTEyMzQiLCJodHRwOi8vd3NvMi5vcmcvY2xhaW1zL2VtYWlsYWRkcmVzcyI6Impkb2VAdGVzdC5jb20iLCJodHRwOi8vd3NvMi5vcmcvY2xhaW1zL2Z1bGxuYW1lIjoiamRvZSB0ZXN0ZXIiLCJodHRwOi8vd3NvMi5vcmcvY2xhaW1zL2dpdmVubmFtZSI6Impkb2UiLCJodHRwOi8vd3NvMi5vcmcvY2xhaW1zL2xhc3RuYW1lIjoidGVzdGVyIiwiaHR0cDovL3dzbzIub3JnL2NsYWltcy9tb2JpbGUiOiI5NzItNTA0LTYyNzAiLCJodHRwOi8vd3NvMi5vcmcvY2xhaW1zL3JvbGUiOiJJbnRlcm5hbC9BR0FWRURFVl9qZG9lX0RlZmF1bHRBcHBsaWNhdGlvbl9QUk9EVUNUSU9OLEludGVybmFsL0FHQVZFREVWX2pkb2VfdGVzdF9QUk9EVUNUSU9OLEludGVybmFsL2V2ZXJ5b25lLEludGVybmFsL2FiYWNvLXVzZXIiLCJodHRwOi8vd3NvMi5vcmcvY2xhaW1zL3RlbGVwaG9uZSI6IjUxMi02NDctNDgxMyJ9.WZpltBZG7GK+O6dTbHI6taZXVscuK2hmSUqUqXnFMQxv5WUDuimg1kFg3x0xCJeuF8zdJox/9kD5qJfNIz0wg8AsbJo6LdiZhQdMMCx91cigb9elKQe/RYrQe4uZCZrnioMqv9ba3bnp4ShEWQ2yZjhyVjy7cygO8RSlkYpBqBM=[r][n]\""
   ]
  },
  {
   "cell_type": "code",
   "execution_count": 107,
   "metadata": {},
   "outputs": [],
   "source": [
    "token=\"882b96eaf5a589badfae9fa823b5dc\""
   ]
  },
  {
   "cell_type": "markdown",
   "metadata": {},
   "source": [
    "Picture to binary message"
   ]
  },
  {
   "cell_type": "code",
   "execution_count": 156,
   "metadata": {},
   "outputs": [],
   "source": [
    "import requests\n",
    "\n",
    "with open(\"smol.png\", 'rb') as file:\n",
    "    raw_binary_data = file.read()\n",
    "\n",
    "message = raw_binary_data"
   ]
  },
  {
   "cell_type": "markdown",
   "metadata": {},
   "source": [
    "Full Local Curl"
   ]
  },
  {
   "cell_type": "code",
   "execution_count": null,
   "metadata": {},
   "outputs": [],
   "source": [
    "url = \"http://localhost:8000\"\n",
    "actor = requests.post(\"{}/actors\".format(url), \n",
    "                     headers={'X-Jwt-Assertion-TEST':jwt}, \n",
    "                     data={'image':'notchristiangarcia/bin_classifier'})\n",
    "actor_id = actor.json()['result']['id']\n",
    "\n",
    "actor_get = requests.get(\"{}/actors/{}\".format(url, actor_id), \n",
    "                     headers={'X-Jwt-Assertion-TEST':jwt})\n",
    "\n",
    "bin_exec = requests.post(\"{}/actors/{}/messages\".format(url, actor_id), \n",
    "                       headers={'X-Jwt-Assertion-TEST': jwt,\n",
    "                                'Content-Type': 'application/octet-stream'},\n",
    "                       data=message)\n",
    "exec_id = bin_exec.json()['result']['executionId']\n",
    "\n",
    "exec_info = requests.get(\"{}/actors/{}/executions/{}\".format(url, actor_id, exec_id),\n",
    "                         headers={'X-Jwt-Assertion-TEST': jwt})\n",
    "\n",
    "exec_logs = requests.get(\"{}/actors/{}/executions/{}/logs\".format(url, actor_id, exec_id),\n",
    "                         headers={'X-Jwt-Assertion-TEST': jwt})\n",
    "exec_logs.json()['result']['logs']"
   ]
  },
  {
   "cell_type": "markdown",
   "metadata": {},
   "source": [
    "Celled Local Curl"
   ]
  },
  {
   "cell_type": "code",
   "execution_count": null,
   "metadata": {},
   "outputs": [],
   "source": [
    "url = \"http://localhost:8000\"\n",
    "actor = requests.post(\"{}/actors\".format(url), \n",
    "                     headers={'X-Jwt-Assertion-TEST':jwt}, \n",
    "                     data={'image':'notchristiangarcia/bin_classifier'})\n",
    "actor_id = actor.json()['result']['id']\n",
    "actor.json();"
   ]
  },
  {
   "cell_type": "code",
   "execution_count": null,
   "metadata": {},
   "outputs": [],
   "source": [
    "actor_get = requests.get(\"{}/actors/{}\".format(url, actor_id), \n",
    "                     headers={'X-Jwt-Assertion-TEST':jwt})\n",
    "actor_get.json();"
   ]
  },
  {
   "cell_type": "code",
   "execution_count": null,
   "metadata": {},
   "outputs": [],
   "source": [
    "bin_exec = requests.post(\"{}/actors/{}/messages\".format(url, actor_id), \n",
    "                       headers={'X-Jwt-Assertion-TEST': jwt,\n",
    "                                'Content-Type': 'application/octet-stream'},\n",
    "                       data=message)\n",
    "exec_id = bin_exec.json()['result']['executionId']\n",
    "bin_exec.json();"
   ]
  },
  {
   "cell_type": "code",
   "execution_count": null,
   "metadata": {},
   "outputs": [],
   "source": [
    "exec_info = requests.get(\"{}/actors/{}/executions/{}\".format(url, actor_id, exec_id),\n",
    "                         headers={'X-Jwt-Assertion-TEST': jwt})\n",
    "exec_info.json()"
   ]
  },
  {
   "cell_type": "code",
   "execution_count": null,
   "metadata": {},
   "outputs": [],
   "source": [
    "exec_logs = requests.get(\"{}/actors/{}/executions/{}/logs\".format(url, actor_id, exec_id),\n",
    "                         headers={'X-Jwt-Assertion-TEST': jwt})\n",
    "exec_logs.json()['result']['logs']"
   ]
  },
  {
   "cell_type": "markdown",
   "metadata": {},
   "source": [
    "Celled online curl"
   ]
  },
  {
   "cell_type": "code",
   "execution_count": 161,
   "metadata": {},
   "outputs": [],
   "source": [
    "import cloudpickle\n",
    "def f(a, b, c=1):\n",
    "    return a+b+c\n",
    "l = [5, 7]\n",
    "message = cloudpickle.dumps({'func': f, 'args': l, 'kwargs': {'c': 5}})"
   ]
  },
  {
   "cell_type": "code",
   "execution_count": 162,
   "metadata": {},
   "outputs": [],
   "source": [
    "url = \"https://api.tacc.utexas.edu\"\n",
    "actor = requests.post(\"{}/actors/v2\".format(url),\n",
    "                      headers={'Authorization':'Bearer {}'.format(token)},\n",
    "                      data={'image':'notchristiangarcia/bin_classifier'})\n",
    "actor_id = actor.json()['result']['id']\n",
    "actor.json();"
   ]
  },
  {
   "cell_type": "code",
   "execution_count": 163,
   "metadata": {},
   "outputs": [],
   "source": [
    "actor_get = requests.get(\"{}/actors/v2/{}\".format(url, actor_id), \n",
    "                         headers={'Authorization': 'Bearer {}'.format(token)})\n",
    "actor_get.json();"
   ]
  },
  {
   "cell_type": "code",
   "execution_count": 165,
   "metadata": {},
   "outputs": [
    {
     "data": {
      "text/plain": [
       "{'message': \"Unrecognized exception type: <class 'configparser.NoOptionError'>. Exception: No option 'max_content_length' in section: 'web'\",\n",
       " 'result': None,\n",
       " 'status': 'error',\n",
       " 'version': '0.11.0'}"
      ]
     },
     "execution_count": 165,
     "metadata": {},
     "output_type": "execute_result"
    }
   ],
   "source": [
    "bin_exec = requests.post(\"{}/actors/v2/{}/messages\".format(url, actor_id), \n",
    "                         headers={'Authorization': 'Bearer {}'.format(token),\n",
    "                                  'Content-Type': 'application/octet-stream'},\n",
    "                         data=message)\n",
    "#exec_id = bin_exec.json()['result']['executionId']\n",
    "#bin_exec.json()\n",
    "bin_exec.json()"
   ]
  },
  {
   "cell_type": "code",
   "execution_count": null,
   "metadata": {},
   "outputs": [],
   "source": [
    "exec_info = requests.get(\"{}/actors/v2/{}/executions/{}\".format(url, actor_id, exec_id),\n",
    "                         headers={'Authorization': 'Bearer {}'.format(token)})\n",
    "exec_info.json()"
   ]
  },
  {
   "cell_type": "code",
   "execution_count": null,
   "metadata": {},
   "outputs": [],
   "source": [
    "exec_logs = requests.get(\"{}/actors/v2/{}/executions/{}/logs\".format(url, actor_id, exec_id),\n",
    "                         headers={'Authorization': 'Bearer {}'.format(token)})\n",
    "exec_logs.json()['result']['logs']"
   ]
  },
  {
   "cell_type": "markdown",
   "metadata": {},
   "source": [
    "Online"
   ]
  },
  {
   "cell_type": "code",
   "execution_count": 135,
   "metadata": {},
   "outputs": [
    {
     "data": {
      "text/plain": [
       "{'message': 'Actor created successfully.',\n",
       " 'result': {'_links': {'executions': 'https://api.tacc.utexas.edu/actors/v2/rb8XMx0Ep6QqO/executions',\n",
       "   'owner': 'https://api.tacc.utexas.edu/profiles/v2/cgarcia',\n",
       "   'self': 'https://api.tacc.utexas.edu/actors/v2/rb8XMx0Ep6QqO'},\n",
       "  'createTime': '2019-02-19 05:03:29.035548',\n",
       "  'defaultEnvironment': {},\n",
       "  'description': '',\n",
       "  'id': 'rb8XMx0Ep6QqO',\n",
       "  'image': 'notchristiangarcia/my_actor_test',\n",
       "  'lastUpdateTime': '2019-02-19 05:03:29.035548',\n",
       "  'mounts': [],\n",
       "  'owner': 'cgarcia',\n",
       "  'privileged': False,\n",
       "  'state': {},\n",
       "  'stateless': False,\n",
       "  'status': 'SUBMITTED',\n",
       "  'statusMessage': '',\n",
       "  'type': 'none',\n",
       "  'useContainerUid': False},\n",
       " 'status': 'success',\n",
       " 'version': '0.11.0'}"
      ]
     },
     "execution_count": 135,
     "metadata": {},
     "output_type": "execute_result"
    }
   ],
   "source": [
    "url = \"https://api.tacc.utexas.edu\"\n",
    "actor = requests.post(\"{}/actors/v2\".format(url), \n",
    "                     headers={'Authorization':'Bearer {}'.format(token)}, \n",
    "                     data={'image':'notchristiangarcia/my_actor_test'.format(token)})\n",
    "actor_id = actor.json()['result']['id']\n",
    "actor.json()"
   ]
  },
  {
   "cell_type": "code",
   "execution_count": 152,
   "metadata": {},
   "outputs": [
    {
     "data": {
      "text/plain": [
       "{'message': 'Actor retrieved successfully.',\n",
       " 'result': {'_links': {'executions': 'https://api.tacc.utexas.edu/actors/v2/P1LbrM4gBYAaV/executions',\n",
       "   'owner': 'https://api.tacc.utexas.edu/profiles/v2/cgarcia',\n",
       "   'self': 'https://api.tacc.utexas.edu/actors/v2/P1LbrM4gBYAaV'},\n",
       "  'createTime': '2019-02-19 05:03:59.621366',\n",
       "  'defaultEnvironment': {},\n",
       "  'description': '',\n",
       "  'id': 'P1LbrM4gBYAaV',\n",
       "  'image': 'notchristiangarcia/bin_classifier',\n",
       "  'lastUpdateTime': '2019-02-19 05:03:59.621366',\n",
       "  'mounts': [],\n",
       "  'owner': 'cgarcia',\n",
       "  'privileged': False,\n",
       "  'state': {},\n",
       "  'stateless': False,\n",
       "  'status': 'READY',\n",
       "  'statusMessage': ' ',\n",
       "  'type': 'none',\n",
       "  'useContainerUid': False},\n",
       " 'status': 'success',\n",
       " 'version': '0.11.0'}"
      ]
     },
     "execution_count": 152,
     "metadata": {},
     "output_type": "execute_result"
    }
   ],
   "source": [
    "actor_get = requests.get(\"{}/actors/v2/{}\".format(url, actor_id), \n",
    "                     headers={'Authorization':'Bearer {}'.format(token)})\n",
    "actor_get.json()"
   ]
  },
  {
   "cell_type": "code",
   "execution_count": 159,
   "metadata": {},
   "outputs": [
    {
     "data": {
      "text/plain": [
       "{'message': \"Unrecognized exception type: <class 'configparser.NoOptionError'>. Exception: No option 'max_content_length' in section: 'web'\",\n",
       " 'result': None,\n",
       " 'status': 'error',\n",
       " 'version': '0.11.0'}"
      ]
     },
     "execution_count": 159,
     "metadata": {},
     "output_type": "execute_result"
    }
   ],
   "source": [
    "bin_exec = requests.post(\"{}/actors/v2/{}/messages\".format(url, actor_id),\n",
    "                         headers={'Authorization':'Bearer {}'.format(token),\n",
    "                                  'Content-Type': 'application/octet-stream'},\n",
    "                         data=message)\n",
    "bin_exec.json()"
   ]
  },
  {
   "cell_type": "code",
   "execution_count": 154,
   "metadata": {},
   "outputs": [
    {
     "data": {
      "text/plain": [
       "{'message': 'The request was successful',\n",
       " 'result': {'_links': {'messages': 'https://api.tacc.utexas.edu/actors/v2/P1LbrM4gBYAaV/messages',\n",
       "   'owner': 'https://api.tacc.utexas.edu/profiles/v2/cgarcia',\n",
       "   'self': 'https://api.tacc.utexas.edu/actors/v2/P1LbrM4gBYAaV/executions/RrpX1ebM8KDwq'},\n",
       "  'executionId': 'RrpX1ebM8KDwq',\n",
       "  'msg': 'hello!'},\n",
       " 'status': 'success',\n",
       " 'version': '0.11.0'}"
      ]
     },
     "execution_count": 154,
     "metadata": {},
     "output_type": "execute_result"
    }
   ],
   "source": [
    "bin_exec = requests.post(\"{}/actors/v2/{}/messages\".format(url, actor_id), \n",
    "                         headers={'Authorization':'Bearer {}'.format(token)},\n",
    "                         data={'message':\"hello!\"})\n",
    "exec_id = bin_exec.json()['result']['executionId']\n",
    "bin_exec.json()"
   ]
  },
  {
   "cell_type": "code",
   "execution_count": null,
   "metadata": {},
   "outputs": [],
   "source": [
    "exec_info = requests.get(\"{}/actors/v2/{}/execution/{}\".format(url, actor_id, exec_id),\n",
    "                         headers={'Authorization':'Bearer {}'.format(token)})\n",
    "exec_info.content"
   ]
  },
  {
   "cell_type": "code",
   "execution_count": null,
   "metadata": {},
   "outputs": [],
   "source": [
    "exec_logs = requests.get(\"{}/actors/v2/{}/executions/{}/logs\".format(url, actor_id, exec_id),\n",
    "                         headers={'Authorization':'Bearer {}'.format(token)})\n",
    "exec_logs.json()"
   ]
  },
  {
   "cell_type": "markdown",
   "metadata": {},
   "source": [
    "Deprecated"
   ]
  },
  {
   "cell_type": "code",
   "execution_count": 114,
   "metadata": {},
   "outputs": [
    {
     "name": "stdin",
     "output_type": "stream",
     "text": [
      "API username:  cgarcia\n",
      "API password:  ··········\n",
      "API password:  ··········\n",
      "API password:  ··········\n",
      "API password:  ··········\n"
     ]
    }
   ],
   "source": [
    "from agavepy.agave import Agave\n",
    "client_name='bintest6'\n",
    "ag = Agave(api_server=\"https://api.tacc.utexas.edu/\")\n",
    "ag.clients_create(client_name, \"testing bin with this\")\n",
    "ag.clients_subscribe(\"Abaco\", \"v2\", \"admin\", client_name=client_name)\n",
    "ag.clients_subscribe(\"publickeys\", \"v2\", \"admin\", client_name=client_name)\n",
    "ag.get_access_token()"
   ]
  },
  {
   "cell_type": "code",
   "execution_count": 121,
   "metadata": {},
   "outputs": [],
   "source": [
    "from agavepy.agave import Agave\n",
    "ag = Agave(api_server=\"https://api.tacc.utexas.edu/\", token=ag.token)"
   ]
  },
  {
   "cell_type": "code",
   "execution_count": 123,
   "metadata": {},
   "outputs": [],
   "source": [
    "my_actor = {\"image\": \"notchristiangarcia/bin_classifier\", \"name\": \"bin_test\", \"description\": \"Testing binary stuff\"}\n",
    "actor_data = ag.actors.add(body=my_actor)"
   ]
  },
  {
   "cell_type": "code",
   "execution_count": null,
   "metadata": {},
   "outputs": [],
   "source": [
    "headers = {'Content-Type': 'application/octet-stream'}\n",
    "result = ag.actors.sendMessage(actorId=actor_data['id'], body={\"message\":\"message\"}, headers=headers)"
   ]
  },
  {
   "cell_type": "code",
   "execution_count": 124,
   "metadata": {},
   "outputs": [
    {
     "ename": "HTTPError",
     "evalue": "500 Server Error: INTERNAL SERVER ERROR for url: https://api.tacc.utexas.edu/actors/v2/Lr86eOxE3m07J/messages",
     "output_type": "error",
     "traceback": [
      "\u001b[0;31m---------------------------------------------------------------------------\u001b[0m",
      "\u001b[0;31mParseError\u001b[0m                                Traceback (most recent call last)",
      "\u001b[0;32m~/.local/lib/python3.6/site-packages/agavepy/agave.py\u001b[0m in \u001b[0;36mwith_refresh\u001b[0;34m(client, f, *args, **kwargs)\u001b[0m\n\u001b[1;32m     71\u001b[0m             \u001b[0;31m# Old versions of APIM return errors in XML:\u001b[0m\u001b[0;34m\u001b[0m\u001b[0;34m\u001b[0m\u001b[0;34m\u001b[0m\u001b[0m\n\u001b[0;32m---> 72\u001b[0;31m             \u001b[0mcode\u001b[0m \u001b[0;34m=\u001b[0m \u001b[0mElementTree\u001b[0m\u001b[0;34m.\u001b[0m\u001b[0mfromstring\u001b[0m\u001b[0;34m(\u001b[0m\u001b[0mexc\u001b[0m\u001b[0;34m.\u001b[0m\u001b[0mresponse\u001b[0m\u001b[0;34m.\u001b[0m\u001b[0mtext\u001b[0m\u001b[0;34m)\u001b[0m\u001b[0;34m[\u001b[0m\u001b[0;36m0\u001b[0m\u001b[0;34m]\u001b[0m\u001b[0;34m.\u001b[0m\u001b[0mtext\u001b[0m\u001b[0;34m\u001b[0m\u001b[0;34m\u001b[0m\u001b[0m\n\u001b[0m\u001b[1;32m     73\u001b[0m         \u001b[0;32mexcept\u001b[0m \u001b[0mException\u001b[0m\u001b[0;34m:\u001b[0m\u001b[0;34m\u001b[0m\u001b[0;34m\u001b[0m\u001b[0m\n",
      "\u001b[0;32m/usr/lib/python3.6/xml/etree/ElementTree.py\u001b[0m in \u001b[0;36mXML\u001b[0;34m(text, parser)\u001b[0m\n\u001b[1;32m   1313\u001b[0m         \u001b[0mparser\u001b[0m \u001b[0;34m=\u001b[0m \u001b[0mXMLParser\u001b[0m\u001b[0;34m(\u001b[0m\u001b[0mtarget\u001b[0m\u001b[0;34m=\u001b[0m\u001b[0mTreeBuilder\u001b[0m\u001b[0;34m(\u001b[0m\u001b[0;34m)\u001b[0m\u001b[0;34m)\u001b[0m\u001b[0;34m\u001b[0m\u001b[0;34m\u001b[0m\u001b[0m\n\u001b[0;32m-> 1314\u001b[0;31m     \u001b[0mparser\u001b[0m\u001b[0;34m.\u001b[0m\u001b[0mfeed\u001b[0m\u001b[0;34m(\u001b[0m\u001b[0mtext\u001b[0m\u001b[0;34m)\u001b[0m\u001b[0;34m\u001b[0m\u001b[0;34m\u001b[0m\u001b[0m\n\u001b[0m\u001b[1;32m   1315\u001b[0m     \u001b[0;32mreturn\u001b[0m \u001b[0mparser\u001b[0m\u001b[0;34m.\u001b[0m\u001b[0mclose\u001b[0m\u001b[0;34m(\u001b[0m\u001b[0;34m)\u001b[0m\u001b[0;34m\u001b[0m\u001b[0;34m\u001b[0m\u001b[0m\n",
      "\u001b[0;31mParseError\u001b[0m: not well-formed (invalid token): line 1, column 0",
      "\nDuring handling of the above exception, another exception occurred:\n",
      "\u001b[0;31mAttributeError\u001b[0m                            Traceback (most recent call last)",
      "\u001b[0;32m~/.local/lib/python3.6/site-packages/agavepy/agave.py\u001b[0m in \u001b[0;36mwith_refresh\u001b[0;34m(client, f, *args, **kwargs)\u001b[0m\n\u001b[1;32m     78\u001b[0m                 \u001b[0;31m# if so, check if it is an expired token error (new versions of APIM return JSON errors):\u001b[0m\u001b[0;34m\u001b[0m\u001b[0;34m\u001b[0m\u001b[0;34m\u001b[0m\u001b[0m\n\u001b[0;32m---> 79\u001b[0;31m                 \u001b[0;32mif\u001b[0m \u001b[0;34m'Invalid Credentials'\u001b[0m \u001b[0;32min\u001b[0m \u001b[0mexc_json\u001b[0m\u001b[0;34m.\u001b[0m\u001b[0mget\u001b[0m\u001b[0;34m(\u001b[0m\u001b[0;34m'fault'\u001b[0m\u001b[0;34m)\u001b[0m\u001b[0;34m.\u001b[0m\u001b[0mget\u001b[0m\u001b[0;34m(\u001b[0m\u001b[0;34m'message'\u001b[0m\u001b[0;34m)\u001b[0m\u001b[0;34m:\u001b[0m\u001b[0;34m\u001b[0m\u001b[0;34m\u001b[0m\u001b[0m\n\u001b[0m\u001b[1;32m     80\u001b[0m                     \u001b[0mclient\u001b[0m\u001b[0;34m.\u001b[0m\u001b[0mtoken\u001b[0m\u001b[0;34m.\u001b[0m\u001b[0mrefresh\u001b[0m\u001b[0;34m(\u001b[0m\u001b[0;34m)\u001b[0m\u001b[0;34m\u001b[0m\u001b[0;34m\u001b[0m\u001b[0m\n",
      "\u001b[0;31mAttributeError\u001b[0m: 'NoneType' object has no attribute 'get'",
      "\nDuring handling of the above exception, another exception occurred:\n",
      "\u001b[0;31mHTTPError\u001b[0m                                 Traceback (most recent call last)",
      "\u001b[0;32m<ipython-input-124-785327620f0b>\u001b[0m in \u001b[0;36m<module>\u001b[0;34m\u001b[0m\n\u001b[0;32m----> 1\u001b[0;31m \u001b[0mresult\u001b[0m \u001b[0;34m=\u001b[0m \u001b[0mag\u001b[0m\u001b[0;34m.\u001b[0m\u001b[0mactors\u001b[0m\u001b[0;34m.\u001b[0m\u001b[0msendMessage\u001b[0m\u001b[0;34m(\u001b[0m\u001b[0mactorId\u001b[0m\u001b[0;34m=\u001b[0m\u001b[0mactor_data\u001b[0m\u001b[0;34m[\u001b[0m\u001b[0;34m'id'\u001b[0m\u001b[0;34m]\u001b[0m\u001b[0;34m,\u001b[0m \u001b[0mbody\u001b[0m\u001b[0;34m=\u001b[0m\u001b[0;34m{\u001b[0m\u001b[0;34m'binary'\u001b[0m\u001b[0;34m:\u001b[0m \u001b[0mmessage\u001b[0m\u001b[0;34m}\u001b[0m\u001b[0;34m)\u001b[0m\u001b[0;34m\u001b[0m\u001b[0;34m\u001b[0m\u001b[0m\n\u001b[0m\u001b[1;32m      2\u001b[0m \u001b[0mexecution\u001b[0m \u001b[0;34m=\u001b[0m \u001b[0mag\u001b[0m\u001b[0;34m.\u001b[0m\u001b[0mactors\u001b[0m\u001b[0;34m.\u001b[0m\u001b[0mgetExecution\u001b[0m\u001b[0;34m(\u001b[0m\u001b[0mactorId\u001b[0m\u001b[0;34m=\u001b[0m\u001b[0mactor_data\u001b[0m\u001b[0;34m[\u001b[0m\u001b[0;34m'id'\u001b[0m\u001b[0;34m]\u001b[0m\u001b[0;34m,\u001b[0m \u001b[0mexecutionId\u001b[0m \u001b[0;34m=\u001b[0m \u001b[0mresult\u001b[0m\u001b[0;34m[\u001b[0m\u001b[0;34m'executionId'\u001b[0m\u001b[0;34m]\u001b[0m\u001b[0;34m)\u001b[0m\u001b[0;34m\u001b[0m\u001b[0;34m\u001b[0m\u001b[0m\n\u001b[1;32m      3\u001b[0m \u001b[0mexecLogs\u001b[0m \u001b[0;34m=\u001b[0m \u001b[0mag\u001b[0m\u001b[0;34m.\u001b[0m\u001b[0mactors\u001b[0m\u001b[0;34m.\u001b[0m\u001b[0mgetExecutionLogs\u001b[0m\u001b[0;34m(\u001b[0m\u001b[0mactorId\u001b[0m\u001b[0;34m=\u001b[0m\u001b[0mactor_data\u001b[0m\u001b[0;34m[\u001b[0m\u001b[0;34m'id'\u001b[0m\u001b[0;34m]\u001b[0m\u001b[0;34m,\u001b[0m \u001b[0mexecutionId\u001b[0m \u001b[0;34m=\u001b[0m \u001b[0mresult\u001b[0m\u001b[0;34m[\u001b[0m\u001b[0;34m'executionId'\u001b[0m\u001b[0;34m]\u001b[0m\u001b[0;34m)\u001b[0m\u001b[0;34m\u001b[0m\u001b[0;34m\u001b[0m\u001b[0m\n",
      "\u001b[0;32m~/.local/lib/python3.6/site-packages/agavepy/agave.py\u001b[0m in \u001b[0;36m__call__\u001b[0;34m(self, *args, **kwargs)\u001b[0m\n\u001b[1;32m    969\u001b[0m \u001b[0;34m\u001b[0m\u001b[0m\n\u001b[1;32m    970\u001b[0m         \u001b[0mkwargs\u001b[0m\u001b[0;34m[\u001b[0m\u001b[0;34m'proxies'\u001b[0m\u001b[0;34m]\u001b[0m \u001b[0;34m=\u001b[0m \u001b[0mself\u001b[0m\u001b[0;34m.\u001b[0m\u001b[0mclient\u001b[0m\u001b[0;34m.\u001b[0m\u001b[0mproxies\u001b[0m\u001b[0;34m\u001b[0m\u001b[0;34m\u001b[0m\u001b[0m\n\u001b[0;32m--> 971\u001b[0;31m         \u001b[0mresp\u001b[0m \u001b[0;34m=\u001b[0m \u001b[0mwith_refresh\u001b[0m\u001b[0;34m(\u001b[0m\u001b[0mself\u001b[0m\u001b[0;34m.\u001b[0m\u001b[0mclient\u001b[0m\u001b[0;34m,\u001b[0m \u001b[0moperation\u001b[0m\u001b[0;34m)\u001b[0m\u001b[0;34m\u001b[0m\u001b[0;34m\u001b[0m\u001b[0m\n\u001b[0m\u001b[1;32m    972\u001b[0m         \u001b[0;32mif\u001b[0m \u001b[0mresp\u001b[0m\u001b[0;34m.\u001b[0m\u001b[0mok\u001b[0m\u001b[0;34m:\u001b[0m\u001b[0;34m\u001b[0m\u001b[0;34m\u001b[0m\u001b[0m\n\u001b[1;32m    973\u001b[0m             \u001b[0;31m# if response is 204 (no content) return none directly\u001b[0m\u001b[0;34m\u001b[0m\u001b[0;34m\u001b[0m\u001b[0;34m\u001b[0m\u001b[0m\n",
      "\u001b[0;32m~/.local/lib/python3.6/site-packages/agavepy/agave.py\u001b[0m in \u001b[0;36mwith_refresh\u001b[0;34m(client, f, *args, **kwargs)\u001b[0m\n\u001b[1;32m     84\u001b[0m             \u001b[0;32mexcept\u001b[0m \u001b[0mException\u001b[0m\u001b[0;34m:\u001b[0m\u001b[0;34m\u001b[0m\u001b[0;34m\u001b[0m\u001b[0m\n\u001b[1;32m     85\u001b[0m                 \u001b[0;31m# Re-raise it, as it's not an expired token\u001b[0m\u001b[0;34m\u001b[0m\u001b[0;34m\u001b[0m\u001b[0;34m\u001b[0m\u001b[0m\n\u001b[0;32m---> 86\u001b[0;31m                 \u001b[0;32mraise\u001b[0m \u001b[0mexc\u001b[0m\u001b[0;34m\u001b[0m\u001b[0;34m\u001b[0m\u001b[0m\n\u001b[0m\u001b[1;32m     87\u001b[0m         \u001b[0;31m# only catch 'token expired' exception\u001b[0m\u001b[0;34m\u001b[0m\u001b[0;34m\u001b[0m\u001b[0;34m\u001b[0m\u001b[0m\n\u001b[1;32m     88\u001b[0m         \u001b[0;31m# other codes may mean a different error\u001b[0m\u001b[0;34m\u001b[0m\u001b[0;34m\u001b[0m\u001b[0;34m\u001b[0m\u001b[0m\n",
      "\u001b[0;32m~/.local/lib/python3.6/site-packages/agavepy/agave.py\u001b[0m in \u001b[0;36mwith_refresh\u001b[0;34m(client, f, *args, **kwargs)\u001b[0m\n\u001b[1;32m     66\u001b[0m     \u001b[0;34m\"\"\"Call function ``f`` and refresh token if needed.\"\"\"\u001b[0m\u001b[0;34m\u001b[0m\u001b[0;34m\u001b[0m\u001b[0m\n\u001b[1;32m     67\u001b[0m     \u001b[0;32mtry\u001b[0m\u001b[0;34m:\u001b[0m\u001b[0;34m\u001b[0m\u001b[0;34m\u001b[0m\u001b[0m\n\u001b[0;32m---> 68\u001b[0;31m         \u001b[0;32mreturn\u001b[0m \u001b[0mf\u001b[0m\u001b[0;34m(\u001b[0m\u001b[0;34m*\u001b[0m\u001b[0margs\u001b[0m\u001b[0;34m,\u001b[0m \u001b[0;34m**\u001b[0m\u001b[0mkwargs\u001b[0m\u001b[0;34m)\u001b[0m\u001b[0;34m\u001b[0m\u001b[0;34m\u001b[0m\u001b[0m\n\u001b[0m\u001b[1;32m     69\u001b[0m     \u001b[0;32mexcept\u001b[0m \u001b[0mrequests\u001b[0m\u001b[0;34m.\u001b[0m\u001b[0mexceptions\u001b[0m\u001b[0;34m.\u001b[0m\u001b[0mHTTPError\u001b[0m \u001b[0;32mas\u001b[0m \u001b[0mexc\u001b[0m\u001b[0;34m:\u001b[0m\u001b[0;34m\u001b[0m\u001b[0;34m\u001b[0m\u001b[0m\n\u001b[1;32m     70\u001b[0m         \u001b[0;32mtry\u001b[0m\u001b[0;34m:\u001b[0m\u001b[0;34m\u001b[0m\u001b[0;34m\u001b[0m\u001b[0m\n",
      "\u001b[0;32m~/.local/lib/python3.6/site-packages/agavepy/agave.py\u001b[0m in \u001b[0;36moperation\u001b[0;34m()\u001b[0m\n\u001b[1;32m    965\u001b[0m             \u001b[0mf\u001b[0m \u001b[0;34m=\u001b[0m \u001b[0mself\u001b[0m\u001b[0;34m.\u001b[0m\u001b[0mget_operation\u001b[0m\u001b[0;34m(\u001b[0m\u001b[0;34m)\u001b[0m\u001b[0;34m\u001b[0m\u001b[0;34m\u001b[0m\u001b[0m\n\u001b[1;32m    966\u001b[0m             \u001b[0mresponse\u001b[0m \u001b[0;34m=\u001b[0m \u001b[0mf\u001b[0m\u001b[0;34m(\u001b[0m\u001b[0;34m*\u001b[0m\u001b[0margs\u001b[0m\u001b[0;34m,\u001b[0m \u001b[0;34m**\u001b[0m\u001b[0mkwargs\u001b[0m\u001b[0;34m)\u001b[0m\u001b[0;34m\u001b[0m\u001b[0;34m\u001b[0m\u001b[0m\n\u001b[0;32m--> 967\u001b[0;31m             \u001b[0mresponse\u001b[0m\u001b[0;34m.\u001b[0m\u001b[0mraise_for_status\u001b[0m\u001b[0;34m(\u001b[0m\u001b[0;34m)\u001b[0m\u001b[0;34m\u001b[0m\u001b[0;34m\u001b[0m\u001b[0m\n\u001b[0m\u001b[1;32m    968\u001b[0m             \u001b[0;32mreturn\u001b[0m \u001b[0mresponse\u001b[0m\u001b[0;34m\u001b[0m\u001b[0;34m\u001b[0m\u001b[0m\n\u001b[1;32m    969\u001b[0m \u001b[0;34m\u001b[0m\u001b[0m\n",
      "\u001b[0;32m~/.local/lib/python3.6/site-packages/requests/models.py\u001b[0m in \u001b[0;36mraise_for_status\u001b[0;34m(self)\u001b[0m\n\u001b[1;32m    938\u001b[0m \u001b[0;34m\u001b[0m\u001b[0m\n\u001b[1;32m    939\u001b[0m         \u001b[0;32mif\u001b[0m \u001b[0mhttp_error_msg\u001b[0m\u001b[0;34m:\u001b[0m\u001b[0;34m\u001b[0m\u001b[0;34m\u001b[0m\u001b[0m\n\u001b[0;32m--> 940\u001b[0;31m             \u001b[0;32mraise\u001b[0m \u001b[0mHTTPError\u001b[0m\u001b[0;34m(\u001b[0m\u001b[0mhttp_error_msg\u001b[0m\u001b[0;34m,\u001b[0m \u001b[0mresponse\u001b[0m\u001b[0;34m=\u001b[0m\u001b[0mself\u001b[0m\u001b[0;34m)\u001b[0m\u001b[0;34m\u001b[0m\u001b[0;34m\u001b[0m\u001b[0m\n\u001b[0m\u001b[1;32m    941\u001b[0m \u001b[0;34m\u001b[0m\u001b[0m\n\u001b[1;32m    942\u001b[0m     \u001b[0;32mdef\u001b[0m \u001b[0mclose\u001b[0m\u001b[0;34m(\u001b[0m\u001b[0mself\u001b[0m\u001b[0;34m)\u001b[0m\u001b[0;34m:\u001b[0m\u001b[0;34m\u001b[0m\u001b[0;34m\u001b[0m\u001b[0m\n",
      "\u001b[0;31mHTTPError\u001b[0m: 500 Server Error: INTERNAL SERVER ERROR for url: https://api.tacc.utexas.edu/actors/v2/Lr86eOxE3m07J/messages"
     ]
    }
   ],
   "source": [
    "result = ag.actors.sendMessage(actorId=actor_data['id'], body={'binary': message})\n",
    "execution = ag.actors.getExecution(actorId=actor_data['id'], executionId = result['executionId'])\n",
    "execLogs = ag.actors.getExecutionLogs(actorId=actor_data['id'], executionId = result['executionId'])"
   ]
  },
  {
   "cell_type": "code",
   "execution_count": null,
   "metadata": {},
   "outputs": [],
   "source": [
    "ag.actors.get(actorId='RrKogrDB8YL6g')"
   ]
  },
  {
   "cell_type": "code",
   "execution_count": null,
   "metadata": {},
   "outputs": [],
   "source": [
    "def get_actor_id(headers, name='abaco_test_suite'):\n",
    "    url = '{}/{}'.format(base_url, '/actors')\n",
    "    rsp = requests.get(url, headers=headers)\n",
    "    result = basic_response_checks(rsp)\n",
    "    for k in result:\n",
    "        if k.get('name') == name:\n",
    "            return k.get('id')\n",
    "    # didn't find the test actor\n",
    "    assert False"
   ]
  },
  {
   "cell_type": "code",
   "execution_count": null,
   "metadata": {},
   "outputs": [],
   "source": []
  }
 ],
 "metadata": {
  "kernelspec": {
   "display_name": "Python 3",
   "language": "python",
   "name": "python3"
  },
  "language_info": {
   "codemirror_mode": {
    "name": "ipython",
    "version": 3
   },
   "file_extension": ".py",
   "mimetype": "text/x-python",
   "name": "python",
   "nbconvert_exporter": "python",
   "pygments_lexer": "ipython3",
   "version": "3.6.7"
  }
 },
 "nbformat": 4,
 "nbformat_minor": 2
}
