{
 "cells": [
  {
   "cell_type": "code",
   "execution_count": 181,
   "metadata": {},
   "outputs": [],
   "source": [
    "import os\n",
    "import time\n",
    "import json\n",
    "import numpy as np\n",
    "import pandas as pd\n",
    "import pprint as pp\n",
    "import requests as r\n",
    "import datetime\n",
    "import pytz\n",
    "from pymongo import MongoClient"
   ]
  },
  {
   "cell_type": "code",
   "execution_count": 159,
   "metadata": {},
   "outputs": [],
   "source": [
    "# Aloe Token\n",
    "token=\"74b1aaf8ca3f131071be811964fd2987\""
   ]
  },
  {
   "cell_type": "code",
   "execution_count": 160,
   "metadata": {},
   "outputs": [],
   "source": [
    "# Admin?\n",
    "jwt=\"eyJ0eXAiOiJKV1QiLCJhbGciOiJSUzI1NiIsIng1dCI6Ik5tSm1PR1V4TXpabFlqTTJaRFJoTlRabFlUQTFZemRoWlRSaU9XRTBOV0kyTTJKbU9UYzFaQT09In0=.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.YiZA/yN8E73SvdGXCwBnh+WTnDZIhym4bfBOfw0YJlz/mL9MSVG7u5cHIC3KGNalnFoF0gpjGVagIDS5Hnj9OZtvfvf49fpIXWFQM10cRzC23qdXnyhFJdlY7iKbNyt1ixXm/9AiUS7+TS3sswTmGrwq4eQ+x/pDUuZO8rpyLpE=[\\\\r][\\\\n]\""
   ]
  },
  {
   "cell_type": "code",
   "execution_count": 96,
   "metadata": {},
   "outputs": [],
   "source": [
    "jwt=\"eyJ0eXAiOiJKV1QiLCJhbGciOiJSUzI1NiIsIng1dCI6Ik5tSm1PR1V4TXpabFlqTTJaRFJoTlRabFlUQTFZemRoWlRSaU9XRTBOV0kyTTJKbU9UYzFaQT09In0=.eyJpc3MiOiJ3c28yLm9yZy9wcm9kdWN0cy9hbSIsImV4cCI6MTQ5ODE0OTk5MjA3MSwiaHR0cDovL3dzbzIub3JnL2NsYWltcy9zdWJzY3JpYmVyIjoiQUdBVkVERVYvdGVzdHNoYXJldXNlciIsImh0dHA6Ly93c28yLm9yZy9jbGFpbXMvYXBwbGljYXRpb25pZCI6IjIzOCIsImh0dHA6Ly93c28yLm9yZy9jbGFpbXMvYXBwbGljYXRpb25uYW1lIjoidGVzdCIsImh0dHA6Ly93c28yLm9yZy9jbGFpbXMvYXBwbGljYXRpb250aWVyIjoiVW5saW1pdGVkIiwiaHR0cDovL3dzbzIub3JnL2NsYWltcy9hcGljb250ZXh0IjoiL2FwcHMvdjIiLCJodHRwOi8vd3NvMi5vcmcvY2xhaW1zL3ZlcnNpb24iOiJ2MiIsImh0dHA6Ly93c28yLm9yZy9jbGFpbXMvdGllciI6IlVubGltaXRlZCIsImh0dHA6Ly93c28yLm9yZy9jbGFpbXMva2V5dHlwZSI6IlBST0RVQ1RJT04iLCJodHRwOi8vd3NvMi5vcmcvY2xhaW1zL3VzZXJ0eXBlIjoiQVBQTElDQVRJT04iLCJodHRwOi8vd3NvMi5vcmcvY2xhaW1zL2VuZHVzZXIiOiJ0ZXN0c2hhcmV1c2VyQGNhcmJvbi5zdXBlciIsImh0dHA6Ly93c28yLm9yZy9jbGFpbXMvZW5kdXNlclRlbmFudElkIjoiLTEyMzQiLCJodHRwOi8vd3NvMi5vcmcvY2xhaW1zL2VtYWlsYWRkcmVzcyI6InRlc3RzaGFyZXVzZXJAdGVzdC5jb20iLCJodHRwOi8vd3NvMi5vcmcvY2xhaW1zL2Z1bGxuYW1lIjoidGVzdCBzaGFyZSB1c2VyIiwiaHR0cDovL3dzbzIub3JnL2NsYWltcy9naXZlbm5hbWUiOiJ0ZXN0IHNoYXJlIiwiaHR0cDovL3dzbzIub3JnL2NsYWltcy9sYXN0bmFtZSI6InVzZXIiLCJodHRwOi8vd3NvMi5vcmcvY2xhaW1zL21vYmlsZSI6Ijk3Mi01MDQtNjI3MCIsImh0dHA6Ly93c28yLm9yZy9jbGFpbXMvcm9sZSI6IkludGVybmFsL0FHQVZFREVWX3Rlc3RzaGFyZXVzZXJfdGVzdF9QUk9EVUNUSU9OLEludGVybmFsL2FiYWNvLXByaXZpbGVnZWQsSW50ZXJuYWwvQUdBVkVERVZfdGVzdHNoYXJldXNlcl9EZWZhdWx0QXBwbGljYXRpb25fUFJPRFVDVElPTixJbnRlcm5hbC9ldmVyeW9uZSIsImh0dHA6Ly93c28yLm9yZy9jbGFpbXMvdGVsZXBob25lIjoiNTEyLTY0Ny00ODEzIn0=.NPrC/OkEP9cqNqZiPGHP/2Gi43YjskoeHXCC4uWArTVx08SLp/gIy/20GvED+2DXbMl2mQATVRosX/IvE2naA8XkW8NJzhmwq9xu4T3a+P/1AXaGhBnnzk/dRDBQVx4NzmkK3vBRzEttt3WuAxyJvwt3+DqwOkNTURBjycPr8n0=[\\\\r][\\\\n]\""
   ]
  },
  {
   "cell_type": "code",
   "execution_count": 42,
   "metadata": {},
   "outputs": [],
   "source": [
    "#limited jwt\n",
    "jwt = \"eyJ0eXAiOiJKV1QiLCJhbGciOiJSUzI1NiIsIng1dCI6Ik5tSm1PR1V4TXpabFlqTTJaRFJoTlRabFlUQTFZemRoWlRSaU9XRTBOV0kyTTJKbU9UYzFaQT09In0=.eyJpc3MiOiJ3c28yLm9yZy9wcm9kdWN0cy9hbSIsImV4cCI6MTQ5ODE1MDA3MTYyNiwiaHR0cDovL3dzbzIub3JnL2NsYWltcy9zdWJzY3JpYmVyIjoiQUdBVkVERVYvdGVzdG90aGVydXNlciIsImh0dHA6Ly93c28yLm9yZy9jbGFpbXMvYXBwbGljYXRpb25pZCI6IjIzOSIsImh0dHA6Ly93c28yLm9yZy9jbGFpbXMvYXBwbGljYXRpb25uYW1lIjoidGVzdCIsImh0dHA6Ly93c28yLm9yZy9jbGFpbXMvYXBwbGljYXRpb250aWVyIjoiVW5saW1pdGVkIiwiaHR0cDovL3dzbzIub3JnL2NsYWltcy9hcGljb250ZXh0IjoiL2FwcHMvdjIiLCJodHRwOi8vd3NvMi5vcmcvY2xhaW1zL3ZlcnNpb24iOiJ2MiIsImh0dHA6Ly93c28yLm9yZy9jbGFpbXMvdGllciI6IlVubGltaXRlZCIsImh0dHA6Ly93c28yLm9yZy9jbGFpbXMva2V5dHlwZSI6IlBST0RVQ1RJT04iLCJodHRwOi8vd3NvMi5vcmcvY2xhaW1zL3VzZXJ0eXBlIjoiQVBQTElDQVRJT04iLCJodHRwOi8vd3NvMi5vcmcvY2xhaW1zL2VuZHVzZXIiOiJ0ZXN0b3RoZXJ1c2VyQGNhcmJvbi5zdXBlciIsImh0dHA6Ly93c28yLm9yZy9jbGFpbXMvZW5kdXNlclRlbmFudElkIjoiLTEyMzQiLCJodHRwOi8vd3NvMi5vcmcvY2xhaW1zL2VtYWlsYWRkcmVzcyI6InRlc3RvdGhlcnVzZXJAdGVzdC5jb20iLCJodHRwOi8vd3NvMi5vcmcvY2xhaW1zL2Z1bGxuYW1lIjoidGVzdCBvdGhlciB1c2VyIiwiaHR0cDovL3dzbzIub3JnL2NsYWltcy9naXZlbm5hbWUiOiJ0ZXN0IG90aGVyIiwiaHR0cDovL3dzbzIub3JnL2NsYWltcy9sYXN0bmFtZSI6InVzZXIiLCJodHRwOi8vd3NvMi5vcmcvY2xhaW1zL21vYmlsZSI6Ijk3Mi01MDQtNjI3MCIsImh0dHA6Ly93c28yLm9yZy9jbGFpbXMvcm9sZSI6IkludGVybmFsL2FiYWNvLWxpbWl0ZWQsSW50ZXJuYWwvQUdBVkVERVZfdGVzdG90aGVydXNlcl90ZXN0X1BST0RVQ1RJT04sSW50ZXJuYWwvZXZlcnlvbmUsSW50ZXJuYWwvQUdBVkVERVZfdGVzdG90aGVydXNlcl9EZWZhdWx0QXBwbGljYXRpb25fUFJPRFVDVElPTiIsImh0dHA6Ly93c28yLm9yZy9jbGFpbXMvdGVsZXBob25lIjoiNTEyLTY0Ny00ODEzIn0=.FwPqMVTEHtalWSoxxGkMtQDlcYSnmud3/bkLzcqS3FosvuQNGsPqzsZpZW/Ufz5/OBXuflYwOGcet/vmJ7YaeAFJ/MaSEUfJGLBE50hkJWDo0C5IsRvbezDq4IkHQyxkbm9YdB+dXIFGywW7ewn9DcXet3nBC+KlsSLCEsSscFc=[\\\\r][\\\\n]\""
   ]
  },
  {
   "cell_type": "code",
   "execution_count": 161,
   "metadata": {},
   "outputs": [],
   "source": [
    "# Testing headers\n",
    "header_dat = {\"X-Jwt-Assertion-DEV-DEVELOP\":jwt}\n",
    "# Localhost headers\n",
    "#header_dat = {\"X-Jwt-Assertion-DEV\":jwt}\n",
    "\n",
    "url = \"http://localhost:8000/actors\""
   ]
  },
  {
   "cell_type": "code",
   "execution_count": 218,
   "metadata": {},
   "outputs": [
    {
     "name": "stdout",
     "output_type": "stream",
     "text": [
      "{'message': 'Search completed successfully.',\n",
      " 'result': {'_metadata': {'countReturned': 0,\n",
      "                          'recordLimit': 100,\n",
      "                          'recordsSkipped': 0,\n",
      "                          'totalCount': 0},\n",
      "            'search': []},\n",
      " 'status': 'success',\n",
      " 'version': ':dev'}\n"
     ]
    }
   ],
   "source": [
    "# Search Tests.\n",
    "actor = r.get('http://localhost:8000/actors/search/actors?tenant=null',\n",
    "              headers=header_dat)\n",
    "try:\n",
    "    pp.pprint(actor.json())\n",
    "except:\n",
    "    print(actor.content)"
   ]
  },
  {
   "cell_type": "code",
   "execution_count": null,
   "metadata": {},
   "outputs": [],
   "source": []
  },
  {
   "cell_type": "code",
   "execution_count": 213,
   "metadata": {},
   "outputs": [],
   "source": [
    "pipeline=[{'$match': {'$text': {'$search': '\"DEV-DEVELOP\"'}}},\n",
    "          {'$match': {'tenant': None}},\n",
    "          {'$sort': {'score': {'$meta': 'textScore'}}},\n",
    "          {'$match': {'tenant': 'DEV-DEVELOP'}},\n",
    "          {'$lookup': {'from': '2',\n",
    "                       'localField': 'actor_id',\n",
    "                       'foreignField': '_id',\n",
    "                       'as': 'permissions'}},\n",
    "          {'$unwind': '$permissions'},\n",
    "          {'$match': {'permissions.testuser': {'$exists': True}}}]"
   ]
  },
  {
   "cell_type": "code",
   "execution_count": 214,
   "metadata": {},
   "outputs": [],
   "source": [
    "host = '192.168.137.123'\n",
    "port = 27017\n",
    "user = None\n",
    "password = None\n",
    "database = 'abaco'\n",
    "db = '5'\n",
    "mongo_uri = 'mongodb://{}:{}'.format(host, port)\n",
    "if user and password:\n",
    "    logger.info(\"Using mongo user {} and passowrd: ***\".format(user))\n",
    "    u = urllib.parse.quote_plus(user)\n",
    "    p = urllib.parse.quote_plus(password)\n",
    "    mongo_uri = 'mongodb://{}:{}@{}:{}'.format(u, p, host, port)\n",
    "_mongo_client = MongoClient(mongo_uri)\n",
    "_mongo_database = _mongo_client[database]\n",
    "_db = _mongo_database[db]"
   ]
  },
  {
   "cell_type": "code",
   "execution_count": 215,
   "metadata": {},
   "outputs": [
    {
     "data": {
      "text/plain": [
       "{'stages': [{'$cursor': {'query': {'$and': [{'$and': [{'$text': {'$search': '\"DEV-DEVELOP\"'}},\n",
       "        {'tenant': None}]},\n",
       "      {'tenant': 'DEV-DEVELOP'}]},\n",
       "    'fields': {'$textScore': {'$meta': 'textScore'}},\n",
       "    'queryPlanner': {'plannerVersion': 1,\n",
       "     'namespace': 'abaco.5',\n",
       "     'indexFilterSet': False,\n",
       "     'parsedQuery': {'$and': [{'tenant': {'$eq': 'DEV-DEVELOP'}},\n",
       "       {'tenant': {'$eq': None}},\n",
       "       {'$text': {'$search': '\"DEV-DEVELOP\"',\n",
       "         '$language': 'english',\n",
       "         '$caseSensitive': False,\n",
       "         '$diacriticSensitive': False}}]},\n",
       "     'queryHash': '699C670A',\n",
       "     'planCacheKey': '5DDBD880',\n",
       "     'winningPlan': {'stage': 'PROJECTION_DEFAULT',\n",
       "      'transformBy': {'$textScore': {'$meta': 'textScore'}},\n",
       "      'inputStage': {'stage': 'FETCH',\n",
       "       'filter': {'$and': [{'tenant': {'$eq': 'DEV-DEVELOP'}},\n",
       "         {'tenant': {'$eq': None}}]},\n",
       "       'inputStage': {'stage': 'TEXT',\n",
       "        'indexPrefix': {},\n",
       "        'indexName': '$**_text',\n",
       "        'parsedTextQuery': {'terms': ['dev', 'develop'],\n",
       "         'negatedTerms': [],\n",
       "         'phrases': ['DEV-DEVELOP'],\n",
       "         'negatedPhrases': []},\n",
       "        'textIndexVersion': 3,\n",
       "        'inputStage': {'stage': 'TEXT_MATCH',\n",
       "         'inputStage': {'stage': 'TEXT_OR',\n",
       "          'inputStages': [{'stage': 'IXSCAN',\n",
       "            'keyPattern': {'_fts': 'text', '_ftsx': 1},\n",
       "            'indexName': '$**_text',\n",
       "            'isMultiKey': True,\n",
       "            'isUnique': False,\n",
       "            'isSparse': False,\n",
       "            'isPartial': False,\n",
       "            'indexVersion': 2,\n",
       "            'direction': 'backward',\n",
       "            'indexBounds': {}},\n",
       "           {'stage': 'IXSCAN',\n",
       "            'keyPattern': {'_fts': 'text', '_ftsx': 1},\n",
       "            'indexName': '$**_text',\n",
       "            'isMultiKey': True,\n",
       "            'isUnique': False,\n",
       "            'isSparse': False,\n",
       "            'isPartial': False,\n",
       "            'indexVersion': 2,\n",
       "            'direction': 'backward',\n",
       "            'indexBounds': {}}]}}}}},\n",
       "     'rejectedPlans': []}}},\n",
       "  {'$sort': {'sortKey': {'$computed0': {'$meta': 'textScore'}}}},\n",
       "  {'$lookup': {'from': '2',\n",
       "    'as': 'permissions',\n",
       "    'localField': 'actor_id',\n",
       "    'foreignField': '_id',\n",
       "    'unwinding': {'preserveNullAndEmptyArrays': False},\n",
       "    'matching': {'testuser': {'$exists': True}}}}],\n",
       " 'serverInfo': {'host': 'afbc1cef11d7',\n",
       "  'port': 27017,\n",
       "  'version': '4.2.6',\n",
       "  'gitVersion': '20364840b8f1af16917e4c23c1b5f5efd8b352f8'},\n",
       " 'ok': 1.0}"
      ]
     },
     "execution_count": 215,
     "metadata": {},
     "output_type": "execute_result"
    }
   ],
   "source": [
    "_mongo_database.command('aggregate', '5', pipeline=pipeline, explain=True)"
   ]
  },
  {
   "cell_type": "code",
   "execution_count": null,
   "metadata": {},
   "outputs": [],
   "source": []
  },
  {
   "cell_type": "code",
   "execution_count": null,
   "metadata": {},
   "outputs": [],
   "source": []
  },
  {
   "cell_type": "code",
   "execution_count": 103,
   "metadata": {},
   "outputs": [
    {
     "name": "stdout",
     "output_type": "stream",
     "text": [
      "{'message': \"Unrecognized exception type: <class 'ValueError'>. Exception: \"\n",
      "            'Inputted datetime was in an incorrect format. Please refer to '\n",
      "            'docs and follow ISO 8601 formatting. e.g. '\n",
      "            \"'2020-05-01T14:45:41.591Z'\",\n",
      " 'result': None,\n",
      " 'status': 'error',\n",
      " 'version': ':dev'}\n"
     ]
    }
   ],
   "source": [
    "# Get all actors.\n",
    "actor = r.get('http://localhost:8000/actors/search/executions?final_state.StartedAt.gt=2000-05:00',\n",
    "               headers=header_dat)\n",
    "try:\n",
    "    pp.pprint(actor.json())\n",
    "except:\n",
    "    print(actor.content)"
   ]
  },
  {
   "cell_type": "code",
   "execution_count": 286,
   "metadata": {},
   "outputs": [
    {
     "name": "stdout",
     "output_type": "stream",
     "text": [
      "{'message': 'Search completed successfully.',\n",
      " 'result': {'_metadata': {'countReturned': 0,\n",
      "                          'recordLimit': 100,\n",
      "                          'recordsSkipped': 0,\n",
      "                          'totalCount': 0},\n",
      "            'search': []},\n",
      " 'status': 'success',\n",
      " 'version': ':dev'}\n"
     ]
    }
   ],
   "source": [
    "# Get all actors.\n",
    "actor = r.get('http://localhost:8000/actors/search/executions',\n",
    "               headers=header_dat)\n",
    "try:\n",
    "    pp.pprint(actor.json())\n",
    "except:\n",
    "    print(actor.content)"
   ]
  },
  {
   "cell_type": "markdown",
   "metadata": {},
   "source": [
    "# Search"
   ]
  },
  {
   "cell_type": "code",
   "execution_count": 102,
   "metadata": {},
   "outputs": [],
   "source": [
    "car.update({'hey':'2'})"
   ]
  },
  {
   "cell_type": "code",
   "execution_count": 65,
   "metadata": {},
   "outputs": [],
   "source": [
    "date_string = '02-12-1996 2:23:32.222'"
   ]
  },
  {
   "cell_type": "code",
   "execution_count": 66,
   "metadata": {},
   "outputs": [],
   "source": [
    "dt = datetime.datetime.strptime(date_string, \"%d-%m-%Y %H:%M:%S.%f\")"
   ]
  },
  {
   "cell_type": "code",
   "execution_count": 68,
   "metadata": {},
   "outputs": [
    {
     "data": {
      "text/plain": [
       "datetime.datetime(1996, 12, 2, 2, 23, 32, 222000)"
      ]
     },
     "execution_count": 68,
     "metadata": {},
     "output_type": "execute_result"
    }
   ],
   "source": [
    "dt"
   ]
  },
  {
   "cell_type": "code",
   "execution_count": 70,
   "metadata": {},
   "outputs": [],
   "source": [
    "dt, _, us = date_string.partition(\".\")"
   ]
  },
  {
   "cell_type": "code",
   "execution_count": 73,
   "metadata": {},
   "outputs": [
    {
     "ename": "ValueError",
     "evalue": "time data '02-12-1996 2:23:32' does not match format '%Y-%m-%dT%H:%M:%S'",
     "output_type": "error",
     "traceback": [
      "\u001b[0;31m---------------------------------------------------------------------------\u001b[0m",
      "\u001b[0;31mValueError\u001b[0m                                Traceback (most recent call last)",
      "\u001b[0;32m<ipython-input-73-9f1275168a9f>\u001b[0m in \u001b[0;36m<module>\u001b[0;34m\u001b[0m\n\u001b[0;32m----> 1\u001b[0;31m \u001b[0mdt\u001b[0m \u001b[0;34m=\u001b[0m \u001b[0mdatetime\u001b[0m\u001b[0;34m.\u001b[0m\u001b[0mdatetime\u001b[0m\u001b[0;34m.\u001b[0m\u001b[0mstrptime\u001b[0m\u001b[0;34m(\u001b[0m\u001b[0mdt\u001b[0m\u001b[0;34m,\u001b[0m \u001b[0;34m\"%Y-%m-%dT%H:%M:%S\"\u001b[0m\u001b[0;34m)\u001b[0m\u001b[0;34m\u001b[0m\u001b[0;34m\u001b[0m\u001b[0m\n\u001b[0m",
      "\u001b[0;32m/usr/lib/python3.6/_strptime.py\u001b[0m in \u001b[0;36m_strptime_datetime\u001b[0;34m(cls, data_string, format)\u001b[0m\n\u001b[1;32m    563\u001b[0m     \"\"\"Return a class cls instance based on the input string and the\n\u001b[1;32m    564\u001b[0m     format string.\"\"\"\n\u001b[0;32m--> 565\u001b[0;31m     \u001b[0mtt\u001b[0m\u001b[0;34m,\u001b[0m \u001b[0mfraction\u001b[0m \u001b[0;34m=\u001b[0m \u001b[0m_strptime\u001b[0m\u001b[0;34m(\u001b[0m\u001b[0mdata_string\u001b[0m\u001b[0;34m,\u001b[0m \u001b[0mformat\u001b[0m\u001b[0;34m)\u001b[0m\u001b[0;34m\u001b[0m\u001b[0;34m\u001b[0m\u001b[0m\n\u001b[0m\u001b[1;32m    566\u001b[0m     \u001b[0mtzname\u001b[0m\u001b[0;34m,\u001b[0m \u001b[0mgmtoff\u001b[0m \u001b[0;34m=\u001b[0m \u001b[0mtt\u001b[0m\u001b[0;34m[\u001b[0m\u001b[0;34m-\u001b[0m\u001b[0;36m2\u001b[0m\u001b[0;34m:\u001b[0m\u001b[0;34m]\u001b[0m\u001b[0;34m\u001b[0m\u001b[0;34m\u001b[0m\u001b[0m\n\u001b[1;32m    567\u001b[0m     \u001b[0margs\u001b[0m \u001b[0;34m=\u001b[0m \u001b[0mtt\u001b[0m\u001b[0;34m[\u001b[0m\u001b[0;34m:\u001b[0m\u001b[0;36m6\u001b[0m\u001b[0;34m]\u001b[0m \u001b[0;34m+\u001b[0m \u001b[0;34m(\u001b[0m\u001b[0mfraction\u001b[0m\u001b[0;34m,\u001b[0m\u001b[0;34m)\u001b[0m\u001b[0;34m\u001b[0m\u001b[0;34m\u001b[0m\u001b[0m\n",
      "\u001b[0;32m/usr/lib/python3.6/_strptime.py\u001b[0m in \u001b[0;36m_strptime\u001b[0;34m(data_string, format)\u001b[0m\n\u001b[1;32m    360\u001b[0m     \u001b[0;32mif\u001b[0m \u001b[0;32mnot\u001b[0m \u001b[0mfound\u001b[0m\u001b[0;34m:\u001b[0m\u001b[0;34m\u001b[0m\u001b[0;34m\u001b[0m\u001b[0m\n\u001b[1;32m    361\u001b[0m         raise ValueError(\"time data %r does not match format %r\" %\n\u001b[0;32m--> 362\u001b[0;31m                          (data_string, format))\n\u001b[0m\u001b[1;32m    363\u001b[0m     \u001b[0;32mif\u001b[0m \u001b[0mlen\u001b[0m\u001b[0;34m(\u001b[0m\u001b[0mdata_string\u001b[0m\u001b[0;34m)\u001b[0m \u001b[0;34m!=\u001b[0m \u001b[0mfound\u001b[0m\u001b[0;34m.\u001b[0m\u001b[0mend\u001b[0m\u001b[0;34m(\u001b[0m\u001b[0;34m)\u001b[0m\u001b[0;34m:\u001b[0m\u001b[0;34m\u001b[0m\u001b[0;34m\u001b[0m\u001b[0m\n\u001b[1;32m    364\u001b[0m         raise ValueError(\"unconverted data remains: %s\" %\n",
      "\u001b[0;31mValueError\u001b[0m: time data '02-12-1996 2:23:32' does not match format '%Y-%m-%dT%H:%M:%S'"
     ]
    }
   ],
   "source": [
    "dt = datetime.datetime.strptime(dt, \"%Y-%m-%dT%H:%M:%S\")\n"
   ]
  },
  {
   "cell_type": "code",
   "execution_count": 94,
   "metadata": {},
   "outputs": [
    {
     "data": {
      "text/plain": [
       "int"
      ]
     },
     "execution_count": 94,
     "metadata": {},
     "output_type": "execute_result"
    }
   ],
   "source": [
    "type(json.loads('232'))"
   ]
  },
  {
   "cell_type": "code",
   "execution_count": 116,
   "metadata": {},
   "outputs": [
    {
     "data": {
      "text/plain": [
       "'2020-04-29T16:21:34.602078-05:00'"
      ]
     },
     "execution_count": 116,
     "metadata": {},
     "output_type": "execute_result"
    }
   ],
   "source": [
    "austin_time_zone = pytz.timezone(\"America/Chicago\")\n",
    "ISOString = datetime.datetime.now(tz=austin_time_zone).isoformat()"
   ]
  },
  {
   "cell_type": "code",
   "execution_count": 156,
   "metadata": {},
   "outputs": [
    {
     "data": {
      "text/plain": [
       "'2012-02-23T23:00:00-05:00'"
      ]
     },
     "execution_count": 156,
     "metadata": {},
     "output_type": "execute_result"
    }
   ],
   "source": [
    "broad_ISO_to_datetime('2012-02-23T23-05:00').isoformat()"
   ]
  },
  {
   "cell_type": "code",
   "execution_count": 154,
   "metadata": {},
   "outputs": [],
   "source": [
    "def broad_ISO_to_datetime(dt_str):\n",
    "    \"\"\"\n",
    "    Parses a broadly conforming ISO 8601 string.\n",
    "    \"\"\"\n",
    "    dt_str = dt_str.replace('Z', '')\n",
    "    datetime_strs = ['%Y-%m-%dT%H:%M:%S.%f%z', #0 \n",
    "                    '%Y-%m-%dT%H:%M:%S.%f',\n",
    "                    '%Y-%m-%dT%H:%M:%S%z',\n",
    "                    '%Y-%m-%dT%H:%M:%S', \n",
    "                    '%Y-%m-%dT%H:%M%z', #4\n",
    "                    '%Y-%m-%dT%H:%M',\n",
    "                    '%Y-%m-%dT%H%z', #6\n",
    "                    '%Y-%m-%dT%H',\n",
    "                    '%Y-%m-%dT%z',\n",
    "                    '%Y-%m-%dT', #9\n",
    "                    '%Y-%m-%d%z',\n",
    "                    '%Y-%m-%d',\n",
    "                    '%Y-%m%z',\n",
    "                    '%Y-%m',\n",
    "                    '%Y%z',\n",
    "                    '%Y']\n",
    "    # Try each parse for each datetime str\n",
    "    for i, datetime_try in enumerate(datetime_strs):\n",
    "        # Fixing the datetime_str input's timezone. ISO has \":\" in the timezone,\n",
    "        # the parser does not want that, so conditionally we delete tz \":\".\n",
    "        if i <= 4:\n",
    "            dt_tz_ready = dt_str[:19] + dt_str[19:].replace(':', '')\n",
    "        elif i <= 6:\n",
    "            dt_tz_ready = dt_str[:16] + dt_str[16:].replace(':', '')\n",
    "        elif i <= 9:\n",
    "            dt_tz_ready = dt_str[:13] + dt_str[13:].replace(':', '')\n",
    "        else:\n",
    "            dt_tz_ready = dt_str.replace(':', '')\n",
    "        try:\n",
    "            dt = datetime.datetime.strptime(dt_tz_ready, datetime_try)\n",
    "            return dt\n",
    "        except:\n",
    "            pass\n",
    "    # If no parse was successful, error!\n",
    "    raise ValueError(\"Inputted datetime was in an incorrect format.\"\\\n",
    "                    \" Please refer to docs and follow ISO 8601 formatting.\"\\\n",
    "                    \" e.g. '2020-05-01T14:45:41.591Z'\")\n"
   ]
  },
  {
   "cell_type": "code",
   "execution_count": 122,
   "metadata": {},
   "outputs": [],
   "source": []
  },
  {
   "cell_type": "code",
   "execution_count": null,
   "metadata": {},
   "outputs": [],
   "source": []
  },
  {
   "cell_type": "code",
   "execution_count": null,
   "metadata": {},
   "outputs": [],
   "source": []
  },
  {
   "cell_type": "code",
   "execution_count": 32,
   "metadata": {},
   "outputs": [
    {
     "data": {
      "text/plain": [
       "datetime.datetime(2020, 4, 28, 14, 6, 48, 282262)"
      ]
     },
     "execution_count": 32,
     "metadata": {},
     "output_type": "execute_result"
    }
   ],
   "source": [
    "testt = datetime.datetime.now().isoformat() +'Z'\n",
    "datetime.datetime.strptime(testt, \"%Y-%m-%dT%H:%M:%S.%fZ\")\n"
   ]
  },
  {
   "cell_type": "code",
   "execution_count": 3,
   "metadata": {},
   "outputs": [
    {
     "data": {
      "text/plain": [
       "1577858400.0"
      ]
     },
     "execution_count": 3,
     "metadata": {},
     "output_type": "execute_result"
    }
   ],
   "source": [
    "broad_ISO_to_timestamp('2020').timestamp()"
   ]
  },
  {
   "cell_type": "code",
   "execution_count": 75,
   "metadata": {},
   "outputs": [
    {
     "data": {
      "text/plain": [
       "datetime.datetime(2020, 4, 28, 19, 39, 2, 36000)"
      ]
     },
     "execution_count": 75,
     "metadata": {},
     "output_type": "execute_result"
    }
   ],
   "source": [
    "dt = '2020-04-28T19:39:02.03633333Z'.replace('Z','')[:23]\n",
    "datetime.datetime.strptime(dt, \"%Y-%m-%dT%H:%M:%S.%f\")"
   ]
  },
  {
   "cell_type": "code",
   "execution_count": 66,
   "metadata": {},
   "outputs": [
    {
     "data": {
      "text/plain": [
       "'2020-04-28T19:39:02.036'"
      ]
     },
     "execution_count": 66,
     "metadata": {},
     "output_type": "execute_result"
    }
   ],
   "source": [
    "dt"
   ]
  },
  {
   "cell_type": "code",
   "execution_count": 28,
   "metadata": {},
   "outputs": [
    {
     "data": {
      "text/plain": [
       "datetime.datetime(2020, 4, 28, 14, 5, 11, 825002)"
      ]
     },
     "execution_count": 28,
     "metadata": {},
     "output_type": "execute_result"
    }
   ],
   "source": [
    "datetime.datetime.now()"
   ]
  },
  {
   "cell_type": "code",
   "execution_count": 68,
   "metadata": {},
   "outputs": [
    {
     "data": {
      "text/plain": [
       "'ar'"
      ]
     },
     "execution_count": 68,
     "metadata": {},
     "output_type": "execute_result"
    }
   ],
   "source": [
    "'car'.replace('c','')"
   ]
  },
  {
   "cell_type": "code",
   "execution_count": 43,
   "metadata": {},
   "outputs": [
    {
     "name": "stdout",
     "output_type": "stream",
     "text": [
      "{'message': 'Search completed successfully.',\n",
      " 'result': {'_metadata': {'countReturned': 0,\n",
      "                          'recordLimit': 10,\n",
      "                          'recordsSkipped': 0,\n",
      "                          'totalCount': 0},\n",
      "            'search': []},\n",
      " 'status': 'success',\n",
      " 'version': ':dev'}\n"
     ]
    }
   ],
   "source": [
    "# Get all actors.\n",
    "actor = r.get(\"http://localhost:8000/actors/search/workers\",\n",
    "               headers=header_dat)\n",
    "try:\n",
    "    pp.pprint(actor.json())\n",
    "except:\n",
    "    print(actor.content)"
   ]
  },
  {
   "cell_type": "code",
   "execution_count": 56,
   "metadata": {},
   "outputs": [
    {
     "name": "stdout",
     "output_type": "stream",
     "text": [
      "{'message': \"Unrecognized exception type: <class 'AttributeError'>. Exception: \"\n",
      "            \"'NoneType' object has no attribute 'items'\",\n",
      " 'result': None,\n",
      " 'status': 'error',\n",
      " 'version': ':dev'}\n"
     ]
    }
   ],
   "source": [
    "# Get all actors.\n",
    "actor = r.get(\"http://localhost:8000/actors/aw7XelxjLg4Lj/executions?id=8zKr3XQ1Ema8O\",\n",
    "               headers=header_dat)\n",
    "try:\n",
    "    pp.pprint(actor.json())\n",
    "except:\n",
    "    print(actor.content)"
   ]
  },
  {
   "cell_type": "code",
   "execution_count": 17,
   "metadata": {},
   "outputs": [
    {
     "ename": "AttributeError",
     "evalue": "'str' object has no attribute 'isoformat'",
     "output_type": "error",
     "traceback": [
      "\u001b[0;31m---------------------------------------------------------------------------\u001b[0m",
      "\u001b[0;31mAttributeError\u001b[0m                            Traceback (most recent call last)",
      "\u001b[0;32m<ipython-input-17-2a2ca5ecfaac>\u001b[0m in \u001b[0;36m<module>\u001b[0;34m\u001b[0m\n\u001b[0;32m----> 1\u001b[0;31m \u001b[0;34m'dsad'\u001b[0m\u001b[0;34m.\u001b[0m\u001b[0misoformat\u001b[0m\u001b[0;34m(\u001b[0m\u001b[0;34m)\u001b[0m\u001b[0;34m\u001b[0m\u001b[0;34m\u001b[0m\u001b[0m\n\u001b[0m",
      "\u001b[0;31mAttributeError\u001b[0m: 'str' object has no attribute 'isoformat'"
     ]
    }
   ],
   "source": [
    "'dsad'.isoformat()"
   ]
  },
  {
   "cell_type": "code",
   "execution_count": 113,
   "metadata": {},
   "outputs": [
    {
     "data": {
      "text/plain": [
       "'0001-01-01T00:00:00'"
      ]
     },
     "execution_count": 113,
     "metadata": {},
     "output_type": "execute_result"
    }
   ],
   "source": [
    "datetime.datetime.min.isoformat()"
   ]
  },
  {
   "cell_type": "code",
   "execution_count": 18,
   "metadata": {},
   "outputs": [
    {
     "data": {
      "text/plain": [
       "1588097902.1446474"
      ]
     },
     "execution_count": 18,
     "metadata": {},
     "output_type": "execute_result"
    }
   ],
   "source": [
    "time.time()"
   ]
  },
  {
   "cell_type": "code",
   "execution_count": 115,
   "metadata": {},
   "outputs": [],
   "source": [
    "import pytz\n",
    "import datetime"
   ]
  },
  {
   "cell_type": "code",
   "execution_count": null,
   "metadata": {},
   "outputs": [],
   "source": [
    "datetime.datetime.now(tz=pytz())"
   ]
  },
  {
   "cell_type": "code",
   "execution_count": null,
   "metadata": {},
   "outputs": [],
   "source": []
  },
  {
   "cell_type": "code",
   "execution_count": null,
   "metadata": {},
   "outputs": [],
   "source": []
  },
  {
   "cell_type": "code",
   "execution_count": null,
   "metadata": {},
   "outputs": [],
   "source": [
    "date"
   ]
  },
  {
   "cell_type": "code",
   "execution_count": 112,
   "metadata": {},
   "outputs": [
    {
     "name": "stdout",
     "output_type": "stream",
     "text": [
      "{'message': 'Search completed successfully.',\n",
      " 'result': {'_metadata': {'countReturned': 6,\n",
      "                          'recordLimit': 10,\n",
      "                          'recordsSkipped': 0,\n",
      "                          'totalCount': 6},\n",
      "            'search': [{'actorId': '4V6aZp8ABqDOb',\n",
      "                        'id': '7zJ13WkO7AbN0',\n",
      "                        'status': 'REQUESTED'},\n",
      "                       {'actorId': 'X4OJbZNRrJvK1',\n",
      "                        'chName': 'worker_K1OXrBxAGW5aq',\n",
      "                        'cid': '9ad825e20c61a162c77951387a2beb3d667ee5e0a88943987d2a259d5bdcd4e1',\n",
      "                        'createTime': '2020-04-29T20:08:57.647Z',\n",
      "                        'hostId': '0',\n",
      "                        'hostIp': '172.17.0.1',\n",
      "                        'id': 'K1OXrBxAGW5aq',\n",
      "                        'image': 'abacosamples/wc',\n",
      "                        'lastExecutionTime': 'None',\n",
      "                        'lastHealthCheckTime': '2020-04-29T20:09:08.134Z',\n",
      "                        'location': 'unix://var/run/docker.sock',\n",
      "                        'status': 'READY'},\n",
      "                       {'actorId': 'jjDLBjz7g0eLK',\n",
      "                        'chName': 'worker_7YlgWN84goXBm',\n",
      "                        'cid': '080d6131bb17cee648f4b9b826ddde71dbb055e06477e45841a7ab4d5bf75eef',\n",
      "                        'createTime': '2020-04-29T20:10:22.3Z00',\n",
      "                        'hostId': '0',\n",
      "                        'hostIp': '172.17.0.1',\n",
      "                        'id': '7YlgWN84goXBm',\n",
      "                        'image': 'jstubbs/abaco_test2',\n",
      "                        'lastExecutionTime': 'None',\n",
      "                        'lastHealthCheckTime': '2020-04-29T20:10:22.299Z',\n",
      "                        'location': 'unix://var/run/docker.sock',\n",
      "                        'status': 'READY'},\n",
      "                       {'actorId': 'K1OE6QKal6YEZ',\n",
      "                        'chName': 'worker_aVOqrzYQ7pw7l',\n",
      "                        'cid': 'f2f7567e776e11717d1b063dd8dff22f5b0ddc597f500af047c0e5b2c8fa24c2',\n",
      "                        'createTime': '2020-04-29T20:08:59.779Z',\n",
      "                        'hostId': '0',\n",
      "                        'hostIp': '172.17.0.1',\n",
      "                        'id': 'aVOqrzYQ7pw7l',\n",
      "                        'image': 'abacosamples/test',\n",
      "                        'lastExecutionTime': '2020-04-29T20:09:17.986Z',\n",
      "                        'lastHealthCheckTime': '2020-04-29T20:09:08.478Z',\n",
      "                        'location': 'unix://var/run/docker.sock',\n",
      "                        'status': 'READY'},\n",
      "                       {'actorId': 'jjw15povXjvao',\n",
      "                        'chName': 'worker_bL6OgVD4Apb05',\n",
      "                        'cid': '4a19b024249fd206b41f37658340648b0256823c1383042304416cbdbc77eb6e',\n",
      "                        'createTime': '2020-04-29T20:09:02.209Z',\n",
      "                        'hostId': '0',\n",
      "                        'hostIp': '172.17.0.1',\n",
      "                        'id': 'bL6OgVD4Apb05',\n",
      "                        'image': 'abacosamples/py3_func',\n",
      "                        'lastExecutionTime': '2020-04-29T20:09:22.807Z',\n",
      "                        'lastHealthCheckTime': '2020-04-29T20:09:08.798Z',\n",
      "                        'location': 'unix://var/run/docker.sock',\n",
      "                        'status': 'READY'},\n",
      "                       {'actorId': '4V6aZp8ABqDOb',\n",
      "                        'id': 'BAQeQpqXpAP60',\n",
      "                        'status': 'REQUESTED'}]},\n",
      " 'status': 'success',\n",
      " 'version': ':dev'}\n"
     ]
    }
   ],
   "source": [
    "# Get all actors.\n",
    "actor = r.get('http://localhost:8000/actors/search/workers?image.nin=[\"abacosamples/sleep_loop\", \"jstubbs/abaco_test\"]',\n",
    "               headers=header_dat)\n",
    "try:\n",
    "    pp.pprint(actor.json())\n",
    "except:\n",
    "    print(actor.content)"
   ]
  },
  {
   "cell_type": "code",
   "execution_count": 100,
   "metadata": {},
   "outputs": [],
   "source": [
    "webhook = '7Dq1vKwQjXL63/messages?x-nonce=DEV-DEVELOP_4xALgYNeZobKe'\n",
    "data = {'image': 'jstubbs/abaco_test',\n",
    "        'name': 'abaco_test_suite_event-2',\n",
    "        'webhook': webhook}\n"
   ]
  },
  {
   "cell_type": "code",
   "execution_count": 101,
   "metadata": {},
   "outputs": [],
   "source": [
    "look = r.post('http://localhost:8000/actors', data=data, headers=header_dat)"
   ]
  },
  {
   "cell_type": "code",
   "execution_count": 98,
   "metadata": {},
   "outputs": [],
   "source": [
    "look = r.get('http://localhost:8000/actors/a3q3LVjDw1OjA/executions', headers=header_dat)"
   ]
  },
  {
   "cell_type": "code",
   "execution_count": 103,
   "metadata": {},
   "outputs": [
    {
     "data": {
      "text/plain": [
       "datetime.datetime(2020, 4, 28, 21, 52, 2, 424707)"
      ]
     },
     "execution_count": 103,
     "metadata": {},
     "output_type": "execute_result"
    }
   ],
   "source": [
    "datetime.datetime.utcnow()"
   ]
  },
  {
   "cell_type": "code",
   "execution_count": 99,
   "metadata": {},
   "outputs": [],
   "source": [
    "look = r.get('http://localhost:8000/actors/a3q3LVjDw1OjA/messages?', headers=header_dat)"
   ]
  },
  {
   "cell_type": "code",
   "execution_count": 95,
   "metadata": {},
   "outputs": [
    {
     "data": {
      "text/plain": [
       "<Response [200]>"
      ]
     },
     "execution_count": 95,
     "metadata": {},
     "output_type": "execute_result"
    }
   ],
   "source": [
    "look"
   ]
  },
  {
   "cell_type": "code",
   "execution_count": null,
   "metadata": {},
   "outputs": [],
   "source": []
  },
  {
   "cell_type": "code",
   "execution_count": 96,
   "metadata": {},
   "outputs": [
    {
     "data": {
      "text/plain": [
       "{'message': 'The request was successful',\n",
       " 'result': {'_links': {'owner': 'https://dev.tenants.aloedev.tacc.cloud/profiles/v2/testuser',\n",
       "   'self': 'https://dev.tenants.aloedev.tacc.cloud/actors/v2/a3q3LVjDw1OjA/messages'},\n",
       "  'messages': 0},\n",
       " 'status': 'success',\n",
       " 'version': ':dev'}"
      ]
     },
     "execution_count": 96,
     "metadata": {},
     "output_type": "execute_result"
    }
   ],
   "source": [
    "look.json()"
   ]
  },
  {
   "cell_type": "code",
   "execution_count": null,
   "metadata": {},
   "outputs": [],
   "source": [
    "# Get all actors.\n",
    "actor = r.get(\"http://localhost:8000/actors\",\n",
    "               headers=header_dat)\n",
    "try:\n",
    "    pp.pprint(actor.json())\n",
    "except:\n",
    "    print(actor.content)"
   ]
  },
  {
   "cell_type": "code",
   "execution_count": 68,
   "metadata": {},
   "outputs": [
    {
     "name": "stdout",
     "output_type": "stream",
     "text": [
      "None\n"
     ]
    }
   ],
   "source": [
    "args = {'id': '23232'}\n",
    "add_on = {}\n",
    "print(add_on.update(args))"
   ]
  },
  {
   "cell_type": "code",
   "execution_count": 67,
   "metadata": {},
   "outputs": [
    {
     "data": {
      "text/plain": [
       "{'id': '23232'}"
      ]
     },
     "execution_count": 67,
     "metadata": {},
     "output_type": "execute_result"
    }
   ],
   "source": [
    "add_on"
   ]
  },
  {
   "cell_type": "code",
   "execution_count": null,
   "metadata": {},
   "outputs": [],
   "source": []
  },
  {
   "cell_type": "code",
   "execution_count": 77,
   "metadata": {},
   "outputs": [
    {
     "name": "stdout",
     "output_type": "stream",
     "text": [
      "{\n",
      "  \"message\": \"The request was successful\", \n",
      "  \"result\": {\n",
      "    \"_links\": {\n",
      "      \"owner\": \"https://dev.tenants.aloedev.tacc.cloud/profiles/v2/testuser\", \n",
      "      \"self\": \"https://dev.tenants.aloedev.tacc.cloud/actors/v2/7Dq1vKwQjXL63/messages\"\n",
      "    }, \n",
      "    \"messages\": 0\n",
      "  }, \n",
      "  \"status\": \"success\", \n",
      "  \"version\": \":dev\"\n",
      "}\n",
      "\n"
     ]
    }
   ],
   "source": [
    "# Get all actors.\n",
    "actor = r.get(\"http://localhost:8000/actors/7Dq1vKwQjXL63/messages?x-nonce=DEV-DEVELOP_4xALgYNeZobKe\",\n",
    "               headers=header_dat)\n",
    "print(actor.text)"
   ]
  },
  {
   "cell_type": "code",
   "execution_count": 17,
   "metadata": {},
   "outputs": [
    {
     "name": "stdout",
     "output_type": "stream",
     "text": [
      "{\n",
      "    \"status\": \"error\",\n",
      "    \"message\": \"Invalid request: the requested URL is not an Abaco endpoint.\",\n",
      "    \"version\": \"unknown\",\n",
      "    \"result\": None\n",
      "}\n",
      "\n"
     ]
    }
   ],
   "source": [
    "# Get all actors.\n",
    "actor = r.get(\"http://localhost:8000/search/workers?car=stop&dog.gt=flop&car=jar\",\n",
    "               headers=header_dat)\n",
    "print(actor.text)"
   ]
  },
  {
   "cell_type": "code",
   "execution_count": null,
   "metadata": {},
   "outputs": [],
   "source": []
  },
  {
   "cell_type": "code",
   "execution_count": null,
   "metadata": {},
   "outputs": [],
   "source": []
  },
  {
   "cell_type": "code",
   "execution_count": null,
   "metadata": {},
   "outputs": [],
   "source": []
  },
  {
   "cell_type": "code",
   "execution_count": null,
   "metadata": {},
   "outputs": [],
   "source": []
  },
  {
   "cell_type": "code",
   "execution_count": null,
   "metadata": {},
   "outputs": [],
   "source": []
  },
  {
   "cell_type": "code",
   "execution_count": null,
   "metadata": {},
   "outputs": [],
   "source": []
  },
  {
   "cell_type": "code",
   "execution_count": 86,
   "metadata": {},
   "outputs": [
    {
     "name": "stdout",
     "output_type": "stream",
     "text": [
      "{\n",
      "    \"status\": \"error\",\n",
      "    \"message\": \"Invalid request: the requested URL is not an Abaco endpoint.\",\n",
      "    \"version\": \"unknown\",\n",
      "    \"result\": None\n",
      "}\n",
      "\n"
     ]
    }
   ],
   "source": [
    "# Get all actors.\n",
    "actor = r.get(\"http://localhost:8000/search/dsads?car=stop&dog.gt=flop&car=jar\",\n",
    "               headers=header_dat)\n",
    "print(actor.text)"
   ]
  },
  {
   "cell_type": "code",
   "execution_count": 40,
   "metadata": {},
   "outputs": [
    {
     "data": {
      "text/plain": [
       "{'message': 'Actor created successfully.',\n",
       " 'result': {'_links': {'executions': 'https://dev.tenants.aloedev.tacc.cloud/actors/v2/Kol7lwgG7DgVx/executions',\n",
       "   'owner': 'https://dev.tenants.aloedev.tacc.cloud/profiles/v2/testuser',\n",
       "   'self': 'https://dev.tenants.aloedev.tacc.cloud/actors/v2/Kol7lwgG7DgVx'},\n",
       "  'createTime': '2020-04-17 21:07:54.069820',\n",
       "  'defaultEnvironment': {},\n",
       "  'description': '',\n",
       "  'hints': [],\n",
       "  'id': 'Kol7lwgG7DgVx',\n",
       "  'image': 'notchristiangarcia/flops_test',\n",
       "  'lastUpdateTime': '2020-04-17 21:07:54.069820',\n",
       "  'link': '',\n",
       "  'mounts': [{'container_path': '/_abaco_data1',\n",
       "    'host_path': '/data1',\n",
       "    'mode': 'ro'}],\n",
       "  'owner': 'testuser',\n",
       "  'privileged': False,\n",
       "  'queue': 'default',\n",
       "  'state': {},\n",
       "  'stateless': True,\n",
       "  'status': 'SUBMITTED',\n",
       "  'statusMessage': '',\n",
       "  'token': 'false',\n",
       "  'type': 'none',\n",
       "  'useContainerUid': False,\n",
       "  'webhook': ''},\n",
       " 'status': 'success',\n",
       " 'version': ':dev'}"
      ]
     },
     "execution_count": 40,
     "metadata": {},
     "output_type": "execute_result"
    }
   ],
   "source": [
    "# Complex actor creation.\n",
    "res = r.post(f\"{url}\", \n",
    "                 headers=header_dat,\n",
    "                 data={\"image\":\"notchristiangarcia/flops_test\"})\n",
    "actor_id = res.json()['result']['id']\n",
    "res.json()"
   ]
  },
  {
   "cell_type": "code",
   "execution_count": 41,
   "metadata": {},
   "outputs": [
    {
     "data": {
      "text/plain": [
       "{'message': 'Workers retrieved successfully.',\n",
       " 'result': [{'createTime': '2020-04-17 21:07:56.153295',\n",
       "   'id': '8z6Q8zoNErwoW',\n",
       "   'lastExecutionTime': 'None',\n",
       "   'lastHealthCheckTime': 'None',\n",
       "   'status': 'PULLING IMAGE',\n",
       "   'tenant': 'DEV-DEVELOP'}],\n",
       " 'status': 'success',\n",
       " 'version': ':dev'}"
      ]
     },
     "execution_count": 41,
     "metadata": {},
     "output_type": "execute_result"
    }
   ],
   "source": [
    "# Get executions.\n",
    "actor = r.get(f\"{url}/{actor_id}/workers\",\n",
    "               headers=header_dat)\n",
    "actor.json()"
   ]
  },
  {
   "cell_type": "code",
   "execution_count": 42,
   "metadata": {},
   "outputs": [
    {
     "data": {
      "text/plain": [
       "{'message': 'The request was successful',\n",
       " 'result': {'_links': {'messages': 'https://dev.tenants.aloedev.tacc.cloud/actors/v2/Kol7lwgG7DgVx/messages',\n",
       "   'owner': 'https://dev.tenants.aloedev.tacc.cloud/profiles/v2/testuser',\n",
       "   'self': 'https://dev.tenants.aloedev.tacc.cloud/actors/v2/Kol7lwgG7DgVx/executions/KoZkgVZy5g1MZ'},\n",
       "  'executionId': 'KoZkgVZy5g1MZ',\n",
       "  'msg': {'message': 'hey there partner'}},\n",
       " 'status': 'success',\n",
       " 'version': ':dev'}"
      ]
     },
     "execution_count": 42,
     "metadata": {},
     "output_type": "execute_result"
    }
   ],
   "source": [
    "# Send a message.\n",
    "exec_res = r.post(f\"{url}/{actor_id}/messages\",\n",
    "                          headers=header_dat,\n",
    "                          data=json.dumps({'message':'hey there partner'}))\n",
    "exec_res.json()"
   ]
  },
  {
   "cell_type": "code",
   "execution_count": 37,
   "metadata": {},
   "outputs": [
    {
     "data": {
      "text/plain": [
       "{'message': 'Workers retrieved successfully.',\n",
       " 'result': [{'chName': 'worker_AVpAzywj5W3mr',\n",
       "   'cid': 'fd65038352ef977ebc43a3d8118ea4c7168ed6e2b588e07cbef23f313a877c50',\n",
       "   'createTime': '2020-04-17 19:01:28.587002',\n",
       "   'hostId': '0',\n",
       "   'hostIp': '172.17.0.1',\n",
       "   'id': 'AVpAzywj5W3mr',\n",
       "   'image': 'notchristiangarcia/flops_test',\n",
       "   'lastExecutionTime': '2020-04-17 20:42:14.442163',\n",
       "   'lastHealthCheckTime': '2020-04-17 20:41:08.322597',\n",
       "   'location': 'unix://var/run/docker.sock',\n",
       "   'status': 'READY',\n",
       "   'tenant': 'DEV-DEVELOP'}],\n",
       " 'status': 'success',\n",
       " 'version': ':dev'}"
      ]
     },
     "execution_count": 37,
     "metadata": {},
     "output_type": "execute_result"
    }
   ],
   "source": [
    "# Get Workers.\n",
    "exec_res = r.get(f\"{url}/{actor_id}/workers\",\n",
    "                          headers=header_dat,\n",
    "                          data=json.dumps({'message':'hey there partner'}))\n",
    "exec_res.json()"
   ]
  },
  {
   "cell_type": "code",
   "execution_count": 46,
   "metadata": {},
   "outputs": [
    {
     "data": {
      "text/plain": [
       "{'message': \"Unrecognized exception type: <class 'AttributeError'>. Exception: 'ActorExecutionLogsResource' object has no attribute 'get_hypermedia'\",\n",
       " 'result': None,\n",
       " 'status': 'error',\n",
       " 'version': ':dev'}"
      ]
     },
     "execution_count": 46,
     "metadata": {},
     "output_type": "execute_result"
    }
   ],
   "source": [
    "# Get executions.\n",
    "actor = r.get(f\"{url}/{actor_id}/executions/KoZkgVZy5g1MZ/logs\",\n",
    "               headers=header_dat)\n",
    "actor.json()"
   ]
  },
  {
   "cell_type": "code",
   "execution_count": 11,
   "metadata": {},
   "outputs": [
    {
     "name": "stdout",
     "output_type": "stream",
     "text": [
      "0\n"
     ]
    },
    {
     "data": {
      "text/plain": [
       "{}"
      ]
     },
     "execution_count": 11,
     "metadata": {},
     "output_type": "execute_result"
    }
   ],
   "source": [
    "# Get list of all worker responses and dict of actor id linked to worker responses\n",
    "all_worker_responses = []\n",
    "actor_worker_links = {}\n",
    "num_workers = 0\n",
    "actor = r.get(f\"{url}\", headers=header_dat)\n",
    "for actor_info in actor.json()['result']:\n",
    "    worker_res = r.get(f\"{url}/{actor_info['id']}/workers\", headers=header_dat).json()['result']\n",
    "    num_workers += len(worker_res)\n",
    "    all_worker_responses.extend(worker_res)\n",
    "    actors_workers_ids = []\n",
    "    for worker_info in worker_res:\n",
    "        actors_workers_ids.append(worker_info['id'])\n",
    "    actor_worker_links[actor_info['id']] = actors_workers_ids\n",
    "print(num_workers)\n",
    "\n",
    "host_info = {}\n",
    "try:\n",
    "    if num_workers:\n",
    "        for worker_info in all_worker_responses:\n",
    "            if f\"Host {worker_info['hostId']}\" in host_info:\n",
    "                host_info[f\"Host {worker_info['hostId']}\"] += 1\n",
    "            else:\n",
    "                host_info[f\"Host {worker_info['hostId']}\"] = 1\n",
    "except KeyError:\n",
    "    print('Still spooling.')\n",
    "host_info"
   ]
  },
  {
   "cell_type": "code",
   "execution_count": 12,
   "metadata": {},
   "outputs": [
    {
     "name": "stdout",
     "output_type": "stream",
     "text": [
      "Deleted Workers:\n"
     ]
    }
   ],
   "source": [
    "# Delete all current workers!\n",
    "print('Deleted Workers:')\n",
    "for aid in actor_worker_links:\n",
    "    for worker_id in actor_worker_links[aid]:\n",
    "        del_worker_res = r.delete(f\"{url}/{aid}/workers/{worker_id}\",\n",
    "                                  headers=header_dat)\n",
    "        print('.', end='')"
   ]
  },
  {
   "cell_type": "code",
   "execution_count": 13,
   "metadata": {},
   "outputs": [],
   "source": [
    "# Delete all actors.\n",
    "actor = r.get(f\"{url}\",\n",
    "               headers=header_dat)\n",
    "for actor_info in actor.json()['result']:\n",
    "    del_actor_res = r.delete(f\"{url}/{actor_info['id']}\",\n",
    "                     headers=header_dat)\n",
    "    print(del_actor_res.json())"
   ]
  },
  {
   "cell_type": "markdown",
   "metadata": {},
   "source": [
    "# Templates"
   ]
  },
  {
   "cell_type": "code",
   "execution_count": null,
   "metadata": {},
   "outputs": [],
   "source": [
    "# Complex actor creation.\n",
    "webhook = r.post(f\"{url}\", \n",
    "                 headers=header_dat,\n",
    "                 data=json.dumps({\"image\":\"notchristiangarcia/webhooks\",\n",
    "                                  \"hints\":[\"top\", \"stp\", 2],\n",
    "                                  \"default_environment\":{\"URL\":\"https://webhook.site/4c3f9f5a-a271-4644-b652-cb398a4d1faf\",\n",
    "                                                         \"HEADERS\":{'Authentication':'Bearer daiosjdiosajdiasjdisad',\n",
    "                                                                    'Content-Type':'dsaiodjas'}}}))\n",
    "webhook_id = webhook.json()['result']['id']"
   ]
  },
  {
   "cell_type": "code",
   "execution_count": null,
   "metadata": {},
   "outputs": [],
   "source": [
    "# Delete specified actors.\n",
    "for del_actor in [actor_id ,'qOxAKjG7zVqkE']:\n",
    "    del_actor_res = r.delete(f\"{url}/{del_actor}\",\n",
    "                     headers=header_dat)\n",
    "    print(del_actor_res.json())"
   ]
  },
  {
   "cell_type": "code",
   "execution_count": 45,
   "metadata": {},
   "outputs": [],
   "source": [
    "# Creating a \"link.\"\n",
    "actor = r.post(f\"{url}\", \n",
    "               headers=header_dat,\n",
    "               data=json.dumps({'image':'notchristiangarcia/linktest',\n",
    "                     'link':webhook_id,\n",
    "                     'description': \"User of link.\"}))\n",
    "actor_id = actor.json()['result']['id']"
   ]
  },
  {
   "cell_type": "code",
   "execution_count": null,
   "metadata": {},
   "outputs": [],
   "source": [
    "# Send a message.\n",
    "exec_res = r.post(f\"{url}/{actor_id}/messages\",\n",
    "                          headers=header_dat,\n",
    "                          data=json.dumps({'message':'hey there partner'}))\n",
    "exec_id = exec_res.json()['result']['execution_id']"
   ]
  },
  {
   "cell_type": "code",
   "execution_count": null,
   "metadata": {},
   "outputs": [],
   "source": [
    "# Spool up more workers\n",
    "try:\n",
    "    start_workers = time.time()\n",
    "    workers_needed = 58*6\n",
    "    curr_workers = 0\n",
    "    incr = 50\n",
    "    while workers_needed != curr_workers:\n",
    "        if curr_workers + incr > workers_needed:\n",
    "            curr_workers += (workers_needed - curr_workers) % incr\n",
    "        else:\n",
    "            curr_workers += incr\n",
    "\n",
    "        print(f'Getting {curr_workers} workers')\n",
    "        spool_res = r.post(f\"{url}/{actor_id}/workers\",\n",
    "                            headers=header_dat,\n",
    "                            data={'num': curr_workers})\n",
    "except:\n",
    "    print(time.time() - start_workers)"
   ]
  },
  {
   "cell_type": "code",
   "execution_count": null,
   "metadata": {},
   "outputs": [],
   "source": [
    "# Create nonce.\n",
    "nonce_exec = requests.post(\"{}/actors/{}/nonces\".format(url, actor_id), \n",
    "                       headers={'X-Jwt-Assertion-TEST': jwt},\n",
    "                       data={'description': 'HEY THERE DUDE!'})\n",
    "nonce_exec.json()"
   ]
  },
  {
   "cell_type": "code",
   "execution_count": null,
   "metadata": {},
   "outputs": [],
   "source": [
    "# Create alias.\n",
    "alias = requests.post(\"{}/actors/aliases\".format(url), \n",
    "                     headers={'X-Jwt-Assertion-TEST':jwt}, \n",
    "                     data={'actorId':actor_id, 'alias':'pop.tart2'})\n",
    "alias.json()"
   ]
  },
  {
   "cell_type": "code",
   "execution_count": null,
   "metadata": {},
   "outputs": [],
   "source": []
  }
 ],
 "metadata": {
  "kernelspec": {
   "display_name": "Python 3",
   "language": "python",
   "name": "python3"
  },
  "language_info": {
   "codemirror_mode": {
    "name": "ipython",
    "version": 3
   },
   "file_extension": ".py",
   "mimetype": "text/x-python",
   "name": "python",
   "nbconvert_exporter": "python",
   "pygments_lexer": "ipython3",
   "version": "3.6.9"
  }
 },
 "nbformat": 4,
 "nbformat_minor": 4
}
