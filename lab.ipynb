{
 "cells": [
  {
   "cell_type": "code",
   "execution_count": 253,
   "metadata": {},
   "outputs": [],
   "source": [
    "# Aloe Token\n",
    "token=\"74b1aaf8ca3f131071be811964fd2987\""
   ]
  },
  {
   "cell_type": "code",
   "execution_count": 254,
   "metadata": {},
   "outputs": [],
   "source": [
    "jwt=\"eyJ0eXAiOiJKV1QiLCJhbGciOiJSUzI1NiIsIng1dCI6Ik5tSm1PR1V4TXpabFlqTTJaRFJoTlRabFlUQTFZemRoWlRSaU9XRTBOV0kyTTJKbU9UYzFaQT09In0=.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.YiZA/yN8E73SvdGXCwBnh+WTnDZIhym4bfBOfw0YJlz/mL9MSVG7u5cHIC3KGNalnFoF0gpjGVagIDS5Hnj9OZtvfvf49fpIXWFQM10cRzC23qdXnyhFJdlY7iKbNyt1ixXm/9AiUS7+TS3sswTmGrwq4eQ+x/pDUuZO8rpyLpE=[\\\\r][\\\\n]\""
   ]
  },
  {
   "cell_type": "markdown",
   "metadata": {},
   "source": [
    "# Abaco Tools"
   ]
  },
  {
   "cell_type": "code",
<<<<<<< HEAD
   "execution_count": 5,
=======
   "execution_count": 269,
>>>>>>> 0099cdcbbc655963021f2c1d3f2314ae491587be
   "metadata": {},
   "outputs": [],
   "source": [
    "import os\n",
    "import time\n",
    "import json\n",
    "import numpy as np\n",
    "import pandas as pd\n",
    "import pprint as pp\n",
    "import requests as r\n",
    "\n",
    "header_dat = {\"X-Jwt-Assertion-DEV\":jwt}\n",
    "url = \"http://localhost:8000/actors\""
   ]
  },
  {
   "cell_type": "code",
<<<<<<< HEAD
   "execution_count": null,
   "metadata": {},
   "outputs": [],
   "source": [
    "# Get all actors.\n",
    "actor = r.get(f\"{url}\",\n",
    "               headers=header_dat)\n",
    "actor.json()"
   ]
  },
  {
   "cell_type": "code",
   "execution_count": 64,
=======
   "execution_count": 274,
>>>>>>> 0099cdcbbc655963021f2c1d3f2314ae491587be
   "metadata": {},
   "outputs": [
    {
     "data": {
      "text/plain": [
<<<<<<< HEAD
       "{'message': 'Logs retrieved successfully.',\n",
       " 'result': {'_links': {'execution': 'http://172.17.0.1:8000/actors/v2/10zLEMYMLjrzv/executions/ByyZlVxw6Plwe',\n",
       "   'owner': 'http://172.17.0.1:8000/profiles/v2/testuser',\n",
       "   'self': 'http://172.17.0.1:8000/actors/v2/10zLEMYMLjrzv/executions/ByyZlVxw6Plwe/logs'},\n",
       "  'logs': '11.077679634094238 5.296566486358643\\n'},\n",
=======
       "{'message': 'Actors retrieved successfully.',\n",
       " 'result': [],\n",
>>>>>>> 0099cdcbbc655963021f2c1d3f2314ae491587be
       " 'status': 'success',\n",
       " 'version': ':dev'}"
      ]
     },
<<<<<<< HEAD
     "execution_count": 64,
=======
     "execution_count": 274,
>>>>>>> 0099cdcbbc655963021f2c1d3f2314ae491587be
     "metadata": {},
     "output_type": "execute_result"
    }
   ],
   "source": [
    "# Get all actors.\n",
    "actor = r.get(f\"{url}/10zLEMYMLjrzv/executions/ByyZlVxw6Plwe/logs\",\n",
    "               headers=header_dat)\n",
    "actor.json()"
   ]
  },
  {
   "cell_type": "code",
<<<<<<< HEAD
   "execution_count": 55,
   "metadata": {},
   "outputs": [
    {
     "name": "stdout",
     "output_type": "stream",
     "text": [
      "31\n",
      "31\n",
      "31\n",
      "31\n",
      "31\n",
      "31\n",
      "31\n",
      "31\n",
      "31\n",
      "31\n",
      "31\n",
      "31\n",
      "31\n",
      "31\n",
      "31\n",
      "31\n",
      "31\n",
      "31\n",
      "31\n",
      "31\n",
      "31\n",
      "31\n",
      "31\n",
      "31\n",
      "31\n",
      "31\n",
      "31\n",
      "31\n",
      "31\n",
      "31\n",
      "31\n",
      "31\n",
      "31\n",
      "31\n",
      "31\n",
      "31\n",
      "31\n",
      "31\n",
      "31\n",
      "31\n",
      "31\n",
      "31\n",
      "31\n",
      "31\n",
      "31\n",
      "31\n",
      "31\n",
      "31\n",
      "31\n",
      "31\n",
      "31\n",
      "31\n",
      "31\n",
      "31\n",
      "31\n",
      "31\n",
      "31\n",
      "31\n",
      "31\n",
      "31\n",
      "31\n",
      "31\n",
      "31\n",
      "31\n",
      "31\n",
      "31\n",
      "31\n",
      "31\n",
      "31\n",
      "31\n",
      "31\n",
      "31\n",
      "31\n",
      "31\n",
      "31\n",
      "31\n",
      "31\n",
      "31\n",
      "31\n",
      "31\n",
      "31\n",
      "31\n",
      "31\n",
      "31\n",
      "31\n",
      "31\n",
      "31\n",
      "31\n",
      "31\n"
     ]
    }
   ],
   "source": [
    "calc = 0\n",
    "for aid in actor.json()['result']:\n",
    "    executions = r.get(f\"{url}/{aid['id']}/executions\",\n",
    "                   headers=header_dat)\n",
    "    print(len(executions.json()['result']['executions']))"
   ]
  },
  {
   "cell_type": "code",
   "execution_count": null,
   "metadata": {},
   "outputs": [],
   "source": [
    "calc = 0\n",
    "for aid in actor.json()['result']:\n",
    "    executions = r.get(f\"{url}/{aid['id']}/executions\",\n",
    "                   headers=header_dat)\n",
    "    allexecids = []\n",
    "    for eid in executions.json()['result']['executions'][1:]:\n",
    "        more = r.get(f\"{url}/{aid['id']}/executions/{eid['id']}/logs\",\n",
    "                   headers=header_dat)\n",
    "        print(more.json()['result']['logs'])"
   ]
  },
  {
   "cell_type": "code",
   "execution_count": null,
   "metadata": {},
   "outputs": [],
   "source": []
  },
  {
   "cell_type": "code",
   "execution_count": 53,
   "metadata": {},
   "outputs": [
    {
     "data": {
      "text/plain": [
       "22251.52624988556"
      ]
     },
     "execution_count": 53,
     "metadata": {},
     "output_type": "execute_result"
    }
   ],
   "source": [
    "calc"
   ]
  },
  {
   "cell_type": "code",
   "execution_count": null,
   "metadata": {},
   "outputs": [],
   "source": []
  },
  {
   "cell_type": "code",
   "execution_count": null,
   "metadata": {},
   "outputs": [],
   "source": []
  },
  {
   "cell_type": "code",
   "execution_count": null,
   "metadata": {},
   "outputs": [],
   "source": []
  },
  {
   "cell_type": "code",
   "execution_count": 10,
   "metadata": {},
   "outputs": [],
   "source": [
    "# Complex actor creation.\n",
    "res = r.post(f\"{url}\", \n",
    "                 headers=header_dat,\n",
    "                 data={\"image\":\"notchristiangarcia/webhooks\"})\n",
    "webhook_id = res.json()['result']['id']"
   ]
  },
  {
   "cell_type": "code",
   "execution_count": 18,
=======
   "execution_count": 275,
>>>>>>> 0099cdcbbc655963021f2c1d3f2314ae491587be
   "metadata": {},
   "outputs": [
    {
     "data": {
      "text/plain": [
       "{'message': 'Actor created successfully.',\n",
       " 'result': {'_links': {'executions': 'http://172.17.0.1:8000/actors/v2/AwRAp8qDeBkr/executions',\n",
       "   'owner': 'http://172.17.0.1:8000/profiles/v2/testuser',\n",
       "   'self': 'http://172.17.0.1:8000/actors/v2/AwRAp8qDeBkr'},\n",
       "  'createTime': '2019-11-18 05:05:19.114239',\n",
       "  'defaultEnvironment': {},\n",
       "  'description': '',\n",
       "  'hints': [],\n",
       "  'id': 'AwRAp8qDeBkr',\n",
       "  'image': 'notchristiangarcia/flops_test',\n",
       "  'lastUpdateTime': '2019-11-18 05:05:19.114239',\n",
       "  'link': '',\n",
       "  'mounts': [{'container_path': '/_abaco_data1',\n",
       "    'host_path': '/data1',\n",
       "    'mode': 'ro'},\n",
       "   {'container_path': '/_abaco_data2',\n",
       "    'host_path': '/data2/DEV/testuser',\n",
       "    'mode': 'rw'}],\n",
       "  'owner': 'testuser',\n",
       "  'privileged': False,\n",
       "  'queue': 'default',\n",
       "  'state': {},\n",
       "  'stateless': True,\n",
       "  'status': 'SUBMITTED',\n",
       "  'statusMessage': '',\n",
       "  'token': 'false',\n",
       "  'type': 'none',\n",
       "  'useContainerUid': False,\n",
       "  'webhook': ''},\n",
       " 'status': 'success',\n",
       " 'version': ':dev'}"
      ]
     },
     "execution_count": 275,
     "metadata": {},
     "output_type": "execute_result"
    }
   ],
   "source": [
    "# Complex actor creation.\n",
    "res = r.post(f\"{url}\", \n",
    "                 headers=header_dat,\n",
    "                 data={\"image\":\"notchristiangarcia/flops_test\"})\n",
    "res.json()"
   ]
  },
  {
   "cell_type": "code",
   "execution_count": 11,
   "metadata": {},
   "outputs": [
    {
     "name": "stdout",
     "output_type": "stream",
     "text": [
      "0\n"
     ]
    },
    {
     "data": {
      "text/plain": [
       "{}"
      ]
     },
     "execution_count": 11,
     "metadata": {},
     "output_type": "execute_result"
    }
   ],
   "source": [
    "# Get list of all worker responses and dict of actor id linked to worker responses\n",
    "all_worker_responses = []\n",
    "actor_worker_links = {}\n",
    "num_workers = 0\n",
    "actor = r.get(f\"{url}\", headers=header_dat)\n",
    "for actor_info in actor.json()['result']:\n",
    "    worker_res = r.get(f\"{url}/{actor_info['id']}/workers\", headers=header_dat).json()['result']\n",
    "    num_workers += len(worker_res)\n",
    "    all_worker_responses.extend(worker_res)\n",
    "    actors_workers_ids = []\n",
    "    for worker_info in worker_res:\n",
    "        actors_workers_ids.append(worker_info['id'])\n",
    "    actor_worker_links[actor_info['id']] = actors_workers_ids\n",
    "print(num_workers)\n",
    "\n",
    "host_info = {}\n",
    "try:\n",
    "    if num_workers:\n",
    "        for worker_info in all_worker_responses:\n",
    "            if f\"Host {worker_info['hostId']}\" in host_info:\n",
    "                host_info[f\"Host {worker_info['hostId']}\"] += 1\n",
    "            else:\n",
    "                host_info[f\"Host {worker_info['hostId']}\"] = 1\n",
    "except KeyError:\n",
    "    print('Still spooling.')\n",
    "host_info"
   ]
  },
  {
   "cell_type": "code",
   "execution_count": 12,
   "metadata": {},
   "outputs": [
    {
     "name": "stdout",
     "output_type": "stream",
     "text": [
      "Deleted Workers:\n"
     ]
    }
   ],
   "source": [
    "# Delete all current workers!\n",
    "print('Deleted Workers:')\n",
    "for aid in actor_worker_links:\n",
    "    for worker_id in actor_worker_links[aid]:\n",
    "        del_worker_res = r.delete(f\"{url}/{aid}/workers/{worker_id}\",\n",
    "                                  headers=header_dat)\n",
    "        print('.', end='')"
   ]
  },
  {
   "cell_type": "code",
   "execution_count": 13,
   "metadata": {},
   "outputs": [],
   "source": [
    "# Delete all actors.\n",
    "actor = r.get(f\"{url}\",\n",
    "               headers=header_dat)\n",
    "for actor_info in actor.json()['result']:\n",
    "    del_actor_res = r.delete(f\"{url}/{actor_info['id']}\",\n",
    "                     headers=header_dat)\n",
    "    print(del_actor_res.json())"
   ]
  },
  {
   "cell_type": "markdown",
   "metadata": {},
   "source": [
    "# Templates"
   ]
  },
  {
   "cell_type": "code",
   "execution_count": null,
   "metadata": {},
   "outputs": [],
   "source": [
    "# Complex actor creation.\n",
    "webhook = r.post(f\"{url}\", \n",
    "                 headers=header_dat,\n",
    "                 data=json.dumps({\"image\":\"notchristiangarcia/webhooks\",\n",
    "                                  \"hints\":[\"top\", \"stp\", 2],\n",
    "                                  \"default_environment\":{\"URL\":\"https://webhook.site/4c3f9f5a-a271-4644-b652-cb398a4d1faf\",\n",
    "                                                         \"HEADERS\":{'Authentication':'Bearer daiosjdiosajdiasjdisad',\n",
    "                                                                    'Content-Type':'dsaiodjas'}}}))\n",
    "webhook_id = webhook.json()['result']['id']"
   ]
  },
  {
   "cell_type": "code",
   "execution_count": null,
   "metadata": {},
   "outputs": [],
   "source": [
    "# Delete specified actors.\n",
    "for del_actor in [actor_id ,'qOxAKjG7zVqkE']:\n",
    "    del_actor_res = r.delete(f\"{url}/{del_actor}\",\n",
    "                     headers=header_dat)\n",
    "    print(del_actor_res.json())"
   ]
  },
  {
   "cell_type": "code",
   "execution_count": 45,
   "metadata": {},
   "outputs": [],
   "source": [
    "# Creating a \"link.\"\n",
    "actor = r.post(f\"{url}\", \n",
    "               headers=header_dat,\n",
    "               data=json.dumps({'image':'notchristiangarcia/linktest',\n",
    "                     'link':webhook_id,\n",
    "                     'description': \"User of link.\"}))\n",
    "actor_id = actor.json()['result']['id']"
   ]
  },
  {
   "cell_type": "code",
   "execution_count": null,
   "metadata": {},
   "outputs": [],
   "source": [
    "# Send a message.\n",
    "exec_res = r.post(f\"{url}/{actor_id}/messages\",\n",
    "                          headers=header_dat,\n",
    "                          data=json.dumps({'message':'hey there partner'}))\n",
    "exec_id = exec_res.json()['result']['execution_id']"
   ]
  },
  {
   "cell_type": "code",
   "execution_count": null,
   "metadata": {},
   "outputs": [],
   "source": [
    "# Spool up more workers\n",
    "try:\n",
    "    start_workers = time.time()\n",
    "    workers_needed = 58*6\n",
    "    curr_workers = 0\n",
    "    incr = 50\n",
    "    while workers_needed != curr_workers:\n",
    "        if curr_workers + incr > workers_needed:\n",
    "            curr_workers += (workers_needed - curr_workers) % incr\n",
    "        else:\n",
    "            curr_workers += incr\n",
    "\n",
    "        print(f'Getting {curr_workers} workers')\n",
    "        spool_res = r.post(f\"{url}/{actor_id}/workers\",\n",
    "                            headers=header_dat,\n",
    "                            data={'num': curr_workers})\n",
    "except:\n",
    "    print(time.time() - start_workers)"
   ]
  },
  {
   "cell_type": "code",
   "execution_count": null,
   "metadata": {},
   "outputs": [],
   "source": [
    "# Create nonce.\n",
    "nonce_exec = requests.post(\"{}/actors/{}/nonces\".format(url, actor_id), \n",
    "                       headers={'X-Jwt-Assertion-TEST': jwt},\n",
    "                       data={'description': 'HEY THERE DUDE!'})\n",
    "nonce_exec.json()"
   ]
  },
  {
   "cell_type": "code",
   "execution_count": null,
   "metadata": {},
   "outputs": [],
   "source": [
    "# Create alias.\n",
    "alias = requests.post(\"{}/actors/aliases\".format(url), \n",
    "                     headers={'X-Jwt-Assertion-TEST':jwt}, \n",
    "                     data={'actorId':actor_id, 'alias':'pop.tart2'})\n",
    "alias.json()"
   ]
  },
  {
   "cell_type": "code",
   "execution_count": null,
   "metadata": {},
   "outputs": [],
   "source": []
  }
 ],
 "metadata": {
  "kernelspec": {
   "display_name": "Python 3",
   "language": "python",
   "name": "python3"
  },
  "language_info": {
   "codemirror_mode": {
    "name": "ipython",
    "version": 3
   },
   "file_extension": ".py",
   "mimetype": "text/x-python",
   "name": "python",
   "nbconvert_exporter": "python",
   "pygments_lexer": "ipython3",
   "version": "3.7.3"
  }
 },
 "nbformat": 4,
 "nbformat_minor": 4
}
