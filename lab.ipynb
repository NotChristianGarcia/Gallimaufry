{
 "cells": [
  {
   "cell_type": "code",
   "execution_count": 5,
   "metadata": {},
   "outputs": [],
   "source": [
    "import os\n",
    "import time\n",
    "import json\n",
    "import numpy as np\n",
    "import pandas as pd\n",
    "import pprint as pp\n",
    "import requests as r"
   ]
  },
  {
   "cell_type": "code",
   "execution_count": 6,
   "metadata": {},
   "outputs": [],
   "source": [
    "# Aloe Token\n",
    "token=\"74b1aaf8ca3f131071be811964fd2987\""
   ]
  },
  {
   "cell_type": "code",
   "execution_count": 7,
   "metadata": {},
   "outputs": [],
   "source": [
    "jwt=\"eyJ0eXAiOiJKV1QiLCJhbGciOiJSUzI1NiIsIng1dCI6Ik5tSm1PR1V4TXpabFlqTTJaRFJoTlRabFlUQTFZemRoWlRSaU9XRTBOV0kyTTJKbU9UYzFaQT09In0=.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.YiZA/yN8E73SvdGXCwBnh+WTnDZIhym4bfBOfw0YJlz/mL9MSVG7u5cHIC3KGNalnFoF0gpjGVagIDS5Hnj9OZtvfvf49fpIXWFQM10cRzC23qdXnyhFJdlY7iKbNyt1ixXm/9AiUS7+TS3sswTmGrwq4eQ+x/pDUuZO8rpyLpE=[\\\\r][\\\\n]\""
   ]
  },
  {
   "cell_type": "code",
   "execution_count": 7,
   "metadata": {},
   "outputs": [],
   "source": [
    "dog = 'True'"
   ]
  },
  {
   "cell_type": "code",
   "execution_count": 8,
   "metadata": {},
   "outputs": [],
   "source": [
    "auto = dog.lower() == 'true'"
   ]
  },
  {
   "cell_type": "code",
   "execution_count": 9,
   "metadata": {},
   "outputs": [
    {
     "data": {
      "text/plain": [
       "True"
      ]
     },
     "execution_count": 9,
     "metadata": {},
     "output_type": "execute_result"
    }
   ],
   "source": [
    "auto"
   ]
  },
  {
   "cell_type": "code",
   "execution_count": 2,
   "metadata": {},
   "outputs": [
    {
     "data": {
      "text/plain": [
       "True"
      ]
     },
     "execution_count": 2,
     "metadata": {},
     "output_type": "execute_result"
    }
   ],
   "source": [
    "bool('false')"
   ]
  },
  {
   "cell_type": "code",
   "execution_count": 8,
   "metadata": {},
   "outputs": [],
   "source": [
    "header_dat = {\"X-Jwt-Assertion-DEV\":jwt}\n",
    "url = \"http://localhost:8000//actors\""
   ]
  },
  {
   "cell_type": "code",
   "execution_count": 43,
   "metadata": {},
   "outputs": [],
   "source": [
    "# Testing Headers\n",
    "header_dat = {\"X-Jwt-Assertion-DEV-DEVELOP\":jwt}\n",
    "url = \"http://129.114.104.189:80/actors\""
   ]
  },
  {
   "cell_type": "markdown",
   "metadata": {},
   "source": [
    "# Abaco Tools"
   ]
  },
  {
   "cell_type": "code",
   "execution_count": 44,
   "metadata": {},
   "outputs": [
    {
     "data": {
      "text/plain": [
       "{'message': 'Actors retrieved successfully.',\n",
       " 'result': [],\n",
       " 'status': 'success',\n",
       " 'version': ':dev'}"
      ]
     },
     "execution_count": 44,
     "metadata": {},
     "output_type": "execute_result"
    }
   ],
   "source": [
    "# Get all actors.\n",
    "actor = r.get(f\"{url}\",\n",
    "               headers=header_dat)\n",
    "actor.json()"
   ]
  },
  {
   "cell_type": "code",
   "execution_count": 113,
   "metadata": {},
   "outputs": [
    {
     "data": {
      "text/plain": [
       "{'message': 'Actor nonce retrieved successfully.',\n",
       " 'result': {'_links': {'actor': 'https://dev.tenants.develop.tacc.cloud/actors/v2/8webwaZvDQE4O',\n",
       "   'owner': 'https://dev.tenants.develop.tacc.cloud/profiles/v2/testuser',\n",
       "   'self': 'https://dev.tenants.develop.tacc.cloud/actors/v2/8webwaZvDQE4O/nonces/DEV-DEVELOP_j03NW3wKGN6Px'},\n",
       "  'actorId': '8webwaZvDQE4O',\n",
       "  'apiServer': 'https://dev.tenants.develop.tacc.cloud',\n",
       "  'createTime': '2020-01-09 17:26:07.169293',\n",
       "  'currentUses': 0,\n",
       "  'description': '',\n",
       "  'id': 'DEV-DEVELOP_j03NW3wKGN6Px',\n",
       "  'lastUseTime': 'None',\n",
       "  'level': 'EXECUTE',\n",
       "  'maxUses': -1,\n",
       "  'owner': 'testuser',\n",
       "  'remainingUses': -1,\n",
       "  'roles': ['Internal/AGAVEDEV_testuser_postman-test-client-1496345350_PRODUCTION',\n",
       "   'Internal/AGAVEDEV_testuser_postman-test-client-1497902074_PRODUCTION',\n",
       "   'Internal/AGAVEDEV_testuser_postman-test-client-1494517466_PRODUCTION',\n",
       "   'Internal/AGAVEDEV_testuser_postman-test-client-1494871220_PRODUCTION',\n",
       "   'Internal/AGAVEDEV_testuser_postman-test-client-1496424418_PRODUCTION',\n",
       "   'Internal/AGAVEDEV_testuser_postman-test-client-1496410652_PRODUCTION',\n",
       "   'Internal/AGAVEDEV_testuser_DefaultApplication_PRODUCTION',\n",
       "   'Internal/AGAVEDEV_testuser_postman-test-client-1496409222_PRODUCTION',\n",
       "   'Internal/AGAVEDEV_testuser_postman-test-client-1496409938_PRODUCTION',\n",
       "   'Internal/AGAVEDEV_testuser_postman-test-client-1496697713_PRODUCTION',\n",
       "   'Internal/AGAVEDEV_testuser_postman-test-client-1496345684_PRODUCTION',\n",
       "   'Internal/AGAVEDEV_testuser_postman-test-client-1494962023_PRODUCTION',\n",
       "   'Internal/AGAVEDEV_testuser_postman-test-client-1496409642_PRODUCTION',\n",
       "   'Internal/AGAVEDEV_testuser_postman-test-client-1494960369_PRODUCTION',\n",
       "   'Internal/AGAVEDEV_testuser_postman-test-client-1496425013_PRODUCTION',\n",
       "   'Internal/AGAVEDEV_testuser_postman-test-client-1496411960_PRODUCTION',\n",
       "   'Internal/AGAVEDEV_testuser_postman-test-client-1494874482_PRODUCTION',\n",
       "   'Internal/AGAVEDEV_testuser_postman-test-client-1496336687_PRODUCTION',\n",
       "   'Internal/AGAVEDEV_testuser_postman-test-client-1494967181_PRODUCTION',\n",
       "   'Internal/AGAVEDEV_testuser_postman-test-client-1494449417_PRODUCTION',\n",
       "   'Internal/AGAVEDEV_testuser_postman-test-client-1496408835_PRODUCTION',\n",
       "   'Internal/AGAVEDEV_testuser_test_PRODUCTION',\n",
       "   'Internal/AGAVEDEV_testuser_postman-test-client-1496429050_PRODUCTION',\n",
       "   'Internal/AGAVEDEV_testuser_postman-test-client-1496427099_PRODUCTION',\n",
       "   'Internal/AGAVEDEV_testuser_postman-test-client-1494518512_PRODUCTION',\n",
       "   'Internal/abaco-admin',\n",
       "   'Internal/AGAVEDEV_testuser_postman-test-client-1496426757_PRODUCTION',\n",
       "   'Internal/AGAVEDEV_testuser_postman-test-client-1496410242_PRODUCTION',\n",
       "   'Internal/AGAVEDEV_testuser_postman-test-client-1496411668_PRODUCTION',\n",
       "   'Internal/AGAVEDEV_testuser_postman-test-client-1494959060_PRODUCTION',\n",
       "   'Internal/AGAVEDEV_testuser_postman-test-client-1497978188_PRODUCTION',\n",
       "   'Internal/AGAVEDEV_testuser_postman-test-client-1496428393_PRODUCTION',\n",
       "   'Internal/AGAVEDEV_testuser_postman-test-client-1496427477_PRODUCTION',\n",
       "   'Internal/AGAVEDEV_testuser_postman-test-client-1495122813_PRODUCTION',\n",
       "   'Internal/AGAVEDEV_testuser_postman-test-client-1495553976_PRODUCTION',\n",
       "   'Internal/AGAVEDEV_testuser_postman-test-client-1496424720_PRODUCTION',\n",
       "   'Internal/AGAVEDEV_testuser_postman-test-client-1496426447_PRODUCTION',\n",
       "   'Internal/AGAVEDEV_testuser_postman-test-client-1494451187_PRODUCTION',\n",
       "   'Internal/AGAVEDEV_testuser_postman-test-client-1496411364_PRODUCTION',\n",
       "   'Internal/AGAVEDEV_testuser_postman-test-client-1496340915_PRODUCTION',\n",
       "   'Internal/AGAVEDEV_testuser_postman-test-client-1494533687_PRODUCTION',\n",
       "   'Internal/AGAVEDEV_testuser_postman-test-client-1494536196_PRODUCTION',\n",
       "   'Internal/AGAVEDEV_testuser_postman-test-client-1494592679_PRODUCTION',\n",
       "   'Internal/AGAVEDEV_testuser_postman-test-client-1494948976_PRODUCTION',\n",
       "   'Internal/AGAVEDEV_testuser_postman-test-client-1496429022_PRODUCTION',\n",
       "   'Internal/AGAVEDEV_testuser_postman-test-client-1494968175_PRODUCTION',\n",
       "   'Internal/AGAVEDEV_testuser_postman-test-client-1494959050_PRODUCTION',\n",
       "   'Internal/AGAVEDEV_testuser_postman-test-client-1496353258_PRODUCTION',\n",
       "   'Internal/AGAVEDEV_testuser_postman-test-client-1494959657_PRODUCTION',\n",
       "   'Internal/AGAVEDEV_testuser_postman-test-client-1496429003_PRODUCTION',\n",
       "   'Internal/AGAVEDEV_testuser_postman-test-client-1494959785_PRODUCTION',\n",
       "   'Internal/AGAVEDEV_testuser_postman-test-client-1496344329_PRODUCTION',\n",
       "   'Internal/AGAVEDEV_testuser_postman-test-client-1496429014_PRODUCTION',\n",
       "   'Internal/AGAVEDEV_testuser_postman-test-client-1496428795_PRODUCTION',\n",
       "   'Internal/AGAVEDEV_testuser_postman-test-client-1496352753_PRODUCTION',\n",
       "   'Internal/everyone',\n",
       "   'Internal/AGAVEDEV_testuser_postman-test-client-1496353853_PRODUCTION',\n",
       "   'Internal/AGAVEDEV_testuser_postman-test-client-1496344827_PRODUCTION',\n",
       "   'Internal/AGAVEDEV_testuser_postman-test-client-1495567168_PRODUCTION',\n",
       "   'Internal/AGAVEDEV_testuser_postman-test-client-1496411063_PRODUCTION',\n",
       "   'Internal/AGAVEDEV_testuser_postman-test-client-1494966403_PRODUCTION',\n",
       "   'Internal/AGAVEDEV_testuser_postman-test-client-1494950114_PRODUCTION',\n",
       "   'Internal/AGAVEDEV_testuser_postman-test-client-1496427810_PRODUCTION',\n",
       "   'Internal/AGAVEDEV_testuser_postman-test-client-1494872829_PRODUCTION',\n",
       "   'Internal/AGAVEDEV_testuser_postman-test-client-1497888847_PRODUCTION',\n",
       "   'Internal/AGAVEDEV_testuser_postman-test-client-1496428108_PRODUCTION',\n",
       "   'Internal/AGAVEDEV_testuser_postman-test-client-1494521418_PRODUCTION',\n",
       "   'Internal/AGAVEDEV_testuser_postman-test-client-1496426119_PRODUCTION',\n",
       "   'Internal/AGAVEDEV_testuser_postman-test-client-1494537962_PRODUCTION']},\n",
       " 'status': 'success',\n",
       " 'version': ':dev'}"
      ]
     },
     "execution_count": 113,
     "metadata": {},
     "output_type": "execute_result"
    }
   ],
   "source": [
    "res = r.get(f\"{url}/8webwaZvDQE4O/nonces/DEV-DEVELOP_AEJowEPy0VxqL\",\n",
    "             headers=header_dat)\n",
    "res.json()"
   ]
  },
  {
   "cell_type": "code",
   "execution_count": 53,
   "metadata": {},
   "outputs": [
    {
     "data": {
      "text/plain": [
       "{'message': 'Logs retrieved successfully.',\n",
       " 'result': {'_links': {'execution': 'https://dev.tenants.develop.tacc.cloud/actors/v2/K7GoMJL0W74BO/executions/jbkpxN7jY1Vo5',\n",
       "   'owner': 'https://dev.tenants.develop.tacc.cloud/profiles/v2/testuser',\n",
       "   'self': 'https://dev.tenants.develop.tacc.cloud/actors/v2/K7GoMJL0W74BO/executions/jbkpxN7jY1Vo5/logs'},\n",
       "  'logs': 'Contents of MSG: testing execution\\nEnvironment:\\ndefault_env_key1=default_env_value1\\ndefault_env_key2=default_env_value2\\n_abaco_container_repo=abacosamples/test\\nHOSTNAME=0d8fc5d3ce2e\\nSHLVL=1\\nHOME=/root\\n_abaco_actor_id=K7GoMJL0W74BO\\n_abaco_access_token=\\n_abaco_api_server=https://dev.tenants.develop.tacc.cloud\\n_abaco_actor_dbid=DEV-DEVELOP_K7GoMJL0W74BO\\n_abaco_worker_id=AE7Q5AJz5LJWr\\nMSG=testing execution\\n_abaco_execution_id=jbkpxN7jY1Vo5\\nPATH=/usr/local/sbin:/usr/local/bin:/usr/sbin:/usr/bin:/sbin:/bin\\n_abaco_actor_name=abaco_test_suite_default_env\\n_abaco_Content_Type=str\\nPWD=/\\n_abaco_jwt_header_name=X-Jwt-Assertion-Dev-Develop\\n_abaco_username=testuser\\n_abaco_actor_state={}\\nContents of root file system: \\n_abaco_data1\\n_abaco_results.sock\\n_abaco_results_sockets\\nbin\\ndata1\\ndev\\netc\\nhome\\nproc\\nroot\\nsys\\ntest.sh\\ntmp\\nusr\\nvar\\nChecking for contents of mounts:\\nMount exsits. Contents:\\nWORK file system not mounted\\nCorral not mounted\\n'},\n",
       " 'status': 'success',\n",
       " 'version': ':dev'}"
      ]
     },
     "execution_count": 53,
     "metadata": {},
     "output_type": "execute_result"
    }
   ],
   "source": [
    "# Get all actors.\n",
    "actor = r.get(f\"{url}/K7GoMJL0W74BO/executions/jbkpxN7jY1Vo5/logs\",\n",
    "               headers=header_dat)\n",
    "actor.json()#['result'].get('logs')"
   ]
  },
  {
   "cell_type": "code",
   "execution_count": 31,
   "metadata": {},
   "outputs": [],
   "source": [
    "testdict = {'hey':'contentsofmsghey_there1andStuff_andcool'}"
   ]
  },
  {
   "cell_type": "code",
   "execution_count": 32,
   "metadata": {},
   "outputs": [
    {
     "ename": "AssertionError",
     "evalue": "",
     "output_type": "error",
     "traceback": [
      "\u001b[0;31m---------------------------------------------------------------------------\u001b[0m",
      "\u001b[0;31mAssertionError\u001b[0m                            Traceback (most recent call last)",
      "\u001b[0;32m<ipython-input-32-8ae805803e42>\u001b[0m in \u001b[0;36m<module>\u001b[0;34m\u001b[0m\n\u001b[0;32m----> 1\u001b[0;31m \u001b[0;32massert\u001b[0m \u001b[0;34m'hey_there1'\u001b[0m \u001b[0;32min\u001b[0m \u001b[0mtestdict\u001b[0m\u001b[0;34m\u001b[0m\u001b[0;34m\u001b[0m\u001b[0m\n\u001b[0m",
      "\u001b[0;31mAssertionError\u001b[0m: "
     ]
    }
   ],
   "source": [
    "assert 'hey_there1' in testdict"
   ]
  },
  {
   "cell_type": "code",
   "execution_count": 35,
   "metadata": {},
   "outputs": [
    {
     "data": {
      "text/plain": [
       "'contentsofmsghey_there1andStuff_andcool'"
      ]
     },
     "execution_count": 35,
     "metadata": {},
     "output_type": "execute_result"
    }
   ],
   "source": [
    "testdict.get('hey')"
   ]
  },
  {
   "cell_type": "code",
   "execution_count": 87,
   "metadata": {},
   "outputs": [
    {
     "data": {
      "text/plain": [
       "{'message': 'Actor created successfully.',\n",
       " 'result': {'_links': {'executions': 'https://dev.tenants.develop.tacc.cloud/actors/v2/1Xv54z8OOD3DX/executions',\n",
       "   'owner': 'https://dev.tenants.develop.tacc.cloud/profiles/v2/testuser',\n",
       "   'self': 'https://dev.tenants.develop.tacc.cloud/actors/v2/1Xv54z8OOD3DX'},\n",
       "  'createTime': '2020-01-09 17:06:43.340384',\n",
       "  'defaultEnvironment': {},\n",
       "  'description': '',\n",
       "  'hints': [],\n",
       "  'id': '1Xv54z8OOD3DX',\n",
       "  'image': 'notchristiangarcia/flops_test',\n",
       "  'lastUpdateTime': '2020-01-09 17:06:43.340384',\n",
       "  'link': '',\n",
       "  'mounts': [{'container_path': '/_abaco_data1',\n",
       "    'host_path': '/data1',\n",
       "    'mode': 'ro'}],\n",
       "  'owner': 'testuser',\n",
       "  'privileged': False,\n",
       "  'queue': 'default',\n",
       "  'state': {},\n",
       "  'stateless': True,\n",
       "  'status': 'SUBMITTED',\n",
       "  'statusMessage': '',\n",
       "  'token': 'false',\n",
       "  'type': 'none',\n",
       "  'useContainerUid': False,\n",
       "  'webhook': ''},\n",
       " 'status': 'success',\n",
       " 'version': ':dev'}"
      ]
     },
     "execution_count": 87,
     "metadata": {},
     "output_type": "execute_result"
    }
   ],
   "source": [
    "# Complex actor creation.\n",
    "res = r.post(f\"{url}\", \n",
    "                 headers=header_dat,\n",
    "                 data={\"image\":\"notchristiangarcia/flops_test\"})\n",
    "actor_id = res.json()['result']['id']\n",
    "res.json()"
   ]
  },
  {
   "cell_type": "code",
   "execution_count": 639,
   "metadata": {},
   "outputs": [
    {
     "data": {
      "text/plain": [
       "{'message': 'Actor executions retrieved successfully.',\n",
       " 'result': {'_links': {'owner': 'http://172.17.0.1:8000/profiles/v2/testuser',\n",
       "   'self': 'http://172.17.0.1:8000/actors/v2/A0bvMQLvbZ3ew/executions'},\n",
       "  'actorId': 'A0bvMQLvbZ3ew',\n",
       "  'apiServer': 'http://172.17.0.1:8000',\n",
       "  'executions': [{'finish_time': '2020-01-07T19:45:44.6851319Z',\n",
       "    'id': 'A0ggZERmyDJXw',\n",
       "    'message_received_time': '2020-01-07 19:45:43.425293',\n",
       "    'start_time': '2020-01-07 19:45:43.810696',\n",
       "    'status': 'COMPLETE'},\n",
       "   {'finish_time': '2020-01-07T19:45:58.9761935Z',\n",
       "    'id': 'KyPPX1XvPxAZY',\n",
       "    'message_received_time': '2020-01-07 19:45:57.666922',\n",
       "    'start_time': '2020-01-07 19:45:58.018216',\n",
       "    'status': 'COMPLETE'}],\n",
       "  'owner': 'testuser',\n",
       "  'totalCpu': 288728842,\n",
       "  'totalExecutions': 2,\n",
       "  'totalIo': 168,\n",
       "  'totalRuntime': 2},\n",
       " 'status': 'success',\n",
       " 'version': ':dev'}"
      ]
     },
     "execution_count": 639,
     "metadata": {},
     "output_type": "execute_result"
    }
   ],
   "source": [
    "# Get executions.\n",
    "actor = r.get(f\"{url}/{actor_id}/executions\",\n",
    "               headers=header_dat)\n",
    "actor.json()"
   ]
  },
  {
   "cell_type": "code",
   "execution_count": 637,
   "metadata": {},
   "outputs": [
    {
     "data": {
      "text/plain": [
       "{'message': 'The request was successful',\n",
       " 'result': {'_links': {'messages': 'http://172.17.0.1:8000/actors/v2/A0bvMQLvbZ3ew/messages',\n",
       "   'owner': 'http://172.17.0.1:8000/profiles/v2/testuser',\n",
       "   'self': 'http://172.17.0.1:8000/actors/v2/A0bvMQLvbZ3ew/executions/KyPPX1XvPxAZY'},\n",
       "  'executionId': 'KyPPX1XvPxAZY',\n",
       "  'msg': {'message': 'hey there partner'}},\n",
       " 'status': 'success',\n",
       " 'version': ':dev'}"
      ]
     },
     "execution_count": 637,
     "metadata": {},
     "output_type": "execute_result"
    }
   ],
   "source": [
    "# Send a message.\n",
    "exec_res = r.post(f\"{url}/{actor_id}/messages\",\n",
    "                          headers=header_dat,\n",
    "                          data=json.dumps({'message':'hey there partner'}))\n",
    "exec_res.json()"
   ]
  },
  {
   "cell_type": "code",
   "execution_count": 469,
   "metadata": {},
   "outputs": [
    {
     "data": {
      "text/plain": [
       "{'message': 'Workers retrieved successfully.',\n",
       " 'result': [{'createTime': '2020-01-07 16:21:54.924044',\n",
       "   'id': 'jPvK5rwpKojyG',\n",
       "   'lastExecutionTime': 'None',\n",
       "   'lastHealthCheckTime': 'None',\n",
       "   'status': 'REQUESTED',\n",
       "   'tenant': 'DEV'}],\n",
       " 'status': 'success',\n",
       " 'version': ':dev'}"
      ]
     },
     "execution_count": 469,
     "metadata": {},
     "output_type": "execute_result"
    }
   ],
   "source": [
    "# Get Workers.\n",
    "exec_res = r.get(f\"{url}/{actor_id}/workers\",\n",
    "                          headers=header_dat,\n",
    "                          data=json.dumps({'message':'hey there partner'}))\n",
    "exec_res.json()"
   ]
  },
  {
   "cell_type": "code",
   "execution_count": 11,
   "metadata": {},
   "outputs": [
    {
     "name": "stdout",
     "output_type": "stream",
     "text": [
      "0\n"
     ]
    },
    {
     "data": {
      "text/plain": [
       "{}"
      ]
     },
     "execution_count": 11,
     "metadata": {},
     "output_type": "execute_result"
    }
   ],
   "source": [
    "# Get list of all worker responses and dict of actor id linked to worker responses\n",
    "all_worker_responses = []\n",
    "actor_worker_links = {}\n",
    "num_workers = 0\n",
    "actor = r.get(f\"{url}\", headers=header_dat)\n",
    "for actor_info in actor.json()['result']:\n",
    "    worker_res = r.get(f\"{url}/{actor_info['id']}/workers\", headers=header_dat).json()['result']\n",
    "    num_workers += len(worker_res)\n",
    "    all_worker_responses.extend(worker_res)\n",
    "    actors_workers_ids = []\n",
    "    for worker_info in worker_res:\n",
    "        actors_workers_ids.append(worker_info['id'])\n",
    "    actor_worker_links[actor_info['id']] = actors_workers_ids\n",
    "print(num_workers)\n",
    "\n",
    "host_info = {}\n",
    "try:\n",
    "    if num_workers:\n",
    "        for worker_info in all_worker_responses:\n",
    "            if f\"Host {worker_info['hostId']}\" in host_info:\n",
    "                host_info[f\"Host {worker_info['hostId']}\"] += 1\n",
    "            else:\n",
    "                host_info[f\"Host {worker_info['hostId']}\"] = 1\n",
    "except KeyError:\n",
    "    print('Still spooling.')\n",
    "host_info"
   ]
  },
  {
   "cell_type": "code",
   "execution_count": 12,
   "metadata": {},
   "outputs": [
    {
     "name": "stdout",
     "output_type": "stream",
     "text": [
      "Deleted Workers:\n"
     ]
    }
   ],
   "source": [
    "# Delete all current workers!\n",
    "print('Deleted Workers:')\n",
    "for aid in actor_worker_links:\n",
    "    for worker_id in actor_worker_links[aid]:\n",
    "        del_worker_res = r.delete(f\"{url}/{aid}/workers/{worker_id}\",\n",
    "                                  headers=header_dat)\n",
    "        print('.', end='')"
   ]
  },
  {
   "cell_type": "code",
   "execution_count": 13,
   "metadata": {},
   "outputs": [],
   "source": [
    "# Delete all actors.\n",
    "actor = r.get(f\"{url}\",\n",
    "               headers=header_dat)\n",
    "for actor_info in actor.json()['result']:\n",
    "    del_actor_res = r.delete(f\"{url}/{actor_info['id']}\",\n",
    "                     headers=header_dat)\n",
    "    print(del_actor_res.json())"
   ]
  },
  {
   "cell_type": "markdown",
   "metadata": {},
   "source": [
    "# Templates"
   ]
  },
  {
   "cell_type": "code",
   "execution_count": null,
   "metadata": {},
   "outputs": [],
   "source": [
    "# Complex actor creation.\n",
    "webhook = r.post(f\"{url}\", \n",
    "                 headers=header_dat,\n",
    "                 data=json.dumps({\"image\":\"notchristiangarcia/webhooks\",\n",
    "                                  \"hints\":[\"top\", \"stp\", 2],\n",
    "                                  \"default_environment\":{\"URL\":\"https://webhook.site/4c3f9f5a-a271-4644-b652-cb398a4d1faf\",\n",
    "                                                         \"HEADERS\":{'Authentication':'Bearer daiosjdiosajdiasjdisad',\n",
    "                                                                    'Content-Type':'dsaiodjas'}}}))\n",
    "webhook_id = webhook.json()['result']['id']"
   ]
  },
  {
   "cell_type": "code",
   "execution_count": null,
   "metadata": {},
   "outputs": [],
   "source": [
    "# Delete specified actors.\n",
    "for del_actor in [actor_id ,'qOxAKjG7zVqkE']:\n",
    "    del_actor_res = r.delete(f\"{url}/{del_actor}\",\n",
    "                     headers=header_dat)\n",
    "    print(del_actor_res.json())"
   ]
  },
  {
   "cell_type": "code",
   "execution_count": 45,
   "metadata": {},
   "outputs": [],
   "source": [
    "# Creating a \"link.\"\n",
    "actor = r.post(f\"{url}\", \n",
    "               headers=header_dat,\n",
    "               data=json.dumps({'image':'notchristiangarcia/linktest',\n",
    "                     'link':webhook_id,\n",
    "                     'description': \"User of link.\"}))\n",
    "actor_id = actor.json()['result']['id']"
   ]
  },
  {
   "cell_type": "code",
   "execution_count": null,
   "metadata": {},
   "outputs": [],
   "source": [
    "# Send a message.\n",
    "exec_res = r.post(f\"{url}/{actor_id}/messages\",\n",
    "                          headers=header_dat,\n",
    "                          data=json.dumps({'message':'hey there partner'}))\n",
    "exec_id = exec_res.json()['result']['execution_id']"
   ]
  },
  {
   "cell_type": "code",
   "execution_count": null,
   "metadata": {},
   "outputs": [],
   "source": [
    "# Spool up more workers\n",
    "try:\n",
    "    start_workers = time.time()\n",
    "    workers_needed = 58*6\n",
    "    curr_workers = 0\n",
    "    incr = 50\n",
    "    while workers_needed != curr_workers:\n",
    "        if curr_workers + incr > workers_needed:\n",
    "            curr_workers += (workers_needed - curr_workers) % incr\n",
    "        else:\n",
    "            curr_workers += incr\n",
    "\n",
    "        print(f'Getting {curr_workers} workers')\n",
    "        spool_res = r.post(f\"{url}/{actor_id}/workers\",\n",
    "                            headers=header_dat,\n",
    "                            data={'num': curr_workers})\n",
    "except:\n",
    "    print(time.time() - start_workers)"
   ]
  },
  {
   "cell_type": "code",
   "execution_count": null,
   "metadata": {},
   "outputs": [],
   "source": [
    "# Create nonce.\n",
    "nonce_exec = requests.post(\"{}/actors/{}/nonces\".format(url, actor_id), \n",
    "                       headers={'X-Jwt-Assertion-TEST': jwt},\n",
    "                       data={'description': 'HEY THERE DUDE!'})\n",
    "nonce_exec.json()"
   ]
  },
  {
   "cell_type": "code",
   "execution_count": null,
   "metadata": {},
   "outputs": [],
   "source": [
    "# Create alias.\n",
    "alias = requests.post(\"{}/actors/aliases\".format(url), \n",
    "                     headers={'X-Jwt-Assertion-TEST':jwt}, \n",
    "                     data={'actorId':actor_id, 'alias':'pop.tart2'})\n",
    "alias.json()"
   ]
  },
  {
   "cell_type": "code",
   "execution_count": null,
   "metadata": {},
   "outputs": [],
   "source": []
  }
 ],
 "metadata": {
  "kernelspec": {
   "display_name": "Python 3",
   "language": "python",
   "name": "python3"
  },
  "language_info": {
   "codemirror_mode": {
    "name": "ipython",
    "version": 3
   },
   "file_extension": ".py",
   "mimetype": "text/x-python",
   "name": "python",
   "nbconvert_exporter": "python",
   "pygments_lexer": "ipython3",
   "version": "3.8.1"
  }
 },
 "nbformat": 4,
 "nbformat_minor": 4
}
