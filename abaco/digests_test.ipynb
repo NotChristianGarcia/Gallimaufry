{
 "cells": [
  {
   "cell_type": "code",
   "execution_count": 1,
   "metadata": {},
   "outputs": [],
   "source": [
    "token=\"2d415d3b7a23c06ac0fa2951e25d5f\""
   ]
  },
  {
   "cell_type": "markdown",
   "metadata": {},
   "source": [
    "Headers"
   ]
  },
  {
   "cell_type": "code",
   "execution_count": 4,
   "metadata": {},
   "outputs": [],
   "source": [
    "import requests\n",
    "jwt=\"eyJ0eXAiOiJKV1QiLCJhbGciOiJSUzI1NiIsIng1dCI6Ik5tSm1PR1V4TXpabFlqTTJaRFJoTlRabFlUQTFZemRoWlRSaU9XRTBOV0kyTTJKbU9UYzFaQT09In0=.eyJpc3MiOiJ3c28yLm9yZy9wcm9kdWN0cy9hbSIsImV4cCI6MTQ5ODE1MTQ3NTc0NywiaHR0cDovL3dzbzIub3JnL2NsYWltcy9zdWJzY3JpYmVyIjoiQUdBVkVERVYvamRvZSIsImh0dHA6Ly93c28yLm9yZy9jbGFpbXMvYXBwbGljYXRpb25pZCI6IjEzMCIsImh0dHA6Ly93c28yLm9yZy9jbGFpbXMvYXBwbGljYXRpb25uYW1lIjoidGVzdCIsImh0dHA6Ly93c28yLm9yZy9jbGFpbXMvYXBwbGljYXRpb250aWVyIjoiVW5saW1pdGVkIiwiaHR0cDovL3dzbzIub3JnL2NsYWltcy9hcGljb250ZXh0IjoiL2FwcHMvdjIiLCJodHRwOi8vd3NvMi5vcmcvY2xhaW1zL3ZlcnNpb24iOiJ2MiIsImh0dHA6Ly93c28yLm9yZy9jbGFpbXMvdGllciI6IlVubGltaXRlZCIsImh0dHA6Ly93c28yLm9yZy9jbGFpbXMva2V5dHlwZSI6IlBST0RVQ1RJT04iLCJodHRwOi8vd3NvMi5vcmcvY2xhaW1zL3VzZXJ0eXBlIjoiQVBQTElDQVRJT04iLCJodHRwOi8vd3NvMi5vcmcvY2xhaW1zL2VuZHVzZXIiOiJqZG9lQGNhcmJvbi5zdXBlciIsImh0dHA6Ly93c28yLm9yZy9jbGFpbXMvZW5kdXNlclRlbmFudElkIjoiLTEyMzQiLCJodHRwOi8vd3NvMi5vcmcvY2xhaW1zL2VtYWlsYWRkcmVzcyI6Impkb2VAdGVzdC5jb20iLCJodHRwOi8vd3NvMi5vcmcvY2xhaW1zL2Z1bGxuYW1lIjoiamRvZSB0ZXN0ZXIiLCJodHRwOi8vd3NvMi5vcmcvY2xhaW1zL2dpdmVubmFtZSI6Impkb2UiLCJodHRwOi8vd3NvMi5vcmcvY2xhaW1zL2xhc3RuYW1lIjoidGVzdGVyIiwiaHR0cDovL3dzbzIub3JnL2NsYWltcy9tb2JpbGUiOiI5NzItNTA0LTYyNzAiLCJodHRwOi8vd3NvMi5vcmcvY2xhaW1zL3JvbGUiOiJJbnRlcm5hbC9BR0FWRURFVl9qZG9lX0RlZmF1bHRBcHBsaWNhdGlvbl9QUk9EVUNUSU9OLEludGVybmFsL0FHQVZFREVWX2pkb2VfdGVzdF9QUk9EVUNUSU9OLEludGVybmFsL2V2ZXJ5b25lLEludGVybmFsL2FiYWNvLXVzZXIiLCJodHRwOi8vd3NvMi5vcmcvY2xhaW1zL3RlbGVwaG9uZSI6IjUxMi02NDctNDgxMyJ9.WZpltBZG7GK+O6dTbHI6taZXVscuK2hmSUqUqXnFMQxv5WUDuimg1kFg3x0xCJeuF8zdJox/9kD5qJfNIz0wg8AsbJo6LdiZhQdMMCx91cigb9elKQe/RYrQe4uZCZrnioMqv9ba3bnp4ShEWQ2yZjhyVjy7cygO8RSlkYpBqBM=[r][n]\""
   ]
  },
  {
   "cell_type": "markdown",
   "metadata": {},
   "source": [
    "Celled Requests Local"
   ]
  },
  {
   "cell_type": "code",
   "execution_count": 76,
   "metadata": {},
   "outputs": [
    {
     "data": {
      "text/plain": [
       "{'message': 'Actor created successfully.',\n",
       " 'result': {'_links': {'executions': 'http://172.17.0.1:8000/actors/v2/0G8Vq4J1kEMGz/executions',\n",
       "   'owner': 'http://172.17.0.1:8000/profiles/v2/jdoe',\n",
       "   'self': 'http://172.17.0.1:8000/actors/v2/0G8Vq4J1kEMGz'},\n",
       "  'createTime': '2019-03-16 20:14:34.533142',\n",
       "  'defaultEnvironment': {},\n",
       "  'description': 'Digests test!',\n",
       "  'id': '0G8Vq4J1kEMGz',\n",
       "  'image': 'notchristiangarcia/my_actor_test@sha256:aa3798ddbf99fadc5c8da37539a09c6bfa7c134640e7312a0780cbab0d2e8f85',\n",
       "  'lastUpdateTime': '2019-03-16 20:14:34.533142',\n",
       "  'mounts': [{'container_path': '/_abaco_data1',\n",
       "    'host_path': '/data1',\n",
       "    'mode': 'ro'},\n",
       "   {'container_path': '/_abaco_data2',\n",
       "    'host_path': '/data2/TEST/jdoe',\n",
       "    'mode': 'rw'}],\n",
       "  'owner': 'jdoe',\n",
       "  'privileged': False,\n",
       "  'queue': 'default',\n",
       "  'state': {},\n",
       "  'stateless': True,\n",
       "  'status': 'SUBMITTED',\n",
       "  'statusMessage': '',\n",
       "  'type': 'none',\n",
       "  'useContainerUid': False},\n",
       " 'status': 'success',\n",
       " 'version': ':latest'}"
      ]
     },
     "execution_count": 76,
     "metadata": {},
     "output_type": "execute_result"
    }
   ],
   "source": [
    "url = \"http://localhost:8000\"\n",
    "actor = requests.post(\"{}/actors\".format(url), \n",
    "                     headers={'X-Jwt-Assertion-TEST':jwt}, \n",
    "                     data={'image':'notchristiangarcia/my_actor_test@sha256:aa3798ddbf99fadc5c8da37539a09c6bfa7c134640e7312a0780cbab0d2e8f85', 'description':'Digests test!'})\n",
    "actor_id = actor.json()['result']['id']\n",
    "actor.json()"
   ]
  },
  {
   "cell_type": "code",
   "execution_count": 79,
   "metadata": {},
   "outputs": [],
   "source": [
    "actor_get = requests.get(\"{}/actors/{}\".format(url, actor_id), \n",
    "                     headers={'X-Jwt-Assertion-TEST':jwt})\n",
    "actor_get.json();"
   ]
  },
  {
   "cell_type": "code",
   "execution_count": 83,
   "metadata": {},
   "outputs": [
    {
     "data": {
      "text/plain": [
       "{'message': 'The request was successful',\n",
       " 'result': {'_links': {'messages': 'http://172.17.0.1:8000/actors/v2/0G8Vq4J1kEMGz/messages',\n",
       "   'owner': 'http://172.17.0.1:8000/profiles/v2/jdoe',\n",
       "   'self': 'http://172.17.0.1:8000/actors/v2/0G8Vq4J1kEMGz/executions/0ZLwygrjMkgDE'},\n",
       "  'executionId': '0ZLwygrjMkgDE',\n",
       "  'msg': 'hello dog'},\n",
       " 'status': 'success',\n",
       " 'version': ':latest'}"
      ]
     },
     "execution_count": 83,
     "metadata": {},
     "output_type": "execute_result"
    }
   ],
   "source": [
    "exec2 = requests.post(\"{}/actors/{}/messages\".format(url, actor_id), \n",
    "                       headers={'X-Jwt-Assertion-TEST': jwt},\n",
    "                       data={'message':'hello dog'})\n",
    "exec_id = exec2.json()['result']['executionId']\n",
    "exec2.json()"
   ]
  },
  {
   "cell_type": "code",
   "execution_count": 85,
   "metadata": {},
   "outputs": [
    {
     "data": {
      "text/plain": [
       "{'message': 'Actor execution retrieved successfully.',\n",
       " 'result': {'_links': {'logs': 'http://172.17.0.1:8000/actors/v2/TEST_0G8Vq4J1kEMGz/executions/0ZLwygrjMkgDE/logs',\n",
       "   'owner': 'http://172.17.0.1:8000/profiles/v2/jdoe',\n",
       "   'self': 'http://172.17.0.1:8000/actors/v2/TEST_0G8Vq4J1kEMGz/executions/0ZLwygrjMkgDE'},\n",
       "  'actorId': '0G8Vq4J1kEMGz',\n",
       "  'apiServer': 'http://172.17.0.1:8000',\n",
       "  'cpu': 119693526,\n",
       "  'executor': 'jdoe',\n",
       "  'exitCode': 0,\n",
       "  'finalState': {'Dead': False,\n",
       "   'Error': '',\n",
       "   'ExitCode': 0,\n",
       "   'FinishedAt': '2019-03-16T20:15:20.655858078Z',\n",
       "   'OOMKilled': False,\n",
       "   'Paused': False,\n",
       "   'Pid': 0,\n",
       "   'Restarting': False,\n",
       "   'Running': False,\n",
       "   'StartedAt': '2019-03-16T20:15:20.434798322Z',\n",
       "   'Status': 'exited'},\n",
       "  'id': '0ZLwygrjMkgDE',\n",
       "  'io': 396,\n",
       "  'messageReceivedTime': '2019-03-16 20:15:19.647784',\n",
       "  'runtime': 1,\n",
       "  'startTime': '2019-03-16 20:15:19.941511',\n",
       "  'status': 'COMPLETE',\n",
       "  'workerId': 'o7Pqa4QjGzX80'},\n",
       " 'status': 'success',\n",
       " 'version': ':latest'}"
      ]
     },
     "execution_count": 85,
     "metadata": {},
     "output_type": "execute_result"
    }
   ],
   "source": [
    "exec_info = requests.get(\"{}/actors/{}/executions/{}\".format(url, actor_id, exec_id),\n",
    "                         headers={'X-Jwt-Assertion-TEST': jwt})\n",
    "exec_info.json()"
   ]
  },
  {
   "cell_type": "code",
   "execution_count": 86,
   "metadata": {},
   "outputs": [
    {
     "data": {
      "text/plain": [
       "'Number of words is: 2\\n'"
      ]
     },
     "execution_count": 86,
     "metadata": {},
     "output_type": "execute_result"
    }
   ],
   "source": [
    "exec_logs = requests.get(\"{}/actors/{}/executions/{}/logs\".format(url, actor_id, exec_id),\n",
    "                         headers={'X-Jwt-Assertion-TEST': jwt})\n",
    "exec_logs.json()['result']['logs']"
   ]
  },
  {
   "cell_type": "markdown",
   "metadata": {},
   "source": [
    "Celled Requests Online"
   ]
  },
  {
   "cell_type": "code",
   "execution_count": null,
   "metadata": {},
   "outputs": [],
   "source": [
    "import requests\n",
    "import cloudpickle\n",
    "def f(a, b, c=1):\n",
    "    return a+b+c\n",
    "l = [5, 7]\n",
    "message = cloudpickle.dumps({'func': f, 'args': l, 'kwargs': {'c': 5}})"
   ]
  },
  {
   "cell_type": "code",
   "execution_count": null,
   "metadata": {},
   "outputs": [],
   "source": [
    "url = \"https://api.tacc.utexas.edu\"\n",
    "actor = requests.post(\"{}/actors/v2\".format(url),\n",
    "                      headers={'Authorization':'Bearer {}'.format(token)},\n",
    "                      data={'image':'notchristiangarcia/bin_classifier'})\n",
    "actor_id = actor.json()['result']['id']\n",
    "actor.json();"
   ]
  },
  {
   "cell_type": "code",
   "execution_count": null,
   "metadata": {},
   "outputs": [],
   "source": [
    "actor_get = requests.get(\"{}/actors/v2/{}\".format(url, actor_id), \n",
    "                         headers={'Authorization': 'Bearer {}'.format(token)})\n",
    "actor_get.json();"
   ]
  },
  {
   "cell_type": "code",
   "execution_count": null,
   "metadata": {},
   "outputs": [],
   "source": [
    "bin_exec = requests.post(\"{}/actors/v2/{}/messages\".format(url, actor_id), \n",
    "                         headers={'Authorization': 'Bearer {}'.format(token)},\n",
    "                         data=\"message=hello!\")\n",
    "exec_id = bin_exec.json()['result']['executionId']\n",
    "bin_exec.json()"
   ]
  },
  {
   "cell_type": "code",
   "execution_count": null,
   "metadata": {},
   "outputs": [],
   "source": [
    "exec_info = requests.get(\"{}/actors/v2/{}/executions/{}\".format(url, actor_id, exec_id),\n",
    "                         headers={'Authorization': 'Bearer {}'.format(token)})\n",
    "exec_info.json()"
   ]
  },
  {
   "cell_type": "code",
   "execution_count": null,
   "metadata": {},
   "outputs": [],
   "source": [
    "exec_logs = requests.get(\"{}/actors/v2/{}/executions/{}/logs\".format(url, actor_id, exec_id),\n",
    "                         headers={'Authorization': 'Bearer {}'.format(token)})\n",
    "exec_logs.json()"
   ]
  },
  {
   "cell_type": "markdown",
   "metadata": {},
   "source": [
    "Celled AgavePy Online"
   ]
  },
  {
   "cell_type": "code",
   "execution_count": 24,
   "metadata": {},
   "outputs": [
    {
     "name": "stdin",
     "output_type": "stream",
     "text": [
      "API password:  ··········\n"
     ]
    }
   ],
   "source": [
    "from agavepy.agave import Agave\n",
    "ag = Agave(api_server='https://api.tacc.utexas.edu',\n",
    "           username='cgarcia', password='Fuckoff12.',\n",
    "           client_name='bin_test',\n",
    "           api_key='Pyt8l5GukJ4T7ssHfPxMwn7NlXYa',\n",
    "           api_secret='_48x3A29ApFfB2cj0egwh9ATtdka')\n",
    "ag.get_access_token()\n",
    "ag = Agave(api_server=\"https://api.tacc.utexas.edu/\", token=ag.token)"
   ]
  },
  {
   "cell_type": "code",
   "execution_count": 38,
   "metadata": {},
   "outputs": [
    {
     "data": {
      "text/plain": [
       "{'_links': {'executions': 'https://api.tacc.utexas.edu/actors/v2/PYbyX1K5QpazV/executions',\n",
       "  'owner': 'https://api.tacc.utexas.edu/profiles/v2/cgarcia',\n",
       "  'self': 'https://api.tacc.utexas.edu/actors/v2/PYbyX1K5QpazV'},\n",
       " 'createTime': '2019-03-16 20:12:19.934220',\n",
       " 'defaultEnvironment': {},\n",
       " 'description': 'test',\n",
       " 'id': 'PYbyX1K5QpazV',\n",
       " 'image': 'notchristiangarcia/my_actor_test@sha256:aa3798ddbf99fadc5c8da37539a09c6bfa7c134640e7312a0780cbab0d2e8f85',\n",
       " 'lastUpdateTime': '2019-03-16 20:12:19.934220',\n",
       " 'mounts': [],\n",
       " 'name': 'abaco_test',\n",
       " 'owner': 'cgarcia',\n",
       " 'privileged': False,\n",
       " 'state': {},\n",
       " 'stateless': False,\n",
       " 'status': 'SUBMITTED',\n",
       " 'statusMessage': '',\n",
       " 'type': 'none',\n",
       " 'useContainerUid': False}"
      ]
     },
     "execution_count": 38,
     "metadata": {},
     "output_type": "execute_result"
    }
   ],
   "source": [
    "my_actor = {\"image\": \"notchristiangarcia/my_actor_test@sha256:aa3798ddbf99fadc5c8da37539a09c6bfa7c134640e7312a0780cbab0d2e8f85\",\n",
    "            \"name\": \"abaco_test\",\n",
    "            \"description\": \"test\"}\n",
    "actor_data = ag.actors.add(body=my_actor)\n",
    "actor_data"
   ]
  },
  {
   "cell_type": "code",
   "execution_count": 42,
   "metadata": {},
   "outputs": [
    {
     "data": {
      "text/plain": [
       "{'_links': {'messages': 'https://api.tacc.utexas.edu/actors/v2/PYbyX1K5QpazV/messages',\n",
       "  'owner': 'https://api.tacc.utexas.edu/profiles/v2/cgarcia',\n",
       "  'self': 'https://api.tacc.utexas.edu/actors/v2/PYbyX1K5QpazV/executions/qgWVjlBGqyPWk'},\n",
       " 'executionId': 'qgWVjlBGqyPWk',\n",
       " 'msg': 'message'}"
      ]
     },
     "execution_count": 42,
     "metadata": {},
     "output_type": "execute_result"
    }
   ],
   "source": [
    "result = ag.actors.sendMessage(actorId=actor_data['id'],\n",
    "                               body={\"message\":\"message\"})\n",
    "result"
   ]
  },
  {
   "cell_type": "code",
   "execution_count": 73,
   "metadata": {},
   "outputs": [
    {
     "data": {
      "text/plain": [
       "{'_links': {'logs': 'https://api.tacc.utexas.edu/actors/v2/TACC-PROD_PYbyX1K5QpazV/executions/qgWVjlBGqyPWk/logs',\n",
       "  'owner': 'https://api.tacc.utexas.edu/profiles/v2/cgarcia',\n",
       "  'self': 'https://api.tacc.utexas.edu/actors/v2/TACC-PROD_PYbyX1K5QpazV/executions/qgWVjlBGqyPWk'},\n",
       " 'actorId': 'PYbyX1K5QpazV',\n",
       " 'apiServer': 'https://api.tacc.utexas.edu',\n",
       " 'cpu': 0,\n",
       " 'executor': 'cgarcia',\n",
       " 'id': 'qgWVjlBGqyPWk',\n",
       " 'io': 0,\n",
       " 'messageReceivedTime': '2019-03-16 20:12:27.191988',\n",
       " 'runtime': 0,\n",
       " 'startTime': 'None',\n",
       " 'status': 'SUBMITTED'}"
      ]
     },
     "execution_count": 73,
     "metadata": {},
     "output_type": "execute_result"
    }
   ],
   "source": [
    "execution = ag.actors.getExecution(actorId=actor_data['id'],\n",
    "                                   executionId = result['executionId'])\n",
    "execution"
   ]
  },
  {
   "cell_type": "code",
   "execution_count": 28,
   "metadata": {},
   "outputs": [
    {
     "data": {
      "text/plain": [
       "{'_links': {'execution': 'https://api.tacc.utexas.edu/actors/v2/r3XwxelvbQzLk/executions/zrp1PO6eY8GjN',\n",
       "  'owner': 'https://api.tacc.utexas.edu/profiles/v2/cgarcia',\n",
       "  'self': 'https://api.tacc.utexas.edu/actors/v2/r3XwxelvbQzLk/executions/zrp1PO6eY8GjN/logs'},\n",
       " 'logs': ''}"
      ]
     },
     "execution_count": 28,
     "metadata": {},
     "output_type": "execute_result"
    }
   ],
   "source": [
    "execLogs = ag.actors.getExecutionLogs(actorId=actor_data['id'],\n",
    "                                      executionId = result['executionId'])\n",
    "execLogs"
   ]
  },
  {
   "cell_type": "code",
   "execution_count": null,
   "metadata": {},
   "outputs": [],
   "source": []
  }
 ],
 "metadata": {
  "kernelspec": {
   "display_name": "Python 3",
   "language": "python",
   "name": "python3"
  },
  "language_info": {
   "codemirror_mode": {
    "name": "ipython",
    "version": 3
   },
   "file_extension": ".py",
   "mimetype": "text/x-python",
   "name": "python",
   "nbconvert_exporter": "python",
   "pygments_lexer": "ipython3",
   "version": "3.6.7"
  }
 },
 "nbformat": 4,
 "nbformat_minor": 2
}
