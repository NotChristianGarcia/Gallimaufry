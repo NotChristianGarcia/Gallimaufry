{
 "cells": [
  {
   "cell_type": "code",
   "execution_count": null,
   "metadata": {},
   "outputs": [],
   "source": [
    "jwt=\"eyJ0eXAiOiJKV1QiLCJhbGciOiJSUzI1NiIsIng1dCI6Ik5tSm1PR1V4TXpabFlqTTJaRFJoTlRabFlUQTFZemRoWlRSaU9XRTBOV0kyTTJKbU9UYzFaQT09In0=.eyJpc3MiOiJ3c28yLm9yZy9wcm9kdWN0cy9hbSIsImV4cCI6MTQ5ODE1MTQ3NTc0NywiaHR0cDovL3dzbzIub3JnL2NsYWltcy9zdWJzY3JpYmVyIjoiQUdBVkVERVYvamRvZSIsImh0dHA6Ly93c28yLm9yZy9jbGFpbXMvYXBwbGljYXRpb25pZCI6IjEzMCIsImh0dHA6Ly93c28yLm9yZy9jbGFpbXMvYXBwbGljYXRpb25uYW1lIjoidGVzdCIsImh0dHA6Ly93c28yLm9yZy9jbGFpbXMvYXBwbGljYXRpb250aWVyIjoiVW5saW1pdGVkIiwiaHR0cDovL3dzbzIub3JnL2NsYWltcy9hcGljb250ZXh0IjoiL2FwcHMvdjIiLCJodHRwOi8vd3NvMi5vcmcvY2xhaW1zL3ZlcnNpb24iOiJ2MiIsImh0dHA6Ly93c28yLm9yZy9jbGFpbXMvdGllciI6IlVubGltaXRlZCIsImh0dHA6Ly93c28yLm9yZy9jbGFpbXMva2V5dHlwZSI6IlBST0RVQ1RJT04iLCJodHRwOi8vd3NvMi5vcmcvY2xhaW1zL3VzZXJ0eXBlIjoiQVBQTElDQVRJT04iLCJodHRwOi8vd3NvMi5vcmcvY2xhaW1zL2VuZHVzZXIiOiJqZG9lQGNhcmJvbi5zdXBlciIsImh0dHA6Ly93c28yLm9yZy9jbGFpbXMvZW5kdXNlclRlbmFudElkIjoiLTEyMzQiLCJodHRwOi8vd3NvMi5vcmcvY2xhaW1zL2VtYWlsYWRkcmVzcyI6Impkb2VAdGVzdC5jb20iLCJodHRwOi8vd3NvMi5vcmcvY2xhaW1zL2Z1bGxuYW1lIjoiamRvZSB0ZXN0ZXIiLCJodHRwOi8vd3NvMi5vcmcvY2xhaW1zL2dpdmVubmFtZSI6Impkb2UiLCJodHRwOi8vd3NvMi5vcmcvY2xhaW1zL2xhc3RuYW1lIjoidGVzdGVyIiwiaHR0cDovL3dzbzIub3JnL2NsYWltcy9tb2JpbGUiOiI5NzItNTA0LTYyNzAiLCJodHRwOi8vd3NvMi5vcmcvY2xhaW1zL3JvbGUiOiJJbnRlcm5hbC9BR0FWRURFVl9qZG9lX0RlZmF1bHRBcHBsaWNhdGlvbl9QUk9EVUNUSU9OLEludGVybmFsL0FHQVZFREVWX2pkb2VfdGVzdF9QUk9EVUNUSU9OLEludGVybmFsL2V2ZXJ5b25lLEludGVybmFsL2FiYWNvLXVzZXIiLCJodHRwOi8vd3NvMi5vcmcvY2xhaW1zL3RlbGVwaG9uZSI6IjUxMi02NDctNDgxMyJ9.WZpltBZG7GK+O6dTbHI6taZXVscuK2hmSUqUqXnFMQxv5WUDuimg1kFg3x0xCJeuF8zdJox/9kD5qJfNIz0wg8AsbJo6LdiZhQdMMCx91cigb9elKQe/RYrQe4uZCZrnioMqv9ba3bnp4ShEWQ2yZjhyVjy7cygO8RSlkYpBqBM=[r][n]\""
   ]
  },
  {
   "cell_type": "code",
   "execution_count": null,
   "metadata": {},
   "outputs": [],
   "source": [
    "token=\"2d415d3b7a23c06ac0fa2951e25d5f\""
   ]
  },
  {
   "cell_type": "markdown",
   "metadata": {},
   "source": [
    "Picture to binary message"
   ]
  },
  {
   "cell_type": "code",
   "execution_count": null,
   "metadata": {},
   "outputs": [],
   "source": [
    "import requests\n",
    "\n",
    "with open(\"smol.png\", 'rb') as file:\n",
    "    raw_binary_data = file.read()\n",
    "\n",
    "message = raw_binary_data"
   ]
  },
  {
   "cell_type": "markdown",
   "metadata": {},
   "source": [
    "Full Requests Local"
   ]
  },
  {
   "cell_type": "code",
   "execution_count": null,
   "metadata": {},
   "outputs": [],
   "source": [
    "url = \"http://localhost:8000\"\n",
    "actor = requests.post(\"{}/actors\".format(url), \n",
    "                     headers={'X-Jwt-Assertion-TEST':jwt}, \n",
    "                     data={'image':'notchristiangarcia/bin_classifier'})\n",
    "actor_id = actor.json()['result']['id']\n",
    "\n",
    "actor_get = requests.get(\"{}/actors/{}\".format(url, actor_id), \n",
    "                     headers={'X-Jwt-Assertion-TEST':jwt})\n",
    "\n",
    "bin_exec = requests.post(\"{}/actors/{}/messages\".format(url, actor_id), \n",
    "                       headers={'X-Jwt-Assertion-TEST': jwt,\n",
    "                                'Content-Type': 'application/octet-stream'},\n",
    "                       data=message)\n",
    "exec_id = bin_exec.json()['result']['executionId']\n",
    "\n",
    "exec_info = requests.get(\"{}/actors/{}/executions/{}\".format(url, actor_id, exec_id),\n",
    "                         headers={'X-Jwt-Assertion-TEST': jwt})\n",
    "\n",
    "exec_logs = requests.get(\"{}/actors/{}/executions/{}/logs\".format(url, actor_id, exec_id),\n",
    "                         headers={'X-Jwt-Assertion-TEST': jwt})\n",
    "exec_logs.json()['result']['logs']"
   ]
  },
  {
   "cell_type": "markdown",
   "metadata": {},
   "source": [
    "Celled Requests Local"
   ]
  },
  {
   "cell_type": "code",
   "execution_count": null,
   "metadata": {},
   "outputs": [],
   "source": [
    "url = \"http://localhost:8000\"\n",
    "actor = requests.post(\"{}/actors\".format(url), \n",
    "                     headers={'X-Jwt-Assertion-TEST':jwt}, \n",
    "                     data={'image':'notchristiangarcia/bin_classifier'})\n",
    "actor_id = actor.json()['result']['id']\n",
    "actor.json();"
   ]
  },
  {
   "cell_type": "code",
   "execution_count": null,
   "metadata": {},
   "outputs": [],
   "source": [
    "actor_get = requests.get(\"{}/actors/{}\".format(url, actor_id), \n",
    "                     headers={'X-Jwt-Assertion-TEST':jwt})\n",
    "actor_get.json();"
   ]
  },
  {
   "cell_type": "code",
   "execution_count": null,
   "metadata": {},
   "outputs": [],
   "source": [
    "bin_exec = requests.post(\"{}/actors/{}/messages\".format(url, actor_id), \n",
    "                       headers={'X-Jwt-Assertion-TEST': jwt,\n",
    "                                'Content-Type': 'application/octet-stream'},\n",
    "                       data=message)\n",
    "exec_id = bin_exec.json()['result']['executionId']\n",
    "bin_exec.json();"
   ]
  },
  {
   "cell_type": "code",
   "execution_count": null,
   "metadata": {},
   "outputs": [],
   "source": [
    "exec_info = requests.get(\"{}/actors/{}/executions/{}\".format(url, actor_id, exec_id),\n",
    "                         headers={'X-Jwt-Assertion-TEST': jwt})\n",
    "exec_info.json()"
   ]
  },
  {
   "cell_type": "code",
   "execution_count": null,
   "metadata": {},
   "outputs": [],
   "source": [
    "exec_logs = requests.get(\"{}/actors/{}/executions/{}/logs\".format(url, actor_id, exec_id),\n",
    "                         headers={'X-Jwt-Assertion-TEST': jwt})\n",
    "exec_logs.json()['result']['logs']"
   ]
  },
  {
   "cell_type": "markdown",
   "metadata": {},
   "source": [
    "Celled Requests Online"
   ]
  },
  {
   "cell_type": "code",
   "execution_count": null,
   "metadata": {},
   "outputs": [],
   "source": [
    "import requests\n",
    "import cloudpickle\n",
    "def f(a, b, c=1):\n",
    "    return a+b+c\n",
    "l = [5, 7]\n",
    "message = cloudpickle.dumps({'func': f, 'args': l, 'kwargs': {'c': 5}})"
   ]
  },
  {
   "cell_type": "code",
   "execution_count": null,
   "metadata": {},
   "outputs": [],
   "source": [
    "url = \"https://api.tacc.utexas.edu\"\n",
    "actor = requests.post(\"{}/actors/v2\".format(url),\n",
    "                      headers={'Authorization':'Bearer {}'.format(token)},\n",
    "                      data={'image':'notchristiangarcia/bin_classifier'})\n",
    "actor_id = actor.json()['result']['id']\n",
    "actor.json();"
   ]
  },
  {
   "cell_type": "code",
   "execution_count": null,
   "metadata": {},
   "outputs": [],
   "source": [
    "actor_get = requests.get(\"{}/actors/v2/{}\".format(url, actor_id), \n",
    "                         headers={'Authorization': 'Bearer {}'.format(token)})\n",
    "actor_get.json();"
   ]
  },
  {
   "cell_type": "code",
   "execution_count": null,
   "metadata": {},
   "outputs": [],
   "source": [
    "bin_exec = requests.post(\"{}/actors/v2/{}/messages\".format(url, actor_id), \n",
    "                         headers={'Authorization': 'Bearer {}'.format(token)},\n",
    "                         data=\"message=hello!\")\n",
    "exec_id = bin_exec.json()['result']['executionId']\n",
    "bin_exec.json()"
   ]
  },
  {
   "cell_type": "code",
   "execution_count": null,
   "metadata": {},
   "outputs": [],
   "source": [
    "exec_info = requests.get(\"{}/actors/v2/{}/executions/{}\".format(url, actor_id, exec_id),\n",
    "                         headers={'Authorization': 'Bearer {}'.format(token)})\n",
    "exec_info.json()"
   ]
  },
  {
   "cell_type": "code",
   "execution_count": null,
   "metadata": {},
   "outputs": [],
   "source": [
    "exec_logs = requests.get(\"{}/actors/v2/{}/executions/{}/logs\".format(url, actor_id, exec_id),\n",
    "                         headers={'Authorization': 'Bearer {}'.format(token)})\n",
    "exec_logs.json()"
   ]
  },
  {
   "cell_type": "markdown",
   "metadata": {},
   "source": [
    "Celled AgavePy Online"
   ]
  },
  {
   "cell_type": "code",
   "execution_count": null,
   "metadata": {},
   "outputs": [],
   "source": [
    "from agavepy.agave import Agave\n",
    "ag = Agave(api_server='https://api.tacc.utexas.edu',\n",
    "           username='cgarcia', password='Fuckoff12.',\n",
    "           client_name='bin_test',\n",
    "           api_key='Pyt8l5GukJ4T7ssHfPxMwn7NlXYa',\n",
    "           api_secret='_48x3A29ApFfB2cj0egwh9ATtdka')\n",
    "ag.get_access_token()\n",
    "ag = Agave(api_server=\"https://api.tacc.utexas.edu/\", token=ag.token)"
   ]
  },
  {
   "cell_type": "code",
   "execution_count": null,
   "metadata": {},
   "outputs": [],
   "source": [
    "my_actor = {\"image\": \"notchristiangarcia/my_actor_test\",\n",
    "            \"name\": \"abaco_test\",\n",
    "            \"description\": \"test\"}\n",
    "actor_data = ag.actors.add(body=my_actor)\n",
    "actor_data"
   ]
  },
  {
   "cell_type": "code",
   "execution_count": null,
   "metadata": {},
   "outputs": [],
   "source": [
    "result = ag.actors.sendMessage(actorId=actor_data['id'],\n",
    "                               body={\"message\":\"message\"},\n",
    "                               headers={'Content-Type': 'application/octet-stream'})\n",
    "result"
   ]
  },
  {
   "cell_type": "code",
   "execution_count": null,
   "metadata": {},
   "outputs": [],
   "source": [
    "execution = ag.actors.getExecution(actorId=actor_data['id'],\n",
    "                                   executionId = result['executionId'])\n",
    "execution"
   ]
  },
  {
   "cell_type": "code",
   "execution_count": null,
   "metadata": {},
   "outputs": [],
   "source": [
    "execLogs = ag.actors.getExecutionLogs(actorId=actor_data['id'],\n",
    "                                      executionId = result['executionId'])\n",
    "execLogs"
   ]
  }
 ],
 "metadata": {
  "kernelspec": {
   "display_name": "Python 3",
   "language": "python",
   "name": "python3"
  },
  "language_info": {
   "codemirror_mode": {
    "name": "ipython",
    "version": 3
   },
   "file_extension": ".py",
   "mimetype": "text/x-python",
   "name": "python",
   "nbconvert_exporter": "python",
   "pygments_lexer": "ipython3",
   "version": "3.6.7"
  }
 },
 "nbformat": 4,
 "nbformat_minor": 2
}
