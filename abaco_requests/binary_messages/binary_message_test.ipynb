{
 "cells": [
  {
   "cell_type": "code",
   "execution_count": 29,
   "metadata": {},
   "outputs": [],
   "source": [
    "jwt=\"eyJ0eXAiOiJKV1QiLCJhbGciOiJSUzI1NiIsIng1dCI6Ik5tSm1PR1V4TXpabFlqTTJaRFJoTlRabFlUQTFZemRoWlRSaU9XRTBOV0kyTTJKbU9UYzFaQT09In0=.eyJpc3MiOiJ3c28yLm9yZy9wcm9kdWN0cy9hbSIsImV4cCI6MTQ5ODE1MTQ3NTc0NywiaHR0cDovL3dzbzIub3JnL2NsYWltcy9zdWJzY3JpYmVyIjoiQUdBVkVERVYvamRvZSIsImh0dHA6Ly93c28yLm9yZy9jbGFpbXMvYXBwbGljYXRpb25pZCI6IjEzMCIsImh0dHA6Ly93c28yLm9yZy9jbGFpbXMvYXBwbGljYXRpb25uYW1lIjoidGVzdCIsImh0dHA6Ly93c28yLm9yZy9jbGFpbXMvYXBwbGljYXRpb250aWVyIjoiVW5saW1pdGVkIiwiaHR0cDovL3dzbzIub3JnL2NsYWltcy9hcGljb250ZXh0IjoiL2FwcHMvdjIiLCJodHRwOi8vd3NvMi5vcmcvY2xhaW1zL3ZlcnNpb24iOiJ2MiIsImh0dHA6Ly93c28yLm9yZy9jbGFpbXMvdGllciI6IlVubGltaXRlZCIsImh0dHA6Ly93c28yLm9yZy9jbGFpbXMva2V5dHlwZSI6IlBST0RVQ1RJT04iLCJodHRwOi8vd3NvMi5vcmcvY2xhaW1zL3VzZXJ0eXBlIjoiQVBQTElDQVRJT04iLCJodHRwOi8vd3NvMi5vcmcvY2xhaW1zL2VuZHVzZXIiOiJqZG9lQGNhcmJvbi5zdXBlciIsImh0dHA6Ly93c28yLm9yZy9jbGFpbXMvZW5kdXNlclRlbmFudElkIjoiLTEyMzQiLCJodHRwOi8vd3NvMi5vcmcvY2xhaW1zL2VtYWlsYWRkcmVzcyI6Impkb2VAdGVzdC5jb20iLCJodHRwOi8vd3NvMi5vcmcvY2xhaW1zL2Z1bGxuYW1lIjoiamRvZSB0ZXN0ZXIiLCJodHRwOi8vd3NvMi5vcmcvY2xhaW1zL2dpdmVubmFtZSI6Impkb2UiLCJodHRwOi8vd3NvMi5vcmcvY2xhaW1zL2xhc3RuYW1lIjoidGVzdGVyIiwiaHR0cDovL3dzbzIub3JnL2NsYWltcy9tb2JpbGUiOiI5NzItNTA0LTYyNzAiLCJodHRwOi8vd3NvMi5vcmcvY2xhaW1zL3JvbGUiOiJJbnRlcm5hbC9BR0FWRURFVl9qZG9lX0RlZmF1bHRBcHBsaWNhdGlvbl9QUk9EVUNUSU9OLEludGVybmFsL0FHQVZFREVWX2pkb2VfdGVzdF9QUk9EVUNUSU9OLEludGVybmFsL2V2ZXJ5b25lLEludGVybmFsL2FiYWNvLXVzZXIiLCJodHRwOi8vd3NvMi5vcmcvY2xhaW1zL3RlbGVwaG9uZSI6IjUxMi02NDctNDgxMyJ9.WZpltBZG7GK+O6dTbHI6taZXVscuK2hmSUqUqXnFMQxv5WUDuimg1kFg3x0xCJeuF8zdJox/9kD5qJfNIz0wg8AsbJo6LdiZhQdMMCx91cigb9elKQe/RYrQe4uZCZrnioMqv9ba3bnp4ShEWQ2yZjhyVjy7cygO8RSlkYpBqBM=[r][n]\""
   ]
  },
  {
   "cell_type": "code",
   "execution_count": 3,
   "metadata": {},
   "outputs": [],
   "source": [
    "token=\"7fd32255cac956d07f72fcf0c8ef98b3\""
   ]
  },
  {
   "cell_type": "markdown",
   "metadata": {},
   "source": [
    "Picture to binary message"
   ]
  },
  {
   "cell_type": "code",
   "execution_count": null,
   "metadata": {},
   "outputs": [],
   "source": [
    "\n",
    "with open(\"smol.png\", 'rb') as file:\n",
    "    raw_binary_data = file.read()\n",
    "\n",
    "message = raw_binary_data"
   ]
  },
  {
   "cell_type": "code",
   "execution_count": 8,
   "metadata": {},
   "outputs": [],
   "source": [
    "import requests\n",
    "jwt=\"eyJ0eXAiOiJKV1QiLCJhbGciOiJSUzI1NiIsIng1dCI6Ik5tSm1PR1V4TXpabFlqTTJaRFJoTlRabFlUQTFZemRoWlRSaU9XRTBOV0kyTTJKbU9UYzFaQT09In0=.eyJpc3MiOiJ3c28yLm9yZy9wcm9kdWN0cy9hbSIsImV4cCI6MTQ5ODE1MTQ3NTc0NywiaHR0cDovL3dzbzIub3JnL2NsYWltcy9zdWJzY3JpYmVyIjoiQUdBVkVERVYvamRvZSIsImh0dHA6Ly93c28yLm9yZy9jbGFpbXMvYXBwbGljYXRpb25pZCI6IjEzMCIsImh0dHA6Ly93c28yLm9yZy9jbGFpbXMvYXBwbGljYXRpb25uYW1lIjoidGVzdCIsImh0dHA6Ly93c28yLm9yZy9jbGFpbXMvYXBwbGljYXRpb250aWVyIjoiVW5saW1pdGVkIiwiaHR0cDovL3dzbzIub3JnL2NsYWltcy9hcGljb250ZXh0IjoiL2FwcHMvdjIiLCJodHRwOi8vd3NvMi5vcmcvY2xhaW1zL3ZlcnNpb24iOiJ2MiIsImh0dHA6Ly93c28yLm9yZy9jbGFpbXMvdGllciI6IlVubGltaXRlZCIsImh0dHA6Ly93c28yLm9yZy9jbGFpbXMva2V5dHlwZSI6IlBST0RVQ1RJT04iLCJodHRwOi8vd3NvMi5vcmcvY2xhaW1zL3VzZXJ0eXBlIjoiQVBQTElDQVRJT04iLCJodHRwOi8vd3NvMi5vcmcvY2xhaW1zL2VuZHVzZXIiOiJqZG9lQGNhcmJvbi5zdXBlciIsImh0dHA6Ly93c28yLm9yZy9jbGFpbXMvZW5kdXNlclRlbmFudElkIjoiLTEyMzQiLCJodHRwOi8vd3NvMi5vcmcvY2xhaW1zL2VtYWlsYWRkcmVzcyI6Impkb2VAdGVzdC5jb20iLCJodHRwOi8vd3NvMi5vcmcvY2xhaW1zL2Z1bGxuYW1lIjoiamRvZSB0ZXN0ZXIiLCJodHRwOi8vd3NvMi5vcmcvY2xhaW1zL2dpdmVubmFtZSI6Impkb2UiLCJodHRwOi8vd3NvMi5vcmcvY2xhaW1zL2xhc3RuYW1lIjoidGVzdGVyIiwiaHR0cDovL3dzbzIub3JnL2NsYWltcy9tb2JpbGUiOiI5NzItNTA0LTYyNzAiLCJodHRwOi8vd3NvMi5vcmcvY2xhaW1zL3JvbGUiOiJJbnRlcm5hbC9BR0FWRURFVl9qZG9lX0RlZmF1bHRBcHBsaWNhdGlvbl9QUk9EVUNUSU9OLEludGVybmFsL0FHQVZFREVWX2pkb2VfdGVzdF9QUk9EVUNUSU9OLEludGVybmFsL2V2ZXJ5b25lLEludGVybmFsL2FiYWNvLXVzZXIiLCJodHRwOi8vd3NvMi5vcmcvY2xhaW1zL3RlbGVwaG9uZSI6IjUxMi02NDctNDgxMyJ9.WZpltBZG7GK+O6dTbHI6taZXVscuK2hmSUqUqXnFMQxv5WUDuimg1kFg3x0xCJeuF8zdJox/9kD5qJfNIz0wg8AsbJo6LdiZhQdMMCx91cigb9elKQe/RYrQe4uZCZrnioMqv9ba3bnp4ShEWQ2yZjhyVjy7cygO8RSlkYpBqBM=[r][n]\""
   ]
  },
  {
   "cell_type": "markdown",
   "metadata": {},
   "source": [
    "Full Requests Local"
   ]
  },
  {
   "cell_type": "code",
   "execution_count": 9,
   "metadata": {},
   "outputs": [
    {
     "ename": "NameError",
     "evalue": "name 'message' is not defined",
     "output_type": "error",
     "traceback": [
      "\u001b[0;31m---------------------------------------------------------------------------\u001b[0m",
      "\u001b[0;31mNameError\u001b[0m                                 Traceback (most recent call last)",
      "\u001b[0;32m<ipython-input-9-f61d30192b7f>\u001b[0m in \u001b[0;36m<module>\u001b[0;34m\u001b[0m\n\u001b[1;32m     11\u001b[0m                        headers={'X-Jwt-Assertion-TEST': jwt,\n\u001b[1;32m     12\u001b[0m                                 'Content-Type': 'application/octet-stream'},\n\u001b[0;32m---> 13\u001b[0;31m                        data=message)\n\u001b[0m\u001b[1;32m     14\u001b[0m \u001b[0mexec_id\u001b[0m \u001b[0;34m=\u001b[0m \u001b[0mbin_exec\u001b[0m\u001b[0;34m.\u001b[0m\u001b[0mjson\u001b[0m\u001b[0;34m(\u001b[0m\u001b[0;34m)\u001b[0m\u001b[0;34m[\u001b[0m\u001b[0;34m'result'\u001b[0m\u001b[0;34m]\u001b[0m\u001b[0;34m[\u001b[0m\u001b[0;34m'executionId'\u001b[0m\u001b[0;34m]\u001b[0m\u001b[0;34m\u001b[0m\u001b[0;34m\u001b[0m\u001b[0m\n\u001b[1;32m     15\u001b[0m \u001b[0;34m\u001b[0m\u001b[0m\n",
      "\u001b[0;31mNameError\u001b[0m: name 'message' is not defined"
     ]
    }
   ],
   "source": [
    "url = \"http://localhost:8000\"\n",
    "actor = requests.post(\"{}/actors\".format(url), \n",
    "                     headers={'X-Jwt-Assertion-TEST':jwt}, \n",
    "                     data={'image':'notchristiangarcia/bin_classifier'})\n",
    "actor_id = actor.json()['result']['id']\n",
    "\n",
    "actor_get = requests.get(\"{}/actors/{}\".format(url, actor_id), \n",
    "                     headers={'X-Jwt-Assertion-TEST':jwt})\n",
    "\n",
    "bin_exec = requests.post(\"{}/actors/{}/messages\".format(url, actor_id), \n",
    "                       headers={'X-Jwt-Assertion-TEST': jwt,\n",
    "                                'Content-Type': 'application/octet-stream'},\n",
    "                       data=message)\n",
    "exec_id = bin_exec.json()['result']['executionId']\n",
    "\n",
    "exec_info = requests.get(\"{}/actors/{}/executions/{}\".format(url, actor_id, exec_id),\n",
    "                         headers={'X-Jwt-Assertion-TEST': jwt})\n",
    "\n",
    "exec_logs = requests.get(\"{}/actors/{}/executions/{}/logs\".format(url, actor_id, exec_id),\n",
    "                         headers={'X-Jwt-Assertion-TEST': jwt})\n",
    "exec_logs.json()['result']['logs']"
   ]
  },
  {
   "cell_type": "markdown",
   "metadata": {},
   "source": [
    "Celled Requests Local"
   ]
  },
  {
   "cell_type": "code",
   "execution_count": 30,
   "metadata": {},
   "outputs": [
    {
     "data": {
      "text/plain": [
       "{'message': 'Actor created successfully.',\n",
       " 'result': {'_links': {'executions': 'http://172.17.0.1:8000/actors/v2/p48mpeM7Q7OzD/executions',\n",
       "   'owner': 'http://172.17.0.1:8000/profiles/v2/jdoe',\n",
       "   'self': 'http://172.17.0.1:8000/actors/v2/p48mpeM7Q7OzD'},\n",
       "  'createTime': '2019-04-03 21:19:38.444481',\n",
       "  'defaultEnvironment': {},\n",
       "  'description': '',\n",
       "  'id': 'p48mpeM7Q7OzD',\n",
       "  'image': 'kreshel/pow:abaco',\n",
       "  'lastUpdateTime': '2019-04-03 21:19:38.444481',\n",
       "  'mounts': [{'container_path': '/_abaco_data1',\n",
       "    'host_path': '/data1',\n",
       "    'mode': 'ro'},\n",
       "   {'container_path': '/_abaco_data2',\n",
       "    'host_path': '/data2/TEST/jdoe',\n",
       "    'mode': 'rw'}],\n",
       "  'owner': 'jdoe',\n",
       "  'privileged': False,\n",
       "  'queue': 'default',\n",
       "  'state': {},\n",
       "  'stateless': True,\n",
       "  'status': 'SUBMITTED',\n",
       "  'statusMessage': '',\n",
       "  'type': 'none',\n",
       "  'useContainerUid': False},\n",
       " 'status': 'success',\n",
       " 'version': ':latest'}"
      ]
     },
     "execution_count": 30,
     "metadata": {},
     "output_type": "execute_result"
    }
   ],
   "source": [
    "url = \"http://localhost:8000\"\n",
    "actor = requests.post(\"{}/actors\".format(url), \n",
    "                     headers={'X-Jwt-Assertion-TEST':jwt}, \n",
    "                     data={'image':'kreshel/pow:abaco'})\n",
    "actor_id = actor.json()['result']['id']\n",
    "actor.json()"
   ]
  },
  {
   "cell_type": "code",
   "execution_count": 31,
   "metadata": {},
   "outputs": [
    {
     "data": {
      "text/plain": [
       "'p48mpeM7Q7OzD'"
      ]
     },
     "execution_count": 31,
     "metadata": {},
     "output_type": "execute_result"
    }
   ],
   "source": [
    "actor_id"
   ]
  },
  {
   "cell_type": "code",
   "execution_count": null,
   "metadata": {},
   "outputs": [],
   "source": []
  },
  {
   "cell_type": "code",
   "execution_count": 11,
   "metadata": {},
   "outputs": [],
   "source": [
    "actor_get = requests.get(\"{}/actors/{}\".format(url, actor_id), \n",
    "                     headers={'X-Jwt-Assertion-TEST':jwt})\n",
    "actor_get.json();"
   ]
  },
  {
   "cell_type": "code",
   "execution_count": 37,
   "metadata": {},
   "outputs": [
    {
     "data": {
      "text/plain": [
       "{'message': 'The request was successful',\n",
       " 'result': {'_links': {'messages': 'http://172.17.0.1:8000/actors/v2/p48mpeM7Q7OzD/messages',\n",
       "   'owner': 'http://172.17.0.1:8000/profiles/v2/jdoe',\n",
       "   'self': 'http://172.17.0.1:8000/actors/v2/p48mpeM7Q7OzD/executions/rQO6AlOl4LxBp'},\n",
       "  'executionId': 'rQO6AlOl4LxBp',\n",
       "  'msg': {'blocks': '5'}},\n",
       " 'status': 'success',\n",
       " 'version': ':latest'}"
      ]
     },
     "execution_count": 37,
     "metadata": {},
     "output_type": "execute_result"
    }
   ],
   "source": [
    "bin_exec = requests.post(\"{}/actors/{}/messages\".format(url, actor_id), \n",
    "                       headers={'X-Jwt-Assertion-TEST': jwt},\n",
    "                        data='{\"blocks\":\"5\"}')\n",
    "bin_exec.json()"
   ]
  },
  {
   "cell_type": "code",
   "execution_count": null,
   "metadata": {},
   "outputs": [],
   "source": [
    "bin_exec = requests.post(\"{}/actors/v2/{}/messages\".format(url, actor_id), \n",
    "                         headers={'Authorization': 'Bearer {}'.format(token)},\n",
    "                         data=\"message=hello!\")\n",
    "exec_id = bin_exec.json()['result']['executionId']\n",
    "bin_exec.json()"
   ]
  },
  {
   "cell_type": "code",
   "execution_count": null,
   "metadata": {},
   "outputs": [],
   "source": [
    "exec_info = requests.get(\"{}/actors/{}/executions/{}\".format(url, actor_id, exec_id),\n",
    "                         headers={'X-Jwt-Assertion-TEST': jwt})\n",
    "exec_info.json()"
   ]
  },
  {
   "cell_type": "code",
   "execution_count": null,
   "metadata": {},
   "outputs": [],
   "source": [
    "exec_logs = requests.get(\"{}/actors/{}/executions/{}/logs\".format(url, actor_id, exec_id),\n",
    "                         headers={'X-Jwt-Assertion-TEST': jwt})\n",
    "exec_logs.json()['result']['logs']"
   ]
  },
  {
   "cell_type": "markdown",
   "metadata": {},
   "source": [
    "Celled Requests Online"
   ]
  },
  {
   "cell_type": "code",
   "execution_count": 1,
   "metadata": {},
   "outputs": [],
   "source": [
    "import requests\n",
    "import cloudpickle\n",
    "def f(a, b, c=1):\n",
    "    return a+b+c\n",
    "l = [5, 7]\n",
    "message = cloudpickle.dumps({'func': f, 'args': l, 'kwargs': {'c': 5}})"
   ]
  },
  {
   "cell_type": "code",
   "execution_count": 4,
   "metadata": {},
   "outputs": [],
   "source": [
    "url = \"https://api.tacc.utexas.edu\"\n",
    "actor = requests.post(\"{}/actors/v2\".format(url),\n",
    "                      headers={'Authorization':'Bearer {}'.format(token)},\n",
    "                      data={'image':'notchristiangarcia/bin_classifier'})\n",
    "actor_id = actor.json()['result']['id']\n",
    "actor.json();"
   ]
  },
  {
   "cell_type": "code",
   "execution_count": 5,
   "metadata": {},
   "outputs": [],
   "source": [
    "actor_get = requests.get(\"{}/actors/v2/{}\".format(url, actor_id), \n",
    "                         headers={'Authorization': 'Bearer {}'.format(token)})\n",
    "actor_get.json();"
   ]
  },
  {
   "cell_type": "code",
   "execution_count": 21,
   "metadata": {},
   "outputs": [
    {
     "data": {
      "text/plain": [
       "{'message': 'The request was successful',\n",
       " 'result': {'_links': {'messages': 'https://api.tacc.utexas.edu/actors/v2/PZW7RJx6RMBep/messages',\n",
       "   'owner': 'https://api.tacc.utexas.edu/profiles/v2/cgarcia',\n",
       "   'self': 'https://api.tacc.utexas.edu/actors/v2/PZW7RJx6RMBep/executions/3zwvOxz64EgLg'},\n",
       "  'executionId': '3zwvOxz64EgLg',\n",
       "  'msg': 'hello!'},\n",
       " 'status': 'success',\n",
       " 'version': '0.11.0'}"
      ]
     },
     "execution_count": 21,
     "metadata": {},
     "output_type": "execute_result"
    }
   ],
   "source": [
    "bin_exec = requests.post(\"{}/actors/v2/{}/messages\".format(url, actor_id), \n",
    "                         headers={'Authorization': 'Bearer {}'.format(token)},\n",
    "                         data=\"message=hello!\")\n",
    "exec_id = bin_exec.json()['result']['executionId']\n",
    "bin_exec.json()"
   ]
  },
  {
   "cell_type": "code",
   "execution_count": 22,
   "metadata": {},
   "outputs": [
    {
     "data": {
      "text/plain": [
       "{'message': 'Actor execution retrieved successfully.',\n",
       " 'result': {'_links': {'logs': 'https://api.tacc.utexas.edu/actors/v2/TACC-PROD_PZW7RJx6RMBep/executions/3zwvOxz64EgLg/logs',\n",
       "   'owner': 'https://api.tacc.utexas.edu/profiles/v2/cgarcia',\n",
       "   'self': 'https://api.tacc.utexas.edu/actors/v2/TACC-PROD_PZW7RJx6RMBep/executions/3zwvOxz64EgLg'},\n",
       "  'actorId': 'PZW7RJx6RMBep',\n",
       "  'apiServer': 'https://api.tacc.utexas.edu',\n",
       "  'cpu': 0,\n",
       "  'executor': 'cgarcia',\n",
       "  'id': '3zwvOxz64EgLg',\n",
       "  'io': 0,\n",
       "  'messageReceivedTime': '2019-04-24 19:33:22.205026',\n",
       "  'runtime': 0,\n",
       "  'startTime': 'None',\n",
       "  'status': 'SUBMITTED'},\n",
       " 'status': 'success',\n",
       " 'version': '0.11.0'}"
      ]
     },
     "execution_count": 22,
     "metadata": {},
     "output_type": "execute_result"
    }
   ],
   "source": [
    "exec_info = requests.get(\"{}/actors/v2/{}/executions/{}\".format(url, actor_id, exec_id),\n",
    "                         headers={'Authorization': 'Bearer {}'.format(token)})\n",
    "exec_info.json()"
   ]
  },
  {
   "cell_type": "code",
   "execution_count": 28,
   "metadata": {},
   "outputs": [
    {
     "data": {
      "text/plain": [
       "{'message': 'Logs retrieved successfully.',\n",
       " 'result': {'_links': {'execution': 'https://api.tacc.utexas.edu/actors/v2/PZW7RJx6RMBep/executions/3zwvOxz64EgLg',\n",
       "   'owner': 'https://api.tacc.utexas.edu/profiles/v2/cgarcia',\n",
       "   'self': 'https://api.tacc.utexas.edu/actors/v2/PZW7RJx6RMBep/executions/3zwvOxz64EgLg/logs'},\n",
       "  'logs': 'Traceback (most recent call last):\\n  File \"/classify_image.py\", line 260, in <module>\\n    tf.app.run(main=main, argv=[sys.argv[0]] + unparsed)\\n  File \"/usr/local/lib/python3.5/dist-packages/tensorflow/python/platform/app.py\", line 124, in run\\n    _sys.exit(main(argv))\\n  File \"/classify_image.py\", line 203, in main\\n    image = binary_get()\\n  File \"/classify_image.py\", line 197, in binary_get\\n    return get_binary_message()\\n  File \"/usr/local/lib/python3.5/dist-packages/agavepy/actors.py\", line 73, in get_binary_message\\n    fd = os.open(\\'/_abaco_binary_data\\', os.O_RDONLY | os.O_NONBLOCK)\\nFileNotFoundError: [Errno 2] No such file or directory: \\'/_abaco_binary_data\\'\\n'},\n",
       " 'status': 'success',\n",
       " 'version': '0.11.0'}"
      ]
     },
     "execution_count": 28,
     "metadata": {},
     "output_type": "execute_result"
    }
   ],
   "source": [
    "exec_logs = requests.get(\"{}/actors/v2/{}/executions/{}/logs\".format(url, actor_id, exec_id),\n",
    "                         headers={'Authorization': 'Bearer {}'.format(token)})\n",
    "exec_logs.json()"
   ]
  },
  {
   "cell_type": "markdown",
   "metadata": {},
   "source": [
    "Celled AgavePy Online"
   ]
  },
  {
   "cell_type": "code",
   "execution_count": null,
   "metadata": {},
   "outputs": [],
   "source": [
    "from agavepy.agave import Agave\n",
    "ag = Agave(api_server='https://api.tacc.utexas.edu',\n",
    "           username='cgarcia', password='Fuckoff12.',\n",
    "           client_name='bin_test',\n",
    "           api_key='Pyt8l5GukJ4T7ssHfPxMwn7NlXYa',\n",
    "           api_secret='_48x3A29ApFfB2cj0egwh9ATtdka')\n",
    "ag.get_access_token()\n",
    "ag = Agave(api_server=\"https://api.tacc.utexas.edu/\", token=ag.token)"
   ]
  },
  {
   "cell_type": "code",
   "execution_count": null,
   "metadata": {},
   "outputs": [],
   "source": [
    "my_actor = {\"image\": \"notchristiangarcia/my_actor_test\",\n",
    "            \"name\": \"abaco_test\",\n",
    "            \"description\": \"test\"}\n",
    "actor_data = ag.actors.add(body=my_actor)\n",
    "actor_data"
   ]
  },
  {
   "cell_type": "code",
   "execution_count": null,
   "metadata": {},
   "outputs": [],
   "source": [
    "result = ag.actors.sendMessage(actorId=actor_data['id'],\n",
    "                               body={\"message\":\"message\"},\n",
    "                               headers={'Content-Type': 'application/octet-stream'})\n",
    "result"
   ]
  },
  {
   "cell_type": "code",
   "execution_count": null,
   "metadata": {},
   "outputs": [],
   "source": [
    "execution = ag.actors.getExecution(actorId=actor_data['id'],\n",
    "                                   executionId = result['executionId'])\n",
    "execution"
   ]
  },
  {
   "cell_type": "code",
   "execution_count": null,
   "metadata": {},
   "outputs": [],
   "source": [
    "execLogs = ag.actors.getExecutionLogs(actorId=actor_data['id'],\n",
    "                                      executionId = result['executionId'])\n",
    "execLogs"
   ]
  }
 ],
 "metadata": {
  "kernelspec": {
   "display_name": "Python 3",
   "language": "python",
   "name": "python3"
  },
  "language_info": {
   "codemirror_mode": {
    "name": "ipython",
    "version": 3
   },
   "file_extension": ".py",
   "mimetype": "text/x-python",
   "name": "python",
   "nbconvert_exporter": "python",
   "pygments_lexer": "ipython3",
   "version": "3.6.7"
  }
 },
 "nbformat": 4,
 "nbformat_minor": 2
}
