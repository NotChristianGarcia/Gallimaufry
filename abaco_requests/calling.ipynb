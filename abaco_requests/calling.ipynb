{
 "cells": [
  {
   "cell_type": "code",
   "execution_count": 157,
   "metadata": {},
   "outputs": [],
   "source": [
    "import requests as r\n",
    "jwt=\"eyJ0eXAiOiJKV1QiLCJhbGciOiJSUzI1NiIsIng1dCI6Ik5tSm1PR1V4TXpabFlqTTJaRFJoTlRabFlUQTFZemRoWlRSaU9XRTBOV0kyTTJKbU9UYzFaQT09In0=.eyJpc3MiOiJ3c28yLm9yZy9wcm9kdWN0cy9hbSIsImV4cCI6MTQ5ODE1MTQ3NTc0NywiaHR0cDovL3dzbzIub3JnL2NsYWltcy9zdWJzY3JpYmVyIjoiQUdBVkVERVYvamRvZSIsImh0dHA6Ly93c28yLm9yZy9jbGFpbXMvYXBwbGljYXRpb25pZCI6IjEzMCIsImh0dHA6Ly93c28yLm9yZy9jbGFpbXMvYXBwbGljYXRpb25uYW1lIjoidGVzdCIsImh0dHA6Ly93c28yLm9yZy9jbGFpbXMvYXBwbGljYXRpb250aWVyIjoiVW5saW1pdGVkIiwiaHR0cDovL3dzbzIub3JnL2NsYWltcy9hcGljb250ZXh0IjoiL2FwcHMvdjIiLCJodHRwOi8vd3NvMi5vcmcvY2xhaW1zL3ZlcnNpb24iOiJ2MiIsImh0dHA6Ly93c28yLm9yZy9jbGFpbXMvdGllciI6IlVubGltaXRlZCIsImh0dHA6Ly93c28yLm9yZy9jbGFpbXMva2V5dHlwZSI6IlBST0RVQ1RJT04iLCJodHRwOi8vd3NvMi5vcmcvY2xhaW1zL3VzZXJ0eXBlIjoiQVBQTElDQVRJT04iLCJodHRwOi8vd3NvMi5vcmcvY2xhaW1zL2VuZHVzZXIiOiJqZG9lQGNhcmJvbi5zdXBlciIsImh0dHA6Ly93c28yLm9yZy9jbGFpbXMvZW5kdXNlclRlbmFudElkIjoiLTEyMzQiLCJodHRwOi8vd3NvMi5vcmcvY2xhaW1zL2VtYWlsYWRkcmVzcyI6Impkb2VAdGVzdC5jb20iLCJodHRwOi8vd3NvMi5vcmcvY2xhaW1zL2Z1bGxuYW1lIjoiamRvZSB0ZXN0ZXIiLCJodHRwOi8vd3NvMi5vcmcvY2xhaW1zL2dpdmVubmFtZSI6Impkb2UiLCJodHRwOi8vd3NvMi5vcmcvY2xhaW1zL2xhc3RuYW1lIjoidGVzdGVyIiwiaHR0cDovL3dzbzIub3JnL2NsYWltcy9tb2JpbGUiOiI5NzItNTA0LTYyNzAiLCJodHRwOi8vd3NvMi5vcmcvY2xhaW1zL3JvbGUiOiJJbnRlcm5hbC9BR0FWRURFVl9qZG9lX0RlZmF1bHRBcHBsaWNhdGlvbl9QUk9EVUNUSU9OLEludGVybmFsL0FHQVZFREVWX2pkb2VfdGVzdF9QUk9EVUNUSU9OLEludGVybmFsL2V2ZXJ5b25lLEludGVybmFsL2FiYWNvLXVzZXIiLCJodHRwOi8vd3NvMi5vcmcvY2xhaW1zL3RlbGVwaG9uZSI6IjUxMi02NDctNDgxMyJ9.WZpltBZG7GK+O6dTbHI6taZXVscuK2hmSUqUqXnFMQxv5WUDuimg1kFg3x0xCJeuF8zdJox/9kD5qJfNIz0wg8AsbJo6LdiZhQdMMCx91cigb9elKQe/RYrQe4uZCZrnioMqv9ba3bnp4ShEWQ2yZjhyVjy7cygO8RSlkYpBqBM=[r][n]\""
   ]
  },
  {
   "cell_type": "markdown",
   "metadata": {},
   "source": [
    "Celled Requests Local"
   ]
  },
  {
   "cell_type": "code",
   "execution_count": 158,
   "metadata": {},
   "outputs": [],
   "source": [
    "url = 'http://localhost:8000/actors'\n",
    "header_dat = {'X-Jwt-Assertion-TEST':jwt}"
   ]
  },
  {
   "cell_type": "code",
   "execution_count": 169,
   "metadata": {},
   "outputs": [
    {
     "data": {
      "text/plain": [
       "{'message': 'Actors retrieved successfully.',\n",
       " 'result': [{'_links': {'executions': 'http://172.17.0.1:8000/actors/v2/PrJVWmO7zLLAp/executions',\n",
       "    'owner': 'http://172.17.0.1:8000/profiles/v2/jdoe',\n",
       "    'self': 'http://172.17.0.1:8000/actors/v2/PrJVWmO7zLLAp'},\n",
       "   'createTime': '2019-08-07 16:56:37.654844',\n",
       "   'defaultEnvironment': {},\n",
       "   'description': 'Webhook image for links.',\n",
       "   'id': 'PrJVWmO7zLLAp',\n",
       "   'image': 'notchristiangarcia/webhooks',\n",
       "   'lastUpdateTime': '2019-08-07 16:56:37.654844',\n",
       "   'link': '',\n",
       "   'mounts': [{'container_path': '/_abaco_data1',\n",
       "     'host_path': '/data1',\n",
       "     'mode': 'rw'},\n",
       "    {'container_path': '/_abaco_data2',\n",
       "     'host_path': '/data2/TEST/jdoe',\n",
       "     'mode': 'rw'}],\n",
       "   'owner': 'jdoe',\n",
       "   'privileged': False,\n",
       "   'queue': 'default',\n",
       "   'state': {},\n",
       "   'stateless': True,\n",
       "   'status': 'ERROR',\n",
       "   'statusMessage': 'Spawner got an exception from call to start_worker. Exception:Unable to start worker; error: Got exception trying to run container from image: abaco/core:dev. Exception: 500 Server Error: Internal Server Error (\"error while creating mount source path \\'/_abaco_fifos/oNaZ1w0rZz1gR\\': mkdir /_abaco_fifos: read-only file system\")',\n",
       "   'token': False,\n",
       "   'type': 'none',\n",
       "   'useContainerUid': False,\n",
       "   'webhook': ''}],\n",
       " 'status': 'success',\n",
       " 'version': ':dev'}"
      ]
     },
     "execution_count": 169,
     "metadata": {},
     "output_type": "execute_result"
    }
   ],
   "source": [
    "# Get all actors.\n",
    "actor = r.get(f\"{url}\",\n",
    "               headers=header_dat)\n",
    "actor.json()"
   ]
  },
  {
   "cell_type": "code",
   "execution_count": 160,
   "metadata": {},
   "outputs": [
    {
     "data": {
      "text/plain": [
       "{'message': 'Actor created successfully.',\n",
       " 'result': {'_links': {'executions': 'http://172.17.0.1:8000/actors/v2/PrJVWmO7zLLAp/executions',\n",
       "   'owner': 'http://172.17.0.1:8000/profiles/v2/jdoe',\n",
       "   'self': 'http://172.17.0.1:8000/actors/v2/PrJVWmO7zLLAp'},\n",
       "  'createTime': '2019-08-07 16:56:37.654844',\n",
       "  'defaultEnvironment': {},\n",
       "  'description': 'Webhook image for links.',\n",
       "  'id': 'PrJVWmO7zLLAp',\n",
       "  'image': 'notchristiangarcia/webhooks',\n",
       "  'lastUpdateTime': '2019-08-07 16:56:37.654844',\n",
       "  'link': '',\n",
       "  'mounts': [{'container_path': '/_abaco_data1',\n",
       "    'host_path': '/data1',\n",
       "    'mode': 'rw'},\n",
       "   {'container_path': '/_abaco_data2',\n",
       "    'host_path': '/data2/TEST/jdoe',\n",
       "    'mode': 'rw'}],\n",
       "  'owner': 'jdoe',\n",
       "  'privileged': False,\n",
       "  'queue': 'default',\n",
       "  'state': {},\n",
       "  'stateless': True,\n",
       "  'status': 'SUBMITTED',\n",
       "  'statusMessage': '',\n",
       "  'token': False,\n",
       "  'type': 'none',\n",
       "  'useContainerUid': False,\n",
       "  'webhook': ''},\n",
       " 'status': 'success',\n",
       " 'version': ':dev'}"
      ]
     },
     "execution_count": 160,
     "metadata": {},
     "output_type": "execute_result"
    }
   ],
   "source": [
    "# Webhook Link\n",
    "actor = requests.post(f\"{url}\", \n",
    "                     headers=header_dat, \n",
    "                     data={'image':'notchristiangarcia/webhooks',\n",
    "                           \"description\": \"Webhook image for links.\",\n",
    "                           \"default_environment\":{\"URL\": \"https://webhook.site/4c3f9f5a-a271-4644-b652-cb398a4d1faf\"},\n",
    "                           \"message\":'hey there'})\n",
    "actor.json()"
   ]
  },
  {
   "cell_type": "code",
   "execution_count": 6,
   "metadata": {},
   "outputs": [
    {
     "data": {
      "text/plain": [
       "{'message': 'Actor created successfully.',\n",
       " 'result': {'_links': {'executions': 'http://172.17.0.1:8000/actors/v2/o7qMZZZ6QL7vR/executions',\n",
       "   'owner': 'http://172.17.0.1:8000/profiles/v2/jdoe',\n",
       "   'self': 'http://172.17.0.1:8000/actors/v2/o7qMZZZ6QL7vR'},\n",
       "  'createTime': '2019-08-07 06:32:19.092534',\n",
       "  'defaultEnvironment': {},\n",
       "  'description': '',\n",
       "  'hints': '',\n",
       "  'id': 'o7qMZZZ6QL7vR',\n",
       "  'image': 'abacosamples/test',\n",
       "  'lastUpdateTime': '2019-08-07 06:32:19.092534',\n",
       "  'link': 'PV056JxNNoOrN',\n",
       "  'mounts': [{'container_path': '/_abaco_data1',\n",
       "    'host_path': '/data1',\n",
       "    'mode': 'ro'},\n",
       "   {'container_path': '/_abaco_data2',\n",
       "    'host_path': '/data2/TEST/jdoe',\n",
       "    'mode': 'rw'}],\n",
       "  'owner': 'jdoe',\n",
       "  'privileged': False,\n",
       "  'queue': 'default',\n",
       "  'state': {},\n",
       "  'stateless': True,\n",
       "  'status': 'SUBMITTED',\n",
       "  'statusMessage': '',\n",
       "  'type': 'none',\n",
       "  'useContainerUid': False,\n",
       "  'webhook': ''},\n",
       " 'status': 'success',\n",
       " 'version': ':dev'}"
      ]
     },
     "execution_count": 6,
     "metadata": {},
     "output_type": "execute_result"
    }
   ],
   "source": [
    "actor = requests.post(f\"{url}/actors\", \n",
    "                     headers={'X-Jwt-Assertion-TEST':jwt}, \n",
    "                     data={\"image\": \"abacosamples/test\",\n",
    "                           \"link\": \"PV056JxNNoOrN\"})\n",
    "#actor_id = actor.json()['result']['id']\n",
    "actor.json()"
   ]
  },
  {
   "cell_type": "code",
   "execution_count": 21,
   "metadata": {},
   "outputs": [
    {
     "data": {
      "text/plain": [
       "{'message': 'Actor created successfully.',\n",
       " 'result': {'_links': {'executions': 'http://172.17.0.1:8000/actors/v2/zla58AKAvNLmq/executions',\n",
       "   'owner': 'http://172.17.0.1:8000/profiles/v2/jdoe',\n",
       "   'self': 'http://172.17.0.1:8000/actors/v2/zla58AKAvNLmq'},\n",
       "  'createTime': '2019-08-07 15:12:36.189569',\n",
       "  'defaultEnvironment': {},\n",
       "  'description': 'Webhook image for links.',\n",
       "  'hints': '',\n",
       "  'id': 'zla58AKAvNLmq',\n",
       "  'image': 'notchristiangarcia/webhook',\n",
       "  'lastUpdateTime': '2019-08-07 15:12:36.189569',\n",
       "  'link': '',\n",
       "  'mounts': [{'container_path': '/_abaco_data1',\n",
       "    'host_path': '/data1',\n",
       "    'mode': 'ro'},\n",
       "   {'container_path': '/_abaco_data2',\n",
       "    'host_path': '/data2/TEST/jdoe',\n",
       "    'mode': 'rw'}],\n",
       "  'owner': 'jdoe',\n",
       "  'privileged': False,\n",
       "  'queue': 'default',\n",
       "  'state': {},\n",
       "  'stateless': True,\n",
       "  'status': 'SUBMITTED',\n",
       "  'statusMessage': '',\n",
       "  'type': 'none',\n",
       "  'useContainerUid': False,\n",
       "  'webhook': ''},\n",
       " 'status': 'success',\n",
       " 'version': ':dev'}"
      ]
     },
     "execution_count": 21,
     "metadata": {},
     "output_type": "execute_result"
    }
   ],
   "source": [
    "actor.json()\n"
   ]
  },
  {
   "cell_type": "code",
   "execution_count": null,
   "metadata": {},
   "outputs": [],
   "source": []
  },
  {
   "cell_type": "code",
   "execution_count": 64,
   "metadata": {},
   "outputs": [
    {
     "data": {
      "text/plain": [
       "{'message': 'The request was successful',\n",
       " 'result': {'_links': {'messages': 'http://172.17.0.1:8000/actors/v2/oZ73GY8oBLEPM/messages',\n",
       "   'owner': 'http://172.17.0.1:8000/profiles/v2/jdoe',\n",
       "   'self': 'http://172.17.0.1:8000/actors/v2/oZ73GY8oBLEPM/executions/3mj57q7xKvlMX'},\n",
       "  'executionId': '3mj57q7xKvlMX',\n",
       "  'msg': {'bits': '5', 'blocks': '5', 'cores': '2'}},\n",
       " 'status': 'success',\n",
       " 'version': ':latest'}"
      ]
     },
     "execution_count": 64,
     "metadata": {},
     "output_type": "execute_result"
    }
   ],
   "source": [
    "exec_res = requests.post(f\"{url}/actors/{actor_id}/messages\",\n",
    "                          headers={'X-Jwt-Assertion-TEST': jwt,\n",
    "                                   'Content-Type':'application/json'},\n",
    "                          data=message)\n",
    "exec_id = exec_res.json()['result']['executionId']\n",
    "exec_res.json()"
   ]
  },
  {
   "cell_type": "code",
   "execution_count": 68,
   "metadata": {},
   "outputs": [
    {
     "data": {
      "text/plain": [
       "{'message': 'Actor execution retrieved successfully.',\n",
       " 'result': {'_links': {'logs': 'http://172.17.0.1:8000/actors/v2/TEST_oZ73GY8oBLEPM/executions/3mj57q7xKvlMX/logs',\n",
       "   'owner': 'http://172.17.0.1:8000/profiles/v2/jdoe',\n",
       "   'self': 'http://172.17.0.1:8000/actors/v2/TEST_oZ73GY8oBLEPM/executions/3mj57q7xKvlMX'},\n",
       "  'actorId': 'oZ73GY8oBLEPM',\n",
       "  'apiServer': 'http://172.17.0.1:8000',\n",
       "  'cpu': 0,\n",
       "  'executor': 'jdoe',\n",
       "  'exitCode': 1,\n",
       "  'finalState': {'Dead': False,\n",
       "   'Error': '',\n",
       "   'ExitCode': 1,\n",
       "   'FinishedAt': '2019-04-03T21:44:29.402025918Z',\n",
       "   'OOMKilled': False,\n",
       "   'Paused': False,\n",
       "   'Pid': 0,\n",
       "   'Restarting': False,\n",
       "   'Running': False,\n",
       "   'StartedAt': '2019-04-03T21:44:29.323907157Z',\n",
       "   'Status': 'exited'},\n",
       "  'id': '3mj57q7xKvlMX',\n",
       "  'io': 0,\n",
       "  'messageReceivedTime': '2019-04-03 21:44:26.872056',\n",
       "  'runtime': 0,\n",
       "  'startTime': '2019-04-03 21:44:28.812362',\n",
       "  'status': 'COMPLETE',\n",
       "  'workerId': 'LLlMzkkEr47Ll'},\n",
       " 'status': 'success',\n",
       " 'version': ':latest'}"
      ]
     },
     "execution_count": 68,
     "metadata": {},
     "output_type": "execute_result"
    }
   ],
   "source": [
    "exec_info = requests.get(f\"{url}/actors/{actor_id}/executions/{exec_id}\",\n",
    "                         headers={'X-Jwt-Assertion-TEST': jwt})\n",
    "exec_info.json()"
   ]
  },
  {
   "cell_type": "code",
   "execution_count": 69,
   "metadata": {},
   "outputs": [
    {
     "data": {
      "text/plain": [
       "'  File \"/abacopow.py\", line 111\\n    try:\\n       ^\\nIndentationError: unindent does not match any outer indentation level\\n'"
      ]
     },
     "execution_count": 69,
     "metadata": {},
     "output_type": "execute_result"
    }
   ],
   "source": [
    "exec_logs = requests.get(f\"{url}/actors/{actor_id}/executions/{exec_id}/logs\",\n",
    "                         headers={'X-Jwt-Assertion-TEST': jwt})\n",
    "exec_logs.json()['result']['logs']"
   ]
  },
  {
   "cell_type": "code",
   "execution_count": null,
   "metadata": {},
   "outputs": [],
   "source": []
  }
 ],
 "metadata": {
  "kernelspec": {
   "display_name": "Python 3",
   "language": "python",
   "name": "python3"
  },
  "language_info": {
   "codemirror_mode": {
    "name": "ipython",
    "version": 3
   },
   "file_extension": ".py",
   "mimetype": "text/x-python",
   "name": "python",
   "nbconvert_exporter": "python",
   "pygments_lexer": "ipython3",
   "version": "3.7.3"
  }
 },
 "nbformat": 4,
 "nbformat_minor": 4
}
