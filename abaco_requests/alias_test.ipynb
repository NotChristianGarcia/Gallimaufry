{
 "cells": [
  {
   "cell_type": "code",
   "execution_count": 94,
   "metadata": {},
   "outputs": [],
   "source": [
    "token=\"2d415d3b7a23c06ac0fa2951e25d5f\""
   ]
  },
  {
   "cell_type": "markdown",
   "metadata": {},
   "source": [
    "Headers"
   ]
  },
  {
   "cell_type": "code",
   "execution_count": 1,
   "metadata": {},
   "outputs": [],
   "source": [
    "import requests\n",
    "jwt=\"eyJ0eXAiOiJKV1QiLCJhbGciOiJSUzI1NiIsIng1dCI6Ik5tSm1PR1V4TXpabFlqTTJaRFJoTlRabFlUQTFZemRoWlRSaU9XRTBOV0kyTTJKbU9UYzFaQT09In0=.eyJpc3MiOiJ3c28yLm9yZy9wcm9kdWN0cy9hbSIsImV4cCI6MTQ5ODE1MTQ3NTc0NywiaHR0cDovL3dzbzIub3JnL2NsYWltcy9zdWJzY3JpYmVyIjoiQUdBVkVERVYvamRvZSIsImh0dHA6Ly93c28yLm9yZy9jbGFpbXMvYXBwbGljYXRpb25pZCI6IjEzMCIsImh0dHA6Ly93c28yLm9yZy9jbGFpbXMvYXBwbGljYXRpb25uYW1lIjoidGVzdCIsImh0dHA6Ly93c28yLm9yZy9jbGFpbXMvYXBwbGljYXRpb250aWVyIjoiVW5saW1pdGVkIiwiaHR0cDovL3dzbzIub3JnL2NsYWltcy9hcGljb250ZXh0IjoiL2FwcHMvdjIiLCJodHRwOi8vd3NvMi5vcmcvY2xhaW1zL3ZlcnNpb24iOiJ2MiIsImh0dHA6Ly93c28yLm9yZy9jbGFpbXMvdGllciI6IlVubGltaXRlZCIsImh0dHA6Ly93c28yLm9yZy9jbGFpbXMva2V5dHlwZSI6IlBST0RVQ1RJT04iLCJodHRwOi8vd3NvMi5vcmcvY2xhaW1zL3VzZXJ0eXBlIjoiQVBQTElDQVRJT04iLCJodHRwOi8vd3NvMi5vcmcvY2xhaW1zL2VuZHVzZXIiOiJqZG9lQGNhcmJvbi5zdXBlciIsImh0dHA6Ly93c28yLm9yZy9jbGFpbXMvZW5kdXNlclRlbmFudElkIjoiLTEyMzQiLCJodHRwOi8vd3NvMi5vcmcvY2xhaW1zL2VtYWlsYWRkcmVzcyI6Impkb2VAdGVzdC5jb20iLCJodHRwOi8vd3NvMi5vcmcvY2xhaW1zL2Z1bGxuYW1lIjoiamRvZSB0ZXN0ZXIiLCJodHRwOi8vd3NvMi5vcmcvY2xhaW1zL2dpdmVubmFtZSI6Impkb2UiLCJodHRwOi8vd3NvMi5vcmcvY2xhaW1zL2xhc3RuYW1lIjoidGVzdGVyIiwiaHR0cDovL3dzbzIub3JnL2NsYWltcy9tb2JpbGUiOiI5NzItNTA0LTYyNzAiLCJodHRwOi8vd3NvMi5vcmcvY2xhaW1zL3JvbGUiOiJJbnRlcm5hbC9BR0FWRURFVl9qZG9lX0RlZmF1bHRBcHBsaWNhdGlvbl9QUk9EVUNUSU9OLEludGVybmFsL0FHQVZFREVWX2pkb2VfdGVzdF9QUk9EVUNUSU9OLEludGVybmFsL2V2ZXJ5b25lLEludGVybmFsL2FiYWNvLXVzZXIiLCJodHRwOi8vd3NvMi5vcmcvY2xhaW1zL3RlbGVwaG9uZSI6IjUxMi02NDctNDgxMyJ9.WZpltBZG7GK+O6dTbHI6taZXVscuK2hmSUqUqXnFMQxv5WUDuimg1kFg3x0xCJeuF8zdJox/9kD5qJfNIz0wg8AsbJo6LdiZhQdMMCx91cigb9elKQe/RYrQe4uZCZrnioMqv9ba3bnp4ShEWQ2yZjhyVjy7cygO8RSlkYpBqBM=[r][n]\""
   ]
  },
  {
   "cell_type": "markdown",
   "metadata": {},
   "source": [
    "Celled Requests Local"
   ]
  },
  {
   "cell_type": "code",
   "execution_count": 2,
   "metadata": {},
   "outputs": [
    {
     "data": {
      "text/plain": [
       "{'message': 'Actor created successfully.',\n",
       " 'result': {'_links': {'executions': 'http://172.17.0.1:8000/actors/v2/360X5b73m7kv7/executions',\n",
       "   'owner': 'http://172.17.0.1:8000/profiles/v2/jdoe',\n",
       "   'self': 'http://172.17.0.1:8000/actors/v2/360X5b73m7kv7'},\n",
       "  'createTime': '2019-03-21 22:59:10.207077',\n",
       "  'defaultEnvironment': {},\n",
       "  'description': 'Nonce test!',\n",
       "  'id': '360X5b73m7kv7',\n",
       "  'image': 'notchristiangarcia/bin_classifier',\n",
       "  'lastUpdateTime': '2019-03-21 22:59:10.207077',\n",
       "  'mounts': [{'container_path': '/_abaco_data1',\n",
       "    'host_path': '/data1',\n",
       "    'mode': 'ro'},\n",
       "   {'container_path': '/_abaco_data2',\n",
       "    'host_path': '/data2/TEST/jdoe',\n",
       "    'mode': 'rw'}],\n",
       "  'owner': 'jdoe',\n",
       "  'privileged': False,\n",
       "  'queue': 'default',\n",
       "  'state': {},\n",
       "  'stateless': True,\n",
       "  'status': 'SUBMITTED',\n",
       "  'statusMessage': '',\n",
       "  'type': 'none',\n",
       "  'useContainerUid': False},\n",
       " 'status': 'success',\n",
       " 'version': ':dev'}"
      ]
     },
     "execution_count": 2,
     "metadata": {},
     "output_type": "execute_result"
    }
   ],
   "source": [
    "url = \"http://localhost:8000\"\n",
    "actor = requests.post(\"{}/actors\".format(url), \n",
    "                     headers={'X-Jwt-Assertion-TEST':jwt}, \n",
    "                     data={'image':'notchristiangarcia/bin_classifier', 'description':'Nonce test!'})\n",
    "actor_id = actor.json()['result']['id']\n",
    "actor.json()"
   ]
  },
  {
   "cell_type": "code",
   "execution_count": 8,
   "metadata": {},
   "outputs": [
    {
     "data": {
      "text/plain": [
       "{'message': 'Actor alias created successfully.',\n",
       " 'result': {'_links': {'actor': 'http://172.17.0.1:8000/actors/v2/360X5b73m7kv7',\n",
       "   'owner': 'http://172.17.0.1:8000/profiles/v2/jdoe',\n",
       "   'self': 'http://172.17.0.1:8000/actors/v2/alaises/pop.tart2'},\n",
       "  'actorId': '360X5b73m7kv7',\n",
       "  'alias': 'pop.tart2',\n",
       "  'owner': 'jdoe'},\n",
       " 'status': 'success',\n",
       " 'version': ':dev'}"
      ]
     },
     "execution_count": 8,
     "metadata": {},
     "output_type": "execute_result"
    }
   ],
   "source": [
    "alias = requests.post(\"{}/actors/aliases\".format(url), \n",
    "                     headers={'X-Jwt-Assertion-TEST':jwt}, \n",
    "                     data={'actorId':actor_id, 'alias':'pop.tart2'})\n",
    "alias.json()"
   ]
  },
  {
   "cell_type": "code",
   "execution_count": 5,
   "metadata": {},
   "outputs": [
    {
     "data": {
      "text/plain": [
       "{'message': 'Aliases retrieved successfully.',\n",
       " 'result': [{'_links': {'actor': 'http://172.17.0.1:8000/actors/v2/360X5b73m7kv7',\n",
       "    'owner': 'http://172.17.0.1:8000/profiles/v2/jdoe',\n",
       "    'self': 'http://172.17.0.1:8000/actors/v2/alaises/pop.tart'},\n",
       "   'actorId': '360X5b73m7kv7',\n",
       "   'alias': 'pop.tart',\n",
       "   'owner': 'jdoe'}],\n",
       " 'status': 'success',\n",
       " 'version': ':dev'}"
      ]
     },
     "execution_count": 5,
     "metadata": {},
     "output_type": "execute_result"
    }
   ],
   "source": [
    "alias = requests.get(\"{}/actors/aliases\".format(url), \n",
    "                     headers={'X-Jwt-Assertion-TEST':jwt})\n",
    "alias.json()"
   ]
  },
  {
   "cell_type": "code",
   "execution_count": 29,
   "metadata": {},
   "outputs": [
    {
     "data": {
      "text/plain": [
       "{'message': 'Actor nonce created successfully.',\n",
       " 'result': {'_links': {'actor': 'http://172.17.0.1:8000/actors/v2/LkgDKMXQNl3ml',\n",
       "   'owner': 'http://172.17.0.1:8000/profiles/v2/jdoe',\n",
       "   'self': 'http://172.17.0.1:8000/actors/v2/LkgDKMXQNl3ml/nonces/TEST_YmZWP1380gwap'},\n",
       "  'actorId': 'LkgDKMXQNl3ml',\n",
       "  'apiServer': 'http://172.17.0.1:8000',\n",
       "  'createTime': '2019-03-14 20:59:38.560024',\n",
       "  'currentUses': 0,\n",
       "  'description': 'HEY THERE D2UDE!',\n",
       "  'id': 'TEST_YmZWP1380gwap',\n",
       "  'lastUseTime': 'None',\n",
       "  'level': 'EXECUTE',\n",
       "  'maxUses': -1,\n",
       "  'owner': 'jdoe',\n",
       "  'remainingUses': -1,\n",
       "  'roles': ['Internal/AGAVEDEV_jdoe_DefaultApplication_PRODUCTION',\n",
       "   'Internal/AGAVEDEV_jdoe_test_PRODUCTION',\n",
       "   'Internal/everyone',\n",
       "   'Internal/abaco-user']},\n",
       " 'status': 'success',\n",
       " 'version': ':dev'}"
      ]
     },
     "execution_count": 29,
     "metadata": {},
     "output_type": "execute_result"
    }
   ],
   "source": [
    "nonce_exec = requests.post(\"{}/actors/{}/nonces\".format(url, actor_id), \n",
    "                       headers={'X-Jwt-Assertion-TEST': jwt},\n",
    "                       data={'description': 'HEY THERE D2UDE!'})\n",
    "#exec_id = nonce_exec.json()['result']['executionId']\n",
    "nonce_exec.json()"
   ]
  },
  {
   "cell_type": "code",
   "execution_count": 93,
   "metadata": {},
   "outputs": [
    {
     "data": {
      "text/plain": [
       "{'message': 'Actor nonce retrieved successfully.',\n",
       " 'result': {'_links': {'actor': 'http://172.17.0.1:8000/actors/v2/00JMXe5vGWA6O',\n",
       "   'owner': 'http://172.17.0.1:8000/profiles/v2/jdoe',\n",
       "   'self': 'http://172.17.0.1:8000/actors/v2/00JMXe5vGWA6O/nonces/TEST_qBGLvwV30K7o3'},\n",
       "  'actorId': '00JMXe5vGWA6O',\n",
       "  'apiServer': 'http://172.17.0.1:8000',\n",
       "  'createTime': '2019-03-13 03:31:26.586211',\n",
       "  'currentUses': 0,\n",
       "  'description': 'HEY THERE DUDE!',\n",
       "  'id': 'TEST_qBGLvwV30K7o3',\n",
       "  'lastUseTime': 'None',\n",
       "  'level': 'EXECUTE',\n",
       "  'maxUses': -1,\n",
       "  'owner': 'jdoe',\n",
       "  'remainingUses': -1,\n",
       "  'roles': ['Internal/AGAVEDEV_jdoe_DefaultApplication_PRODUCTION',\n",
       "   'Internal/AGAVEDEV_jdoe_test_PRODUCTION',\n",
       "   'Internal/everyone',\n",
       "   'Internal/abaco-user']},\n",
       " 'status': 'success',\n",
       " 'version': ':latest'}"
      ]
     },
     "execution_count": 93,
     "metadata": {},
     "output_type": "execute_result"
    }
   ],
   "source": [
    "nonce_exec = requests.get(\"{}/actors/{}/nonces/{}\".format(url, actor_id, 'TEST_qBGLvwV30K7o3'), \n",
    "                       headers={'X-Jwt-Assertion-TEST': jwt})\n",
    "#exec_id = nonce_exec.json()['result']['executionId']\n",
    "nonce_exec.json()"
   ]
  },
  {
   "cell_type": "code",
   "execution_count": null,
   "metadata": {},
   "outputs": [],
   "source": [
    "exec_info = requests.get(\"{}/actors/{}/executions/{}\".format(url, actor_id, exec_id),\n",
    "                         headers={'X-Jwt-Assertion-TEST': jwt})\n",
    "exec_info.json()"
   ]
  },
  {
   "cell_type": "code",
   "execution_count": 19,
   "metadata": {},
   "outputs": [
    {
     "data": {
      "text/plain": [
       "{'message': 'Actor nonce created successfully.',\n",
       " 'result': {'_links': {'actor': 'http://172.17.0.1:8000/actors/v2/rLR4Q4rXvMpYz',\n",
       "   'owner': 'http://172.17.0.1:8000/profiles/v2/jdoe',\n",
       "   'self': 'http://172.17.0.1:8000/actors/v2/rLR4Q4rXvMpYz/nonces/TEST_3JXQ1kEmjjrkp'},\n",
       "  'actorId': 'rLR4Q4rXvMpYz',\n",
       "  'apiServer': 'http://172.17.0.1:8000',\n",
       "  'createTime': '2019-03-12 20:52:17.103853',\n",
       "  'currentUses': 0,\n",
       "  'id': 'TEST_3JXQ1kEmjjrkp',\n",
       "  'lastUseTime': 'None',\n",
       "  'level': 'EXECUTE',\n",
       "  'maxUses': -1,\n",
       "  'owner': 'jdoe',\n",
       "  'remainingUses': -1,\n",
       "  'roles': ['Internal/AGAVEDEV_jdoe_DefaultApplication_PRODUCTION',\n",
       "   'Internal/AGAVEDEV_jdoe_test_PRODUCTION',\n",
       "   'Internal/everyone',\n",
       "   'Internal/abaco-user']},\n",
       " 'status': 'success',\n",
       " 'version': ':latest'}"
      ]
     },
     "execution_count": 19,
     "metadata": {},
     "output_type": "execute_result"
    }
   ],
   "source": [
    "nonce_exec = requests.post(\"{}/actors/{}/nonces\".format(url, actor_id), \n",
    "                       headers={'X-Jwt-Assertion-TEST': jwt},\n",
    "                       data=('message'))\n",
    "#exec_id = nonce_exec.json()['result']['executionId']\n",
    "nonce_exec.json()"
   ]
  },
  {
   "cell_type": "code",
   "execution_count": 19,
   "metadata": {},
   "outputs": [
    {
     "data": {
      "text/plain": [
       "{'message': 'Actor nonce created successfully.',\n",
       " 'result': {'_links': {'actor': 'http://172.17.0.1:8000/actors/v2/rLR4Q4rXvMpYz',\n",
       "   'owner': 'http://172.17.0.1:8000/profiles/v2/jdoe',\n",
       "   'self': 'http://172.17.0.1:8000/actors/v2/rLR4Q4rXvMpYz/nonces/TEST_3JXQ1kEmjjrkp'},\n",
       "  'actorId': 'rLR4Q4rXvMpYz',\n",
       "  'apiServer': 'http://172.17.0.1:8000',\n",
       "  'createTime': '2019-03-12 20:52:17.103853',\n",
       "  'currentUses': 0,\n",
       "  'id': 'TEST_3JXQ1kEmjjrkp',\n",
       "  'lastUseTime': 'None',\n",
       "  'level': 'EXECUTE',\n",
       "  'maxUses': -1,\n",
       "  'owner': 'jdoe',\n",
       "  'remainingUses': -1,\n",
       "  'roles': ['Internal/AGAVEDEV_jdoe_DefaultApplication_PRODUCTION',\n",
       "   'Internal/AGAVEDEV_jdoe_test_PRODUCTION',\n",
       "   'Internal/everyone',\n",
       "   'Internal/abaco-user']},\n",
       " 'status': 'success',\n",
       " 'version': ':latest'}"
      ]
     },
     "execution_count": 19,
     "metadata": {},
     "output_type": "execute_result"
    }
   ],
   "source": [
    "nonce_exec = requests.post(\"{}/actors/{}/nonces\".format(url, actor_id), \n",
    "                       headers={'X-Jwt-Assertion-TEST': jwt},\n",
    "                       data=('message'))\n",
    "#exec_id = nonce_exec.json()['result']['executionId']\n",
    "nonce_exec.json()"
   ]
  },
  {
   "cell_type": "code",
   "execution_count": 19,
   "metadata": {},
   "outputs": [
    {
     "data": {
      "text/plain": [
       "{'message': 'Actor nonce created successfully.',\n",
       " 'result': {'_links': {'actor': 'http://172.17.0.1:8000/actors/v2/rLR4Q4rXvMpYz',\n",
       "   'owner': 'http://172.17.0.1:8000/profiles/v2/jdoe',\n",
       "   'self': 'http://172.17.0.1:8000/actors/v2/rLR4Q4rXvMpYz/nonces/TEST_3JXQ1kEmjjrkp'},\n",
       "  'actorId': 'rLR4Q4rXvMpYz',\n",
       "  'apiServer': 'http://172.17.0.1:8000',\n",
       "  'createTime': '2019-03-12 20:52:17.103853',\n",
       "  'currentUses': 0,\n",
       "  'id': 'TEST_3JXQ1kEmjjrkp',\n",
       "  'lastUseTime': 'None',\n",
       "  'level': 'EXECUTE',\n",
       "  'maxUses': -1,\n",
       "  'owner': 'jdoe',\n",
       "  'remainingUses': -1,\n",
       "  'roles': ['Internal/AGAVEDEV_jdoe_DefaultApplication_PRODUCTION',\n",
       "   'Internal/AGAVEDEV_jdoe_test_PRODUCTION',\n",
       "   'Internal/everyone',\n",
       "   'Internal/abaco-user']},\n",
       " 'status': 'success',\n",
       " 'version': ':latest'}"
      ]
     },
     "execution_count": 19,
     "metadata": {},
     "output_type": "execute_result"
    }
   ],
   "source": [
    "nonce_exec = requests.post(\"{}/actors/{}/nonces\".format(url, actor_id), \n",
    "                       headers={'X-Jwt-Assertion-TEST': jwt},\n",
    "                       data=('message'))\n",
    "#exec_id = nonce_exec.json()['result']['executionId']\n",
    "nonce_exec.json()"
   ]
  },
  {
   "cell_type": "markdown",
   "metadata": {},
   "source": [
    "nonce_exec = requests.post(\"{}/actors/{}/nonces\".format(url, actor_id), \n",
    "                       headers={'X-Jwt-Assertion-TEST': jwt},\n",
    "                       data=('message'))\n",
    "#exec_id = nonce_exec.json()['result']['executionId']\n",
    "nonce_exec.json()"
   ]
  },
  {
   "cell_type": "code",
   "execution_count": 19,
   "metadata": {},
   "outputs": [
    {
     "data": {
      "text/plain": [
       "{'message': 'Actor nonce created successfully.',\n",
       " 'result': {'_links': {'actor': 'http://172.17.0.1:8000/actors/v2/rLR4Q4rXvMpYz',\n",
       "   'owner': 'http://172.17.0.1:8000/profiles/v2/jdoe',\n",
       "   'self': 'http://172.17.0.1:8000/actors/v2/rLR4Q4rXvMpYz/nonces/TEST_3JXQ1kEmjjrkp'},\n",
       "  'actorId': 'rLR4Q4rXvMpYz',\n",
       "  'apiServer': 'http://172.17.0.1:8000',\n",
       "  'createTime': '2019-03-12 20:52:17.103853',\n",
       "  'currentUses': 0,\n",
       "  'id': 'TEST_3JXQ1kEmjjrkp',\n",
       "  'lastUseTime': 'None',\n",
       "  'level': 'EXECUTE',\n",
       "  'maxUses': -1,\n",
       "  'owner': 'jdoe',\n",
       "  'remainingUses': -1,\n",
       "  'roles': ['Internal/AGAVEDEV_jdoe_DefaultApplication_PRODUCTION',\n",
       "   'Internal/AGAVEDEV_jdoe_test_PRODUCTION',\n",
       "   'Internal/everyone',\n",
       "   'Internal/abaco-user']},\n",
       " 'status': 'success',\n",
       " 'version': ':latest'}"
      ]
     },
     "execution_count": 19,
     "metadata": {},
     "output_type": "execute_result"
    }
   ],
   "source": [
    "nonce_exec = requests.post(\"{}/actors/{}/nonces\".format(url, actor_id), \n",
    "                       headers={'X-Jwt-Assertion-TEST': jwt},\n",
    "                       data=('message'))\n",
    "#exec_id = nonce_exec.json()['result']['executionId']\n",
    "nonce_exec.json()"
   ]
  },
  {
   "cell_type": "code",
   "execution_count": null,
   "metadata": {},
   "outputs": [],
   "source": [
    "exec_logs = requests.get(\"{}/actors/{}/executions/{}/logs\".format(url, actor_id, exec_id),\n",
    "                         headers={'X-Jwt-Assertion-TEST': jwt})\n",
    "exec_logs.json()['result']['logs']"
   ]
  },
  {
   "cell_type": "markdown",
   "metadata": {},
   "source": [
    "Celled Requests Online"
   ]
  },
  {
   "cell_type": "code",
   "execution_count": null,
   "metadata": {},
   "outputs": [],
   "source": [
    "import requests\n",
    "import cloudpickle\n",
    "def f(a, b, c=1):\n",
    "    return a+b+c\n",
    "l = [5, 7]\n",
    "message = cloudpickle.dumps({'func': f, 'args': l, 'kwargs': {'c': 5}})"
   ]
  },
  {
   "cell_type": "code",
   "execution_count": null,
   "metadata": {},
   "outputs": [],
   "source": [
    "url = \"https://api.tacc.utexas.edu\"\n",
    "actor = requests.post(\"{}/actors/v2\".format(url),\n",
    "                      headers={'Authorization':'Bearer {}'.format(token)},\n",
    "                      data={'image':'notchristiangarcia/bin_classifier'})\n",
    "actor_id = actor.json()['result']['id']\n",
    "actor.json();"
   ]
  },
  {
   "cell_type": "code",
   "execution_count": null,
   "metadata": {},
   "outputs": [],
   "source": [
    "actor_get = requests.get(\"{}/actors/v2/{}\".format(url, actor_id), \n",
    "                         headers={'Authorization': 'Bearer {}'.format(token)})\n",
    "actor_get.json();"
   ]
  },
  {
   "cell_type": "code",
   "execution_count": null,
   "metadata": {},
   "outputs": [],
   "source": [
    "bin_exec = requests.post(\"{}/actors/v2/{}/messages\".format(url, actor_id), \n",
    "                         headers={'Authorization': 'Bearer {}'.format(token)},\n",
    "                         data=\"message=hello!\")\n",
    "exec_id = bin_exec.json()['result']['executionId']\n",
    "bin_exec.json()"
   ]
  },
  {
   "cell_type": "code",
   "execution_count": null,
   "metadata": {},
   "outputs": [],
   "source": [
    "exec_info = requests.get(\"{}/actors/v2/{}/executions/{}\".format(url, actor_id, exec_id),\n",
    "                         headers={'Authorization': 'Bearer {}'.format(token)})\n",
    "exec_info.json()"
   ]
  },
  {
   "cell_type": "code",
   "execution_count": null,
   "metadata": {},
   "outputs": [],
   "source": [
    "exec_logs = requests.get(\"{}/actors/v2/{}/executions/{}/logs\".format(url, actor_id, exec_id),\n",
    "                         headers={'Authorization': 'Bearer {}'.format(token)})\n",
    "exec_logs.json()"
   ]
  },
  {
   "cell_type": "markdown",
   "metadata": {},
   "source": [
    "Celled AgavePy Online"
   ]
  },
  {
   "cell_type": "code",
   "execution_count": null,
   "metadata": {},
   "outputs": [],
   "source": [
    "from agavepy.agave import Agave\n",
    "ag = Agave(api_server='https://api.tacc.utexas.edu',\n",
    "           username='cgarcia', password='Fuckoff12.',\n",
    "           client_name='bin_test',\n",
    "           api_key='Pyt8l5GukJ4T7ssHfPxMwn7NlXYa',\n",
    "           api_secret='_48x3A29ApFfB2cj0egwh9ATtdka')\n",
    "ag.get_access_token()\n",
    "ag = Agave(api_server=\"https://api.tacc.utexas.edu/\", token=ag.token)"
   ]
  },
  {
   "cell_type": "code",
   "execution_count": null,
   "metadata": {},
   "outputs": [],
   "source": [
    "my_actor = {\"image\": \"notchristiangarcia/my_actor_test\",\n",
    "            \"name\": \"abaco_test\",\n",
    "            \"description\": \"test\"}\n",
    "actor_data = ag.actors.add(body=my_actor)\n",
    "actor_data"
   ]
  },
  {
   "cell_type": "code",
   "execution_count": null,
   "metadata": {},
   "outputs": [],
   "source": [
    "result = ag.actors.sendMessage(actorId=actor_data['id'],\n",
    "                               body={\"message\":\"message\"},\n",
    "                               headers={'Content-Type': 'application/octet-stream'})\n",
    "result"
   ]
  },
  {
   "cell_type": "code",
   "execution_count": null,
   "metadata": {},
   "outputs": [],
   "source": [
    "execution = ag.actors.getExecution(actorId=actor_data['id'],\n",
    "                                   executionId = result['executionId'])\n",
    "execution"
   ]
  },
  {
   "cell_type": "code",
   "execution_count": null,
   "metadata": {},
   "outputs": [],
   "source": [
    "execLogs = ag.actors.getExecutionLogs(actorId=actor_data['id'],\n",
    "                                      executionId = result['executionId'])\n",
    "execLogs"
   ]
  },
  {
   "cell_type": "code",
   "execution_count": 10,
   "metadata": {},
   "outputs": [],
   "source": [
    "char = ['23','d']\n",
    "if char[0] in 'dog!':\n",
    "    print(\"hey!\")"
   ]
  },
  {
   "cell_type": "code",
   "execution_count": 12,
   "metadata": {},
   "outputs": [
    {
     "name": "stdout",
     "output_type": "stream",
     "text": [
      "['23', 'd']\n"
     ]
    }
   ],
   "source": [
    "print(\"{}\".format(char))"
   ]
  },
  {
   "cell_type": "code",
   "execution_count": 85,
   "metadata": {},
   "outputs": [
    {
     "name": "stdout",
     "output_type": "stream",
     "text": [
      "[':', '/', '?', '#', '[', ']', '@', '!', '$', '&', \"'\", '(', ')', '*', '+', ',', ';', '=']\n"
     ]
    }
   ],
   "source": [
    "FORBIDDEN_CHAR = [':', '/', '?', '#', '[', ']', '@', '!', '$', '&', \"'\", '(', ')', '*', '+', ',', ';', '=']\n",
    "print('{}'.format(FORBIDDEN_CHAR))"
   ]
  },
  {
   "cell_type": "code",
   "execution_count": 78,
   "metadata": {},
   "outputs": [
    {
     "ename": "TypeError",
     "evalue": "'list' object is not callable",
     "output_type": "error",
     "traceback": [
      "\u001b[0;31m---------------------------------------------------------------------------\u001b[0m",
      "\u001b[0;31mTypeError\u001b[0m                                 Traceback (most recent call last)",
      "\u001b[0;32m<ipython-input-78-6ac4f20f241c>\u001b[0m in \u001b[0;36m<module>\u001b[0;34m\u001b[0m\n\u001b[0;32m----> 1\u001b[0;31m \u001b[0mchar\u001b[0m\u001b[0;34m(\u001b[0m\u001b[0;34m\"'\"\u001b[0m\u001b[0;34m)\u001b[0m\u001b[0;34m\u001b[0m\u001b[0;34m\u001b[0m\u001b[0m\n\u001b[0m",
      "\u001b[0;31mTypeError\u001b[0m: 'list' object is not callable"
     ]
    }
   ],
   "source": [
    "char(\"'\")"
   ]
  },
  {
   "cell_type": "code",
   "execution_count": 86,
   "metadata": {},
   "outputs": [
    {
     "name": "stdout",
     "output_type": "stream",
     "text": [
      "hey!\n"
     ]
    }
   ],
   "source": [
    "\n",
    "if FORBIDDEN_CHAR[10] in \"dog'!\":\n",
    "    print(\"hey!\")"
   ]
  },
  {
   "cell_type": "code",
   "execution_count": 118,
   "metadata": {},
   "outputs": [
    {
     "name": "stdout",
     "output_type": "stream",
     "text": [
      "['', ':', '/', '?', '#', '[', ']', '@', '!', '$', '&', ''', '(', ')', '*', '+', ',', ';', '=\n"
     ]
    }
   ],
   "source": [
    "print(\"['\", *FORBIDDEN_CHAR, sep=\"', '\")"
   ]
  },
  {
   "cell_type": "code",
   "execution_count": 146,
   "metadata": {},
   "outputs": [],
   "source": [
    "chars = ['a','b']"
   ]
  },
  {
   "cell_type": "code",
   "execution_count": 149,
   "metadata": {},
   "outputs": [
    {
     "ename": "TypeError",
     "evalue": "'in <string>' requires string as left operand, not list",
     "output_type": "error",
     "traceback": [
      "\u001b[0;31m---------------------------------------------------------------------------\u001b[0m",
      "\u001b[0;31mTypeError\u001b[0m                                 Traceback (most recent call last)",
      "\u001b[0;32m<ipython-input-149-113c2f888e2c>\u001b[0m in \u001b[0;36m<module>\u001b[0;34m\u001b[0m\n\u001b[0;32m----> 1\u001b[0;31m \u001b[0;32mif\u001b[0m \u001b[0;34m[\u001b[0m\u001b[0mchar\u001b[0m \u001b[0;32mfor\u001b[0m \u001b[0mchar\u001b[0m \u001b[0;32min\u001b[0m \u001b[0mchars\u001b[0m\u001b[0;34m]\u001b[0m \u001b[0;32min\u001b[0m \u001b[0;34m'ab'\u001b[0m\u001b[0;34m:\u001b[0m\u001b[0;34m\u001b[0m\u001b[0;34m\u001b[0m\u001b[0m\n\u001b[0m\u001b[1;32m      2\u001b[0m     \u001b[0mprint\u001b[0m\u001b[0;34m(\u001b[0m\u001b[0;34m'TRUE'\u001b[0m\u001b[0;34m)\u001b[0m\u001b[0;34m\u001b[0m\u001b[0;34m\u001b[0m\u001b[0m\n",
      "\u001b[0;31mTypeError\u001b[0m: 'in <string>' requires string as left operand, not list"
     ]
    }
   ],
   "source": [
    "if [char for char in chars] in 'ab':\n",
    "    print('TRUE')"
   ]
  },
  {
   "cell_type": "code",
   "execution_count": 151,
   "metadata": {},
   "outputs": [
    {
     "data": {
      "text/plain": [
       "['a', 'b']"
      ]
     },
     "execution_count": 151,
     "metadata": {},
     "output_type": "execute_result"
    }
   ],
   "source": [
    "[char for char in chars]"
   ]
  },
  {
   "cell_type": "code",
   "execution_count": 153,
   "metadata": {},
   "outputs": [
    {
     "ename": "SyntaxError",
     "evalue": "invalid syntax (<ipython-input-153-7c79a61de1ed>, line 1)",
     "output_type": "error",
     "traceback": [
      "\u001b[0;36m  File \u001b[0;32m\"<ipython-input-153-7c79a61de1ed>\"\u001b[0;36m, line \u001b[0;32m1\u001b[0m\n\u001b[0;31m    [if c in 'ab' for c in char]:\u001b[0m\n\u001b[0m      ^\u001b[0m\n\u001b[0;31mSyntaxError\u001b[0m\u001b[0;31m:\u001b[0m invalid syntax\n"
     ]
    }
   ],
   "source": [
    "if c in 'ab' for c in char:\n",
    "    print('true')"
   ]
  },
  {
   "cell_type": "code",
   "execution_count": null,
   "metadata": {},
   "outputs": [],
   "source": []
  }
 ],
 "metadata": {
  "kernelspec": {
   "display_name": "Python 3",
   "language": "python",
   "name": "python3"
  },
  "language_info": {
   "codemirror_mode": {
    "name": "ipython",
    "version": 3
   },
   "file_extension": ".py",
   "mimetype": "text/x-python",
   "name": "python",
   "nbconvert_exporter": "python",
   "pygments_lexer": "ipython3",
   "version": "3.6.7"
  }
 },
 "nbformat": 4,
 "nbformat_minor": 2
}
