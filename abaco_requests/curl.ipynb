{
 "cells": [
  {
   "cell_type": "code",
   "execution_count": 61,
   "metadata": {},
   "outputs": [],
   "source": [
    "import requests\n",
    "jwt=\"eyJ0eXAiOiJKV1QiLCJhbGciOiJSUzI1NiIsIng1dCI6Ik5tSm1PR1V4TXpabFlqTTJaRFJoTlRabFlUQTFZemRoWlRSaU9XRTBOV0kyTTJKbU9UYzFaQT09In0=.eyJpc3MiOiJ3c28yLm9yZy9wcm9kdWN0cy9hbSIsImV4cCI6MTQ5ODE1MTQ3NTc0NywiaHR0cDovL3dzbzIub3JnL2NsYWltcy9zdWJzY3JpYmVyIjoiQUdBVkVERVYvamRvZSIsImh0dHA6Ly93c28yLm9yZy9jbGFpbXMvYXBwbGljYXRpb25pZCI6IjEzMCIsImh0dHA6Ly93c28yLm9yZy9jbGFpbXMvYXBwbGljYXRpb25uYW1lIjoidGVzdCIsImh0dHA6Ly93c28yLm9yZy9jbGFpbXMvYXBwbGljYXRpb250aWVyIjoiVW5saW1pdGVkIiwiaHR0cDovL3dzbzIub3JnL2NsYWltcy9hcGljb250ZXh0IjoiL2FwcHMvdjIiLCJodHRwOi8vd3NvMi5vcmcvY2xhaW1zL3ZlcnNpb24iOiJ2MiIsImh0dHA6Ly93c28yLm9yZy9jbGFpbXMvdGllciI6IlVubGltaXRlZCIsImh0dHA6Ly93c28yLm9yZy9jbGFpbXMva2V5dHlwZSI6IlBST0RVQ1RJT04iLCJodHRwOi8vd3NvMi5vcmcvY2xhaW1zL3VzZXJ0eXBlIjoiQVBQTElDQVRJT04iLCJodHRwOi8vd3NvMi5vcmcvY2xhaW1zL2VuZHVzZXIiOiJqZG9lQGNhcmJvbi5zdXBlciIsImh0dHA6Ly93c28yLm9yZy9jbGFpbXMvZW5kdXNlclRlbmFudElkIjoiLTEyMzQiLCJodHRwOi8vd3NvMi5vcmcvY2xhaW1zL2VtYWlsYWRkcmVzcyI6Impkb2VAdGVzdC5jb20iLCJodHRwOi8vd3NvMi5vcmcvY2xhaW1zL2Z1bGxuYW1lIjoiamRvZSB0ZXN0ZXIiLCJodHRwOi8vd3NvMi5vcmcvY2xhaW1zL2dpdmVubmFtZSI6Impkb2UiLCJodHRwOi8vd3NvMi5vcmcvY2xhaW1zL2xhc3RuYW1lIjoidGVzdGVyIiwiaHR0cDovL3dzbzIub3JnL2NsYWltcy9tb2JpbGUiOiI5NzItNTA0LTYyNzAiLCJodHRwOi8vd3NvMi5vcmcvY2xhaW1zL3JvbGUiOiJJbnRlcm5hbC9BR0FWRURFVl9qZG9lX0RlZmF1bHRBcHBsaWNhdGlvbl9QUk9EVUNUSU9OLEludGVybmFsL0FHQVZFREVWX2pkb2VfdGVzdF9QUk9EVUNUSU9OLEludGVybmFsL2V2ZXJ5b25lLEludGVybmFsL2FiYWNvLXVzZXIiLCJodHRwOi8vd3NvMi5vcmcvY2xhaW1zL3RlbGVwaG9uZSI6IjUxMi02NDctNDgxMyJ9.WZpltBZG7GK+O6dTbHI6taZXVscuK2hmSUqUqXnFMQxv5WUDuimg1kFg3x0xCJeuF8zdJox/9kD5qJfNIz0wg8AsbJo6LdiZhQdMMCx91cigb9elKQe/RYrQe4uZCZrnioMqv9ba3bnp4ShEWQ2yZjhyVjy7cygO8RSlkYpBqBM=[r][n]\""
   ]
  },
  {
   "cell_type": "markdown",
   "metadata": {},
   "source": [
    "Celled Requests Local"
   ]
  },
  {
   "cell_type": "code",
   "execution_count": 62,
   "metadata": {},
   "outputs": [],
   "source": [
    "url = 'http://localhost:8000'\n",
    "image = 'kreshel/pow:abaco'\n",
    "message = '{\"blocks\":\"5\", \"bits\":\"5\", \"cores\":\"2\"}'"
   ]
  },
  {
   "cell_type": "code",
   "execution_count": 63,
   "metadata": {},
   "outputs": [
    {
     "data": {
      "text/plain": [
       "{'message': 'Actor created successfully.',\n",
       " 'result': {'_links': {'executions': 'http://172.17.0.1:8000/actors/v2/oZ73GY8oBLEPM/executions',\n",
       "   'owner': 'http://172.17.0.1:8000/profiles/v2/jdoe',\n",
       "   'self': 'http://172.17.0.1:8000/actors/v2/oZ73GY8oBLEPM'},\n",
       "  'createTime': '2019-04-03 21:44:26.170238',\n",
       "  'defaultEnvironment': {},\n",
       "  'description': '',\n",
       "  'id': 'oZ73GY8oBLEPM',\n",
       "  'image': 'kreshel/pow:abaco',\n",
       "  'lastUpdateTime': '2019-04-03 21:44:26.170238',\n",
       "  'mounts': [{'container_path': '/_abaco_data1',\n",
       "    'host_path': '/data1',\n",
       "    'mode': 'ro'},\n",
       "   {'container_path': '/_abaco_data2',\n",
       "    'host_path': '/data2/TEST/jdoe',\n",
       "    'mode': 'rw'}],\n",
       "  'owner': 'jdoe',\n",
       "  'privileged': False,\n",
       "  'queue': 'default',\n",
       "  'state': {},\n",
       "  'stateless': True,\n",
       "  'status': 'SUBMITTED',\n",
       "  'statusMessage': '',\n",
       "  'type': 'none',\n",
       "  'useContainerUid': False},\n",
       " 'status': 'success',\n",
       " 'version': ':latest'}"
      ]
     },
     "execution_count": 63,
     "metadata": {},
     "output_type": "execute_result"
    }
   ],
   "source": [
    "actor = requests.post(f\"{url}/actors\", \n",
    "                     headers={'X-Jwt-Assertion-TEST':jwt}, \n",
    "                     data={'image':image})\n",
    "actor_id = actor.json()['result']['id']\n",
    "actor.json()"
   ]
  },
  {
   "cell_type": "code",
   "execution_count": 64,
   "metadata": {},
   "outputs": [
    {
     "data": {
      "text/plain": [
       "{'message': 'The request was successful',\n",
       " 'result': {'_links': {'messages': 'http://172.17.0.1:8000/actors/v2/oZ73GY8oBLEPM/messages',\n",
       "   'owner': 'http://172.17.0.1:8000/profiles/v2/jdoe',\n",
       "   'self': 'http://172.17.0.1:8000/actors/v2/oZ73GY8oBLEPM/executions/3mj57q7xKvlMX'},\n",
       "  'executionId': '3mj57q7xKvlMX',\n",
       "  'msg': {'bits': '5', 'blocks': '5', 'cores': '2'}},\n",
       " 'status': 'success',\n",
       " 'version': ':latest'}"
      ]
     },
     "execution_count": 64,
     "metadata": {},
     "output_type": "execute_result"
    }
   ],
   "source": [
    "exec_res = requests.post(f\"{url}/actors/{actor_id}/messages\",\n",
    "                          headers={'X-Jwt-Assertion-TEST': jwt,\n",
    "                                   'Content-Type':'application/json'},\n",
    "                          data=message)\n",
    "exec_id = exec_res.json()['result']['executionId']\n",
    "exec_res.json()"
   ]
  },
  {
   "cell_type": "code",
   "execution_count": 65,
   "metadata": {},
   "outputs": [
    {
     "data": {
      "text/plain": [
       "{'message': 'Actor execution retrieved successfully.',\n",
       " 'result': {'_links': {'logs': 'http://172.17.0.1:8000/actors/v2/TEST_oZ73GY8oBLEPM/executions/3mj57q7xKvlMX/logs',\n",
       "   'owner': 'http://172.17.0.1:8000/profiles/v2/jdoe',\n",
       "   'self': 'http://172.17.0.1:8000/actors/v2/TEST_oZ73GY8oBLEPM/executions/3mj57q7xKvlMX'},\n",
       "  'actorId': 'oZ73GY8oBLEPM',\n",
       "  'apiServer': 'http://172.17.0.1:8000',\n",
       "  'cpu': 0,\n",
       "  'executor': 'jdoe',\n",
       "  'id': '3mj57q7xKvlMX',\n",
       "  'io': 0,\n",
       "  'messageReceivedTime': '2019-04-03 21:44:26.872056',\n",
       "  'runtime': 0,\n",
       "  'startTime': 'None',\n",
       "  'status': 'SUBMITTED'},\n",
       " 'status': 'success',\n",
       " 'version': ':latest'}"
      ]
     },
     "execution_count": 65,
     "metadata": {},
     "output_type": "execute_result"
    }
   ],
   "source": [
    "exec_info = requests.get(\"{}/actors/{}/executions/{}\".format(url, actor_id, exec_id),\n",
    "                         headers={'X-Jwt-Assertion-TEST': jwt})\n",
    "exec_info.json()"
   ]
  },
  {
   "cell_type": "code",
   "execution_count": 67,
   "metadata": {},
   "outputs": [
    {
     "data": {
      "text/plain": [
       "'  File \"/abacopow.py\", line 111\\n    try:\\n       ^\\nIndentationError: unindent does not match any outer indentation level\\n'"
      ]
     },
     "execution_count": 67,
     "metadata": {},
     "output_type": "execute_result"
    }
   ],
   "source": [
    "exec_logs = requests.get(\"{}/actors/{}/executions/{}/logs\".format(url, actor_id, exec_id),\n",
    "                         headers={'X-Jwt-Assertion-TEST': jwt})\n",
    "exec_logs.json()['result']['logs']"
   ]
  },
  {
   "cell_type": "code",
   "execution_count": null,
   "metadata": {},
   "outputs": [],
   "source": []
  }
 ],
 "metadata": {
  "kernelspec": {
   "display_name": "Python 3",
   "language": "python",
   "name": "python3"
  },
  "language_info": {
   "codemirror_mode": {
    "name": "ipython",
    "version": 3
   },
   "file_extension": ".py",
   "mimetype": "text/x-python",
   "name": "python",
   "nbconvert_exporter": "python",
   "pygments_lexer": "ipython3",
   "version": "3.6.7"
  }
 },
 "nbformat": 4,
 "nbformat_minor": 2
}
